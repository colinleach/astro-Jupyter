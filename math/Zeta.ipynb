{
 "cells": [
  {
   "cell_type": "markdown",
   "metadata": {},
   "source": [
    "# Riemann Zeta Functions $\\zeta$"
   ]
  },
  {
   "cell_type": "markdown",
   "metadata": {},
   "source": [
    "The simplest representation is\n",
    "\n",
    "$$ \\zeta(s) = \\sum_{n=1}^{\\infty} \\frac{1}{n^s} $$\n",
    "\n",
    "Often in physics problems, $s$ will be integer. On the real line with $s>1$ we have an alternative definition:\n",
    "\n",
    "$$ \\zeta(s) = \\frac{1}{\\Gamma(s)} \\int_0^{\\infty} \\frac{u^{s-1}}{e^u - 1} du $$\n",
    "\n",
    "This is an integral that is needed in quite common problems such as blackbody radiation. Turning it around slightly:\n",
    "\n",
    "$$ \\int_0^{\\infty} \\frac{x^{\\alpha}}{e^x - 1} dx = \\Gamma(\\alpha + 1) \\zeta(\\alpha + 1) $$\n",
    "\n",
    "$\\zeta(s)$ is defined over the complex plane, apart from some singularities (such as $s=1$). This is important in number theory and has spawned a vast literature, not immediately comprehensible to most of us."
   ]
  },
  {
   "cell_type": "markdown",
   "metadata": {},
   "source": [
    "Does $\\zeta(s)$ have a simple representation for integer $s$? Some do, some don't:"
   ]
  },
  {
   "cell_type": "code",
   "execution_count": 12,
   "metadata": {},
   "outputs": [
    {
     "data": {
      "text/latex": [
       "$\\displaystyle \\zeta(-7) = \\frac{1}{240}$"
      ],
      "text/plain": [
       "<IPython.core.display.Math object>"
      ]
     },
     "metadata": {},
     "output_type": "display_data"
    },
    {
     "data": {
      "text/latex": [
       "$\\displaystyle \\zeta(-6) = 0$"
      ],
      "text/plain": [
       "<IPython.core.display.Math object>"
      ]
     },
     "metadata": {},
     "output_type": "display_data"
    },
    {
     "data": {
      "text/latex": [
       "$\\displaystyle \\zeta(-5) = - \\frac{1}{252}$"
      ],
      "text/plain": [
       "<IPython.core.display.Math object>"
      ]
     },
     "metadata": {},
     "output_type": "display_data"
    },
    {
     "data": {
      "text/latex": [
       "$\\displaystyle \\zeta(-4) = 0$"
      ],
      "text/plain": [
       "<IPython.core.display.Math object>"
      ]
     },
     "metadata": {},
     "output_type": "display_data"
    },
    {
     "data": {
      "text/latex": [
       "$\\displaystyle \\zeta(-3) = \\frac{1}{120}$"
      ],
      "text/plain": [
       "<IPython.core.display.Math object>"
      ]
     },
     "metadata": {},
     "output_type": "display_data"
    },
    {
     "data": {
      "text/latex": [
       "$\\displaystyle \\zeta(-2) = 0$"
      ],
      "text/plain": [
       "<IPython.core.display.Math object>"
      ]
     },
     "metadata": {},
     "output_type": "display_data"
    },
    {
     "data": {
      "text/latex": [
       "$\\displaystyle \\zeta(-1) = - \\frac{1}{12}$"
      ],
      "text/plain": [
       "<IPython.core.display.Math object>"
      ]
     },
     "metadata": {},
     "output_type": "display_data"
    },
    {
     "data": {
      "text/latex": [
       "$\\displaystyle \\zeta(0) = - \\frac{1}{2}$"
      ],
      "text/plain": [
       "<IPython.core.display.Math object>"
      ]
     },
     "metadata": {},
     "output_type": "display_data"
    },
    {
     "data": {
      "text/latex": [
       "$\\displaystyle \\zeta(1) = \\tilde{\\infty}$"
      ],
      "text/plain": [
       "<IPython.core.display.Math object>"
      ]
     },
     "metadata": {},
     "output_type": "display_data"
    },
    {
     "data": {
      "text/latex": [
       "$\\displaystyle \\zeta(2) = \\frac{\\pi^{2}}{6}$"
      ],
      "text/plain": [
       "<IPython.core.display.Math object>"
      ]
     },
     "metadata": {},
     "output_type": "display_data"
    },
    {
     "data": {
      "text/latex": [
       "$\\displaystyle \\zeta(3) = \\zeta\\left(3\\right)$"
      ],
      "text/plain": [
       "<IPython.core.display.Math object>"
      ]
     },
     "metadata": {},
     "output_type": "display_data"
    },
    {
     "data": {
      "text/latex": [
       "$\\displaystyle \\zeta(4) = \\frac{\\pi^{4}}{90}$"
      ],
      "text/plain": [
       "<IPython.core.display.Math object>"
      ]
     },
     "metadata": {},
     "output_type": "display_data"
    },
    {
     "data": {
      "text/latex": [
       "$\\displaystyle \\zeta(5) = \\zeta\\left(5\\right)$"
      ],
      "text/plain": [
       "<IPython.core.display.Math object>"
      ]
     },
     "metadata": {},
     "output_type": "display_data"
    },
    {
     "data": {
      "text/latex": [
       "$\\displaystyle \\zeta(6) = \\frac{\\pi^{6}}{945}$"
      ],
      "text/plain": [
       "<IPython.core.display.Math object>"
      ]
     },
     "metadata": {},
     "output_type": "display_data"
    }
   ],
   "source": [
    "from IPython.display import Math\n",
    "from sympy import zeta, latex\n",
    "from sympy.abc import x, s\n",
    "\n",
    "for i in range(-7, 7):\n",
    "    zeta_i = latex(zeta(i))\n",
    "    display(Math('\\zeta({}) = {}'.format(i, zeta_i)))"
   ]
  },
  {
   "cell_type": "markdown",
   "metadata": {},
   "source": [
    "For real $s$, Python has a few issues with $s < 1$. The function `scipy.special.zeta(x)` returns `nan` for $s \\le 1$. A related function `scipy.special.zetac(x)` is more flexible, but the values returned are offset to $\\zeta(s) - 1$ and the documentation warns it returns `nan` for $x < -30.8148$."
   ]
  },
  {
   "cell_type": "code",
   "execution_count": 28,
   "metadata": {
    "scrolled": false
   },
   "outputs": [
    {
     "data": {
      "image/png": "[encoded data removed]",
      "text/plain": [
       "<Figure size 648x648 with 1 Axes>"
      ]
     },
     "metadata": {
      "needs_background": "light"
     },
     "output_type": "display_data"
    }
   ],
   "source": [
    "import numpy as np\n",
    "import matplotlib.pyplot as plt\n",
    "\n",
    "plt.rcParams.update({'font.size': 16})\n",
    "\n",
    "import scipy.special as sp\n",
    "xlims = (-20, 20)\n",
    "x = np.linspace(xlims[0], xlims[1], 500)\n",
    "zetas = sp.zetac(x) + 1\n",
    "# display(zetas)\n",
    "\n",
    "plt.figure(figsize=(9, 9))\n",
    "plt.plot(x, zetas)\n",
    "\n",
    "plt.xlim(xlims)\n",
    "plt.ylim((-0.5, 1.5))\n",
    "plt.xlabel('$x$')\n",
    "plt.ylabel('$\\\\zeta(x)$')\n",
    "plt.title('Plot of the zetas function for real x')                                \n",
    "plt.grid(True)"
   ]
  },
  {
   "cell_type": "markdown",
   "metadata": {},
   "source": [
    "## References:\n",
    "    \n",
    "- MathWorld, http://mathworld.wolfram.com/RiemannZetaFunction.html\n",
    "- Wikipedia, https://en.wikipedia.org/wiki/Riemann_zeta_function"
   ]
  },
  {
   "cell_type": "code",
   "execution_count": null,
   "metadata": {},
   "outputs": [],
   "source": []
  }
 ],
 "metadata": {
  "kernelspec": {
   "display_name": "Python 3",
   "language": "python",
   "name": "python3"
  },
  "language_info": {
   "codemirror_mode": {
    "name": "ipython",
    "version": 3
   },
   "file_extension": ".py",
   "mimetype": "text/x-python",
   "name": "python",
   "nbconvert_exporter": "python",
   "pygments_lexer": "ipython3",
   "version": "3.6.8"
  }
 },
 "nbformat": 4,
 "nbformat_minor": 2
}
