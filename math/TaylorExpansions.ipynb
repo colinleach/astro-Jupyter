{
 "cells": [
  {
   "cell_type": "markdown",
   "metadata": {},
   "source": [
    "# Taylor Expansions"
   ]
  },
  {
   "cell_type": "markdown",
   "metadata": {},
   "source": [
    "Series expansions are used in a variety of circumstances:\n",
    "- When we need a tractable approximation to some ugly equation\n",
    "- To transform between equivalent ways of looking at a problem (e.g. time domain vs frequency domain)\n",
    "- When they are (part of) a solution to a particular class of differential equation\n",
    "\n",
    "For approximations, there is an important divide between getting the best fit *near a point* (e.g. [Taylor series](#taylor)) and getting the best fit *over an interval* (e.g. Fourier series). This notebook only deals with the former; there is a separate notebook for Fourier, Bessel, etc."
   ]
  },
  {
   "cell_type": "markdown",
   "metadata": {},
   "source": [
    "## Fitting near a point\n",
    "\n",
    "What is the best (low order) polymomial approximating my function at *this* point? It doesn't matter if it diverges wildly as we get far away from the point, though adding higher-order terms may extend the range of usefulness.\n",
    "\n"
   ]
  },
  {
   "cell_type": "markdown",
   "metadata": {},
   "source": [
    "## Taylor and Maclaurin series\n",
    "\n",
    "A function $f(x)$ can be approximated at a point $x=a$ by the polynomial\n",
    "\n",
    "$$ f(x) \\approx f(a) + f'(a) (x-a) + \\frac{1}{2} f''(a) (x-a)^2 \\dots \\frac{1}{n!} f^n(a) (x-a)^n $$\n",
    "\n",
    "For this to converge, either $(x-a)$ should be small so we can ignore high powers, or the differentials should become zero.\n",
    "\n",
    "The general case for $x=a$ is the Taylor Series. The special case where $x=0$ is sometimes called the Maclaurin series."
   ]
  },
  {
   "cell_type": "markdown",
   "metadata": {},
   "source": [
    "For the Python sections we will need a substantial range of imports, adding SymPy to the usual set of numpy, matplotlib and widgets."
   ]
  },
  {
   "cell_type": "code",
   "execution_count": 8,
   "metadata": {},
   "outputs": [],
   "source": [
    "from sympy import * # TODO - narrow this later\n",
    "init_printing()\n",
    "from sympy.functions import sin, cos\n",
    "\n",
    "from sympy.parsing.sympy_parser import parse_expr\n",
    "from sympy.parsing.sympy_parser import standard_transformations, implicit_multiplication_application\n",
    "transformations = (standard_transformations + (implicit_multiplication_application,))\n"
   ]
  },
  {
   "cell_type": "markdown",
   "metadata": {},
   "source": [
    "Define some functions to be used later, plus a SymPy symbol."
   ]
  },
  {
   "cell_type": "code",
   "execution_count": 2,
   "metadata": {},
   "outputs": [],
   "source": [
    "# Define the variable for SymPy functions\n",
    "x = Symbol('x')\n",
    "\n",
    "# Taylor approximation at x=a of function f, to order n\n",
    "def taylor(f, a, n):\n",
    "    # f is a SymPy function\n",
    "    terms = []\n",
    "    for i in range(n+1):\n",
    "        terms.append((f.diff(x, i).subs(x, a))/(factorial(i))*(x - a)**i)\n",
    "    return terms\n",
    "\n",
    "# Plot results\n",
    "def plotTaylor(f_sympy, a, n):\n",
    "    \n",
    "    # get a NumPy-style function from the SymPy version\n",
    "    f_np = lambdify(x, f_sympy, 'numpy')\n",
    "    \n",
    "    # plot the starting function\n",
    "    x_lims = [-5,5]\n",
    "    x1 = np.linspace(x_lims[0], x_lims[1], 500)\n",
    "    plt.figure(figsize=(9, 9))\n",
    "    plt.plot(x1, f_np(x1), 'k.', label=f_sympy)\n",
    "    \n",
    "    # get n terms of a Taylor series \n",
    "    f_taylor_terms = taylor(f_sympy, 0, n) # a list\n",
    "    f_taylor = sum(f_taylor_terms) # the whole func to order n\n",
    "    display(f_sympy) # display shows LaTex, print wouldn't\n",
    "    print('Taylor expansion at x = {:.2f}, n = {:d}:'.format(a, n))\n",
    "    display(f_taylor)\n",
    "\n",
    "    # plot the successive approximations\n",
    "    y = np.zeros(len(x1))\n",
    "    for i in range(n):\n",
    "        term = f_taylor_terms[i]\n",
    "        if term.is_zero: \n",
    "            # odd or even functions only use alternate terms\n",
    "            continue\n",
    "        term_np = lambdify(x, term, 'numpy')\n",
    "        y += term_np(x1)\n",
    "        plt.plot(x1, y, label='order ' + str(i+1))\n",
    "\n",
    "    # graph housekeeping\n",
    "    plt.xlim(x_lims)\n",
    "    plt.ylim([-3,3])\n",
    "    plt.xlabel('x')\n",
    "    plt.ylabel('y')\n",
    "    plt.legend()\n",
    "    plt.grid(True)\n",
    "    plt.title('Taylor series approximation of ' + str(f_sympy))"
   ]
  },
  {
   "cell_type": "markdown",
   "metadata": {},
   "source": [
    "We will want to enter arbitrary functions into a text box, but these need to be parsed into a form that SymPy (and plotTaylor()) can use.\n",
    "\n",
    "Note the variety of formats for our function: we start with a text string, parse it to a SymPy object suitable for symbolic math (differentiation, etc), 'lambdify' it to a NumPy function which can handle array input, and finally generate a plottable array of y-values."
   ]
  },
  {
   "cell_type": "code",
   "execution_count": 6,
   "metadata": {},
   "outputs": [],
   "source": [
    "def parse_input(f_txt, a, n):\n",
    "    f_sympy = parse_expr(f_txt, transformations=transformations)\n",
    "    plotTaylor(f_sympy, a, n)"
   ]
  },
  {
   "cell_type": "markdown",
   "metadata": {},
   "source": [
    "Enter any valid Python function into the text box. Enter or Tab will get trigger a redraw. Don't forget to use `**` for exponentiation rather than `^`!\n",
    "\n",
    "Implicit multiplication may work, e.g. `x sin(x)` as a synonym for `x*sin(x)`. Adding a space improves your chances of success.\n",
    "\n",
    "The parser presumably has limits but it's unclear what they are. Experiment..."
   ]
  },
  {
   "cell_type": "code",
   "execution_count": 7,
   "metadata": {},
   "outputs": [
    {
     "data": {
      "application/vnd.jupyter.widget-view+json": {
       "model_id": "230a0f29352945f5826e05cbcf613b27",
       "version_major": 2,
       "version_minor": 0
      },
      "text/plain": [
       "interactive(children=(Text(value='sin(x)', continuous_update=False, description='f(x):', layout=Layout(width='…"
      ]
     },
     "metadata": {},
     "output_type": "display_data"
    }
   ],
   "source": [
    "style = {'description_width': 'initial'} # to avoid the labels getting truncated\n",
    "interact(parse_input, \n",
    "             f_txt = w.Text(description='f(x):',\n",
    "                                            layout=Layout(width='80%'),\n",
    "                                            continuous_update=False,\n",
    "                                            value='sin(x)'),\n",
    "             a = w.FloatSlider(description=\"Evaluation point $a$\", style=style,\n",
    "                                            layout=Layout(width='80%'),\n",
    "                                            continuous_update=False,\n",
    "                                            min=-4, max=4, \n",
    "                                            value=0),\n",
    "             n = w.IntSlider(description=\"Number of terms $n$\", style=style,\n",
    "                                            layout=Layout(width='80%'),\n",
    "                                            continuous_update=False, \n",
    "                                            min=1, max=20,\n",
    "                                            value=6));"
   ]
  },
  {
   "cell_type": "markdown",
   "metadata": {},
   "source": [
    "<a id='refs'></a>"
   ]
  },
  {
   "cell_type": "markdown",
   "metadata": {},
   "source": [
    "## References\n",
    "\n",
    "Boas, \"Mathematical methods in the physical sciences\""
   ]
  },
  {
   "cell_type": "code",
   "execution_count": null,
   "metadata": {},
   "outputs": [],
   "source": []
  }
 ],
 "metadata": {
  "kernelspec": {
   "display_name": "Python 3",
   "language": "python",
   "name": "python3"
  },
  "language_info": {
   "codemirror_mode": {
    "name": "ipython",
    "version": 3
   },
   "file_extension": ".py",
   "mimetype": "text/x-python",
   "name": "python",
   "nbconvert_exporter": "python",
   "pygments_lexer": "ipython3",
   "version": "3.6.6"
  }
 },
 "nbformat": 4,
 "nbformat_minor": 2
}
