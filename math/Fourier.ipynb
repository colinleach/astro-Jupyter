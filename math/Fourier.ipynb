{
 "cells": [
  {
   "cell_type": "markdown",
   "metadata": {},
   "source": [
    "# Series Expansions: Fourier"
   ]
  },
  {
   "cell_type": "markdown",
   "metadata": {},
   "source": [
    "Series expansions are used in a variety of circumstances:\n",
    "- When we need a tractable approximation to some ugly equation\n",
    "- To transform between equivalent ways of looking at a problem (e.g. time domain vs frequency domain)\n",
    "- When they are (part of) a solution to a particular class of differential equation\n",
    "\n",
    "For approximations, there is an important divide between getting the best fit *near a point* (e.g. Taylor series) and getting the best fit *over an interval* (e.g. Fourier series). This notebook deals with the latter; there is a separate notebook for Taylor expansions, and others for Bessel, Legendre, etc."
   ]
  },
  {
   "cell_type": "markdown",
   "metadata": {},
   "source": [
    "## Fitting over an interval\n",
    "\n",
    "What is the best (tractable) series approximating my function across some range of values? What matters is an overall best fit (e.g. least-squares deviation) across the range, and we can't tolerate wild divergences as with the Taylor series.\n",
    "\n",
    "There are various series which are useful in different contexts, but a common property is that the terms are *orthogonal* over some interval $[-L,L]$. If $f(t)$ is a real-valued function their *inner product* is defined as\n",
    "\n",
    "$$ \\langle f(m t),f(n t) \\rangle   \\colon =\\int _{-L}^L f(m t) f(n t) \\,  dt $$\n",
    "\n",
    "For orthogonal functions, this is non-zero if $m=n$ and zero if $m \\ne n$. If the inner product is $\\delta_{mn}$ (the Kronecker delta), the fuctions are said to be orthonormal."
   ]
  },
  {
   "cell_type": "markdown",
   "metadata": {},
   "source": [
    "# Differential Equations\n",
    "\n",
    "The ODE $y'' + n^2 y = 0$ is solved by all the period functions $\\sin(n x)$, $\\cos(n x)$ and $e^{\\pm i n x}$. There is thus a close analogy to functions such as Bessel and Legendre, though sine and cosine have become much more familar to most of us for other (geometric) reasons. They have the nice property of evenly-spaced zeros, unlike Bessel functions. For example, $\\sin(x)=0$ for $x = n \\pi$ where n is any integer.\n",
    "\n",
    "The use of sin/cos or complex exponentials is also exceptionally familiar in series expansions, mainly because they are so useful in engineering and communications."
   ]
  },
  {
   "cell_type": "markdown",
   "metadata": {},
   "source": [
    "## Fourier Series and Fourier Analysis\n",
    "\n",
    "A periodic function $f$ of period $2L$ can be approximated by a Fourier Series of sines and cosines:\n",
    "\n",
    "$$ f(t) = \\frac{a_0}{2} + \\sum _{n \\ge 1} a_ n \\cos \\frac{n \\pi t}{L} + \\sum _{n \\ge 1} b_ n \\sin \\frac{n \\pi t}{L}  $$\n",
    "\n",
    "To find the coefficients:\n",
    "$$\n",
    "\\begin{align*}\n",
    "\t\\frac{a_0}{2} &= \\displaystyle \\frac{1}{2L} \\int _{-L}^{L} f(t) \\,  dt = \\frac{\\langle f(t), 1 \\rangle }{\\langle 1, 1\\rangle }\\\\[6pt]\n",
    "\ta_ n& = \\frac{1}{L} \\int _{-L}^{L} f(t) \\cos \\frac{n \\pi t}{L} \\,  dt = \\frac{\\langle f(t),\\cos \\left(\\frac{n \\pi }{L} t\\right)\\rangle }{\\langle \\cos \\left(\\frac{n \\pi }{L} t\\right), \\cos \\left(\\frac{n \\pi }{L} t\\right)\\rangle } \\\\[10pt]\n",
    "\tb_ n &= \\displaystyle \\frac{1}{L} \\int _{-L}^{L} f(t) \\sin \\frac{n \\pi t}{L} \\,  dt = \\frac{\\langle f(t),\\sin \\left(\\frac{n \\pi }{L} t\\right)\\rangle }{\\langle \\sin \\left(\\frac{n \\pi }{L} t\\right), \\sin \\left(\\frac{n \\pi }{L} t\\right)\\rangle }\n",
    "\\end{align*}\n",
    "$$\n",
    "\n",
    "Equivalently, we can express the Fourier Series as complex exponentials:\n",
    "\n",
    "$$ f\\left(t\\right) = \\sum _{n = -\\infty }^{\\infty } c_{n} e^{i n t}, \\qquad c_{n} \\colon =\\frac{a_{n} - i b_{n}}{2} \\quad \\text{ and } \\quad c_{-n} \\colon =\\bar{c}_{n} = \\frac{a_{n} + i b_{n}}{2} $$\n",
    "\n",
    "Real-world situations tend not to give infinitely periodic functions, so Fourier Analysis can be thought of as the limit as $L$ goes to infinity of a periodic signal of period $2L$. As $L$ increases, the spacing between the frequencies in our sum are approaching zero. This turns the sum into an integral in the limit, and we have the equations:\n",
    " \n",
    "$$ f(t)  = \\int _{-\\infty }^{\\infty } \\widehat{f}\\left(k\\right)e^{ i k t} \\,  dk  \\quad \\text{where} \\quad \\widehat{f} = \\frac{1}{2\\pi }\\int _{-\\infty }^{\\infty } f\\left(t\\right)e^{- i k t} \\,  dt $$\n",
    "\n",
    "We call $\\widehat{f}$ the **Fourier transform** of $f(t)$."
   ]
  },
  {
   "cell_type": "markdown",
   "metadata": {},
   "source": [
    "Start with quite a lot of imports ready for calculation and plotting:"
   ]
  },
  {
   "cell_type": "code",
   "execution_count": 1,
   "metadata": {},
   "outputs": [],
   "source": [
    "import numpy as np\n",
    "import matplotlib.pyplot as plt\n",
    "\n",
    "from ipywidgets import interact, interactive, fixed, interact_manual, Layout\n",
    "import ipywidgets as w\n",
    "\n",
    "plt.rcParams.update({'font.size': 16})\n",
    "\n",
    "from sympy import fourier_series, pi, init_printing, lambdify, integrate\n",
    "init_printing()\n",
    "from sympy.functions import sin, cos\n",
    "from sympy.abc import x\n",
    "\n",
    "from sympy.parsing.sympy_parser import parse_expr\n",
    "from sympy.parsing.sympy_parser import standard_transformations, implicit_multiplication_application\n",
    "transformations = (standard_transformations + (implicit_multiplication_application,))"
   ]
  },
  {
   "cell_type": "markdown",
   "metadata": {},
   "source": [
    "SymPy has a FourierSeries class which looked like it would do what we need, very simply. The results were disappointing: `fourier_series()` returns a very complicated result for even simple functions, and attempts to lambdify this never terminated.\n",
    "\n",
    "The `fourier_coeff()` function below calculates $a_n$ and $b_n$ by integration and returns them as NumPy arrays to 5 figure accuracy. Note that this is only for illustrating the effect of adding more terms: the calculation is slow and clunky, and nobody would do Fourier transforms this way for real problems."
   ]
  },
  {
   "cell_type": "code",
   "execution_count": 2,
   "metadata": {},
   "outputs": [],
   "source": [
    "# Fourier series, to order n\n",
    "def fourier_coeff(f, L, n):\n",
    "    # f is a SymPy function of x\n",
    "    a_n = []\n",
    "    b_n = [0,]\n",
    "    a_n.append((1/(2*L)*integrate(f, (x, -L, L))).evalf(5))\n",
    "    for i in range(1, n+1):\n",
    "        a_n.append((1/L*integrate(f*cos(i*pi/L*x), (x, -L, L))).evalf(5))\n",
    "        b_n.append((1/L*integrate(f*sin(i*pi/L*x), (x, -L, L))).evalf(5))\n",
    "        \n",
    "    # SymPy is VERY reluctant to give us simple numbers rather than SymPy objects\n",
    "    # Force the conversion to NumPy floats with np.array().astype()\n",
    "    return (np.array(a_n).astype(np.float64), np.array(b_n).astype(np.float64))"
   ]
  },
  {
   "cell_type": "code",
   "execution_count": 3,
   "metadata": {},
   "outputs": [],
   "source": [
    "# Plot results\n",
    "def plotFourier(f_sympy, L):\n",
    "    \n",
    "    max_terms = 20\n",
    "    \n",
    "    # get a NumPy-style function from the SymPy version\n",
    "    f_np = lambdify(x, f_sympy, 'numpy')\n",
    "    display(f_sympy) # display shows LaTex, print wouldn't\n",
    "    \n",
    "    # plot the starting function\n",
    "    x_lims = [-L,L]\n",
    "    x1 = np.linspace(x_lims[0], x_lims[1], 100)\n",
    "    fig = plt.figure(figsize=(9, 20))\n",
    "    \n",
    "    ax1 = fig.add_subplot(311)\n",
    "    ax1.plot(x1, f_np(x1), 'k.', label=f_sympy)\n",
    "        \n",
    "    # get some terms of a Fourier series \n",
    "#     f_fourier = fourier_series(f_sympy, (x, -L, L))\n",
    "#     f_fourier.truncate(4)\n",
    "#     display(f_fourier)\n",
    "\n",
    "    a_n, b_n = fourier_coeff(f_sympy, L, max_terms)\n",
    "    \n",
    "    ax2 = fig.add_subplot(312)\n",
    "    x_int = range(0, len(a_n))\n",
    "#     ax2.stem(a_n, 'k.', label='a_n')\n",
    "    ax2.stem(x_int, a_n, markerfmt='C0o', label='a_n')\n",
    "    ax2.stem(x_int, b_n, markerfmt='C1o', label='b_n')\n",
    "    ax2.set_xlim(left=-0.5)\n",
    "    ax2.set_ylabel('coefficients')\n",
    "#     ax2.xaxis.set_major_locator(MaxNLocator(integer=True)) # fails\n",
    "    ax2.legend()\n",
    "    \n",
    "    # plot the successive approximations\n",
    "    for n in [0,1,2,3,5,10,20]:\n",
    "        if n > max_terms:\n",
    "            break\n",
    "        y = np.zeros(len(x1))\n",
    "        for i in range(n+1):\n",
    "            cos_term = a_n[i]*np.cos(i*np.pi/L*x1)\n",
    "            sin_term = b_n[i]*np.sin(i*np.pi/L*x1)\n",
    "            y += (cos_term + sin_term)\n",
    "        ax1.plot(x1, y, label='order ' + str(n))\n",
    "\n",
    "    # graph housekeeping\n",
    "    ax1.set_xlim(x_lims)\n",
    "    ax1.set_xlabel('x')\n",
    "    ax1.set_ylabel('y')\n",
    "    ax1.legend()\n",
    "    ax1.grid(True)\n",
    "    plt.title('Fourier series approximation of ' + str(f_sympy))"
   ]
  },
  {
   "cell_type": "code",
   "execution_count": 4,
   "metadata": {},
   "outputs": [],
   "source": [
    "def parse_input(f_txt, L):\n",
    "    f_sympy = parse_expr(f_txt, transformations=transformations)\n",
    "    plotFourier(f_sympy, L)"
   ]
  },
  {
   "cell_type": "markdown",
   "metadata": {},
   "source": [
    "Please wait patiently for each new calculation, which will take several seconds at best."
   ]
  },
  {
   "cell_type": "code",
   "execution_count": 5,
   "metadata": {},
   "outputs": [
    {
     "data": {
      "application/vnd.jupyter.widget-view+json": {
       "model_id": "5a3dbed6d4d8490ea0c0132ff99f2af5",
       "version_major": 2,
       "version_minor": 0
      },
      "text/plain": [
       "interactive(children=(Text(value='x**2 - x**3', continuous_update=False, description='f(x):', layout=Layout(wi…"
      ]
     },
     "metadata": {},
     "output_type": "display_data"
    }
   ],
   "source": [
    "style = {'description_width': 'initial'} # to avoid the labels getting truncated\n",
    "interact(parse_input, \n",
    "             f_txt = w.Text(description='f(x):',\n",
    "                                            layout=Layout(width='80%'),\n",
    "                                            continuous_update=False,\n",
    "                                            value='x**2 - x**3'),\n",
    "             L = w.FloatSlider(description=\"Limits $\\pm L$\", style=style,\n",
    "                                            layout=Layout(width='80%'),\n",
    "                                            continuous_update=False,\n",
    "                                            min=1, max=10, \n",
    "                                            value=np.pi),\n",
    ");"
   ]
  },
  {
   "cell_type": "code",
   "execution_count": null,
   "metadata": {},
   "outputs": [],
   "source": []
  },
  {
   "cell_type": "markdown",
   "metadata": {},
   "source": [
    "### Discrete Fourier transforms\n",
    "\n",
    "The mathematics of Fourier analysis goes back to the early 19th century, but its use has exploded in the last few decades. A couple of factors collided to drive this:\n",
    "\n",
    "- An efficient Fast Fourier Transform (FFT) algorithm, developed in the 1960s and implemented in both software and specialist hardware\n",
    "- The spread of digital technology, for audio, video and many other sorts of discretized signals. These are all perfect inputs for FFT.\n",
    "\n",
    "FFT gets away from complicated integrals and replaces them with a series of simple multiplications and additions. This gives a computation time of $\\mathcal{O}(N \\log N)$ for a signal with $N$ data points. Fast, as the name suggests! And your cellphone is doing millions of these calculations whenever you use it (for anything at all)."
   ]
  },
  {
   "cell_type": "markdown",
   "metadata": {},
   "source": [
    "There are many FFT functions in the `numpy.fft` module, but for real input we will use the `rfft()` function and its inverse, `irfft()`. This avoids calculating and storing half the coefficients, which for real input are just complex conjugates of the other half.\n",
    "\n",
    "Zeroing all but the first few coefficients before the inverse FFT simulates the effect of using few terms in the Fourier series."
   ]
  },
  {
   "cell_type": "code",
   "execution_count": 6,
   "metadata": {},
   "outputs": [],
   "source": [
    "def plotFFT(f_sympy, L):\n",
    "    \n",
    "    n_pts = 100\n",
    "    \n",
    "    # get a NumPy-style function from the SymPy version\n",
    "    f_np = lambdify(x, f_sympy, 'numpy')\n",
    "    \n",
    "    # discretize the function (for fft, not just for plotting)\n",
    "    x_lims = [-L,L]\n",
    "    x1 = np.linspace(x_lims[0], x_lims[1], n_pts)\n",
    "    y = f_np(x1)\n",
    "    \n",
    "    # plot the starting function\n",
    "    fig = plt.figure(figsize=(9, 20))\n",
    "    ax1 = fig.add_subplot(311)\n",
    "    ax1.plot(x1, f_np(x1), 'k.', label=f_sympy)\n",
    "    \n",
    "    display(f_sympy) # display shows LaTex, print wouldn't\n",
    "    \n",
    "    f_fft = np.fft.rfft(y)\n",
    "\n",
    "    # get a_n and b_n from complex coefficients in f_fft\n",
    "#     print(f_fft.shape)\n",
    "#     print(f_fft)\n",
    "    a_n = np.real(f_fft[:50] + np.conj(f_fft[:50]))\n",
    "    a_n[0] = a_n[0]/2\n",
    "    b_n = np.imag(f_fft[:50] - np.conj(f_fft[:50]))\n",
    "    \n",
    "    ax2 = fig.add_subplot(312)\n",
    "    x_int = range(0, len(a_n))\n",
    "    ax2.stem(x_int, a_n, markerfmt='C0o', label='real')\n",
    "    ax2.stem(x_int, b_n, markerfmt='C1o', label='imag')\n",
    "#     ax2.set_xlim(left=-0.5)\n",
    "    ax2.set_ylabel('coefficients')\n",
    "#     ax2.xaxis.set_major_locator(MaxNLocator(integer=True)) # fails\n",
    "    ax2.legend()\n",
    "\n",
    "#     # plot the successive approximations - FAILS\n",
    "    for i in [0,1,2,3,10,20]:\n",
    "        fft_i = np.zeros(len(f_fft), dtype=np.cfloat)\n",
    "        np.put(fft_i, range(i+1), f_fft[:i+1])\n",
    "        y_i = np.real(np.fft.irfft(fft_i))\n",
    "        ax1.plot(x1, y_i, label='order ' + str(i))\n",
    "    \n",
    "    y_i = np.real(np.fft.irfft(f_fft))\n",
    "    ax1.plot(x1, y_i, label='full inverse FFT')\n",
    "    \n",
    "    # graph housekeeping\n",
    "    ax1.set_xlim(x_lims)\n",
    "#     plt.ylim([-3,3])\n",
    "    ax1.set_xlabel('x')\n",
    "    ax1.set_ylabel('y')\n",
    "    ax1.legend()\n",
    "    ax1.grid(True)\n",
    "    plt.title('FFT series approximation of ' + str(f_sympy))"
   ]
  },
  {
   "cell_type": "code",
   "execution_count": 7,
   "metadata": {},
   "outputs": [],
   "source": [
    "def parse_input_fft(f_txt, L):\n",
    "    # we could just run eval(f_txt), \n",
    "    # but parse_expr() followed by lambdify() is probably safer\n",
    "    f_sympy = parse_expr(f_txt, transformations=transformations)\n",
    "    plotFFT(f_sympy, L)"
   ]
  },
  {
   "cell_type": "code",
   "execution_count": 8,
   "metadata": {},
   "outputs": [
    {
     "data": {
      "application/vnd.jupyter.widget-view+json": {
       "model_id": "dcc88eb22b6042d499690af3e62e2edb",
       "version_major": 2,
       "version_minor": 0
      },
      "text/plain": [
       "interactive(children=(Text(value='x**2 - x**3', continuous_update=False, description='f(x):', layout=Layout(wi…"
      ]
     },
     "metadata": {},
     "output_type": "display_data"
    }
   ],
   "source": [
    "style = {'description_width': 'initial'} # to avoid the labels getting truncated\n",
    "interact(parse_input_fft, \n",
    "             f_txt = w.Text(description='f(x):',\n",
    "                                            layout=Layout(width='80%'),\n",
    "                                            continuous_update=False,\n",
    "                                            value='x**2 - x**3'),\n",
    "             L = w.FloatSlider(description=\"Limits $\\pm L$\", style=style,\n",
    "                                            layout=Layout(width='80%'),\n",
    "                                            continuous_update=False,\n",
    "                                            min=1, max=10, \n",
    "                                            value=np.pi),\n",
    "        );"
   ]
  },
  {
   "cell_type": "code",
   "execution_count": null,
   "metadata": {},
   "outputs": [],
   "source": []
  },
  {
   "cell_type": "code",
   "execution_count": 9,
   "metadata": {},
   "outputs": [],
   "source": [
    "def plotFFT_discontinuous(waveform='square', L=np.pi):\n",
    "    \n",
    "    n_pts = 100\n",
    "    \n",
    "    # discretize the function (for fft, not just for plotting)\n",
    "    x_lims = [-L,L]\n",
    "    x1 = np.linspace(x_lims[0], x_lims[1], n_pts)\n",
    "    \n",
    "    if waveform == 'square':\n",
    "        y = np.sign(x1)\n",
    "    elif waveform=='triangle':\n",
    "        y = np.abs(x1)\n",
    "    \n",
    "    # plot the starting function\n",
    "    fig = plt.figure(figsize=(9, 20))\n",
    "    ax1 = fig.add_subplot(311)\n",
    "    ax1.plot(x1, y, 'r.', label=waveform)\n",
    "    \n",
    "    f_fft = np.fft.rfft(y)\n",
    "\n",
    "    # get a_n and b_n from complex coefficients in f_fft\n",
    "#     print(f_fft.shape)\n",
    "#     print(f_fft)\n",
    "    a_n = np.real(f_fft[:50] + np.conj(f_fft[:50]))\n",
    "    a_n[0] = a_n[0]/2\n",
    "    b_n = np.imag(f_fft[:50] - np.conj(f_fft[:50]))\n",
    "    \n",
    "    ax2 = fig.add_subplot(312)\n",
    "    x_int = range(0, len(a_n))\n",
    "    ax2.stem(x_int, a_n, markerfmt='C0o', label='a_n')\n",
    "    ax2.stem(x_int, b_n, markerfmt='C1o', label='b_n')\n",
    "#     ax2.set_xlim(left=-0.5)\n",
    "    ax2.set_ylabel('coefficients')\n",
    "#     ax2.xaxis.set_major_locator(MaxNLocator(integer=True)) # fails\n",
    "    ax2.legend()\n",
    "\n",
    "    y_i = np.real(np.fft.irfft(f_fft))\n",
    "    ax1.plot(x1, y_i, label='full inverse FFT')\n",
    "    \n",
    "    # graph housekeeping\n",
    "    ax1.set_xlim(x_lims)\n",
    "#     plt.ylim([-3,3])\n",
    "    ax1.set_xlabel('x')\n",
    "    ax1.set_ylabel('y')\n",
    "    ax1.legend()\n",
    "    ax1.grid(True)\n",
    "    plt.title('FFT approximation of ' + waveform + ' wave')"
   ]
  },
  {
   "cell_type": "code",
   "execution_count": 10,
   "metadata": {},
   "outputs": [
    {
     "data": {
      "image/png": "[encoded data removed]",
      "text/plain": [
       "<Figure size 648x1440 with 2 Axes>"
      ]
     },
     "metadata": {
      "needs_background": "light"
     },
     "output_type": "display_data"
    }
   ],
   "source": [
    "plotFFT_discontinuous('triangle')"
   ]
  },
  {
   "cell_type": "code",
   "execution_count": 11,
   "metadata": {},
   "outputs": [
    {
     "data": {
      "image/png": "[encoded data removed]",
      "text/plain": [
       "<Figure size 648x1440 with 2 Axes>"
      ]
     },
     "metadata": {
      "needs_background": "light"
     },
     "output_type": "display_data"
    }
   ],
   "source": [
    "plotFFT_discontinuous('square')"
   ]
  },
  {
   "cell_type": "code",
   "execution_count": null,
   "metadata": {},
   "outputs": [],
   "source": []
  },
  {
   "cell_type": "code",
   "execution_count": null,
   "metadata": {},
   "outputs": [],
   "source": []
  },
  {
   "cell_type": "code",
   "execution_count": null,
   "metadata": {},
   "outputs": [],
   "source": []
  },
  {
   "cell_type": "markdown",
   "metadata": {},
   "source": [
    "<a id='refs'></a>"
   ]
  },
  {
   "cell_type": "markdown",
   "metadata": {},
   "source": [
    "## References\n",
    "\n",
    "Boas, \"Mathematical methods in the physical sciences\""
   ]
  },
  {
   "cell_type": "code",
   "execution_count": null,
   "metadata": {},
   "outputs": [],
   "source": []
  }
 ],
 "metadata": {
  "kernelspec": {
   "display_name": "Python 3",
   "language": "python",
   "name": "python3"
  },
  "language_info": {
   "codemirror_mode": {
    "name": "ipython",
    "version": 3
   },
   "file_extension": ".py",
   "mimetype": "text/x-python",
   "name": "python",
   "nbconvert_exporter": "python",
   "pygments_lexer": "ipython3",
   "version": "3.6.8"
  }
 },
 "nbformat": 4,
 "nbformat_minor": 2
}
