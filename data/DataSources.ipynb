{
 "cells": [
  {
   "cell_type": "markdown",
   "metadata": {},
   "source": [
    "# Data Sources"
   ]
  },
  {
   "cell_type": "markdown",
   "metadata": {
    "toc": true
   },
   "source": [
    "<h1>Contents<span class=\"tocSkip\"></span></h1>\n",
    "<div class=\"toc\"><ul class=\"toc-item\"><li><span><a href=\"#Index\" data-toc-modified-id=\"Index-1\"><span class=\"toc-item-num\">1&nbsp;&nbsp;</span>Index</a></span></li><li><span><a href=\"#Space-Telescopes\" data-toc-modified-id=\"Space-Telescopes-2\"><span class=\"toc-item-num\">2&nbsp;&nbsp;</span>Space Telescopes</a></span><ul class=\"toc-item\"><li><span><a href=\"#Various-wavelengths\" data-toc-modified-id=\"Various-wavelengths-2.1\"><span class=\"toc-item-num\">2.1&nbsp;&nbsp;</span>Various wavelengths</a></span></li><li><span><a href=\"#Exoplanet-search\" data-toc-modified-id=\"Exoplanet-search-2.2\"><span class=\"toc-item-num\">2.2&nbsp;&nbsp;</span>Exoplanet search</a></span></li><li><span><a href=\"#Astrometry-&amp;-Parallax-measurement\" data-toc-modified-id=\"Astrometry-&amp;-Parallax-measurement-2.3\"><span class=\"toc-item-num\">2.3&nbsp;&nbsp;</span>Astrometry &amp; Parallax measurement</a></span></li><li><span><a href=\"#CMB-anisotropy\" data-toc-modified-id=\"CMB-anisotropy-2.4\"><span class=\"toc-item-num\">2.4&nbsp;&nbsp;</span>CMB anisotropy</a></span></li></ul></li><li><span><a href=\"#Ground-based-Surveys\" data-toc-modified-id=\"Ground-based-Surveys-3\"><span class=\"toc-item-num\">3&nbsp;&nbsp;</span>Ground-based Surveys</a></span></li><li><span><a href=\"#Catalogues\" data-toc-modified-id=\"Catalogues-4\"><span class=\"toc-item-num\">4&nbsp;&nbsp;</span>Catalogues</a></span></li><li><span><a href=\"#Search-Software\" data-toc-modified-id=\"Search-Software-5\"><span class=\"toc-item-num\">5&nbsp;&nbsp;</span>Search Software</a></span><ul class=\"toc-item\"><li><span><a href=\"#Sesame-Name-Resolver\" data-toc-modified-id=\"Sesame-Name-Resolver-5.1\"><span class=\"toc-item-num\">5.1&nbsp;&nbsp;</span>Sesame Name Resolver</a></span></li><li><span><a href=\"#Astroquery\" data-toc-modified-id=\"Astroquery-5.2\"><span class=\"toc-item-num\">5.2&nbsp;&nbsp;</span>Astroquery</a></span></li><li><span><a href=\"#Aladin\" data-toc-modified-id=\"Aladin-5.3\"><span class=\"toc-item-num\">5.3&nbsp;&nbsp;</span>Aladin</a></span></li></ul></li><li><span><a href=\"#Other-Software\" data-toc-modified-id=\"Other-Software-6\"><span class=\"toc-item-num\">6&nbsp;&nbsp;</span>Other Software</a></span></li><li><span><a href=\"#Other-data-types\" data-toc-modified-id=\"Other-data-types-7\"><span class=\"toc-item-num\">7&nbsp;&nbsp;</span>Other data types</a></span></li></ul></div>"
   ]
  },
  {
   "cell_type": "markdown",
   "metadata": {},
   "source": [
    "There is a _vast_ amount of astronomical data out there, freely available for you to use. All you have to do is find it.\n",
    "\n",
    "There is no chance of this notebook ever being complete or up to date. I think of it more as a placeholder to note interesting new sources and software as I find them."
   ]
  },
  {
   "cell_type": "markdown",
   "metadata": {},
   "source": [
    "## Index\n",
    "\n",
    "Where did it come from?\n",
    "\n",
    "- [Space telescopes](#SpaceTelescopes)\n",
    "- [Ground-based surveys](#Ground-basedSurveys)\n",
    "\n",
    "Where is it stored and indexed?\n",
    "\n",
    "- [Catalogues](#Catalogues)\n",
    "\n",
    "How do you search for it?\n",
    "\n",
    "- [Search software](#SearchSoftware)\n",
    "\n",
    "What else might you need to look for?\n",
    "\n",
    "- [Other data types](#OtherDataTypes)"
   ]
  },
  {
   "cell_type": "markdown",
   "metadata": {},
   "source": [
    "<a id='SpaceTelescopes'></a>  \n",
    "## Space Telescopes\n",
    "\n",
    "Wikipedia has a nice list of these: https://en.wikipedia.org/wiki/List_of_space_telescopes. There have been lots, with a wide variety of purposes. The subset below are some that generated large volumes of public data, or particularly significant new types of data."
   ]
  },
  {
   "cell_type": "markdown",
   "metadata": {},
   "source": [
    "### Various wavelengths\n",
    "\n",
    "General-purpose telescopes, mostly covering wavelengths inaccessible from inside Earth's atmosphere.\n",
    "\n",
    "___Hubble Space Telescope (HST)___ : UV to near-IR. Since 1990 (NASA)\n",
    "\n",
    "___Compton Gamma-ray Observatory___ : 20 keV - 30 GeV. Active 1991 - 2000 (NASA)\n",
    "\n",
    "___Swift___ : Primarily for gamma-ray bursts, but also has X-ray and UV/vis telescopes. Since 2004 (NASA)\n",
    "\n",
    "___Chandra X-ray Observatory___ : 0.1 - 10 keV X-rays. Since 1999 (NASA)\n",
    "\n",
    "___Spitzer___ : 3.6 - 160 $\\mu m$. Since 2003 (NASA)\n",
    "\n",
    "___Herschel___ : Far IR, 55 - 672 $\\mu m$. 2009 - 2013 (ESA).\n",
    "\n",
    "___Wide-field Infrared Survey Explorer (WISE)___ : Performed an all-sky astronomical survey with images in 3.4, 4.6, 12 and 22 $\\mu m$ bands. Since 2009 (NASA)"
   ]
  },
  {
   "cell_type": "markdown",
   "metadata": {},
   "source": [
    "### Exoplanet search\n",
    "\n",
    "Radial velocity measurements can work well from ground-based telescopes, but light curves at the precision needed for transit methods are better measured from space. This has been _spectacularly_ successful!\n",
    "\n",
    "___Kepler___ : The original high-precision mission ran 2009 - 2013, ending with the loss of the 2nd reaction wheel (of 4). The K2 mission was designed to make best use of the surviving equipment and ran 2014 - 2018. The number of planets found is over 2300 confirmed plus a similar number of (so-far) unconfirmed candidates. (NASA/LASP)\n",
    "\n",
    "___TESS___ : The Transiting Exoplanet Survey Satellite, launched April 2018. Results are still limited, but with a much wider field of view than Kepler expectations are high for a flood of results in the next few years. (NASA/MIT)"
   ]
  },
  {
   "cell_type": "markdown",
   "metadata": {},
   "source": [
    "### Astrometry & Parallax measurement\n",
    "\n",
    "Repeated, very precise measurements of the position of nearby stars allows parallax distance to be measured accurately: about the only 3-D coordinates we are confident about outside our solar system. This seems to be mostly a European speciality.\n",
    "\n",
    "___HIPPARCOS___ : 1989 - 1993, giving us data on about 2.5 million stars. (ESA)\n",
    "\n",
    "___Gaia___ : Since 2013, this is the follow-on to the success of Hipparcos. DR2 (April 2018) released positions, parallaxes and proper motions for about 1.3 billion stars, with much more to come in future data releases. (ESA)"
   ]
  },
  {
   "cell_type": "markdown",
   "metadata": {},
   "source": [
    "### CMB anisotropy\n",
    "\n",
    "Sensitive microwave telescopes that (primarily) map tiny fluctuations in the cosmic microwave background. Three generations so far, each more precise than the one before. The data has been revolutionary for precision cosmology, though not the easiest for amateurs to interpret.\n",
    "\n",
    "___COBE___ : 1989 - 1993 (NASA)\n",
    "\n",
    "___WMAP___ : 2001 - 2010 (NASA)\n",
    "\n",
    "___Planck___ : 2009 - 2013 (ESA)"
   ]
  },
  {
   "cell_type": "markdown",
   "metadata": {},
   "source": [
    "<a id='Ground-basedSurveys'></a>  \n",
    "## Ground-based Surveys\n",
    "\n",
    "Astronomy has a long history of tweed-jacketed men sitting high on the telescope, smoking a pipe while sketching what they saw through the eyepiece. However, this model turned out not to scale well.\n",
    "\n",
    "At the other extreme, a growing amount of modern astronomy follows the sequence:\n",
    "\n",
    "- Scan the sky systematically, using a well-defined set of instrument parameters and multiple filters.\n",
    "- Put the data online in a consistent and easily searchable format\n",
    "- Turn the worlwide community loose to see what they can do with the database\n",
    "\n",
    "There have been lots of sky surveys and more are planned. Wikipedia has a long list: https://en.wikipedia.org/wiki/Astronomical_survey. I'll just mention a few of the main ones.\n",
    "\n",
    "___SDSS___ : The Sloan Digital Sky Survey, based at Apache Point, New Mexico since 2000. As a long-running program that clearly takes public outreach very seriously, there is very comprehensive web access:\n",
    "\n",
    "- https://www.sdss.org/ : main portal\n",
    "- http://voyages.sdss.org/ : child-friendly but with a lot of information\n",
    "- https://www.sdss.org/dr15/data_access/ : using data release 15\n",
    "- http://skyserver.sdss.org/dr15/en/tools/toolshome.aspx : searching SkyServer, from clicking on a sky map up to running free-form SQL\n",
    "\n",
    "Many third-party tools also rely heavily on SDSS data (see below).\n",
    "\n",
    "___2MASS___ : The Two Micron All-Sky Survey (1997-2001) was a whole sky survey in the IR. Observing was split between Arizona and Chile, to cover both hemispheres. \n",
    "\n",
    "___Catalina Sky Survey___ : Searching for comets and asteroids since the late 1990's, on my local mountain north of Tucson, Arizona. More than 50% of the near earth objects currently known were discovered by CSS, though Pan-STARRS is now a strong competitor.\n",
    "\n",
    "___Pan-STARRS___ : Running in Hawaii since 2010, this surveys the sky for moving or variable objects.\n",
    "\n",
    "___Hyper Suprime-Cam___ : A deep survey running on the Subaru telescope in Hawaii. It started public data releases in 2017: https://hsc-release.mtk.nao.ac.jp/doc/.\n",
    "\n",
    "___LSST___ : The Large Synoptic Survey Telescope is under constuction at Cerro Pachon, Chile, with first light expected in 2020. Worth mentioning, because the the expected data rate will dwarf anything attempted before (about 1.3 petabytes/year) and a major goal is comprehensive and immediate public access. Challenging! (I once had the chance to chat to one of their data scientists over a beer, and he confirmed that he feels challenged).\n",
    "\n",
    "___ZTF___ : The Zwicky Transient Facility is a time-domain survey run at Palomar since 2017. https://www.ztf.caltech.edu/"
   ]
  },
  {
   "cell_type": "markdown",
   "metadata": {},
   "source": [
    "<a id='#Catalogues'></a>  \n",
    "## Catalogues\n",
    "\n",
    "Collecting all this data isn't much use unless you (and others) can find it afterwards, hence the need to classify and index the observations. Technology has moved on since the pioneering work of people like [Annie Jump Cannon](https://www.amazon.com/gp/product/B01CZCW45O), though they would probably have approved of many billions of records neatly recorded in a PostgreSQL database.\n",
    "\n",
    "Inevitably, this field has become complex enough to need catalogues to the catalogues. Quick overviews include:\n",
    "- http://tdc-www.harvard.edu/astro.data.html\n",
    "- http://spiff.rit.edu/classes/phys373/lectures/catalogs/catalogs.html\n",
    "- https://www.loc.gov/rr/scitech/selected-internet/astronomy-selected.html"
   ]
  },
  {
   "cell_type": "markdown",
   "metadata": {},
   "source": [
    "___NED___ : NASA/IPAC Extragalactic Database. http://ned.ipac.caltech.edu/\n",
    "\n",
    "___SIMBAD___ : CDS astronomical database. http://simbad.u-strasbg.fr/simbad/\n",
    "\n",
    "___VixieR___ : CDS catalogue database. http://vizier.u-strasbg.fr/viz-bin/VizieR\n",
    "\n",
    "___ADS___ : The SAO/NASA Astrophysics Data System, a digital library. http://adsabs.harvard.edu/\n",
    "\n",
    "___IRSA___ : The InfraRed Science Archive. https://irsa.ipac.caltech.edu/\n",
    "\n",
    "___HORIZONS___ : The JPL HORIZONS on-line solar system data and ephemeris computation service provides access to key solar system data and flexible production of highly accurate ephemerides for solar system objects. https://ssd.jpl.nasa.gov/?horizons"
   ]
  },
  {
   "cell_type": "markdown",
   "metadata": {},
   "source": [
    "<a id='SearchSoftware'></a>  \n",
    "## Search Software"
   ]
  },
  {
   "cell_type": "markdown",
   "metadata": {},
   "source": [
    "### Sesame Name Resolver\n",
    "\n",
    "Website: http://cdsweb.u-strasbg.fr/cgi-bin/Sesame\n",
    "\n",
    "Searches the name of an object and returns data about it: not least, the coordinates. The databases queried are Simbad, NED, and VizieR.\n",
    "\n",
    "A Python interface is included in `astropy.coordinates`, as in the example below."
   ]
  },
  {
   "cell_type": "code",
   "execution_count": 16,
   "metadata": {},
   "outputs": [],
   "source": [
    "# Python standard-library\n",
    "from urllib.parse import urlencode\n",
    "from urllib.request import urlretrieve\n",
    "\n",
    "# Third-party dependencies\n",
    "from astropy import units as u\n",
    "from astropy.coordinates import SkyCoord\n",
    "from IPython.display import Image"
   ]
  },
  {
   "cell_type": "markdown",
   "metadata": {},
   "source": [
    "As an example, search for galaxy M81. First we need the RA and declination."
   ]
  },
  {
   "cell_type": "code",
   "execution_count": 7,
   "metadata": {},
   "outputs": [
    {
     "data": {
      "text/plain": [
       "<SkyCoord (ICRS): (ra, dec) in deg\n",
       "    (148.88822108, 69.06529472)>"
      ]
     },
     "execution_count": 7,
     "metadata": {},
     "output_type": "execute_result"
    }
   ],
   "source": [
    "m81 = SkyCoord.from_name('M81')\n",
    "m81"
   ]
  },
  {
   "cell_type": "markdown",
   "metadata": {},
   "source": [
    "Now we can ask the SDSS SkyServer for an image centered on these coordinates and 25 arcmin across. This is saved to disk locally as a JPEG file."
   ]
  },
  {
   "cell_type": "code",
   "execution_count": 18,
   "metadata": {},
   "outputs": [
    {
     "data": {
      "text/plain": [
       "('M81_SDSS_cutout.jpg', <http.client.HTTPMessage at 0x7f4edc420438>)"
      ]
     },
     "execution_count": 18,
     "metadata": {},
     "output_type": "execute_result"
    }
   ],
   "source": [
    "impix = 512\n",
    "imsize = 25*u.arcmin\n",
    "cutoutbaseurl = 'http://skyservice.pha.jhu.edu/DR12/ImgCutout/getjpeg.aspx'\n",
    "query_string = urlencode(dict(ra=m81.ra.deg, \n",
    "                              dec=m81.dec.deg, \n",
    "                              width=impix, height=impix, \n",
    "                              scale=imsize.to(u.arcsec).value/impix))\n",
    "url = cutoutbaseurl + '?' + query_string\n",
    "\n",
    "# this downloads the image to your disk\n",
    "urlretrieve(url, 'M81_SDSS_cutout.jpg')"
   ]
  },
  {
   "cell_type": "markdown",
   "metadata": {},
   "source": [
    "Show the image - pretty!"
   ]
  },
  {
   "cell_type": "code",
   "execution_count": 15,
   "metadata": {},
   "outputs": [
    {
     "data": {
      "image/jpeg": "[encoded data removed]",
      "text/plain": [
       "<IPython.core.display.Image object>"
      ]
     },
     "execution_count": 15,
     "metadata": {},
     "output_type": "execute_result"
    }
   ],
   "source": [
    "Image('M81_SDSS_cutout.jpg')"
   ]
  },
  {
   "cell_type": "markdown",
   "metadata": {},
   "source": [
    "### Astroquery\n",
    "\n",
    "An astropy affiliated package, this is is a set of tools for querying astronomical web forms and databases from Python. A few dozen different services are available through this interface.\n",
    "\n",
    "Website: https://astroquery.readthedocs.io/en/latest/. Click through to the service you are interested in for more detailed documentation.\n",
    "\n",
    "Also see the [Gallery of Queries](https://astroquery.readthedocs.io/en/latest/gallery.html) for examples of use.\n",
    "\n",
    "Not part of the default Anaconda installation, but installable with `conda install -c astropy astroquery` or `pip install --pre astroquery`"
   ]
  },
  {
   "cell_type": "markdown",
   "metadata": {},
   "source": [
    "Just a few examples here; there are many more on the website. First, find galaxy M81 in Simbad:"
   ]
  },
  {
   "cell_type": "code",
   "execution_count": 27,
   "metadata": {},
   "outputs": [
    {
     "data": {
      "text/html": [
       "<i>Table masked=True length=1</i>\n",
       "<table id=\"table139976679493304\" class=\"table-striped table-bordered table-condensed\">\n",
       "<thead><tr><th>MAIN_ID</th><th>RA</th><th>DEC</th><th>RA_PREC</th><th>DEC_PREC</th><th>COO_ERR_MAJA</th><th>COO_ERR_MINA</th><th>COO_ERR_ANGLE</th><th>COO_QUAL</th><th>COO_WAVELENGTH</th><th>COO_BIBCODE</th></tr></thead>\n",
       "<thead><tr><th></th><th>&quot;h:m:s&quot;</th><th>&quot;d:m:s&quot;</th><th></th><th></th><th>mas</th><th>mas</th><th>deg</th><th></th><th></th><th></th></tr></thead>\n",
       "<thead><tr><th>object</th><th>str13</th><th>str13</th><th>int16</th><th>int16</th><th>float32</th><th>float32</th><th>int16</th><th>str1</th><th>str1</th><th>object</th></tr></thead>\n",
       "<tr><td>M  81</td><td>09 55 33.1730</td><td>+69 03 55.061</td><td>9</td><td>9</td><td>0.620</td><td>0.042</td><td>0</td><td>A</td><td>R</td><td>2004AJ....127.3587F</td></tr>\n",
       "</table>"
      ],
      "text/plain": [
       "<Table masked=True length=1>\n",
       "MAIN_ID       RA           DEC      ... COO_WAVELENGTH     COO_BIBCODE    \n",
       "           \"h:m:s\"       \"d:m:s\"    ...                                   \n",
       " object     str13         str13     ...      str1             object      \n",
       "------- ------------- ------------- ... -------------- -------------------\n",
       "  M  81 09 55 33.1730 +69 03 55.061 ...              R 2004AJ....127.3587F"
      ]
     },
     "metadata": {},
     "output_type": "display_data"
    }
   ],
   "source": [
    "from astroquery.simbad import Simbad\n",
    "result_table = Simbad.query_object(\"m81\")\n",
    "display(result_table)"
   ]
  },
  {
   "cell_type": "markdown",
   "metadata": {},
   "source": [
    "A similar query in VizieR; first find the catalogs:"
   ]
  },
  {
   "cell_type": "code",
   "execution_count": 39,
   "metadata": {
    "scrolled": false
   },
   "outputs": [
    {
     "data": {
      "text/plain": [
       "{'J/ApJ/438/181': 'Observations of H II Regions in M81 (Hill+ 1995)',\n",
       " 'J/ApJ/554/202': 'ROSAT X-ray observations of M81 (Immler+, 2001)',\n",
       " 'J/ApJ/648/987': 'UV through far-IR analysis of M81 (Perez-Gonzalez+, 2006)',\n",
       " 'J/ApJ/735/26': 'Chandra observations of M81 (Sell+, 2011)',\n",
       " 'J/ApJ/743/176': 'BVI photometry of Cepheids in M81 (Gerke+, 2011)',\n",
       " 'J/ApJS/144/213': 'Chandra X-ray observations of M81 (Swartz+, 2003)',\n",
       " 'J/A+A/379/90': 'Candidate Planetary Nebulae in M81 (Magrini+, 2001)',\n",
       " 'J/A+A/396/473': 'VI Photometry in M81 Group (Makarova+ 2002)',\n",
       " 'J/A+A/521/A3': 'Abundances in HII regions and PNe of M81 (Stanghellini+, 2010)',\n",
       " 'J/A+A/567/A88': 'Abundances in HII regions of M81 (Stanghellini+, 2014)',\n",
       " 'J/A+A/576/A58': 'Integral Field 560-680nm observation of M81 (Ricci+, 2015)',\n",
       " 'J/A+AS/44/387': 'H{alpha}-emission stars (Macconnell+, 1981)',\n",
       " 'J/AJ/109/1055': 'Globulars of M81 (Perelmuter+ 1995)',\n",
       " 'J/AJ/122/1330': 'HST BVI photometry of M 81 star clusters (Chandar+, 2001)',\n",
       " 'J/AJ/126/1286': 'H{alpha}+[NII] observations of M81 HII regions (Lin+, 2003)',\n",
       " 'J/AJ/139/1413': 'M81 star cluster candidates (Nantais+, 2010)',\n",
       " 'J/AJ/139/2620': 'Spectroscopy of M81 globular clusters (Nantais+, 2010)',\n",
       " 'J/AJ/141/205': 'UVOT imaging of M81 and Holmberg IX (Hoversten+, 2011)',\n",
       " 'J/AJ/142/183': 'HST photometry of globulars in M81 (NGC 3031) (Nantais+, 2011)',\n",
       " 'J/MNRAS/405/1293': 'Compact star clusters in M81 (Santiago-Cortes+, 2010)',\n",
       " 'J/MNRAS/455/2627': 'Oxygen abundance gradient in M81 (Arellano-Cordova+, 2016)',\n",
       " 'J/MNRAS/459/140': 'M81, LMC and 3C 273/Coma 17-60keV obs. (Mereminskiy+, 2016)',\n",
       " 'J/other/Ser/179.87': 'H{alpha} in HII regions of Holmberg IX (Arbutina+, 2009)'}"
      ]
     },
     "metadata": {},
     "output_type": "display_data"
    }
   ],
   "source": [
    "from astroquery.vizier import Vizier\n",
    "catalog_list = Vizier.find_catalogs(\"m81\")\n",
    "display({k:v.description for k,v in catalog_list.items()})"
   ]
  },
  {
   "cell_type": "markdown",
   "metadata": {},
   "source": [
    "Then get more detail:"
   ]
  },
  {
   "cell_type": "code",
   "execution_count": 35,
   "metadata": {},
   "outputs": [
    {
     "data": {
      "text/plain": [
       "TableList with 41 tables:\n",
       "\t'0:J/ApJ/438/181/table2' with 9 column(s) and 50 row(s) \n",
       "\t'1:J/ApJ/554/202/table3' with 7 column(s) and 46 row(s) \n",
       "\t'2:J/ApJ/554/202/table4' with 10 column(s) and 50 row(s) \n",
       "\t'3:J/ApJ/554/202/table5' with 8 column(s) and 30 row(s) \n",
       "\t'4:J/ApJ/554/202/table6' with 11 column(s) and 3 row(s) \n",
       "\t'5:J/ApJ/648/987/table1' with 12 column(s) and 50 row(s) \n",
       "\t'6:J/ApJ/648/987/table2' with 10 column(s) and 50 row(s) \n",
       "\t'7:J/ApJ/735/26/xsources' with 22 column(s) and 50 row(s) \n",
       "\t'8:J/ApJ/743/176/table1' with 12 column(s) and 50 row(s) \n",
       "\t'9:J/ApJS/144/213/table2' with 9 column(s) and 50 row(s) \n",
       "\t'10:J/ApJS/144/213/table3' with 10 column(s) and 33 row(s) \n",
       "\t'11:J/A+A/379/90/table1' with 5 column(s) and 50 row(s) \n",
       "\t'12:J/A+A/396/473/table1a' with 5 column(s) and 50 row(s) \n",
       "\t'13:J/A+A/396/473/table1b' with 5 column(s) and 50 row(s) \n",
       "\t'14:J/A+A/396/473/table1c' with 5 column(s) and 50 row(s) \n",
       "\t'15:J/A+A/396/473/table1d' with 5 column(s) and 50 row(s) \n",
       "\t'16:J/A+A/521/A3/table1' with 9 column(s) and 50 row(s) \n",
       "\t'17:J/A+A/521/A3/table2' with 6 column(s) and 50 row(s) \n",
       "\t'18:J/A+A/521/A3/table3' with 3 column(s) and 50 row(s) \n",
       "\t'19:J/A+A/567/A88/table2' with 12 column(s) and 50 row(s) \n",
       "\t'20:J/A+A/567/A88/table3' with 6 column(s) and 50 row(s) \n",
       "\t'21:J/A+A/567/A88/table4' with 4 column(s) and 50 row(s) \n",
       "\t'22:J/A+A/576/A58/list' with 12 column(s) and 1 row(s) \n",
       "\t'23:J/A+AS/44/387/catalog' with 9 column(s) and 50 row(s) \n",
       "\t'24:J/AJ/109/1055/table6' with 7 column(s) and 50 row(s) \n",
       "\t'25:J/AJ/122/1330/table2' with 8 column(s) and 50 row(s) \n",
       "\t'26:J/AJ/122/1330/table3' with 7 column(s) and 11 row(s) \n",
       "\t'27:J/AJ/126/1286/table4' with 10 column(s) and 50 row(s) \n",
       "\t'28:J/AJ/139/1413/catalog' with 13 column(s) and 50 row(s) \n",
       "\t'29:J/AJ/139/2620/M81glob' with 12 column(s) and 50 row(s) \n",
       "\t'30:J/AJ/139/2620/table3' with 10 column(s) and 50 row(s) \n",
       "\t'31:J/AJ/139/2620/M81sp' with 16 column(s) and 50 row(s) \n",
       "\t'32:J/AJ/141/205/table1' with 10 column(s) and 50 row(s) \n",
       "\t'33:J/AJ/141/205/table3' with 16 column(s) and 50 row(s) \n",
       "\t'34:J/AJ/142/183/M31gc' with 17 column(s) and 50 row(s) \n",
       "\t'35:J/MNRAS/405/1293/table3' with 9 column(s) and 50 row(s) \n",
       "\t'36:J/MNRAS/455/2627/table4' with 15 column(s) and 48 row(s) \n",
       "\t'37:J/MNRAS/455/2627/table2' with 3 column(s) and 48 row(s) \n",
       "\t'38:J/MNRAS/455/2627/table3' with 5 column(s) and 50 row(s) \n",
       "\t'39:J/MNRAS/459/140/table1' with 16 column(s) and 50 row(s) \n",
       "\t'40:J/other/Ser/179.87/table5' with 6 column(s) and 22 row(s) "
      ]
     },
     "metadata": {},
     "output_type": "display_data"
    }
   ],
   "source": [
    "catalogs = Vizier.get_catalogs(catalog_list.keys())\n",
    "display(catalogs)"
   ]
  },
  {
   "cell_type": "markdown",
   "metadata": {},
   "source": [
    "Finally show the underlying data for one of the tables:"
   ]
  },
  {
   "cell_type": "code",
   "execution_count": 37,
   "metadata": {},
   "outputs": [
    {
     "data": {
      "text/html": [
       "<i>Table masked=True length=22</i>\n",
       "<table id=\"table139976399919648\" class=\"table-striped table-bordered table-condensed\">\n",
       "<thead><tr><th>Source</th><th>n_Source</th><th>RAJ2000</th><th>DEJ2000</th><th>FHa</th><th>MH</th></tr></thead>\n",
       "<thead><tr><th></th><th></th><th>&quot;h:m:s&quot;</th><th>&quot;d:m:s&quot;</th><th>aW / m2</th><th></th></tr></thead>\n",
       "<thead><tr><th>bytes7</th><th>bytes1</th><th>bytes10</th><th>bytes9</th><th>float32</th><th>bytes8</th></tr></thead>\n",
       "<tr><td>Aea1</td><td></td><td>09 57 26.1</td><td>+69 03 09</td><td>1.03</td><td>M&amp;H 1</td></tr>\n",
       "<tr><td>Aea2</td><td></td><td>09 57 26.2</td><td>+69 02 47</td><td>0.64</td><td>M&amp;H 2</td></tr>\n",
       "<tr><td>Aea3</td><td></td><td>09 57 29.4</td><td>+69 03 24</td><td>1.92</td><td>M&amp;H 3</td></tr>\n",
       "<tr><td>Aea4</td><td></td><td>09 57 31.1</td><td>+69 03 24</td><td>0.86</td><td>M&amp;H 4</td></tr>\n",
       "<tr><td>Aea5</td><td></td><td>09 57 35.6</td><td>+69 04 01</td><td>4.17</td><td>M&amp;H 5</td></tr>\n",
       "<tr><td>Aea6A</td><td></td><td>09 57 49.5</td><td>+69 04 21</td><td>0.38</td><td>M&amp;H 6</td></tr>\n",
       "<tr><td>Aea6B</td><td></td><td>09 57 49.8</td><td>+69 04 16</td><td>0.26</td><td>M&amp;H 6</td></tr>\n",
       "<tr><td>Aea7A</td><td></td><td>09 57 49.9</td><td>+69 04 55</td><td>1.03</td><td>M&amp;H 7</td></tr>\n",
       "<tr><td>Aea7B</td><td></td><td>09 57 49.5</td><td>+69 04 54</td><td>0.76</td><td>M&amp;H 7</td></tr>\n",
       "<tr><td>...</td><td>...</td><td>...</td><td>...</td><td>...</td><td>...</td></tr>\n",
       "<tr><td>Aea12</td><td></td><td>09 57 58.5</td><td>+69 03 19</td><td>0.24</td><td></td></tr>\n",
       "<tr><td>Aea13</td><td></td><td>09 58 04.7</td><td>+69 01 41</td><td>0.56</td><td></td></tr>\n",
       "<tr><td>Aea14</td><td></td><td>09 58 04.4</td><td>+69 01 37</td><td>0.36</td><td></td></tr>\n",
       "<tr><td>Aea15</td><td></td><td>09 57 09.0</td><td>+69 04 08</td><td>0.33</td><td></td></tr>\n",
       "<tr><td>Aea16</td><td></td><td>09 57 41.0</td><td>+69 05 50</td><td>0.70</td><td></td></tr>\n",
       "<tr><td>Aea17</td><td></td><td>09 57 27.4</td><td>+69 03 13</td><td>0.43</td><td></td></tr>\n",
       "<tr><td>Aea18</td><td></td><td>09 57 24.6</td><td>+69 02 57</td><td>0.55</td><td></td></tr>\n",
       "<tr><td>Aea19</td><td></td><td>09 54 24.6</td><td>+69 02 47</td><td>1.13</td><td></td></tr>\n",
       "<tr><td>Aea20</td><td></td><td>09 57 45.0</td><td>+69 02 07</td><td>0.13</td><td></td></tr>\n",
       "<tr><td>Aea21</td><td></td><td>09 57 11.8</td><td>+69 01 18</td><td>0.29</td><td></td></tr>\n",
       "</table>"
      ],
      "text/plain": [
       "<Table masked=True length=22>\n",
       "Source n_Source  RAJ2000    DEJ2000    FHa     MH  \n",
       "                 \"h:m:s\"    \"d:m:s\"  aW / m2       \n",
       "bytes7  bytes1   bytes10     bytes9  float32 bytes8\n",
       "------ -------- ---------- --------- ------- ------\n",
       "  Aea1          09 57 26.1 +69 03 09    1.03  M&H 1\n",
       "  Aea2          09 57 26.2 +69 02 47    0.64  M&H 2\n",
       "  Aea3          09 57 29.4 +69 03 24    1.92  M&H 3\n",
       "  Aea4          09 57 31.1 +69 03 24    0.86  M&H 4\n",
       "  Aea5          09 57 35.6 +69 04 01    4.17  M&H 5\n",
       " Aea6A          09 57 49.5 +69 04 21    0.38  M&H 6\n",
       " Aea6B          09 57 49.8 +69 04 16    0.26  M&H 6\n",
       " Aea7A          09 57 49.9 +69 04 55    1.03  M&H 7\n",
       " Aea7B          09 57 49.5 +69 04 54    0.76  M&H 7\n",
       "   ...      ...        ...       ...     ...    ...\n",
       " Aea12          09 57 58.5 +69 03 19    0.24       \n",
       " Aea13          09 58 04.7 +69 01 41    0.56       \n",
       " Aea14          09 58 04.4 +69 01 37    0.36       \n",
       " Aea15          09 57 09.0 +69 04 08    0.33       \n",
       " Aea16          09 57 41.0 +69 05 50    0.70       \n",
       " Aea17          09 57 27.4 +69 03 13    0.43       \n",
       " Aea18          09 57 24.6 +69 02 57    0.55       \n",
       " Aea19          09 54 24.6 +69 02 47    1.13       \n",
       " Aea20          09 57 45.0 +69 02 07    0.13       \n",
       " Aea21          09 57 11.8 +69 01 18    0.29       "
      ]
     },
     "metadata": {},
     "output_type": "display_data"
    }
   ],
   "source": [
    "display(catalogs[40])"
   ]
  },
  {
   "cell_type": "markdown",
   "metadata": {},
   "source": [
    "Get information from the Minor Planet Center about an asteroid currently in the news:"
   ]
  },
  {
   "cell_type": "code",
   "execution_count": 28,
   "metadata": {},
   "outputs": [
    {
     "data": {
      "text/plain": [
       "[{'absolute_magnitude': '20.9',\n",
       "  'aphelion_distance': '1.355',\n",
       "  'arc_length': 6821,\n",
       "  'argument_of_perihelion': '66.30371',\n",
       "  'ascending_node': '2.0168684',\n",
       "  'critical_list_numbered_object': False,\n",
       "  'delta_v': 5.1,\n",
       "  'designation': None,\n",
       "  'earth_moid': 0.0033211,\n",
       "  'eccentricity': '0.2037196',\n",
       "  'epoch': '2019-04-27.0',\n",
       "  'epoch_jd': '2458600.5',\n",
       "  'first_observation_date_used': '1999-09-11.0',\n",
       "  'first_opposition_used': '1999',\n",
       "  'inclination': '6.03428',\n",
       "  'jupiter_moid': 3.87486,\n",
       "  'km_neo': False,\n",
       "  'last_observation_date_used': '2018-05-15.0',\n",
       "  'last_opposition_used': '2018',\n",
       "  'mars_moid': 0.168841,\n",
       "  'mean_anomaly': '87.64095',\n",
       "  'mean_daily_motion': '0.8250008',\n",
       "  'mercury_moid': 0.588813,\n",
       "  'name': 'Bennu',\n",
       "  'neo': True,\n",
       "  'number': 101955,\n",
       "  'observations': 572,\n",
       "  'oppositions': 7,\n",
       "  'orbit_type': 3,\n",
       "  'orbit_uncertainty': '0',\n",
       "  'p_vector_x': '0.36959163',\n",
       "  'p_vector_y': '0.80964194',\n",
       "  'p_vector_z': '0.45594074',\n",
       "  'perihelion_date': '2019-01-10.76865',\n",
       "  'perihelion_date_jd': '2458494.26865',\n",
       "  'perihelion_distance': '0.8965317',\n",
       "  'period': '1.19',\n",
       "  'pha': True,\n",
       "  'phase_slope': '0.15',\n",
       "  'q_vector_x': '-0.92918692',\n",
       "  'q_vector_y': '0.32008283',\n",
       "  'q_vector_z': '0.18482058',\n",
       "  'residual_rms': '0.44',\n",
       "  'saturn_moid': 8.16582,\n",
       "  'semimajor_axis': '1.1258996',\n",
       "  'tisserand_jupiter': 5.5,\n",
       "  'updated_at': '2018-09-27T17:37:57Z',\n",
       "  'uranus_moid': 17.0019,\n",
       "  'venus_moid': 0.194708}]"
      ]
     },
     "metadata": {},
     "output_type": "display_data"
    }
   ],
   "source": [
    "from astroquery.mpc import MPC\n",
    "result = MPC.query_object('asteroid', name='bennu')\n",
    "display(result)"
   ]
  },
  {
   "cell_type": "markdown",
   "metadata": {},
   "source": [
    "### Aladin\n",
    "\n",
    "A desktop interactive sky atlas for pretty much any OS that runs Java. \n",
    "\n",
    "___Aladin Lite___ is a simpler version running in the browser. https://aladin.u-strasbg.fr/aladin.gml\n",
    "\n",
    "There is a package called `ipyaladin` which embeds Aladin Lite in a Jupyter notebook. It needs to be installed separately: `conda install -c tboch ipyaladin` or `pip install ipyaladin`. See https://github.com/cds-astro/ipyaladin for installation details and examples."
   ]
  },
  {
   "cell_type": "code",
   "execution_count": 3,
   "metadata": {},
   "outputs": [
    {
     "data": {
      "application/vnd.jupyter.widget-view+json": {
       "model_id": "998c7694fad449ff8baf94d80ea3ca47",
       "version_major": 2,
       "version_minor": 0
      },
      "text/plain": [
       "Aladin(fov=1.0, options=['allow_full_zoomout', 'coo_frame', 'fov', 'full_screen', 'log', 'overlay_survey', 'ov…"
      ]
     },
     "metadata": {},
     "output_type": "display_data"
    }
   ],
   "source": [
    "import ipyaladin as ipyal\n",
    "aladin= ipyal.Aladin(target='messier 51', fov=1)\n",
    "aladin"
   ]
  },
  {
   "cell_type": "markdown",
   "metadata": {},
   "source": [
    "Once displayed, the Aladin window is interactive but it also responds to Python:"
   ]
  },
  {
   "cell_type": "code",
   "execution_count": 2,
   "metadata": {},
   "outputs": [],
   "source": [
    "aladin.target= 'sgr a*'\n",
    "aladin.fov= 2\n",
    "aladin.overlay_survey= 'P/allWISE/color'\n",
    "aladin.overlay_survey_opacity = 0.5\n",
    "aladin.coo_frame= 'galactic'"
   ]
  },
  {
   "cell_type": "markdown",
   "metadata": {},
   "source": [
    "<a id='OtherSoftware'></a>  \n",
    "## Other Software\n",
    "\n",
    "___WorldWide Telescope___ : http://worldwidetelescope.org/home\n",
    "\n",
    "___Stellarium___ : https://stellarium.org/\n",
    "\n",
    "___Google Sky Map___ : https://www.google.com/sky/. If you read this far, you probably already have it on your phone.\n",
    "\n",
    "___CDS X-Match Service___ :  http://cdsxmatch.u-strasbg.fr/"
   ]
  },
  {
   "cell_type": "markdown",
   "metadata": {},
   "source": [
    "<a id='OtherDataTypes'></a>  \n",
    "## Other data types\n",
    "\n",
    "Spectroscopy, physical data, Solar System dymanics...  \n",
    "\n",
    "See https://astroquery.readthedocs.io/en/latest/#other for a list of searchable sources."
   ]
  },
  {
   "cell_type": "code",
   "execution_count": null,
   "metadata": {},
   "outputs": [],
   "source": []
  }
 ],
 "metadata": {
  "kernelspec": {
   "display_name": "Python 3",
   "language": "python",
   "name": "python3"
  },
  "language_info": {
   "codemirror_mode": {
    "name": "ipython",
    "version": 3
   },
   "file_extension": ".py",
   "mimetype": "text/x-python",
   "name": "python",
   "nbconvert_exporter": "python",
   "pygments_lexer": "ipython3",
   "version": "3.7.5"
  },
  "toc": {
   "base_numbering": 1,
   "nav_menu": {},
   "number_sections": true,
   "sideBar": true,
   "skip_h1_title": true,
   "title_cell": "Contents",
   "title_sidebar": "Contents",
   "toc_cell": true,
   "toc_position": {},
   "toc_section_display": true,
   "toc_window_display": true
  }
 },
 "nbformat": 4,
 "nbformat_minor": 2
}
