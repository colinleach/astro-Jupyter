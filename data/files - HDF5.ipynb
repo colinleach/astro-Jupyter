{
 "cells": [
  {
   "cell_type": "markdown",
   "metadata": {},
   "source": [
    "# HDF5 Files and Data Structures\n",
    "\n",
    "Hierarchical Data Format. Officially: \"HDF5 consists of a file format for storing HDF5 data, a data model for logically organizing and accessing HDF5 data from an application, and the software (libraries, language interfaces, and tools) for working with this format.\" A key objective is that there should be no limit on the number and complexity of data objects in the hierarchy, nor on the overall file size.\n",
    "\n",
    "In its full form, HDF5 is big and complex and written in C. There  are two packages that provide Python wrappers:\n",
    "- h5py (`conda install h5py`) provides a mapping to numpy objects and aims to give access to nearly the whole HDF5 API. Documentation: http://docs.h5py.org/en/stable/\n",
    "- PyTables (`conda install pytables`) provides a higher-level interface to a subset of HDF5, using its own data type system. Documentation: http://www.pytables.org/index.html\n",
    "\n",
    "Both projects have FAQs which address the comparison between them: http://www.pytables.org/FAQ.html#how-does-pytables-compare-with-the-h5py-project and http://docs.h5py.org/en/stable/faq.html#what-s-the-difference-between-h5py-and-pytables\n",
    "\n",
    "Other Python packages interact with HDF5 to some degree. Vaex currently uses it internally, and several packages including pandas and astropy.tables can at least read and sometimes write .hdf5 files."
   ]
  },
  {
   "cell_type": "markdown",
   "metadata": {},
   "source": [
    "## Contents\n",
    "\n",
    "- [h5py](#h5py)\n",
    "- [PyTables](#tables)"
   ]
  },
  {
   "cell_type": "code",
   "execution_count": 1,
   "metadata": {},
   "outputs": [],
   "source": [
    "import numpy as np\n",
    "import matplotlib.pyplot as plt\n",
    "%matplotlib inline"
   ]
  },
  {
   "cell_type": "markdown",
   "metadata": {},
   "source": [
    "<a id='h5py'></a>  "
   ]
  },
  {
   "cell_type": "markdown",
   "metadata": {},
   "source": [
    "## h5py"
   ]
  },
  {
   "cell_type": "code",
   "execution_count": 2,
   "metadata": {},
   "outputs": [
    {
     "data": {
      "text/plain": [
       "'2.9.0'"
      ]
     },
     "execution_count": 2,
     "metadata": {},
     "output_type": "execute_result"
    }
   ],
   "source": [
    "import h5py\n",
    "h5py.__version__"
   ]
  },
  {
   "cell_type": "markdown",
   "metadata": {},
   "source": [
    "If you want to check the installation, use `run_tests()`. This is quite slow, so it's commented out for now."
   ]
  },
  {
   "cell_type": "code",
   "execution_count": 3,
   "metadata": {},
   "outputs": [],
   "source": [
    "# h5py.run_tests()"
   ]
  },
  {
   "cell_type": "markdown",
   "metadata": {},
   "source": [
    "Read in a file for us to work with. This is LIGO data from the first gravitational wave detection, GW150914."
   ]
  },
  {
   "cell_type": "code",
   "execution_count": 5,
   "metadata": {},
   "outputs": [
    {
     "data": {
      "text/plain": [
       "<HDF5 file \"L-L1_GWOSC_4KHZ_R1-1126259447-32.hdf5\" (mode r)>"
      ]
     },
     "execution_count": 5,
     "metadata": {},
     "output_type": "execute_result"
    }
   ],
   "source": [
    "f = h5py.File('L-L1_GWOSC_4KHZ_R1-1126259447-32.hdf5', 'r')\n",
    "f"
   ]
  },
  {
   "cell_type": "markdown",
   "metadata": {},
   "source": [
    "h5py objects are in 'groups' which behave like Python dictionaries, so we can list the keys:"
   ]
  },
  {
   "cell_type": "code",
   "execution_count": 6,
   "metadata": {},
   "outputs": [
    {
     "data": {
      "text/plain": [
       "['meta', 'quality', 'strain']"
      ]
     },
     "metadata": {},
     "output_type": "display_data"
    },
    {
     "data": {
      "text/plain": [
       "<HDF5 group \"/meta\" (8 members)>"
      ]
     },
     "execution_count": 6,
     "metadata": {},
     "output_type": "execute_result"
    }
   ],
   "source": [
    "display(list(f.keys()))\n",
    "f['meta']"
   ]
  },
  {
   "cell_type": "markdown",
   "metadata": {},
   "source": [
    "However, this only gives the top level. HDF5 is hierarchical, as the name suggests, and objects have a path resembling the Unix filesystem tree. The `visit()` method walks the tree, passing in a callable:"
   ]
  },
  {
   "cell_type": "code",
   "execution_count": 7,
   "metadata": {},
   "outputs": [
    {
     "data": {
      "text/plain": [
       "'meta'"
      ]
     },
     "metadata": {},
     "output_type": "display_data"
    },
    {
     "data": {
      "text/plain": [
       "'meta/Description'"
      ]
     },
     "metadata": {},
     "output_type": "display_data"
    },
    {
     "data": {
      "text/plain": [
       "'meta/DescriptionURL'"
      ]
     },
     "metadata": {},
     "output_type": "display_data"
    },
    {
     "data": {
      "text/plain": [
       "'meta/Detector'"
      ]
     },
     "metadata": {},
     "output_type": "display_data"
    },
    {
     "data": {
      "text/plain": [
       "'meta/Duration'"
      ]
     },
     "metadata": {},
     "output_type": "display_data"
    },
    {
     "data": {
      "text/plain": [
       "'meta/GPSstart'"
      ]
     },
     "metadata": {},
     "output_type": "display_data"
    },
    {
     "data": {
      "text/plain": [
       "'meta/Observatory'"
      ]
     },
     "metadata": {},
     "output_type": "display_data"
    },
    {
     "data": {
      "text/plain": [
       "'meta/Type'"
      ]
     },
     "metadata": {},
     "output_type": "display_data"
    },
    {
     "data": {
      "text/plain": [
       "'meta/UTCstart'"
      ]
     },
     "metadata": {},
     "output_type": "display_data"
    },
    {
     "data": {
      "text/plain": [
       "'quality'"
      ]
     },
     "metadata": {},
     "output_type": "display_data"
    },
    {
     "data": {
      "text/plain": [
       "'quality/detail'"
      ]
     },
     "metadata": {},
     "output_type": "display_data"
    },
    {
     "data": {
      "text/plain": [
       "'quality/injections'"
      ]
     },
     "metadata": {},
     "output_type": "display_data"
    },
    {
     "data": {
      "text/plain": [
       "'quality/injections/InjDescriptions'"
      ]
     },
     "metadata": {},
     "output_type": "display_data"
    },
    {
     "data": {
      "text/plain": [
       "'quality/injections/InjShortnames'"
      ]
     },
     "metadata": {},
     "output_type": "display_data"
    },
    {
     "data": {
      "text/plain": [
       "'quality/injections/Injmask'"
      ]
     },
     "metadata": {},
     "output_type": "display_data"
    },
    {
     "data": {
      "text/plain": [
       "'quality/simple'"
      ]
     },
     "metadata": {},
     "output_type": "display_data"
    },
    {
     "data": {
      "text/plain": [
       "'quality/simple/DQDescriptions'"
      ]
     },
     "metadata": {},
     "output_type": "display_data"
    },
    {
     "data": {
      "text/plain": [
       "'quality/simple/DQShortnames'"
      ]
     },
     "metadata": {},
     "output_type": "display_data"
    },
    {
     "data": {
      "text/plain": [
       "'quality/simple/DQmask'"
      ]
     },
     "metadata": {},
     "output_type": "display_data"
    },
    {
     "data": {
      "text/plain": [
       "'strain'"
      ]
     },
     "metadata": {},
     "output_type": "display_data"
    },
    {
     "data": {
      "text/plain": [
       "'strain/Strain'"
      ]
     },
     "metadata": {},
     "output_type": "display_data"
    }
   ],
   "source": [
    "f.visit(display)"
   ]
  },
  {
   "cell_type": "markdown",
   "metadata": {},
   "source": [
    "The full path can be used as a key to retrieve the contents as an HDF5 dataset, resembling a numpy array. This may be empty, as with the Description:"
   ]
  },
  {
   "cell_type": "code",
   "execution_count": 8,
   "metadata": {},
   "outputs": [
    {
     "data": {
      "text/plain": [
       "<HDF5 dataset \"Description\": shape (), type \"|O\">"
      ]
     },
     "execution_count": 8,
     "metadata": {},
     "output_type": "execute_result"
    }
   ],
   "source": [
    "f['meta/Description']"
   ]
  },
  {
   "cell_type": "markdown",
   "metadata": {},
   "source": [
    "Displaying the dataset itself gives the shape and type. Text is stored as byte arrays, not Unicode, so in Python 3 they are b' ' strings.\n",
    "\n",
    "To see contents, add a slice specifier:"
   ]
  },
  {
   "cell_type": "code",
   "execution_count": 9,
   "metadata": {},
   "outputs": [
    {
     "data": {
      "text/plain": [
       "<HDF5 dataset \"DQDescriptions\": shape (7,), type \"|S22\">"
      ]
     },
     "metadata": {},
     "output_type": "display_data"
    },
    {
     "data": {
      "text/plain": [
       "array([b'Passes DATA test', b'Passes CBC_CAT1 test',\n",
       "       b'Passes CBC_CAT2 test', b'Passes CBC_CAT3 test',\n",
       "       b'Passes BURST_CAT1 test', b'Passes BURST_CAT2 test',\n",
       "       b'Passes BURST_CAT3 test'], dtype='|S22')"
      ]
     },
     "metadata": {},
     "output_type": "display_data"
    }
   ],
   "source": [
    "dqd = f['quality/simple/DQDescriptions']\n",
    "display(dqd)\n",
    "display(dqd[:])"
   ]
  },
  {
   "cell_type": "code",
   "execution_count": 10,
   "metadata": {},
   "outputs": [
    {
     "data": {
      "text/plain": [
       "<HDF5 dataset \"Strain\": shape (131072,), type \"<f8\">"
      ]
     },
     "execution_count": 10,
     "metadata": {},
     "output_type": "execute_result"
    }
   ],
   "source": [
    "strain = f['strain/Strain']\n",
    "strain"
   ]
  },
  {
   "cell_type": "markdown",
   "metadata": {},
   "source": [
    "Matplotlib will treat the dataset as a NumPy array:"
   ]
  },
  {
   "cell_type": "code",
   "execution_count": 11,
   "metadata": {},
   "outputs": [
    {
     "data": {
      "image/png": "[encoded data removed]",
      "text/plain": [
       "<Figure size 432x288 with 1 Axes>"
      ]
     },
     "metadata": {
      "needs_background": "light"
     },
     "output_type": "display_data"
    }
   ],
   "source": [
    "plt.plot(strain);"
   ]
  },
  {
   "cell_type": "markdown",
   "metadata": {},
   "source": [
    "It used to be important to explicitly close the file in order to avoid problems. Conveniently, recent versions of h5py will auto-close. "
   ]
  },
  {
   "cell_type": "code",
   "execution_count": 12,
   "metadata": {},
   "outputs": [],
   "source": [
    "f.close()"
   ]
  },
  {
   "cell_type": "markdown",
   "metadata": {},
   "source": [
    "<a id='tables'></a>  "
   ]
  },
  {
   "cell_type": "markdown",
   "metadata": {},
   "source": [
    "## PyTables"
   ]
  },
  {
   "cell_type": "code",
   "execution_count": 13,
   "metadata": {},
   "outputs": [
    {
     "data": {
      "text/plain": [
       "'3.4.4'"
      ]
     },
     "execution_count": 13,
     "metadata": {},
     "output_type": "execute_result"
    }
   ],
   "source": [
    "import tables # NOT pytables\n",
    "tables.__version__"
   ]
  },
  {
   "cell_type": "markdown",
   "metadata": {},
   "source": [
    "Read in the same file as above. Note that the default display is MUCH more descriptive/verbose than for h5py."
   ]
  },
  {
   "cell_type": "code",
   "execution_count": 16,
   "metadata": {
    "scrolled": false
   },
   "outputs": [
    {
     "data": {
      "text/plain": [
       "File(filename=L-L1_GWOSC_4KHZ_R1-1126259447-32.hdf5, title='', mode='r', root_uep='/', filters=Filters(complevel=0, shuffle=False, bitshuffle=False, fletcher32=False, least_significant_digit=None))\n",
       "/ (RootGroup) ''\n",
       "/meta (Group) ''\n",
       "/meta/Description (UnImplemented()) ''\n",
       "  NOTE: <The UnImplemented object represents a PyTables unimplemented\n",
       "         dataset present in the 'L-L1_GWOSC_4KHZ_R1-1126259447-32.hdf5' HDF5 file.  If you want to see this\n",
       "         kind of HDF5 dataset implemented in PyTables, please contact the\n",
       "         developers.>\n",
       "\n",
       "/meta/DescriptionURL (UnImplemented()) ''\n",
       "  NOTE: <The UnImplemented object represents a PyTables unimplemented\n",
       "         dataset present in the 'L-L1_GWOSC_4KHZ_R1-1126259447-32.hdf5' HDF5 file.  If you want to see this\n",
       "         kind of HDF5 dataset implemented in PyTables, please contact the\n",
       "         developers.>\n",
       "\n",
       "/meta/Detector (UnImplemented()) ''\n",
       "  NOTE: <The UnImplemented object represents a PyTables unimplemented\n",
       "         dataset present in the 'L-L1_GWOSC_4KHZ_R1-1126259447-32.hdf5' HDF5 file.  If you want to see this\n",
       "         kind of HDF5 dataset implemented in PyTables, please contact the\n",
       "         developers.>\n",
       "\n",
       "/meta/Duration (Array()) ''\n",
       "  atom := Int64Atom(shape=(), dflt=0)\n",
       "  maindim := 0\n",
       "  flavor := 'numpy'\n",
       "  byteorder := 'little'\n",
       "  chunkshape := None\n",
       "/meta/GPSstart (Array()) ''\n",
       "  atom := Int64Atom(shape=(), dflt=0)\n",
       "  maindim := 0\n",
       "  flavor := 'numpy'\n",
       "  byteorder := 'little'\n",
       "  chunkshape := None\n",
       "/meta/Observatory (UnImplemented()) ''\n",
       "  NOTE: <The UnImplemented object represents a PyTables unimplemented\n",
       "         dataset present in the 'L-L1_GWOSC_4KHZ_R1-1126259447-32.hdf5' HDF5 file.  If you want to see this\n",
       "         kind of HDF5 dataset implemented in PyTables, please contact the\n",
       "         developers.>\n",
       "\n",
       "/meta/Type (UnImplemented()) ''\n",
       "  NOTE: <The UnImplemented object represents a PyTables unimplemented\n",
       "         dataset present in the 'L-L1_GWOSC_4KHZ_R1-1126259447-32.hdf5' HDF5 file.  If you want to see this\n",
       "         kind of HDF5 dataset implemented in PyTables, please contact the\n",
       "         developers.>\n",
       "\n",
       "/meta/UTCstart (UnImplemented()) ''\n",
       "  NOTE: <The UnImplemented object represents a PyTables unimplemented\n",
       "         dataset present in the 'L-L1_GWOSC_4KHZ_R1-1126259447-32.hdf5' HDF5 file.  If you want to see this\n",
       "         kind of HDF5 dataset implemented in PyTables, please contact the\n",
       "         developers.>\n",
       "\n",
       "/quality (Group) ''\n",
       "/strain (Group) ''\n",
       "/strain/Strain (CArray(131072,), fletcher32, zlib(1)) ''\n",
       "  atom := Float64Atom(shape=(), dflt=0.0)\n",
       "  maindim := 0\n",
       "  flavor := 'numpy'\n",
       "  byteorder := 'little'\n",
       "  chunkshape := (2048,)\n",
       "/quality/detail (Group) ''\n",
       "/quality/injections (Group) ''\n",
       "/quality/injections/InjDescriptions (Array(5,)) ''\n",
       "  atom := StringAtom(itemsize=29, shape=(), dflt=b'')\n",
       "  maindim := 0\n",
       "  flavor := 'numpy'\n",
       "  byteorder := 'irrelevant'\n",
       "  chunkshape := None\n",
       "/quality/injections/InjShortnames (Array(5,)) ''\n",
       "  atom := StringAtom(itemsize=17, shape=(), dflt=b'')\n",
       "  maindim := 0\n",
       "  flavor := 'numpy'\n",
       "  byteorder := 'irrelevant'\n",
       "  chunkshape := None\n",
       "/quality/injections/Injmask (CArray(32,), fletcher32, zlib(1)) ''\n",
       "  atom := UInt32Atom(shape=(), dflt=0)\n",
       "  maindim := 0\n",
       "  flavor := 'numpy'\n",
       "  byteorder := 'little'\n",
       "  chunkshape := (32,)\n",
       "/quality/simple (Group) ''\n",
       "/quality/simple/DQDescriptions (Array(7,)) ''\n",
       "  atom := StringAtom(itemsize=22, shape=(), dflt=b'')\n",
       "  maindim := 0\n",
       "  flavor := 'numpy'\n",
       "  byteorder := 'irrelevant'\n",
       "  chunkshape := None\n",
       "/quality/simple/DQShortnames (Array(7,)) ''\n",
       "  atom := StringAtom(itemsize=10, shape=(), dflt=b'')\n",
       "  maindim := 0\n",
       "  flavor := 'numpy'\n",
       "  byteorder := 'irrelevant'\n",
       "  chunkshape := None\n",
       "/quality/simple/DQmask (CArray(32,), fletcher32, zlib(1)) ''\n",
       "  atom := UInt32Atom(shape=(), dflt=0)\n",
       "  maindim := 0\n",
       "  flavor := 'numpy'\n",
       "  byteorder := 'little'\n",
       "  chunkshape := (32,)"
      ]
     },
     "execution_count": 16,
     "metadata": {},
     "output_type": "execute_result"
    }
   ],
   "source": [
    "tbl = tables.open_file('L-L1_GWOSC_4KHZ_R1-1126259447-32.hdf5', 'r')\n",
    "tbl"
   ]
  },
  {
   "cell_type": "code",
   "execution_count": 15,
   "metadata": {},
   "outputs": [
    {
     "data": {
      "text/plain": [
       "[/meta (Group) ''\n",
       "   children := ['Description' (UnImplemented), 'DescriptionURL' (UnImplemented), 'Detector' (UnImplemented), 'Duration' (Array), 'GPSstart' (Array), 'Observatory' (UnImplemented), 'Type' (UnImplemented), 'UTCstart' (UnImplemented)],\n",
       " /quality (Group) ''\n",
       "   children := ['detail' (Group), 'injections' (Group), 'simple' (Group)],\n",
       " /strain (Group) ''\n",
       "   children := ['Strain' (CArray)]]"
      ]
     },
     "execution_count": 15,
     "metadata": {},
     "output_type": "execute_result"
    }
   ],
   "source": [
    "tbl.list_nodes('/')"
   ]
  },
  {
   "cell_type": "markdown",
   "metadata": {},
   "source": [
    "___TODO___ : finish this section when I get my head around it"
   ]
  },
  {
   "cell_type": "code",
   "execution_count": null,
   "metadata": {},
   "outputs": [],
   "source": []
  }
 ],
 "metadata": {
  "kernelspec": {
   "display_name": "Python 3",
   "language": "python",
   "name": "python3"
  },
  "language_info": {
   "codemirror_mode": {
    "name": "ipython",
    "version": 3
   },
   "file_extension": ".py",
   "mimetype": "text/x-python",
   "name": "python",
   "nbconvert_exporter": "python",
   "pygments_lexer": "ipython3",
   "version": "3.6.8"
  }
 },
 "nbformat": 4,
 "nbformat_minor": 2
}
