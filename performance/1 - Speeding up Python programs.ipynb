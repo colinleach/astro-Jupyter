{
 "cells": [
  {
   "cell_type": "markdown",
   "metadata": {},
   "source": [
    "# Speeding up Python Programs"
   ]
  },
  {
   "cell_type": "markdown",
   "metadata": {
    "toc": true
   },
   "source": [
    "<h1>Contents<span class=\"tocSkip\"></span></h1>\n",
    "<div class=\"toc\"><ul class=\"toc-item\"><li><span><a href=\"#NumPy-and-Vectorization\" data-toc-modified-id=\"NumPy-and-Vectorization-1\"><span class=\"toc-item-num\">1&nbsp;&nbsp;</span>NumPy and Vectorization</a></span></li><li><span><a href=\"#Switch-to-PyPy\" data-toc-modified-id=\"Switch-to-PyPy-2\"><span class=\"toc-item-num\">2&nbsp;&nbsp;</span>Switch to PyPy</a></span></li><li><span><a href=\"#Testing\" data-toc-modified-id=\"Testing-3\"><span class=\"toc-item-num\">3&nbsp;&nbsp;</span>Testing</a></span></li><li><span><a href=\"#Compile-parts-of-the-Python-code\" data-toc-modified-id=\"Compile-parts-of-the-Python-code-4\"><span class=\"toc-item-num\">4&nbsp;&nbsp;</span>Compile parts of the Python code</a></span><ul class=\"toc-item\"><li><span><a href=\"#Cython\" data-toc-modified-id=\"Cython-4.1\"><span class=\"toc-item-num\">4.1&nbsp;&nbsp;</span>Cython</a></span></li><li><span><a href=\"#Numba\" data-toc-modified-id=\"Numba-4.2\"><span class=\"toc-item-num\">4.2&nbsp;&nbsp;</span>Numba</a></span></li></ul></li><li><span><a href=\"#Parallel-Processing\" data-toc-modified-id=\"Parallel-Processing-5\"><span class=\"toc-item-num\">5&nbsp;&nbsp;</span>Parallel Processing</a></span><ul class=\"toc-item\"><li><span><a href=\"#concurrent.futures-module\" data-toc-modified-id=\"concurrent.futures-module-5.1\"><span class=\"toc-item-num\">5.1&nbsp;&nbsp;</span>concurrent.futures module</a></span></li><li><span><a href=\"#multiprocessing-module\" data-toc-modified-id=\"multiprocessing-module-5.2\"><span class=\"toc-item-num\">5.2&nbsp;&nbsp;</span>multiprocessing module</a></span></li><li><span><a href=\"#Numba-(again)\" data-toc-modified-id=\"Numba-(again)-5.3\"><span class=\"toc-item-num\">5.3&nbsp;&nbsp;</span>Numba (again)</a></span></li><li><span><a href=\"#IPython-parallel\" data-toc-modified-id=\"IPython-parallel-5.4\"><span class=\"toc-item-num\">5.4&nbsp;&nbsp;</span>IPython parallel</a></span></li><li><span><a href=\"#Big-data-systems\" data-toc-modified-id=\"Big-data-systems-5.5\"><span class=\"toc-item-num\">5.5&nbsp;&nbsp;</span>Big data systems</a></span></li></ul></li><li><span><a href=\"#Use-the-GPU\" data-toc-modified-id=\"Use-the-GPU-6\"><span class=\"toc-item-num\">6&nbsp;&nbsp;</span>Use the GPU</a></span><ul class=\"toc-item\"><li><span><a href=\"#Numba-(yet-again)\" data-toc-modified-id=\"Numba-(yet-again)-6.1\"><span class=\"toc-item-num\">6.1&nbsp;&nbsp;</span>Numba (yet again)</a></span></li><li><span><a href=\"#PyCUDA-and-PyOpenCL\" data-toc-modified-id=\"PyCUDA-and-PyOpenCL-6.2\"><span class=\"toc-item-num\">6.2&nbsp;&nbsp;</span>PyCUDA and PyOpenCL</a></span></li><li><span><a href=\"#Other-packages\" data-toc-modified-id=\"Other-packages-6.3\"><span class=\"toc-item-num\">6.3&nbsp;&nbsp;</span>Other packages</a></span></li></ul></li><li><span><a href=\"#Interface-to-C/C++/Fortran\" data-toc-modified-id=\"Interface-to-C/C++/Fortran-7\"><span class=\"toc-item-num\">7&nbsp;&nbsp;</span>Interface to C/C++/Fortran</a></span><ul class=\"toc-item\"><li><span><a href=\"#C-extension-interface\" data-toc-modified-id=\"C-extension-interface-7.1\"><span class=\"toc-item-num\">7.1&nbsp;&nbsp;</span>C extension interface</a></span></li><li><span><a href=\"#ctypes\" data-toc-modified-id=\"ctypes-7.2\"><span class=\"toc-item-num\">7.2&nbsp;&nbsp;</span>ctypes</a></span></li><li><span><a href=\"#cffi\" data-toc-modified-id=\"cffi-7.3\"><span class=\"toc-item-num\">7.3&nbsp;&nbsp;</span>cffi</a></span></li><li><span><a href=\"#SWIG\" data-toc-modified-id=\"SWIG-7.4\"><span class=\"toc-item-num\">7.4&nbsp;&nbsp;</span>SWIG</a></span></li><li><span><a href=\"#cppyy\" data-toc-modified-id=\"cppyy-7.5\"><span class=\"toc-item-num\">7.5&nbsp;&nbsp;</span>cppyy</a></span></li><li><span><a href=\"#Boost.Python\" data-toc-modified-id=\"Boost.Python-7.6\"><span class=\"toc-item-num\">7.6&nbsp;&nbsp;</span>Boost.Python</a></span></li><li><span><a href=\"#pybind11\" data-toc-modified-id=\"pybind11-7.7\"><span class=\"toc-item-num\">7.7&nbsp;&nbsp;</span>pybind11</a></span></li><li><span><a href=\"#F2PY\" data-toc-modified-id=\"F2PY-7.8\"><span class=\"toc-item-num\">7.8&nbsp;&nbsp;</span>F2PY</a></span></li></ul></li><li><span><a href=\"#Consider-other-languages\" data-toc-modified-id=\"Consider-other-languages-8\"><span class=\"toc-item-num\">8&nbsp;&nbsp;</span>Consider other languages</a></span><ul class=\"toc-item\"><li><span><a href=\"#Julia\" data-toc-modified-id=\"Julia-8.1\"><span class=\"toc-item-num\">8.1&nbsp;&nbsp;</span>Julia</a></span></li><li><span><a href=\"#C/C++\" data-toc-modified-id=\"C/C++-8.2\"><span class=\"toc-item-num\">8.2&nbsp;&nbsp;</span>C/C++</a></span></li><li><span><a href=\"#Fortran\" data-toc-modified-id=\"Fortran-8.3\"><span class=\"toc-item-num\">8.3&nbsp;&nbsp;</span>Fortran</a></span></li></ul></li></ul></div>"
   ]
  },
  {
   "cell_type": "markdown",
   "metadata": {},
   "source": [
    "## NumPy and Vectorization\n",
    "\n",
    "What's so good about NumPy? For starters:\n",
    "- Most of it written in C for speed\n",
    "- It adds strongly-typed arrays to Python. These are less flexible than lists but potentially much more efficient\n",
    "- Most numpy functions (called ufuncs) accept arrays as arguments and automatically operate on all the elements (vectorization). Don't write explicit loops unless you REALLY have to!\n",
    "- AstroPy is built on top of NumPy, making a good thing even better\n",
    "\n",
    "Jake VanderPlas is better than most of us at this sort of thing, and he helpfully wrote about it in the [Python Data Science Handbook](https://jakevdp.github.io/PythonDataScienceHandbook/) (chapter 2 is specifically about NumPy, but all of it is well worth reading)."
   ]
  },
  {
   "cell_type": "markdown",
   "metadata": {},
   "source": [
    "## Switch to PyPy\n",
    "\n",
    "Anyone reading this notebook is very probably using a CPython kernel. PyPy is a replacement implementation of Python, optimized for speed. It integrates cffi and a JIT compiler. Details at https://www.pypy.org/index.html\n",
    "\n",
    "The project aims to be code-compatible with a large subset of a non-quite-current version of CPython. However, the extension mechanism is very different and not all third-party packages are currently compatible with PyPy. A compatibility list is at http://packages.pypy.org. At present, numpy and astropy are shown as working, but scipy, matplotlib, pandas and several others are not.\n",
    "\n",
    "There are mixed reports about getting PyPy to work with Jupyter notebooks. If anyone wants to try it, I wish you luck."
   ]
  },
  {
   "cell_type": "markdown",
   "metadata": {},
   "source": [
    "## Testing\n",
    "\n",
    "Define some functions to play with later, one trivial and one working the CPU harder:"
   ]
  },
  {
   "cell_type": "code",
   "execution_count": 1,
   "metadata": {},
   "outputs": [],
   "source": [
    "import math\n",
    "\n",
    "def sq(x):\n",
    "    return x*x\n",
    "\n",
    "PRIMES = [\n",
    "    112272535095293,\n",
    "    112582705942171,\n",
    "    112272535095293,\n",
    "    115280095190773,\n",
    "    115797848077099,\n",
    "    1099726899285419]\n",
    "\n",
    "def is_prime(n):\n",
    "    if n % 2 == 0:\n",
    "        return False\n",
    "\n",
    "    sqrt_n = int(math.floor(math.sqrt(n)))\n",
    "    for i in range(3, sqrt_n + 1, 2):\n",
    "        if n % i == 0:\n",
    "            return False\n",
    "    return True"
   ]
  },
  {
   "cell_type": "markdown",
   "metadata": {},
   "source": [
    "Time this in unenhanbced mode to get a baseline. Because `map()` does lazy evaluation it's important to do the list comprehension to force a full calculation."
   ]
  },
  {
   "cell_type": "code",
   "execution_count": 2,
   "metadata": {},
   "outputs": [
    {
     "name": "stdout",
     "output_type": "stream",
     "text": [
      "2.5 s ± 67.1 ms per loop (mean ± std. dev. of 4 runs, 2 loops each)\n"
     ]
    }
   ],
   "source": [
    "%%timeit -n2 -r4\n",
    "results = [x for x in map(is_prime, PRIMES)]"
   ]
  },
  {
   "cell_type": "code",
   "execution_count": 3,
   "metadata": {
    "scrolled": true
   },
   "outputs": [
    {
     "name": "stdout",
     "output_type": "stream",
     "text": [
      "112272535095293 is prime: True\n",
      "112582705942171 is prime: True\n",
      "112272535095293 is prime: True\n",
      "115280095190773 is prime: True\n",
      "115797848077099 is prime: True\n",
      "1099726899285419 is prime: False\n"
     ]
    }
   ],
   "source": [
    "for number, prime in zip(PRIMES, map(is_prime, PRIMES)):\n",
    "    print('%d is prime: %s' % (number, prime))"
   ]
  },
  {
   "cell_type": "markdown",
   "metadata": {},
   "source": [
    "To get a comparison with compiled code run from the command line, the `./C/` directory contains:\n",
    "- a version of `is_prime()` written in C\n",
    "- a test program in C++\n",
    "- a shared object library containing the `is_prime()` function\n",
    "\n",
    "Running the test program gives:\n",
    "```\n",
    "$ ./testprime\n",
    "112272535095293 is prime: False\n",
    "112582705942171 is prime: False\n",
    "112272535095293 is prime: False\n",
    "115280095190773 is prime: False\n",
    "115797848077099 is prime: False\n",
    "1099726899285419 is prime: True\n",
    "10 loops, average time taken: 251 milliseconds\n",
    "```\n",
    "\n",
    "This compares with 2.35 seconds for the unoptimized Python version run on the same machine."
   ]
  },
  {
   "cell_type": "markdown",
   "metadata": {},
   "source": [
    "## Compile parts of the Python code\n",
    "\n",
    "Isolate the runtime bottleneck in a small block of Python code, auto-generate C code from it and compile to native binary. This can be surprisingly easy but requires some extra code (unlike Julia, which does this automatically - see later section).\n",
    "\n",
    "However the results compare with a carefully hand-optimized C/C++ program, this can be a substantial improvement on simple Python. Jake VanderPlas wrote some blog articles back in 2012/2013 that are still interesting to read: http://jakevdp.github.io/blog/2012/08/24/numba-vs-cython/ and http://jakevdp.github.io/blog/2013/06/15/numba-vs-cython-take-2/"
   ]
  },
  {
   "cell_type": "markdown",
   "metadata": {},
   "source": [
    "### Cython\n",
    "\n",
    "This basically adds two extensions to Python syntax:\n",
    "- with `cdef`, variables can be declared with an explicit (C-compatible) type\n",
    "- functions can be declared with `def`, `cdef` or `cpdef` for Python-only, C-only or Python+C use.\n",
    "\n",
    "There are also some function decorators which can be used instead of cdef and to control various checks.\n",
    "\n",
    "Start by loading the Cython extension into the notebook:"
   ]
  },
  {
   "cell_type": "code",
   "execution_count": 4,
   "metadata": {},
   "outputs": [],
   "source": [
    "%load_ext Cython"
   ]
  },
  {
   "cell_type": "markdown",
   "metadata": {},
   "source": [
    "A simple example to show the syntax. the `-a` flag on the cython magic annotates the output so you can see the C code generated."
   ]
  },
  {
   "cell_type": "code",
   "execution_count": 5,
   "metadata": {
    "scrolled": false
   },
   "outputs": [
    {
     "name": "stdout",
     "output_type": "stream",
     "text": [
      "362880\n"
     ]
    },
    {
     "data": {
      "text/html": [
       "<!DOCTYPE html>\n",
       "<!-- Generated by Cython 0.29.7 -->\n",
       "<html>\n",
       "<head>\n",
       "    <meta http-equiv=\"Content-Type\" content=\"text/html; charset=utf-8\" />\n",
       "    <title>Cython: _cython_magic_38336456c2fc7d2c062ecf71e7783376.pyx</title>\n",
       "    <style type=\"text/css\">\n",
       "    \n",
       "body.cython { font-family: courier; font-size: 12; }\n",
       "\n",
       ".cython.tag  {  }\n",
       ".cython.line { margin: 0em }\n",
       ".cython.code { font-size: 9; color: #444444; display: none; margin: 0px 0px 0px 8px; border-left: 8px none; }\n",
       "\n",
       ".cython.line .run { background-color: #B0FFB0; }\n",
       ".cython.line .mis { background-color: #FFB0B0; }\n",
       ".cython.code.run  { border-left: 8px solid #B0FFB0; }\n",
       ".cython.code.mis  { border-left: 8px solid #FFB0B0; }\n",
       "\n",
       ".cython.code .py_c_api  { color: red; }\n",
       ".cython.code .py_macro_api  { color: #FF7000; }\n",
       ".cython.code .pyx_c_api  { color: #FF3000; }\n",
       ".cython.code .pyx_macro_api  { color: #FF7000; }\n",
       ".cython.code .refnanny  { color: #FFA000; }\n",
       ".cython.code .trace  { color: #FFA000; }\n",
       ".cython.code .error_goto  { color: #FFA000; }\n",
       "\n",
       ".cython.code .coerce  { color: #008000; border: 1px dotted #008000 }\n",
       ".cython.code .py_attr { color: #FF0000; font-weight: bold; }\n",
       ".cython.code .c_attr  { color: #0000FF; }\n",
       ".cython.code .py_call { color: #FF0000; font-weight: bold; }\n",
       ".cython.code .c_call  { color: #0000FF; }\n",
       "\n",
       ".cython.score-0 {background-color: #FFFFff;}\n",
       ".cython.score-1 {background-color: #FFFFe7;}\n",
       ".cython.score-2 {background-color: #FFFFd4;}\n",
       ".cython.score-3 {background-color: #FFFFc4;}\n",
       ".cython.score-4 {background-color: #FFFFb6;}\n",
       ".cython.score-5 {background-color: #FFFFaa;}\n",
       ".cython.score-6 {background-color: #FFFF9f;}\n",
       ".cython.score-7 {background-color: #FFFF96;}\n",
       ".cython.score-8 {background-color: #FFFF8d;}\n",
       ".cython.score-9 {background-color: #FFFF86;}\n",
       ".cython.score-10 {background-color: #FFFF7f;}\n",
       ".cython.score-11 {background-color: #FFFF79;}\n",
       ".cython.score-12 {background-color: #FFFF73;}\n",
       ".cython.score-13 {background-color: #FFFF6e;}\n",
       ".cython.score-14 {background-color: #FFFF6a;}\n",
       ".cython.score-15 {background-color: #FFFF66;}\n",
       ".cython.score-16 {background-color: #FFFF62;}\n",
       ".cython.score-17 {background-color: #FFFF5e;}\n",
       ".cython.score-18 {background-color: #FFFF5b;}\n",
       ".cython.score-19 {background-color: #FFFF57;}\n",
       ".cython.score-20 {background-color: #FFFF55;}\n",
       ".cython.score-21 {background-color: #FFFF52;}\n",
       ".cython.score-22 {background-color: #FFFF4f;}\n",
       ".cython.score-23 {background-color: #FFFF4d;}\n",
       ".cython.score-24 {background-color: #FFFF4b;}\n",
       ".cython.score-25 {background-color: #FFFF48;}\n",
       ".cython.score-26 {background-color: #FFFF46;}\n",
       ".cython.score-27 {background-color: #FFFF44;}\n",
       ".cython.score-28 {background-color: #FFFF43;}\n",
       ".cython.score-29 {background-color: #FFFF41;}\n",
       ".cython.score-30 {background-color: #FFFF3f;}\n",
       ".cython.score-31 {background-color: #FFFF3e;}\n",
       ".cython.score-32 {background-color: #FFFF3c;}\n",
       ".cython.score-33 {background-color: #FFFF3b;}\n",
       ".cython.score-34 {background-color: #FFFF39;}\n",
       ".cython.score-35 {background-color: #FFFF38;}\n",
       ".cython.score-36 {background-color: #FFFF37;}\n",
       ".cython.score-37 {background-color: #FFFF36;}\n",
       ".cython.score-38 {background-color: #FFFF35;}\n",
       ".cython.score-39 {background-color: #FFFF34;}\n",
       ".cython.score-40 {background-color: #FFFF33;}\n",
       ".cython.score-41 {background-color: #FFFF32;}\n",
       ".cython.score-42 {background-color: #FFFF31;}\n",
       ".cython.score-43 {background-color: #FFFF30;}\n",
       ".cython.score-44 {background-color: #FFFF2f;}\n",
       ".cython.score-45 {background-color: #FFFF2e;}\n",
       ".cython.score-46 {background-color: #FFFF2d;}\n",
       ".cython.score-47 {background-color: #FFFF2c;}\n",
       ".cython.score-48 {background-color: #FFFF2b;}\n",
       ".cython.score-49 {background-color: #FFFF2b;}\n",
       ".cython.score-50 {background-color: #FFFF2a;}\n",
       ".cython.score-51 {background-color: #FFFF29;}\n",
       ".cython.score-52 {background-color: #FFFF29;}\n",
       ".cython.score-53 {background-color: #FFFF28;}\n",
       ".cython.score-54 {background-color: #FFFF27;}\n",
       ".cython.score-55 {background-color: #FFFF27;}\n",
       ".cython.score-56 {background-color: #FFFF26;}\n",
       ".cython.score-57 {background-color: #FFFF26;}\n",
       ".cython.score-58 {background-color: #FFFF25;}\n",
       ".cython.score-59 {background-color: #FFFF24;}\n",
       ".cython.score-60 {background-color: #FFFF24;}\n",
       ".cython.score-61 {background-color: #FFFF23;}\n",
       ".cython.score-62 {background-color: #FFFF23;}\n",
       ".cython.score-63 {background-color: #FFFF22;}\n",
       ".cython.score-64 {background-color: #FFFF22;}\n",
       ".cython.score-65 {background-color: #FFFF22;}\n",
       ".cython.score-66 {background-color: #FFFF21;}\n",
       ".cython.score-67 {background-color: #FFFF21;}\n",
       ".cython.score-68 {background-color: #FFFF20;}\n",
       ".cython.score-69 {background-color: #FFFF20;}\n",
       ".cython.score-70 {background-color: #FFFF1f;}\n",
       ".cython.score-71 {background-color: #FFFF1f;}\n",
       ".cython.score-72 {background-color: #FFFF1f;}\n",
       ".cython.score-73 {background-color: #FFFF1e;}\n",
       ".cython.score-74 {background-color: #FFFF1e;}\n",
       ".cython.score-75 {background-color: #FFFF1e;}\n",
       ".cython.score-76 {background-color: #FFFF1d;}\n",
       ".cython.score-77 {background-color: #FFFF1d;}\n",
       ".cython.score-78 {background-color: #FFFF1c;}\n",
       ".cython.score-79 {background-color: #FFFF1c;}\n",
       ".cython.score-80 {background-color: #FFFF1c;}\n",
       ".cython.score-81 {background-color: #FFFF1c;}\n",
       ".cython.score-82 {background-color: #FFFF1b;}\n",
       ".cython.score-83 {background-color: #FFFF1b;}\n",
       ".cython.score-84 {background-color: #FFFF1b;}\n",
       ".cython.score-85 {background-color: #FFFF1a;}\n",
       ".cython.score-86 {background-color: #FFFF1a;}\n",
       ".cython.score-87 {background-color: #FFFF1a;}\n",
       ".cython.score-88 {background-color: #FFFF1a;}\n",
       ".cython.score-89 {background-color: #FFFF19;}\n",
       ".cython.score-90 {background-color: #FFFF19;}\n",
       ".cython.score-91 {background-color: #FFFF19;}\n",
       ".cython.score-92 {background-color: #FFFF19;}\n",
       ".cython.score-93 {background-color: #FFFF18;}\n",
       ".cython.score-94 {background-color: #FFFF18;}\n",
       ".cython.score-95 {background-color: #FFFF18;}\n",
       ".cython.score-96 {background-color: #FFFF18;}\n",
       ".cython.score-97 {background-color: #FFFF17;}\n",
       ".cython.score-98 {background-color: #FFFF17;}\n",
       ".cython.score-99 {background-color: #FFFF17;}\n",
       ".cython.score-100 {background-color: #FFFF17;}\n",
       ".cython.score-101 {background-color: #FFFF16;}\n",
       ".cython.score-102 {background-color: #FFFF16;}\n",
       ".cython.score-103 {background-color: #FFFF16;}\n",
       ".cython.score-104 {background-color: #FFFF16;}\n",
       ".cython.score-105 {background-color: #FFFF16;}\n",
       ".cython.score-106 {background-color: #FFFF15;}\n",
       ".cython.score-107 {background-color: #FFFF15;}\n",
       ".cython.score-108 {background-color: #FFFF15;}\n",
       ".cython.score-109 {background-color: #FFFF15;}\n",
       ".cython.score-110 {background-color: #FFFF15;}\n",
       ".cython.score-111 {background-color: #FFFF15;}\n",
       ".cython.score-112 {background-color: #FFFF14;}\n",
       ".cython.score-113 {background-color: #FFFF14;}\n",
       ".cython.score-114 {background-color: #FFFF14;}\n",
       ".cython.score-115 {background-color: #FFFF14;}\n",
       ".cython.score-116 {background-color: #FFFF14;}\n",
       ".cython.score-117 {background-color: #FFFF14;}\n",
       ".cython.score-118 {background-color: #FFFF13;}\n",
       ".cython.score-119 {background-color: #FFFF13;}\n",
       ".cython.score-120 {background-color: #FFFF13;}\n",
       ".cython.score-121 {background-color: #FFFF13;}\n",
       ".cython.score-122 {background-color: #FFFF13;}\n",
       ".cython.score-123 {background-color: #FFFF13;}\n",
       ".cython.score-124 {background-color: #FFFF13;}\n",
       ".cython.score-125 {background-color: #FFFF12;}\n",
       ".cython.score-126 {background-color: #FFFF12;}\n",
       ".cython.score-127 {background-color: #FFFF12;}\n",
       ".cython.score-128 {background-color: #FFFF12;}\n",
       ".cython.score-129 {background-color: #FFFF12;}\n",
       ".cython.score-130 {background-color: #FFFF12;}\n",
       ".cython.score-131 {background-color: #FFFF12;}\n",
       ".cython.score-132 {background-color: #FFFF11;}\n",
       ".cython.score-133 {background-color: #FFFF11;}\n",
       ".cython.score-134 {background-color: #FFFF11;}\n",
       ".cython.score-135 {background-color: #FFFF11;}\n",
       ".cython.score-136 {background-color: #FFFF11;}\n",
       ".cython.score-137 {background-color: #FFFF11;}\n",
       ".cython.score-138 {background-color: #FFFF11;}\n",
       ".cython.score-139 {background-color: #FFFF11;}\n",
       ".cython.score-140 {background-color: #FFFF11;}\n",
       ".cython.score-141 {background-color: #FFFF10;}\n",
       ".cython.score-142 {background-color: #FFFF10;}\n",
       ".cython.score-143 {background-color: #FFFF10;}\n",
       ".cython.score-144 {background-color: #FFFF10;}\n",
       ".cython.score-145 {background-color: #FFFF10;}\n",
       ".cython.score-146 {background-color: #FFFF10;}\n",
       ".cython.score-147 {background-color: #FFFF10;}\n",
       ".cython.score-148 {background-color: #FFFF10;}\n",
       ".cython.score-149 {background-color: #FFFF10;}\n",
       ".cython.score-150 {background-color: #FFFF0f;}\n",
       ".cython.score-151 {background-color: #FFFF0f;}\n",
       ".cython.score-152 {background-color: #FFFF0f;}\n",
       ".cython.score-153 {background-color: #FFFF0f;}\n",
       ".cython.score-154 {background-color: #FFFF0f;}\n",
       ".cython.score-155 {background-color: #FFFF0f;}\n",
       ".cython.score-156 {background-color: #FFFF0f;}\n",
       ".cython.score-157 {background-color: #FFFF0f;}\n",
       ".cython.score-158 {background-color: #FFFF0f;}\n",
       ".cython.score-159 {background-color: #FFFF0f;}\n",
       ".cython.score-160 {background-color: #FFFF0f;}\n",
       ".cython.score-161 {background-color: #FFFF0e;}\n",
       ".cython.score-162 {background-color: #FFFF0e;}\n",
       ".cython.score-163 {background-color: #FFFF0e;}\n",
       ".cython.score-164 {background-color: #FFFF0e;}\n",
       ".cython.score-165 {background-color: #FFFF0e;}\n",
       ".cython.score-166 {background-color: #FFFF0e;}\n",
       ".cython.score-167 {background-color: #FFFF0e;}\n",
       ".cython.score-168 {background-color: #FFFF0e;}\n",
       ".cython.score-169 {background-color: #FFFF0e;}\n",
       ".cython.score-170 {background-color: #FFFF0e;}\n",
       ".cython.score-171 {background-color: #FFFF0e;}\n",
       ".cython.score-172 {background-color: #FFFF0e;}\n",
       ".cython.score-173 {background-color: #FFFF0d;}\n",
       ".cython.score-174 {background-color: #FFFF0d;}\n",
       ".cython.score-175 {background-color: #FFFF0d;}\n",
       ".cython.score-176 {background-color: #FFFF0d;}\n",
       ".cython.score-177 {background-color: #FFFF0d;}\n",
       ".cython.score-178 {background-color: #FFFF0d;}\n",
       ".cython.score-179 {background-color: #FFFF0d;}\n",
       ".cython.score-180 {background-color: #FFFF0d;}\n",
       ".cython.score-181 {background-color: #FFFF0d;}\n",
       ".cython.score-182 {background-color: #FFFF0d;}\n",
       ".cython.score-183 {background-color: #FFFF0d;}\n",
       ".cython.score-184 {background-color: #FFFF0d;}\n",
       ".cython.score-185 {background-color: #FFFF0d;}\n",
       ".cython.score-186 {background-color: #FFFF0d;}\n",
       ".cython.score-187 {background-color: #FFFF0c;}\n",
       ".cython.score-188 {background-color: #FFFF0c;}\n",
       ".cython.score-189 {background-color: #FFFF0c;}\n",
       ".cython.score-190 {background-color: #FFFF0c;}\n",
       ".cython.score-191 {background-color: #FFFF0c;}\n",
       ".cython.score-192 {background-color: #FFFF0c;}\n",
       ".cython.score-193 {background-color: #FFFF0c;}\n",
       ".cython.score-194 {background-color: #FFFF0c;}\n",
       ".cython.score-195 {background-color: #FFFF0c;}\n",
       ".cython.score-196 {background-color: #FFFF0c;}\n",
       ".cython.score-197 {background-color: #FFFF0c;}\n",
       ".cython.score-198 {background-color: #FFFF0c;}\n",
       ".cython.score-199 {background-color: #FFFF0c;}\n",
       ".cython.score-200 {background-color: #FFFF0c;}\n",
       ".cython.score-201 {background-color: #FFFF0c;}\n",
       ".cython.score-202 {background-color: #FFFF0c;}\n",
       ".cython.score-203 {background-color: #FFFF0b;}\n",
       ".cython.score-204 {background-color: #FFFF0b;}\n",
       ".cython.score-205 {background-color: #FFFF0b;}\n",
       ".cython.score-206 {background-color: #FFFF0b;}\n",
       ".cython.score-207 {background-color: #FFFF0b;}\n",
       ".cython.score-208 {background-color: #FFFF0b;}\n",
       ".cython.score-209 {background-color: #FFFF0b;}\n",
       ".cython.score-210 {background-color: #FFFF0b;}\n",
       ".cython.score-211 {background-color: #FFFF0b;}\n",
       ".cython.score-212 {background-color: #FFFF0b;}\n",
       ".cython.score-213 {background-color: #FFFF0b;}\n",
       ".cython.score-214 {background-color: #FFFF0b;}\n",
       ".cython.score-215 {background-color: #FFFF0b;}\n",
       ".cython.score-216 {background-color: #FFFF0b;}\n",
       ".cython.score-217 {background-color: #FFFF0b;}\n",
       ".cython.score-218 {background-color: #FFFF0b;}\n",
       ".cython.score-219 {background-color: #FFFF0b;}\n",
       ".cython.score-220 {background-color: #FFFF0b;}\n",
       ".cython.score-221 {background-color: #FFFF0b;}\n",
       ".cython.score-222 {background-color: #FFFF0a;}\n",
       ".cython.score-223 {background-color: #FFFF0a;}\n",
       ".cython.score-224 {background-color: #FFFF0a;}\n",
       ".cython.score-225 {background-color: #FFFF0a;}\n",
       ".cython.score-226 {background-color: #FFFF0a;}\n",
       ".cython.score-227 {background-color: #FFFF0a;}\n",
       ".cython.score-228 {background-color: #FFFF0a;}\n",
       ".cython.score-229 {background-color: #FFFF0a;}\n",
       ".cython.score-230 {background-color: #FFFF0a;}\n",
       ".cython.score-231 {background-color: #FFFF0a;}\n",
       ".cython.score-232 {background-color: #FFFF0a;}\n",
       ".cython.score-233 {background-color: #FFFF0a;}\n",
       ".cython.score-234 {background-color: #FFFF0a;}\n",
       ".cython.score-235 {background-color: #FFFF0a;}\n",
       ".cython.score-236 {background-color: #FFFF0a;}\n",
       ".cython.score-237 {background-color: #FFFF0a;}\n",
       ".cython.score-238 {background-color: #FFFF0a;}\n",
       ".cython.score-239 {background-color: #FFFF0a;}\n",
       ".cython.score-240 {background-color: #FFFF0a;}\n",
       ".cython.score-241 {background-color: #FFFF0a;}\n",
       ".cython.score-242 {background-color: #FFFF0a;}\n",
       ".cython.score-243 {background-color: #FFFF0a;}\n",
       ".cython.score-244 {background-color: #FFFF0a;}\n",
       ".cython.score-245 {background-color: #FFFF0a;}\n",
       ".cython.score-246 {background-color: #FFFF09;}\n",
       ".cython.score-247 {background-color: #FFFF09;}\n",
       ".cython.score-248 {background-color: #FFFF09;}\n",
       ".cython.score-249 {background-color: #FFFF09;}\n",
       ".cython.score-250 {background-color: #FFFF09;}\n",
       ".cython.score-251 {background-color: #FFFF09;}\n",
       ".cython.score-252 {background-color: #FFFF09;}\n",
       ".cython.score-253 {background-color: #FFFF09;}\n",
       ".cython.score-254 {background-color: #FFFF09;}\n",
       ".cython .hll { background-color: #ffffcc }\n",
       ".cython  { background: #f8f8f8; }\n",
       ".cython .c { color: #408080; font-style: italic } /* Comment */\n",
       ".cython .err { border: 1px solid #FF0000 } /* Error */\n",
       ".cython .k { color: #008000; font-weight: bold } /* Keyword */\n",
       ".cython .o { color: #666666 } /* Operator */\n",
       ".cython .ch { color: #408080; font-style: italic } /* Comment.Hashbang */\n",
       ".cython .cm { color: #408080; font-style: italic } /* Comment.Multiline */\n",
       ".cython .cp { color: #BC7A00 } /* Comment.Preproc */\n",
       ".cython .cpf { color: #408080; font-style: italic } /* Comment.PreprocFile */\n",
       ".cython .c1 { color: #408080; font-style: italic } /* Comment.Single */\n",
       ".cython .cs { color: #408080; font-style: italic } /* Comment.Special */\n",
       ".cython .gd { color: #A00000 } /* Generic.Deleted */\n",
       ".cython .ge { font-style: italic } /* Generic.Emph */\n",
       ".cython .gr { color: #FF0000 } /* Generic.Error */\n",
       ".cython .gh { color: #000080; font-weight: bold } /* Generic.Heading */\n",
       ".cython .gi { color: #00A000 } /* Generic.Inserted */\n",
       ".cython .go { color: #888888 } /* Generic.Output */\n",
       ".cython .gp { color: #000080; font-weight: bold } /* Generic.Prompt */\n",
       ".cython .gs { font-weight: bold } /* Generic.Strong */\n",
       ".cython .gu { color: #800080; font-weight: bold } /* Generic.Subheading */\n",
       ".cython .gt { color: #0044DD } /* Generic.Traceback */\n",
       ".cython .kc { color: #008000; font-weight: bold } /* Keyword.Constant */\n",
       ".cython .kd { color: #008000; font-weight: bold } /* Keyword.Declaration */\n",
       ".cython .kn { color: #008000; font-weight: bold } /* Keyword.Namespace */\n",
       ".cython .kp { color: #008000 } /* Keyword.Pseudo */\n",
       ".cython .kr { color: #008000; font-weight: bold } /* Keyword.Reserved */\n",
       ".cython .kt { color: #B00040 } /* Keyword.Type */\n",
       ".cython .m { color: #666666 } /* Literal.Number */\n",
       ".cython .s { color: #BA2121 } /* Literal.String */\n",
       ".cython .na { color: #7D9029 } /* Name.Attribute */\n",
       ".cython .nb { color: #008000 } /* Name.Builtin */\n",
       ".cython .nc { color: #0000FF; font-weight: bold } /* Name.Class */\n",
       ".cython .no { color: #880000 } /* Name.Constant */\n",
       ".cython .nd { color: #AA22FF } /* Name.Decorator */\n",
       ".cython .ni { color: #999999; font-weight: bold } /* Name.Entity */\n",
       ".cython .ne { color: #D2413A; font-weight: bold } /* Name.Exception */\n",
       ".cython .nf { color: #0000FF } /* Name.Function */\n",
       ".cython .nl { color: #A0A000 } /* Name.Label */\n",
       ".cython .nn { color: #0000FF; font-weight: bold } /* Name.Namespace */\n",
       ".cython .nt { color: #008000; font-weight: bold } /* Name.Tag */\n",
       ".cython .nv { color: #19177C } /* Name.Variable */\n",
       ".cython .ow { color: #AA22FF; font-weight: bold } /* Operator.Word */\n",
       ".cython .w { color: #bbbbbb } /* Text.Whitespace */\n",
       ".cython .mb { color: #666666 } /* Literal.Number.Bin */\n",
       ".cython .mf { color: #666666 } /* Literal.Number.Float */\n",
       ".cython .mh { color: #666666 } /* Literal.Number.Hex */\n",
       ".cython .mi { color: #666666 } /* Literal.Number.Integer */\n",
       ".cython .mo { color: #666666 } /* Literal.Number.Oct */\n",
       ".cython .sa { color: #BA2121 } /* Literal.String.Affix */\n",
       ".cython .sb { color: #BA2121 } /* Literal.String.Backtick */\n",
       ".cython .sc { color: #BA2121 } /* Literal.String.Char */\n",
       ".cython .dl { color: #BA2121 } /* Literal.String.Delimiter */\n",
       ".cython .sd { color: #BA2121; font-style: italic } /* Literal.String.Doc */\n",
       ".cython .s2 { color: #BA2121 } /* Literal.String.Double */\n",
       ".cython .se { color: #BB6622; font-weight: bold } /* Literal.String.Escape */\n",
       ".cython .sh { color: #BA2121 } /* Literal.String.Heredoc */\n",
       ".cython .si { color: #BB6688; font-weight: bold } /* Literal.String.Interpol */\n",
       ".cython .sx { color: #008000 } /* Literal.String.Other */\n",
       ".cython .sr { color: #BB6688 } /* Literal.String.Regex */\n",
       ".cython .s1 { color: #BA2121 } /* Literal.String.Single */\n",
       ".cython .ss { color: #19177C } /* Literal.String.Symbol */\n",
       ".cython .bp { color: #008000 } /* Name.Builtin.Pseudo */\n",
       ".cython .fm { color: #0000FF } /* Name.Function.Magic */\n",
       ".cython .vc { color: #19177C } /* Name.Variable.Class */\n",
       ".cython .vg { color: #19177C } /* Name.Variable.Global */\n",
       ".cython .vi { color: #19177C } /* Name.Variable.Instance */\n",
       ".cython .vm { color: #19177C } /* Name.Variable.Magic */\n",
       ".cython .il { color: #666666 } /* Literal.Number.Integer.Long */\n",
       "    </style>\n",
       "</head>\n",
       "<body class=\"cython\">\n",
       "<p><span style=\"border-bottom: solid 1px grey;\">Generated by Cython 0.29.7</span></p>\n",
       "<p>\n",
       "    <span style=\"background-color: #FFFF00\">Yellow lines</span> hint at Python interaction.<br />\n",
       "    Click on a line that starts with a \"<code>+</code>\" to see the C code that Cython generated for it.\n",
       "</p>\n",
       "<div class=\"cython\"><pre class=\"cython line score-0\">&#xA0;<span class=\"\">1</span>: </pre>\n",
       "<pre class=\"cython line score-0\">&#xA0;<span class=\"\">2</span>: <span class=\"c\"># factorials</span></pre>\n",
       "<pre class=\"cython line score-0\" onclick=\"(function(s){s.display=s.display==='block'?'none':'block'})(this.nextElementSibling.style)\">+<span class=\"\">3</span>: <span class=\"k\">cdef</span> <span class=\"kt\">int</span> <span class=\"nf\">a</span> <span class=\"o\">=</span> <span class=\"mf\">1</span></pre>\n",
       "<pre class='cython code score-0 '>  __pyx_v_46_cython_magic_38336456c2fc7d2c062ecf71e7783376_a = 1;\n",
       "</pre><pre class=\"cython line score-8\" onclick=\"(function(s){s.display=s.display==='block'?'none':'block'})(this.nextElementSibling.style)\">+<span class=\"\">4</span>: <span class=\"k\">for</span> <span class=\"n\">i</span> <span class=\"ow\">in</span> <span class=\"nb\">range</span><span class=\"p\">(</span><span class=\"mf\">1</span><span class=\"p\">,</span><span class=\"mf\">10</span><span class=\"p\">):</span></pre>\n",
       "<pre class='cython code score-8 '>  for (__pyx_t_1 = 1; __pyx_t_1 &lt; 10; __pyx_t_1+=1) {\n",
       "    __pyx_t_2 = <span class='pyx_c_api'>__Pyx_PyInt_From_long</span>(__pyx_t_1);<span class='error_goto'> if (unlikely(!__pyx_t_2)) __PYX_ERR(0, 4, __pyx_L1_error)</span>\n",
       "    <span class='refnanny'>__Pyx_GOTREF</span>(__pyx_t_2);\n",
       "    if (<span class='py_c_api'>PyDict_SetItem</span>(__pyx_d, __pyx_n_s_i, __pyx_t_2) &lt; 0) <span class='error_goto'>__PYX_ERR(0, 4, __pyx_L1_error)</span>\n",
       "    <span class='pyx_macro_api'>__Pyx_DECREF</span>(__pyx_t_2); __pyx_t_2 = 0;\n",
       "</pre><pre class=\"cython line score-19\" onclick=\"(function(s){s.display=s.display==='block'?'none':'block'})(this.nextElementSibling.style)\">+<span class=\"\">5</span>:     <span class=\"n\">a</span> <span class=\"o\">*=</span> <span class=\"n\">i</span></pre>\n",
       "<pre class='cython code score-19 '>    __pyx_t_2 = <span class='pyx_c_api'>__Pyx_PyInt_From_int</span>(__pyx_v_46_cython_magic_38336456c2fc7d2c062ecf71e7783376_a);<span class='error_goto'> if (unlikely(!__pyx_t_2)) __PYX_ERR(0, 5, __pyx_L1_error)</span>\n",
       "    <span class='refnanny'>__Pyx_GOTREF</span>(__pyx_t_2);\n",
       "    <span class='pyx_c_api'>__Pyx_GetModuleGlobalName</span>(__pyx_t_3, __pyx_n_s_i);<span class='error_goto'> if (unlikely(!__pyx_t_3)) __PYX_ERR(0, 5, __pyx_L1_error)</span>\n",
       "    <span class='refnanny'>__Pyx_GOTREF</span>(__pyx_t_3);\n",
       "    __pyx_t_4 = <span class='py_c_api'>PyNumber_InPlaceMultiply</span>(__pyx_t_2, __pyx_t_3);<span class='error_goto'> if (unlikely(!__pyx_t_4)) __PYX_ERR(0, 5, __pyx_L1_error)</span>\n",
       "    <span class='refnanny'>__Pyx_GOTREF</span>(__pyx_t_4);\n",
       "    <span class='pyx_macro_api'>__Pyx_DECREF</span>(__pyx_t_2); __pyx_t_2 = 0;\n",
       "    <span class='pyx_macro_api'>__Pyx_DECREF</span>(__pyx_t_3); __pyx_t_3 = 0;\n",
       "    __pyx_t_5 = <span class='pyx_c_api'>__Pyx_PyInt_As_int</span>(__pyx_t_4); if (unlikely((__pyx_t_5 == (int)-1) &amp;&amp; <span class='py_c_api'>PyErr_Occurred</span>())) <span class='error_goto'>__PYX_ERR(0, 5, __pyx_L1_error)</span>\n",
       "    <span class='pyx_macro_api'>__Pyx_DECREF</span>(__pyx_t_4); __pyx_t_4 = 0;\n",
       "    __pyx_v_46_cython_magic_38336456c2fc7d2c062ecf71e7783376_a = __pyx_t_5;\n",
       "  }\n",
       "</pre><pre class=\"cython line score-6\" onclick=\"(function(s){s.display=s.display==='block'?'none':'block'})(this.nextElementSibling.style)\">+<span class=\"\">6</span>: <span class=\"k\">print</span><span class=\"p\">(</span><span class=\"n\">a</span><span class=\"p\">)</span></pre>\n",
       "<pre class='cython code score-6 '>  __pyx_t_4 = <span class='pyx_c_api'>__Pyx_PyInt_From_int</span>(__pyx_v_46_cython_magic_38336456c2fc7d2c062ecf71e7783376_a);<span class='error_goto'> if (unlikely(!__pyx_t_4)) __PYX_ERR(0, 6, __pyx_L1_error)</span>\n",
       "  <span class='refnanny'>__Pyx_GOTREF</span>(__pyx_t_4);\n",
       "  __pyx_t_3 = <span class='pyx_c_api'>__Pyx_PyObject_CallOneArg</span>(__pyx_builtin_print, __pyx_t_4);<span class='error_goto'> if (unlikely(!__pyx_t_3)) __PYX_ERR(0, 6, __pyx_L1_error)</span>\n",
       "  <span class='refnanny'>__Pyx_GOTREF</span>(__pyx_t_3);\n",
       "  <span class='pyx_macro_api'>__Pyx_DECREF</span>(__pyx_t_4); __pyx_t_4 = 0;\n",
       "  <span class='pyx_macro_api'>__Pyx_DECREF</span>(__pyx_t_3); __pyx_t_3 = 0;\n",
       "</pre></div></body></html>"
      ],
      "text/plain": [
       "<IPython.core.display.HTML object>"
      ]
     },
     "execution_count": 5,
     "metadata": {},
     "output_type": "execute_result"
    }
   ],
   "source": [
    "%%cython -a\n",
    "\n",
    "# factorials\n",
    "cdef int a = 1\n",
    "for i in range(1,10):\n",
    "    a *= i\n",
    "print(a)"
   ]
  },
  {
   "cell_type": "markdown",
   "metadata": {},
   "source": [
    "Now run the primes-check example. This is a bit fiddly, because Cython environment can't see Python globals and other cells can't see the Cython function. Hence the extra Python function `run_primes_cython()` to give `%%timeit` something to work with."
   ]
  },
  {
   "cell_type": "code",
   "execution_count": 6,
   "metadata": {},
   "outputs": [],
   "source": [
    "%%cython\n",
    "import math\n",
    "cimport cython # to get the decorators\n",
    "\n",
    "PRIMES = [\n",
    "    112272535095293,\n",
    "    112582705942171,\n",
    "    112272535095293,\n",
    "    115280095190773,\n",
    "    115797848077099,\n",
    "    1099726899285419]\n",
    "\n",
    "@cython.boundscheck(False)\n",
    "@cython.wraparound(False)\n",
    "def is_prime_cython(n):\n",
    "    if n % 2 == 0:\n",
    "        return False\n",
    "\n",
    "    sqrt_n = int(math.floor(math.sqrt(n)))\n",
    "    for i in range(3, sqrt_n + 1, 2):\n",
    "        if n % i == 0:\n",
    "            return False\n",
    "    return True\n",
    "\n",
    "def run_primes_cython():\n",
    "    return [x for x in map(is_prime_cython, PRIMES)]"
   ]
  },
  {
   "cell_type": "code",
   "execution_count": 7,
   "metadata": {
    "scrolled": true
   },
   "outputs": [
    {
     "name": "stdout",
     "output_type": "stream",
     "text": [
      "1.97 s ± 45.2 ms per loop (mean ± std. dev. of 4 runs, 2 loops each)\n"
     ]
    }
   ],
   "source": [
    "%%timeit -n2 -r4\n",
    "run_primes_cython()"
   ]
  },
  {
   "cell_type": "markdown",
   "metadata": {},
   "source": [
    "In this example, on my system, the speedup is unspectacular (23%) and nowhere near worth the effort."
   ]
  },
  {
   "cell_type": "markdown",
   "metadata": {},
   "source": [
    "### Numba\n",
    "\n",
    "From [their website](http://numba.pydata.org): Numba is an open source JIT compiler that translates a subset of Python and NumPy code into fast machine code. \n",
    "\n",
    "Numba has many capabilities but at its simplest it can be astonishingly easy to use: just add an `@jit` decorator to a standard Python function."
   ]
  },
  {
   "cell_type": "code",
   "execution_count": 8,
   "metadata": {},
   "outputs": [],
   "source": [
    "from numba.decorators import jit\n",
    "\n",
    "@jit\n",
    "def is_prime_numba(n):\n",
    "    if n % 2 == 0:\n",
    "        return False\n",
    "\n",
    "    sqrt_n = int(math.floor(math.sqrt(n)))\n",
    "    for i in range(3, sqrt_n + 1, 2):\n",
    "        if n % i == 0:\n",
    "            return False\n",
    "    return True"
   ]
  },
  {
   "cell_type": "code",
   "execution_count": 9,
   "metadata": {
    "scrolled": true
   },
   "outputs": [
    {
     "name": "stdout",
     "output_type": "stream",
     "text": [
      "336 ms ± 38.6 ms per loop (mean ± std. dev. of 4 runs, 2 loops each)\n"
     ]
    }
   ],
   "source": [
    "%%timeit -n2 -r4\n",
    "result = [x for x in map(is_prime_numba, PRIMES)]"
   ]
  },
  {
   "cell_type": "markdown",
   "metadata": {},
   "source": [
    "On my system, this is 6-fold faster than Cython for far less effort. It's virtually as fast as my C++ program run from the command line (296 ms for Numba vs 285 ms for C++ compiled with `gcc -g -O0` or 251 ms with `gcc -O3` optimization).\n",
    "\n",
    "I'm embarrassed that I'd been using Python for many years before I discovered Numba. \n",
    "\n",
    "There are limitations, meaning Numba can fail to compile a function. In particular, keep data structures simple: lists and Numpy arrays are good, dictionaries and Pandas dataframes are a problem. It's generally best to split out the slow, computationally intensive parts of the program for compilation, leaving most of the logic and complex data handling in Python."
   ]
  },
  {
   "cell_type": "markdown",
   "metadata": {},
   "source": [
    "## Parallel Processing\n",
    "\n",
    "How many processor cores are there in your laptop computer? For an affordable Core i5 CPU, this might be 4 physical cores and with multithreading the OS sees 8 virtual cores.\n",
    "\n",
    "By default, Python (more specifically CPython, which is what we're most likely using at present) is not thread-safe and the global interpreter lock (GIL) prevents multiple threads accessing Python objects simultaneously. So most of the time we have a single thread in a single process running on a single core. Spreading the load to the other cores takes a bit more work, but of course clever people have already written packages to help with this. "
   ]
  },
  {
   "cell_type": "markdown",
   "metadata": {},
   "source": [
    "### concurrent.futures module\n",
    "\n",
    "Describes itself as \"a high-level interface for asynchronously executing callables\". A simple and useful feature is a parallel version of Python's `map(function, iterable)`."
   ]
  },
  {
   "cell_type": "code",
   "execution_count": 10,
   "metadata": {},
   "outputs": [],
   "source": [
    "import concurrent.futures as cf"
   ]
  },
  {
   "cell_type": "code",
   "execution_count": 11,
   "metadata": {},
   "outputs": [
    {
     "name": "stdout",
     "output_type": "stream",
     "text": [
      "[0, 1, 4, 9, 16, 25, 36, 49, 64, 81, 100, 121, 144, 169, 196, 225, 256, 289, 324, 361, 400, 441, 484, 529, 576, 625, 676, 729, 784, 841, 900, 961, 1024, 1089, 1156, 1225, 1296, 1369, 1444, 1521, 1600, 1681, 1764, 1849, 1936, 2025, 2116, 2209, 2304, 2401, 2500, 2601, 2704, 2809, 2916, 3025, 3136, 3249, 3364, 3481, 3600, 3721, 3844, 3969, 4096, 4225, 4356, 4489, 4624, 4761, 4900, 5041, 5184, 5329, 5476, 5625, 5776, 5929, 6084, 6241, 6400, 6561, 6724, 6889, 7056, 7225, 7396, 7569, 7744, 7921, 8100, 8281, 8464, 8649, 8836, 9025, 9216, 9409, 9604, 9801]\n"
     ]
    }
   ],
   "source": [
    "with cf.ProcessPoolExecutor() as executor:\n",
    "    print([x for x in executor.map(sq, range(100))])"
   ]
  },
  {
   "cell_type": "code",
   "execution_count": 12,
   "metadata": {},
   "outputs": [
    {
     "name": "stdout",
     "output_type": "stream",
     "text": [
      "1.63 s ± 127 ms per loop (mean ± std. dev. of 4 runs, 2 loops each)\n"
     ]
    }
   ],
   "source": [
    "%%timeit -n2 -r4\n",
    "with cf.ProcessPoolExecutor() as executor:\n",
    "    results = [x for x in executor.map(is_prime, PRIMES)]"
   ]
  },
  {
   "cell_type": "markdown",
   "metadata": {},
   "source": [
    "### multiprocessing module\n",
    "\n",
    "Part of the Python standard library, this supports spawning processes for both local and remote concurrency. Like `concurrent.futures` it provides a parallel map function, but also quite a lot more. See [the documentation](https://docs.python.org/3/library/multiprocessing.html) for more advanced usage."
   ]
  },
  {
   "cell_type": "code",
   "execution_count": 13,
   "metadata": {},
   "outputs": [
    {
     "name": "stdout",
     "output_type": "stream",
     "text": [
      "Number of cores: 4\n",
      "\n",
      "[0, 1, 4, 9, 16, 25, 36, 49, 64, 81, 100, 121, 144, 169, 196, 225, 256, 289, 324, 361, 400, 441, 484, 529, 576, 625, 676, 729, 784, 841, 900, 961, 1024, 1089, 1156, 1225, 1296, 1369, 1444, 1521, 1600, 1681, 1764, 1849, 1936, 2025, 2116, 2209, 2304, 2401, 2500, 2601, 2704, 2809, 2916, 3025, 3136, 3249, 3364, 3481, 3600, 3721, 3844, 3969, 4096, 4225, 4356, 4489, 4624, 4761, 4900, 5041, 5184, 5329, 5476, 5625, 5776, 5929, 6084, 6241, 6400, 6561, 6724, 6889, 7056, 7225, 7396, 7569, 7744, 7921, 8100, 8281, 8464, 8649, 8836, 9025, 9216, 9409, 9604, 9801]\n"
     ]
    }
   ],
   "source": [
    "from multiprocessing import Pool, cpu_count\n",
    "\n",
    "nProc = cpu_count()\n",
    "print(f\"Number of cores: {nProc}\\n\")\n",
    "with Pool(nProc) as p:\n",
    "    print(p.map(sq, range(100)))    "
   ]
  },
  {
   "cell_type": "code",
   "execution_count": 14,
   "metadata": {},
   "outputs": [
    {
     "name": "stdout",
     "output_type": "stream",
     "text": [
      "1.63 s ± 10.8 ms per loop (mean ± std. dev. of 4 runs, 2 loops each)\n"
     ]
    }
   ],
   "source": [
    "%%timeit -n2 -r4 \n",
    "with Pool(nProc) as p:\n",
    "    results = [x for x in p.map(is_prime, PRIMES)]"
   ]
  },
  {
   "cell_type": "markdown",
   "metadata": {},
   "source": [
    "### Numba (again)\n",
    "\n",
    "The @jit and @vectorize decorators can be modified with `parallel=True`, and Numba will try to generate multiprocessor code. This is easy in principle but needs some thought from the programmer, as note also code can sensible run in parallel and avoiding race conditions is your responsibility."
   ]
  },
  {
   "cell_type": "code",
   "execution_count": 15,
   "metadata": {},
   "outputs": [],
   "source": [
    "from numba.decorators import jit\n",
    "\n",
    "@jit(nopython=True, parallel=True)\n",
    "def prime_parallel_numba(PRIMES):\n",
    "    def is_prime_numba(n):\n",
    "        if n % 2 == 0:\n",
    "            return False\n",
    "\n",
    "        sqrt_n = int(math.floor(math.sqrt(n)))\n",
    "        for i in range(3, sqrt_n + 1, 2):\n",
    "            if n % i == 0:\n",
    "                return False\n",
    "        return True\n",
    "    \n",
    "    nTodo = len(PRIMES)\n",
    "    result = [False] * nTodo \n",
    "    for i in range(nTodo):\n",
    "        result[i] = is_prime_numba(PRIMES[i])\n",
    "    return result"
   ]
  },
  {
   "cell_type": "markdown",
   "metadata": {},
   "source": [
    "This was more work than the non-parallel @jit example, because the compiler objected to `map()` and various other things I tried. At least it gives the right answer:"
   ]
  },
  {
   "cell_type": "code",
   "execution_count": 29,
   "metadata": {},
   "outputs": [
    {
     "data": {
      "text/plain": [
       "[True, True, True, True, True, False]"
      ]
     },
     "execution_count": 29,
     "metadata": {},
     "output_type": "execute_result"
    }
   ],
   "source": [
    "prime_parallel_numba(PRIMES)"
   ]
  },
  {
   "cell_type": "code",
   "execution_count": 17,
   "metadata": {
    "scrolled": false
   },
   "outputs": [
    {
     "name": "stdout",
     "output_type": "stream",
     "text": [
      "291 ms ± 1.3 ms per loop (mean ± std. dev. of 4 runs, 2 loops each)\n"
     ]
    }
   ],
   "source": [
    "%%timeit -n2 -r4\n",
    "result = prime_parallel_numba(PRIMES)"
   ]
  },
  {
   "cell_type": "markdown",
   "metadata": {},
   "source": [
    "Essentially the same speed as the previous (and much easier) @jit example, and on taking a closer look Numba reported that it couldn't make this code parallel. You win some, you lose some..."
   ]
  },
  {
   "cell_type": "markdown",
   "metadata": {},
   "source": [
    "### IPython parallel\n",
    "\n",
    "Part of IPython/Jupyter rather than the Python language, this supports many types of parallelism, on a single machine or a cluster. It's a big, serious system, not a simple software drop-in like the previous examples.\n",
    "\n",
    "Docs: https://ipyparallel.readthedocs.io/en/stable/intro.html\n",
    "\n",
    "There's no demo here, because you need to start a controller and one or (preferably) more engines from the command line before starting Jupyter notebook."
   ]
  },
  {
   "cell_type": "markdown",
   "metadata": {},
   "source": [
    "### Big data systems\n",
    "\n",
    "Imagine data collections so big that they don't fit in memory and aren't all in one place, but you want to do calculations and machine learning on them. Several software billionaires built their businesses on precisly this scenario, so we can be sure that it's a well-funded area of development. The latest, coolest code may be hidden inside Google, but some very powerful systems are available as free software. Some examples:\n",
    "- Apache Spark\n",
    "- TensorFlow\n",
    "- PyTorch\n",
    "- Pythran"
   ]
  },
  {
   "cell_type": "markdown",
   "metadata": {},
   "source": [
    "## Use the GPU\n",
    "\n",
    "We discussed above how to work with CPU cores.  But there's probably also a graphics processor (GPU) in your machine, where \"cores\" (defined _very_ differently by each manufacturer) are simpler but much more numerous: hundreds, maybe thousands. Originally these just did graphics processing (obviously) but to make this computing power more widely useful, in 2007 Nvidia released the CUDA software layer to allow general purpose computing on the GPU. By an odd coincidence, they sold a lot more hardware and [made a great deal of money](https://en.wikipedia.org/wiki/Nvidia#Finances) in the years since. \n",
    "\n",
    "To prevent things getting boringly simple, AMD are now also big players in the GPU computing market, using different technology and very different terminology to describe things. In particular, AMD strongly support OpenCL as an open-source competitor to the propietary CUDA technology. Intel CPUs with integrated graphics can also support OpenCL, and even Nvidia offer OpenCl support, though never with the same performance as CUDA on the same hardware.\n",
    "\n",
    "Recent supercomputers are stuffed with thousands of graphics cards which never do graphics. More affordably, CUDA ___may___ also work on your laptop, depending on what hardware you have. Mine doesn't (it uses Intel graphics integrated on the CPU). If uncertain, on Linux/Mac you might try `lspci | grep -i nvidia`; a blank response means no CUDA-capable GPU was detected. OpenCL is very likely to work, though (depending on hardware) there may not be much performance gain; at least an OpenCl program is less likely to crash on startup than CUDA.\n",
    "\n",
    "There's no point including sample code in this overview notebook, as it needs particular hardware and drivers to run. A few packages are mentioned briefly below, and I aim to make a separate notebook dedicated to CUDA and OpenCL."
   ]
  },
  {
   "cell_type": "markdown",
   "metadata": {},
   "source": [
    "### Numba (yet again)\n",
    "\n",
    "Sponsors of the Numba project include Intel, Nvidia and AMD, so it's no surprise that it has pretty good CUDA support. \n",
    "\n",
    "There is an easy way and a hard-but-flexible way to use CUDA in Numba:\n",
    "- Add `cuda=True` to function decorators like @jit and @vectorize\n",
    "- Write your own CUDA kernels; docs here: https://numba.pydata.org/numba-doc/latest/cuda/index.html"
   ]
  },
  {
   "cell_type": "markdown",
   "metadata": {},
   "source": [
    "### PyCUDA and PyOpenCL\n",
    "\n",
    "Closely related packages from the same authors, these are for writing relatively low-level GPU code within Python: http://homepages.math.uic.edu/~jan/mcs572/mcs572notes/lec29.html\n",
    "\n",
    "On my low-power fanless system with no graphics card, PyCUDA has no chance of running but PyOpenCL was willing to work with what it could find, in this case an i5 CPU:\n",
    "\n",
    "```\n",
    "In [1]: import pyopencl                                                                           In [2]: from pyopencl.tools import get_test_platforms_and_devices                                 In [3]: get_test_platforms_and_devices()                                                         Out[3]: [(<pyopencl.Platform 'Portable Computing Language' at 0x7f637bf7e020>,\n",
    "        [<pyopencl.Device 'pthread-Intel(R) Core(TM) i5-7200U CPU @ 2.50GHz' \n",
    "        on 'Portable Computing Language' at 0x55d53170fd10>])]\n",
    "```"
   ]
  },
  {
   "cell_type": "markdown",
   "metadata": {},
   "source": [
    "### Other packages\n",
    "\n",
    "There are lots.\n",
    "\n",
    "Anaconda provides an introduction to [working with GPU packages](https://docs.anaconda.com/anaconda/user-guide/tasks/gpu-packages/) in Python. The emphasis is on machine learning applications, reflecting a major driver for CUDA development.\n",
    "\n",
    "___scikit-cuda___ is a CUDA equivalent of skikit-learn: https://scikit-cuda.readthedocs.io/en/latest/\n",
    "\n",
    "___Anaconda accelerate___ is only in the paid-subscription versions of Anaconda so (of course) I'm unlikely to use it."
   ]
  },
  {
   "cell_type": "markdown",
   "metadata": {},
   "source": [
    "## Interface to C/C++/Fortran\n",
    "\n",
    "There are lots of ways to do this, which gives flexibility plus a pretty strong hint that none of the current methods is perfect.  The typical pattern is to take a shared library/DLL and put a \"foreign function interface\" (a software wrapper) around it so you can call its functions.\n",
    "\n",
    "These differ in which languages they support and whether the foreign code is embedded locally or pre-compiled in an existing library. Also, these projects come and go, so the list below is limited to projects that still seem to be active as of 2019."
   ]
  },
  {
   "cell_type": "markdown",
   "metadata": {},
   "source": [
    "### C extension interface\n",
    "\n",
    "The original approach built into CPython. For details see https://docs.python.org/3/extending/extending.html. Preferably look at some of the other options first, as they can make life easier."
   ]
  },
  {
   "cell_type": "markdown",
   "metadata": {},
   "source": [
    "### ctypes\n",
    "\n",
    "Part of this Python standard library, this is available without needing installation. It allows you to wrap existing libaries, including third-party objects that you have no control over and no source code. Docs: https://docs.python.org/3/library/ctypes.html"
   ]
  },
  {
   "cell_type": "code",
   "execution_count": 18,
   "metadata": {},
   "outputs": [],
   "source": [
    "import ctypes"
   ]
  },
  {
   "cell_type": "markdown",
   "metadata": {},
   "source": [
    "The following example shows the syntax, importing a shared library containing the `is_prime()` function."
   ]
  },
  {
   "cell_type": "code",
   "execution_count": 19,
   "metadata": {},
   "outputs": [
    {
     "name": "stdout",
     "output_type": "stream",
     "text": [
      "112272535095293 is prime: True\n",
      "112582705942171 is prime: False\n",
      "112272535095293 is prime: True\n",
      "115280095190773 is prime: False\n",
      "115797848077099 is prime: True\n",
      "1099726899285419 is prime: True\n"
     ]
    }
   ],
   "source": [
    "testlib = ctypes.CDLL('C/libisprime.so')\n",
    "\n",
    "bools = (\"True\", \"False\")\n",
    "for number, prime in zip(PRIMES, map(testlib.is_prime, PRIMES)):\n",
    "    print('%d is prime: %s' % (number, bools[prime]))"
   ]
  },
  {
   "cell_type": "markdown",
   "metadata": {},
   "source": [
    "Disaster! The program ran without an error message, but gives the wrong answers (should be 5 True's then a False). A test program written in C suggests the shared library is basically working:\n",
    "\n",
    "```\n",
    "$ ./testlib\n",
    "112272535095293 is prime: true\n",
    "112582705942171 is prime: true\n",
    "112272535095293 is prime: true\n",
    "115280095190773 is prime: true\n",
    "115797848077099 is prime: true\n",
    "1099726899285419 is prime: false\n",
    "```\n",
    "\n",
    "I have no idea why this failed, and as ctypes has a reputation for being a nightmare to debug I'm going to quietly move on without worrying about it. Test your code!"
   ]
  },
  {
   "cell_type": "markdown",
   "metadata": {},
   "source": [
    "### cffi\n",
    "\n",
    "As [the docs](https://cffi.readthedocs.io/en/latest/index.html) say: this is a \"C Foreign Function Interface for Python. Interact with almost any C code from Python, based on C-like declarations that you can often copy-paste from header files or documentation\".\n",
    "\n",
    "Though cffi provides a binary (ABI) mode, they [recommend](https://cffi.readthedocs.io/en/latest/overview.html#abi-versus-api) that non-Windows users avoid it. All the examples here use API mode and assume we can access a C compiler.\n",
    "\n",
    "More recent than ctypes, cffi needs an import:"
   ]
  },
  {
   "cell_type": "code",
   "execution_count": 20,
   "metadata": {},
   "outputs": [],
   "source": [
    "from cffi import FFI"
   ]
  },
  {
   "cell_type": "markdown",
   "metadata": {},
   "source": [
    "One way to use cffi is as a wrapper round existing library code - like ctypes, but hoping for better results.\n",
    "\n",
    "The first step is to generate new files in a format that Python can use. At its simplest, give the calling signature, the header file and a path to the library file. The verbose output is gcc-style cryptic (turn it off by setting `verbose=False`), but we're mainly hoping for absence of error messages. A previous version of this code got the path the the library wrong and produced a LOT of error message, all totally unhelpful."
   ]
  },
  {
   "cell_type": "code",
   "execution_count": 21,
   "metadata": {
    "scrolled": false
   },
   "outputs": [
    {
     "name": "stdout",
     "output_type": "stream",
     "text": [
      "generating ./_primes_cffi.c\n",
      "the current directory is '/home/colin/zcode/astro-Jupyter/performance'\n",
      "running build_ext\n",
      "building '_primes_cffi' extension\n",
      "/home/colin/anaconda3/envs/ml2/bin/x86_64-conda_cos6-linux-gnu-cc -DNDEBUG -fwrapv -O2 -Wall -Wstrict-prototypes -march=nocona -mtune=haswell -ftree-vectorize -fPIC -fstack-protector-strong -fno-plt -O2 -ffunction-sections -pipe -DNDEBUG -D_FORTIFY_SOURCE=2 -O2 -fPIC -I/home/colin/anaconda3/envs/ml2/include/python3.6m -c _primes_cffi.c -o ./_primes_cffi.o\n",
      "x86_64-conda_cos6-linux-gnu-gcc -pthread -shared -Wl,-O2 -Wl,--sort-common -Wl,--as-needed -Wl,-z,relro -Wl,-z,now -Wl,-rpath,/home/colin/anaconda3/envs/ml2/lib -L/home/colin/anaconda3/envs/ml2/lib -Wl,-O2 -Wl,--sort-common -Wl,--as-needed -Wl,-z,relro -Wl,-z,now -Wl,-rpath,/home/colin/anaconda3/envs/ml2/lib -L/home/colin/anaconda3/envs/ml2/lib -Wl,-O2 -Wl,--sort-common -Wl,--as-needed -Wl,-z,relro -Wl,-z,now -Wl,--disable-new-dtags -Wl,--gc-sections -march=nocona -mtune=haswell -ftree-vectorize -fPIC -fstack-protector-strong -fno-plt -O2 -ffunction-sections -pipe -DNDEBUG -D_FORTIFY_SOURCE=2 -O2 ./_primes_cffi.o C/libisprime.so -o ./_primes_cffi.cpython-36m-x86_64-linux-gnu.so\n"
     ]
    }
   ],
   "source": [
    "ffibuilder = FFI()\n",
    "\n",
    "# cdef() expects a single string declaring the C types, functions and\n",
    "# globals needed to use the shared object. It must be in valid C syntax.\n",
    "ffibuilder.cdef(\"\"\"\n",
    "    bool is_prime(long n);\n",
    "\"\"\")\n",
    "\n",
    "# set_source() gives the name of the python extension module to\n",
    "# produce, and some C source code as a string.  This C code needs\n",
    "# to make the declarated functions, types and globals available,\n",
    "# so it is often just the \"#include\".\n",
    "ffibuilder.set_source(\"_primes_cffi\",\n",
    "\"\"\"\n",
    "     #include \"C/isprime.h\"   // the C header of the library\n",
    "\"\"\",\n",
    "     libraries=['C/isprime'])   # library name, for the linker\n",
    "\n",
    "ffibuilder.compile(verbose=True);"
   ]
  },
  {
   "cell_type": "markdown",
   "metadata": {},
   "source": [
    "That generates new C code, compiles it to an object module and links it to a shared library, all in the current directory.\n",
    "\n",
    "```\n",
    "$ ls _primes*\n",
    "_primes_cffi.c  _primes_cffi.cpython-36m-x86_64-linux-gnu.so  _primes_cffi.o\n",
    "```\n",
    "\n",
    "Next we can get a `lib` object with callable Python functions, in this case just `is_prime()`:"
   ]
  },
  {
   "cell_type": "code",
   "execution_count": 22,
   "metadata": {
    "scrolled": true
   },
   "outputs": [
    {
     "name": "stdout",
     "output_type": "stream",
     "text": [
      "112272535095293 is prime: True\n",
      "112582705942171 is prime: True\n",
      "112272535095293 is prime: True\n",
      "115280095190773 is prime: True\n",
      "115797848077099 is prime: True\n",
      "1099726899285419 is prime: False\n"
     ]
    }
   ],
   "source": [
    "from _primes_cffi import ffi, lib\n",
    "\n",
    "for number, prime in zip(PRIMES, map(lib.is_prime, PRIMES)):\n",
    "    print('%d is prime: %s' % (number, prime))"
   ]
  },
  {
   "cell_type": "markdown",
   "metadata": {},
   "source": [
    "The correct results! This supports the view that ctype's problems were not because of the `libisprime.so` file.\n",
    "\n",
    "What about performance?"
   ]
  },
  {
   "cell_type": "code",
   "execution_count": 23,
   "metadata": {},
   "outputs": [
    {
     "name": "stdout",
     "output_type": "stream",
     "text": [
      "252 ms ± 1.15 ms per loop (mean ± std. dev. of 4 runs, 2 loops each)\n"
     ]
    }
   ],
   "source": [
    "%%timeit -n2 -r4 \n",
    "results = [x for x in map(lib.is_prime, PRIMES)]"
   ]
  },
  {
   "cell_type": "markdown",
   "metadata": {},
   "source": [
    "As good as running the C++ version from the command line!\n",
    "\n",
    "We have the source code in this case, and cffi can work with this directly instead of needing the `.so` library. That's good, as generating this library was a (quite messy) extra step."
   ]
  },
  {
   "cell_type": "code",
   "execution_count": 24,
   "metadata": {},
   "outputs": [
    {
     "name": "stdout",
     "output_type": "stream",
     "text": [
      "generating ./_primes2_cffi.c\n",
      "the current directory is '/home/colin/zcode/astro-Jupyter/performance'\n",
      "running build_ext\n",
      "building '_primes2_cffi' extension\n",
      "/home/colin/anaconda3/envs/ml2/bin/x86_64-conda_cos6-linux-gnu-cc -DNDEBUG -fwrapv -O2 -Wall -Wstrict-prototypes -march=nocona -mtune=haswell -ftree-vectorize -fPIC -fstack-protector-strong -fno-plt -O2 -ffunction-sections -pipe -DNDEBUG -D_FORTIFY_SOURCE=2 -O2 -fPIC -I/home/colin/anaconda3/envs/ml2/include/python3.6m -c _primes2_cffi.c -o ./_primes2_cffi.o\n",
      "/home/colin/anaconda3/envs/ml2/bin/x86_64-conda_cos6-linux-gnu-cc -DNDEBUG -fwrapv -O2 -Wall -Wstrict-prototypes -march=nocona -mtune=haswell -ftree-vectorize -fPIC -fstack-protector-strong -fno-plt -O2 -ffunction-sections -pipe -DNDEBUG -D_FORTIFY_SOURCE=2 -O2 -fPIC -I/home/colin/anaconda3/envs/ml2/include/python3.6m -c C/isprime.c -o ./C/isprime.o\n",
      "x86_64-conda_cos6-linux-gnu-gcc -pthread -shared -Wl,-O2 -Wl,--sort-common -Wl,--as-needed -Wl,-z,relro -Wl,-z,now -Wl,-rpath,/home/colin/anaconda3/envs/ml2/lib -L/home/colin/anaconda3/envs/ml2/lib -Wl,-O2 -Wl,--sort-common -Wl,--as-needed -Wl,-z,relro -Wl,-z,now -Wl,-rpath,/home/colin/anaconda3/envs/ml2/lib -L/home/colin/anaconda3/envs/ml2/lib -Wl,-O2 -Wl,--sort-common -Wl,--as-needed -Wl,-z,relro -Wl,-z,now -Wl,--disable-new-dtags -Wl,--gc-sections -march=nocona -mtune=haswell -ftree-vectorize -fPIC -fstack-protector-strong -fno-plt -O2 -ffunction-sections -pipe -DNDEBUG -D_FORTIFY_SOURCE=2 -O2 ./_primes2_cffi.o ./C/isprime.o -lm -o ./_primes2_cffi.cpython-36m-x86_64-linux-gnu.so\n"
     ]
    }
   ],
   "source": [
    "ffibuilder2 = FFI()\n",
    "\n",
    "# cdef() expects a single string declaring the C types, functions and\n",
    "# globals needed to use the shared object. It must be in valid C syntax.\n",
    "ffibuilder2.cdef(\"\"\"\n",
    "    bool is_prime(long n);\n",
    "\"\"\")\n",
    "\n",
    "# set_source() gives the name of the python extension module to\n",
    "# produce, and some C source code as a string.  This C code needs\n",
    "# to make the declarated functions, types and globals available,\n",
    "# so it is often just the \"#include\".\n",
    "ffibuilder2.set_source(\"_primes2_cffi\",\n",
    "\"\"\"\n",
    "     #include \"C/isprime.h\"   // the C header of the library\n",
    "\"\"\",\n",
    "     sources=['C/isprime.c'],\n",
    "     libraries=['m'])   # we need to link with the math library\n",
    "\n",
    "ffibuilder2.compile(verbose=True);"
   ]
  },
  {
   "cell_type": "markdown",
   "metadata": {},
   "source": [
    "This version of the library works the same way as before, giving the same results and at least as good performance:"
   ]
  },
  {
   "cell_type": "code",
   "execution_count": 25,
   "metadata": {},
   "outputs": [
    {
     "name": "stdout",
     "output_type": "stream",
     "text": [
      "112272535095293 is prime: True\n",
      "112582705942171 is prime: True\n",
      "112272535095293 is prime: True\n",
      "115280095190773 is prime: True\n",
      "115797848077099 is prime: True\n",
      "1099726899285419 is prime: False\n"
     ]
    }
   ],
   "source": [
    "import _primes2_cffi \n",
    "\n",
    "for number, prime in zip(PRIMES, map(_primes2_cffi.lib.is_prime, PRIMES)):\n",
    "    print('%d is prime: %s' % (number, prime))"
   ]
  },
  {
   "cell_type": "code",
   "execution_count": 26,
   "metadata": {},
   "outputs": [
    {
     "name": "stdout",
     "output_type": "stream",
     "text": [
      "245 ms ± 1.46 ms per loop (mean ± std. dev. of 4 runs, 2 loops each)\n"
     ]
    }
   ],
   "source": [
    "%%timeit -n2 -r4 \n",
    "results = [x for x in map(_primes2_cffi.lib.is_prime, PRIMES)]"
   ]
  },
  {
   "cell_type": "markdown",
   "metadata": {},
   "source": [
    "My first impressions of cffi are very positive. It does more than ctypes, fairly easily, and (for whatever reason) it gave the correct answer when ctypes didn't."
   ]
  },
  {
   "cell_type": "markdown",
   "metadata": {},
   "source": [
    "### SWIG\n",
    "\n",
    "This involves roughly the same steps as cffi, but they are done at the command prompt and not within Python. All the files are in the `./swig/` directory.\n",
    "\n",
    "Start by writing an interface file:\n",
    "\n",
    "```\n",
    "/* File : isprime.i */\n",
    "%module isprime\n",
    "%{\n",
    "#include \"isprime.h\"\n",
    "%}\n",
    "%include \"isprime.h\"\n",
    "```"
   ]
  },
  {
   "cell_type": "markdown",
   "metadata": {},
   "source": [
    "Because SWIG supports many scripting languages, not just python, we need to tell it which bindings to generate: \n",
    "\n",
    "```\n",
    "$ swig -python isprime.i\n",
    "```\n",
    "\n",
    "This gives us two new files, `isprime.py` and `isprime_wrap.c`.\n",
    "\n",
    "Now we need to compile to get an object library. This is highly system dependent, but after some trial and error this worked for me (on Linux Mint 19.2):\n",
    "\n",
    "```\n",
    "gcc -c isprime.c isprime_wrap.c -I/usr/include/python3.6 -fPIC\n",
    "```\n",
    "The include path needs to be a directory containing `Python.h`.\n",
    "\n",
    "Finally use these object modules to create a shared library:\n",
    "```\n",
    "ld -shared -fPIC isprime.o isprime_wrap.o -o isprime.so\n",
    "```\n",
    "\n",
    "At last we have the two files we need: `isprime.py` is our interface, and `_isprime.so` the shared library.\n",
    "\n",
    "Import the necessary function and use it:"
   ]
  },
  {
   "cell_type": "code",
   "execution_count": 27,
   "metadata": {
    "scrolled": false
   },
   "outputs": [
    {
     "name": "stdout",
     "output_type": "stream",
     "text": [
      "112272535095293 is prime: True\n",
      "112582705942171 is prime: True\n",
      "112272535095293 is prime: True\n",
      "115280095190773 is prime: True\n",
      "115797848077099 is prime: True\n",
      "1099726899285419 is prime: False\n"
     ]
    }
   ],
   "source": [
    "from swig.isprime import is_prime as is_prime_swig\n",
    "\n",
    "for number, prime in zip(PRIMES, map(is_prime_swig, PRIMES)):\n",
    "    print('%d is prime: %s' % (number, prime))"
   ]
  },
  {
   "cell_type": "code",
   "execution_count": 28,
   "metadata": {
    "scrolled": true
   },
   "outputs": [
    {
     "name": "stdout",
     "output_type": "stream",
     "text": [
      "278 ms ± 1.68 ms per loop (mean ± std. dev. of 4 runs, 2 loops each)\n"
     ]
    }
   ],
   "source": [
    "%%timeit -n2 -r4 \n",
    "results = [x for x in map(is_prime_swig, PRIMES)]"
   ]
  },
  {
   "cell_type": "markdown",
   "metadata": {},
   "source": [
    "Not bad: correct results, and performance only slightly worse than cffi. However, getting to this point was a fairly ugly and (in my novice hands) error-prone process.\n",
    "\n",
    "Why use SWIG? It's good if you have a lot of code to wrap, with regular updates needed: that can be automated. Also if you want to support multiple scripting languages from this list: C#, D, Go,  Guile, Java, Javascript, Lua, MzScheme/Racket, OCaml, Octave, Perl, PHP, Python, R, Ruby, Scilab, Tcl.\n",
    "\n",
    "I still think cffi is easier to get started with."
   ]
  },
  {
   "cell_type": "markdown",
   "metadata": {},
   "source": [
    "### cppyy\n",
    "\n",
    "This lets you write arbitrary C++ code within Python, which is compiled on the fly by [Cling](https://root.cern.ch/cling) (which has CERN behind it). It supports modern code up to at least C++14 standards.\n",
    "\n",
    "TODO: working example"
   ]
  },
  {
   "cell_type": "markdown",
   "metadata": {},
   "source": [
    "### Boost.Python\n",
    "\n",
    "This is something different: a C++ library that can be used in your code to expose functions and classes to Python. It's part of a much bigger and more complex Boost package, now quite old. Unfortunately, I think it's fair to say that the documentation is a mess.\n",
    "\n",
    "Adding the C++ code is simple enough. The challenge is figuring out how to compile it, and after reading various web pages on this topic I still have no idea.\n",
    "\n",
    "Conclusion: Boost.Python is only for serious C++ programmers who already use the Boost libraries for other reasons. It has nothing to offer someone like me."
   ]
  },
  {
   "cell_type": "markdown",
   "metadata": {},
   "source": [
    "### pybind11\n",
    "\n",
    "Conceptually similar to Boost.Python, but newer and much more lightweight. Targetted at C++11 or later, which makes this sort of thing much simpler than in older languageversions.\n",
    "\n",
    "Various Github repos are at https://github.com/pybind, worth looking at the get the examples and tests. The documentation is at https://pybind11.readthedocs.io/en/stable/index.html: better than Boost.Python, but still a bit quirky.\n",
    "\n",
    "These sites carefully avoid saying anything at all about installing pybind11 itself, though there are some clues to other requirements. The main thing to know is that, although this is mainly a C++ library, what you need to install is a python package: `pybind11` in pip or conda, `python3-pybind11` on Debian-based systems.\n",
    "\n",
    "As with Boost.Python, creating the C++ code is simple, building it is at best confusing. Whatever your usual C++ build workflow, for pybind11 it is [strongly recommended to use CMake](https://stackoverflow.com/questions/54908007/how-to-properly-compile-c-code-with-pybind11). Alternatively, some people [prefer to use a `setup.py`](http://people.duke.edu/~ccc14/sta-663-2018/notebooks/S13C_pybind11.html) to control the build.\n",
    "\n",
    "TODO: working example"
   ]
  },
  {
   "cell_type": "markdown",
   "metadata": {},
   "source": [
    "### F2PY\n",
    "\n",
    "An interface to Fortran 70/90/95. See https://www.numfys.net/howto/F2PY/ for an overview. That contains a broken link to the main F2PY website, which isn't encouraging. \n",
    "\n",
    "The SciPy pages may be more useful: https://docs.scipy.org/doc/numpy/f2py/. Apparently F2PY is now part of NumPy."
   ]
  },
  {
   "cell_type": "markdown",
   "metadata": {},
   "source": [
    "## Consider other languages\n",
    "\n",
    "Python is relatively quick and easy to write but slow(ish) to run. We've looked at ways to speed it up, successful enough to make this the most widely-used language in modern astronomy. But there's a limit to speedup and sometimes you hit it.\n",
    "\n",
    "Time to at least consider the alternatives."
   ]
  },
  {
   "cell_type": "markdown",
   "metadata": {},
   "source": [
    "### Julia\n",
    "\n",
    "A [fairly new open-source language](https://julialang.org/), under rapid development and growing in popularity among scientists and engineers. Development started in 2009 and version 1.0, with a more difinitive and stable API, was released August 2018. \n",
    "\n",
    "The slogan is \"walk like Python, run like C\". The syntax is simple and familiar, largely a modernized cross between Python and Matlab, so the learning curve is fairly shallow. \n",
    "\n",
    "Most SciPy/NumPy equivalent functionality is built in as standard because this is what the language is designed for. There's a growing subset of AstroPy functionality available (and they'd love you to help expand this).\n",
    "\n",
    "Making mixed-language programming easy is a core objective, so several Python packages are simply imported and used as-is. Plotting can use Matplotlib (or Plotly or several others), symbolic math uses SciPy.\n",
    "\n",
    "What about \"run like C\"? The language implementation means that non-trivial Julia code can run many-fold faster than the equivalent Python, but this may need a [change of programming style](https://docs.julialang.org/en/v1/manual/performance-tips/). In particular:\n",
    "- Speed depends on putting performance-critical code into functions that an optimizing compiler can work on the first time they are called\n",
    "- Avoid global variables, avoid changing the type of variables\n",
    "- As a modern scientific language, multi-threading and distributed processing are core features\n",
    "\n",
    "Will Julia become common in astronomy? It deserves to, and I'll try to help. However, after several years of astronomers world-wide mostly converging on Python as their standard language and investing a lot of effort in its development, the timing of Julia's stable release is unfortunate."
   ]
  },
  {
   "cell_type": "markdown",
   "metadata": {},
   "source": [
    "### C/C++\n",
    "\n",
    "We've talked about interfacing these languages to Python. Sometimes that's not worth the complications and it's better to use them directly. At least you get access to modern graphics (Qt, OpenGL, etc) in a way that's alien to Fortran."
   ]
  },
  {
   "cell_type": "markdown",
   "metadata": {},
   "source": [
    "### Fortran\n",
    "\n",
    "Hard core! Fortran is outdated, ugly, hard to write, harder to debug and an all-round pain. So why is it still widely used?\n",
    "- For the biggest simulations, especially highly parallel OpenMP code, Fortran programs still run fastest. Even C/C++ can't quite match it, and time on a big supercomupting cluster is a limited resource you may need to optimize.\n",
    "- Lots of scientists spent the last 60 years writing, debugging, optimizing and validating Fortran code. Those software libraries still exist and you probably use them reguarly without realizing (hidden behind glue code for your favorite language). Sometimes only using them in the raw will get the job done.\n",
    "\n",
    "This was the first programming language I ever learned (in 1974): FORTRAN IV punched on to cards and fed to an IBM 370/165 mainframe. Then we hung around by the line printer waiting for the operator to tear off your pages of 14-inch fanfold paper to see that you missed a comma on line 15. It seemed wonderful at the time.\n",
    "\n",
    "The language has evolved since then (Hollerith strings were always dumb and no sane person misses them), but not as much as you'd think. Remember that in this world, machine time is precious but programmer time (and nervous energy) is expendable."
   ]
  }
 ],
 "metadata": {
  "kernelspec": {
   "display_name": "Python 3",
   "language": "python",
   "name": "python3"
  },
  "language_info": {
   "codemirror_mode": {
    "name": "ipython",
    "version": 3
   },
   "file_extension": ".py",
   "mimetype": "text/x-python",
   "name": "python",
   "nbconvert_exporter": "python",
   "pygments_lexer": "ipython3",
   "version": "3.6.9"
  },
  "toc": {
   "base_numbering": 1,
   "nav_menu": {},
   "number_sections": true,
   "sideBar": true,
   "skip_h1_title": true,
   "title_cell": "Contents",
   "title_sidebar": "Contents",
   "toc_cell": true,
   "toc_position": {
    "height": "1083px",
    "left": "12px",
    "top": "110px",
    "width": "323.594px"
   },
   "toc_section_display": true,
   "toc_window_display": true
  }
 },
 "nbformat": 4,
 "nbformat_minor": 2
}
