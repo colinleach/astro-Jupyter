{
 "cells": [
  {
   "cell_type": "markdown",
   "metadata": {},
   "source": [
    "# Tensors\n",
    "\n",
    "_Colin Leach, May 2019_"
   ]
  },
  {
   "cell_type": "markdown",
   "metadata": {
    "toc": true
   },
   "source": [
    "<h1>Contents<span class=\"tocSkip\"></span></h1>\n",
    "<div class=\"toc\"><ul class=\"toc-item\"><li><span><a href=\"#Introduction\" data-toc-modified-id=\"Introduction-1\"><span class=\"toc-item-num\">1&nbsp;&nbsp;</span>Introduction</a></span></li><li><span><a href=\"#Vectors\" data-toc-modified-id=\"Vectors-2\"><span class=\"toc-item-num\">2&nbsp;&nbsp;</span>Vectors</a></span><ul class=\"toc-item\"><li><span><a href=\"#Scalar-product\" data-toc-modified-id=\"Scalar-product-2.1\"><span class=\"toc-item-num\">2.1&nbsp;&nbsp;</span>Scalar product</a></span></li></ul></li><li><span><a href=\"#One-forms\" data-toc-modified-id=\"One-forms-3\"><span class=\"toc-item-num\">3&nbsp;&nbsp;</span>One-forms</a></span><ul class=\"toc-item\"><li><span><a href=\"#Coordinate-transformations\" data-toc-modified-id=\"Coordinate-transformations-3.1\"><span class=\"toc-item-num\">3.1&nbsp;&nbsp;</span>Coordinate transformations</a></span></li><li><span><a href=\"#Visualizing-one-forms\" data-toc-modified-id=\"Visualizing-one-forms-3.2\"><span class=\"toc-item-num\">3.2&nbsp;&nbsp;</span>Visualizing one-forms</a></span></li><li><span><a href=\"#Derivatives\" data-toc-modified-id=\"Derivatives-3.3\"><span class=\"toc-item-num\">3.3&nbsp;&nbsp;</span>Derivatives</a></span></li></ul></li><li><span><a href=\"#Higher-rank-tensors\" data-toc-modified-id=\"Higher-rank-tensors-4\"><span class=\"toc-item-num\">4&nbsp;&nbsp;</span>Higher-rank tensors</a></span><ul class=\"toc-item\"><li><span><a href=\"#Rank-2-tensors\" data-toc-modified-id=\"Rank-2-tensors-4.1\"><span class=\"toc-item-num\">4.1&nbsp;&nbsp;</span>Rank 2 tensors</a></span><ul class=\"toc-item\"><li><span><a href=\"#Symmetries\" data-toc-modified-id=\"Symmetries-4.1.1\"><span class=\"toc-item-num\">4.1.1&nbsp;&nbsp;</span>Symmetries</a></span></li></ul></li><li><span><a href=\"#Index-raising-and-lowering\" data-toc-modified-id=\"Index-raising-and-lowering-4.2\"><span class=\"toc-item-num\">4.2&nbsp;&nbsp;</span>Index raising and lowering</a></span></li><li><span><a href=\"#Contraction\" data-toc-modified-id=\"Contraction-4.3\"><span class=\"toc-item-num\">4.3&nbsp;&nbsp;</span>Contraction</a></span></li><li><span><a href=\"#Differentiation-of-tensors\" data-toc-modified-id=\"Differentiation-of-tensors-4.4\"><span class=\"toc-item-num\">4.4&nbsp;&nbsp;</span>Differentiation of tensors</a></span></li></ul></li><li><span><a href=\"#Tensors-in-Python\" data-toc-modified-id=\"Tensors-in-Python-5\"><span class=\"toc-item-num\">5&nbsp;&nbsp;</span>Tensors in Python</a></span><ul class=\"toc-item\"><li><span><a href=\"#Low-rank-tensors-as-liner-algebra\" data-toc-modified-id=\"Low-rank-tensors-as-liner-algebra-5.1\"><span class=\"toc-item-num\">5.1&nbsp;&nbsp;</span>Low-rank tensors as liner algebra</a></span><ul class=\"toc-item\"><li><span><a href=\"#NumPy\" data-toc-modified-id=\"NumPy-5.1.1\"><span class=\"toc-item-num\">5.1.1&nbsp;&nbsp;</span>NumPy</a></span></li><li><span><a href=\"#SymPy\" data-toc-modified-id=\"SymPy-5.1.2\"><span class=\"toc-item-num\">5.1.2&nbsp;&nbsp;</span>SymPy</a></span></li></ul></li><li><span><a href=\"#Tensor-functions\" data-toc-modified-id=\"Tensor-functions-5.2\"><span class=\"toc-item-num\">5.2&nbsp;&nbsp;</span>Tensor functions</a></span><ul class=\"toc-item\"><li><span><a href=\"#NumPy\" data-toc-modified-id=\"NumPy-5.2.1\"><span class=\"toc-item-num\">5.2.1&nbsp;&nbsp;</span>NumPy</a></span><ul class=\"toc-item\"><li><span><a href=\"#tensordot\" data-toc-modified-id=\"tensordot-5.2.1.1\"><span class=\"toc-item-num\">5.2.1.1&nbsp;&nbsp;</span>tensordot</a></span></li><li><span><a href=\"#einsum\" data-toc-modified-id=\"einsum-5.2.1.2\"><span class=\"toc-item-num\">5.2.1.2&nbsp;&nbsp;</span>einsum</a></span></li></ul></li><li><span><a href=\"#SymPy\" data-toc-modified-id=\"SymPy-5.2.2\"><span class=\"toc-item-num\">5.2.2&nbsp;&nbsp;</span>SymPy</a></span><ul class=\"toc-item\"><li><span><a href=\"#tensorproduct\" data-toc-modified-id=\"tensorproduct-5.2.2.1\"><span class=\"toc-item-num\">5.2.2.1&nbsp;&nbsp;</span>tensorproduct</a></span></li><li><span><a href=\"#tensorcontraction\" data-toc-modified-id=\"tensorcontraction-5.2.2.2\"><span class=\"toc-item-num\">5.2.2.2&nbsp;&nbsp;</span>tensorcontraction</a></span></li></ul></li></ul></li></ul></li></ul></div>"
   ]
  },
  {
   "cell_type": "markdown",
   "metadata": {},
   "source": [
    "## Introduction\n",
    "\n",
    "What is a tensor? The answer seems to depend on who you ask and in what context. Some options include the concept of mapping:\n",
    "\n",
    "- A linear machine that produces numbers when fed with vectors and one-forms. Each lower index represents a slot that can be fed a vector; each upper index represents a slot that can be fed a one-form. When all the slots are filled, out pops a number. (Collier, based on Misner, Thorne & Wheeler)\n",
    "- An $M \\choose N$ tensor is a linear function of $M$ one-forms and $N$ vectors into the real numbers. (Schutz)\n",
    "- A linear map of the vectors into the reals. (Hobson, Efstathiou & Lasenby)\n",
    "- A multilinear map from a collection of dual vectors and vectors to $\\mathbb{R}$. (Carroll)\n",
    "- A box with $n$ slots in its top, into which are inserted $n$ vectors, and one slot in its end, which prints out a single real number: the value that the tensor has when evaluated as a function of the $n$ inserted vectors. (Thorne & Blandford)\n",
    "\n",
    "or of component transformation under rotations:\n",
    "- A mathematical object represented by a collection of components that transform in a certain way. (Collier)\n",
    "- A tensor is something that transforms like a tensor. (Zee)\n",
    "- A tensor of rank $n$ is an array of $3^n$ values (in 3-D space) called \"tensor components\" that combine with multiple directional indicators (basis vectors) to form a quantity that does not vary as the coordinate system is changed. (Fleisch)\n",
    "- An array of mathematical objects (usually numbers or functions) which transforms according to certain rules under coordinate change. In a $d$-dimensional space, a tensor of rank-$n$ has $d^n$ components which may be specified with reference to a given coordinate system. (Sochi)\n",
    "\n",
    "These are mathematically equivalent at some deeper level, but the geometrical / mapping-machine version is usefully independent of coordinate system and the transformation version is usefully specific about how to do calculations."
   ]
  },
  {
   "cell_type": "markdown",
   "metadata": {},
   "source": [
    "## Vectors\n",
    "\n",
    "These were discussed in the SR notebook, but without stressing their tensor nature: a 4-vector $\\vec{A}$ is a $1 \\choose 0$ tensor, its components have a single upper index $A^\\alpha$ and the basis vectors have a single lower index $\\vec{e}_\\alpha$."
   ]
  },
  {
   "cell_type": "markdown",
   "metadata": {},
   "source": [
    "### Scalar product\n",
    "\n",
    "This is defined by $\\vec{A} \\cdot \\vec{B} = -A^0B^0 + A^1B^1 + A^2B^2 + A^1B^2 = A^\\alpha B^\\beta (\\vec{e}_\\alpha \\cdot \\vec{e}_\\beta)$. \n",
    "\n",
    "But in any reference frame, $\\vec{e}_\\alpha \\cdot \\vec{e}_\\beta = \\eta_{\\alpha \\beta}$, the metric tensor. Hence: \n",
    "$$\\vec{A} \\cdot \\vec{B} = A^\\alpha B^\\beta \\eta_{\\alpha \\beta}$$\n",
    "\n",
    "The dimension of a vector is defined by $\\vec{A} \\cdot \\vec{A} = \\vec{A}^2$. Note that, like the interval $ds^2$, this can be positive, negative or zero. A null vector has $\\vec{A}^2 = 0$ but this does _not_ require the components to be all zero. Photons always move on null lines and their 4-velocity always has direction but vanishing magnitude."
   ]
  },
  {
   "cell_type": "markdown",
   "metadata": {},
   "source": [
    "## One-forms\n",
    "\n",
    "These have a variety of names. Some authors prefer to call them dual vectors (e.g. Carroll). They have often been called covariant vectors or covectors (to distinguish them from contravariant vectors), but most physicists now avoid these (Schutz: \"The reason that 'co' and 'contra' have been abandoned is that they mix up two very different things\").\n",
    "\n",
    "Naming aside, these are $0 \\choose 1$ tensors which take a vector argument to give a real number. The set of all 1-forms satisfies the axioms for a vector space, called the 'dual vector space'.\n",
    "\n",
    "Duality between 1-forms and vectors is deeply significant. Vectors, as defined in a previous section, are $1 \\choose 0$ tensors which take a 1-form argument to give a real number. For other examples of duality in physics think of row vectors vs column vectors, $\\psi^*$ vs $\\psi$ in QM, or bras vs kets in Dirac notation.\n",
    "\n",
    "1-forms have the opposite index notation to vectors: components are $p_\\beta$ and basis 1-forms are $\\tilde{\\omega}^\\beta$. The arrow and tilde notation is less standard, but is used here copying Schutz.\n",
    "\n",
    "A vector $\\vec{V}$ acts on a 1-form $\\tilde{p}$ to give a real number and equivalently $\\tilde{p}$ acts on $\\vec{V}$ to give a real number. There are various notations for the same result:\n",
    "$$ \\vec{V}(\\tilde{p})\\ \\equiv\\ \\tilde{p}(\\vec{V})\\ \\equiv\\ p_\\alpha V^\\alpha\\ \\equiv\\ \\langle \\tilde{p},\\vec{V} \\rangle $$"
   ]
  },
  {
   "cell_type": "markdown",
   "metadata": {},
   "source": [
    "### Coordinate transformations\n",
    "We saw previously that basis vectors transform as $\\vec{e}_\\alpha = \\Lambda_\\alpha\\!^\\bar{\\beta}\\ \\vec{e}_\\bar{\\beta}$. \n",
    "\n",
    "1-form components transform in the same way: $\\tilde{p}_\\bar{\\beta} = \\Lambda^\\alpha\\!_\\bar{\\beta}\\ p_\\alpha$. The basis 1-forms transform inversely: $\\tilde{\\omega}^\\bar{\\alpha} = \\Lambda^\\bar{\\alpha}\\!_\\beta\\ \\omega^\\beta$.\n",
    "\n",
    "In any frame, we have the relationship\n",
    "$$ \\tilde{\\omega}^\\alpha(\\vec{e}_\\beta) = \\delta^\\alpha\\!_\\beta $$\n",
    "The result is an identity matrix with all-positive entries, in contrast to the Minkowski metric."
   ]
  },
  {
   "cell_type": "markdown",
   "metadata": {},
   "source": [
    "### Visualizing one-forms\n",
    "\n",
    "We tend to think of a vector as an arrow in space or spacetime. A 1-form is a different beast, often represented as a set of parallel surfaces whose spacing is _inversely_ related to the magnitude of the 1-form. This is like a higher-dimensional version of contour lines on a topographic map: the closer the lines, the steeper the slope; the more lines you walk cross, the bigger the height difference.\n",
    "\n",
    "The analogy is even closer: the gradient of a function is a 1-form."
   ]
  },
  {
   "cell_type": "markdown",
   "metadata": {},
   "source": [
    "### Derivatives\n",
    "\n",
    "Consider a scalar field at $\\phi(\\vec{x})$ every event $\\vec{x}$ and a curve which can be parameterized by $\\tau$: $\\phi(\\tau) = \\phi[t(\\tau), x(\\tau), y(\\tau), z(\\tau)]$ with tangent 4-velocity $U$. Then\n",
    "$$ \\frac{d\\phi}{d\\tau} = \\frac{\\partial{\\phi}}{\\partial{t}} U^t + \\frac{\\partial{\\phi}}{\\partial{x}} U^x + \\frac{\\partial{\\phi}}{\\partial{y}} U^y + \\frac{\\partial{\\phi}}{\\partial{z}} U^z $$\n",
    "\n",
    "The _gradient_ of $\\phi$ is the 1-form:\n",
    "$$ \\tilde{d}\\phi\\ \\xrightarrow[\\mathcal{O}]{}\\ \\left( \\frac{\\partial{\\phi}}{\\partial{t}}, \\frac{\\partial{\\phi}}{\\partial{x}}, \\frac{\\partial{\\phi}}{\\partial{y}}, \\frac{\\partial{\\phi}}{\\partial{z}} \\right) $$\n",
    "\n",
    "The gradient transforms like any 1-form:\n",
    "$$ (\\tilde{d}\\phi)_\\bar{\\alpha} = \\frac{\\partial x^\\beta}{\\partial x^\\bar{\\alpha}} (\\tilde{d}\\phi)_\\beta \\qquad \\text{where} \\qquad \\frac{\\partial x^\\beta}{\\partial x^\\bar{\\alpha}}= \\Lambda^\\beta\\!_\\bar{\\alpha} $$\n",
    "\n",
    "The shorthand notation for partial derivatives includes a comma:\n",
    "$$ \\frac{\\partial{\\phi}}{\\partial{x^\\alpha}} \\equiv \\phi_{,\\alpha} \\qquad \\frac{\\partial{x^\\alpha}}{\\partial{x^\\beta}} \\equiv x^\\alpha\\!_{,\\beta} \\equiv \\delta^\\alpha\\!_\\beta $$"
   ]
  },
  {
   "cell_type": "markdown",
   "metadata": {},
   "source": [
    "## Higher-rank tensors\n",
    "\n",
    "The _rank_ of a tensor is the total number of indices. A tensor of _type_ $M \\choose N$ has a rank of $M+N$. A tensor of rank $k$ can (after choosing a reference frame) be represented by a $k$-dimensional array of coordinates, 4 per dimension."
   ]
  },
  {
   "cell_type": "markdown",
   "metadata": {},
   "source": [
    "### Rank 2 tensors\n",
    "\n",
    "Familiar examples of $0 \\choose 2$ tensors from SR include the metric tensor $\\eta_{\\mu \\nu}$ and the Lorentz tranformation tensor $\\Lambda$. \n",
    "\n",
    "The outer product (tensor product) of two 1-forms gives a $0 \\choose 2$ tensor: $\\tilde{\\omega}^{\\alpha \\beta} = \\tilde{\\omega}^\\alpha \\otimes \\tilde{\\omega}^\\beta$.\n",
    "\n",
    "Such tensors are a basis for all $0 \\choose 2$ tensors and $ \\mathbf{f} = f_{\\alpha \\beta} \\tilde{\\omega}^\\alpha \\otimes \\tilde{\\omega}^\\beta $.\n",
    "\n",
    "Similarly, $\\vec{e}_\\alpha \\otimes \\vec{e}_\\beta$ is a basis for $2 \\choose 0$ tensors."
   ]
  },
  {
   "cell_type": "markdown",
   "metadata": {},
   "source": [
    "#### Symmetries\n",
    "\n",
    "A tensor $\\mathbf{f}$ is _symmetric_ if $\\  \\mathbf{f}(\\vec{A} \\vec{B}) = \\mathbf{f}(\\vec{B} \\vec{A}) \\quad \\forall \\vec{A}, \\vec{B}\\ $ and _antisymmetric_ if $\\ \\mathbf{f}(\\vec{A} \\vec{B}) = -\\mathbf{f}(\\vec{B} \\vec{A}) \\quad \\forall \\vec{A}, \\vec{B} $.\n",
    "\n",
    "An arbitrary $0 \\choose 2$ tensor can be uniquely split into its symmetric and antisymmetic parts, with notation $f_{(\\alpha \\beta)}$ and $f_{[\\alpha \\beta]}$ respectively:\n",
    "$$ f_{(\\alpha \\beta)} \\equiv \\frac{1}{2} (f_{\\alpha \\beta} + f_{\\beta \\alpha}) \\qquad f_{[\\alpha \\beta]} \\equiv \\frac{1}{2} (f_{\\alpha \\beta} - f_{\\beta \\alpha}) \\qquad f_{\\alpha \\beta} =  f_{(\\alpha \\beta)} + f_{[\\alpha \\beta]} $$"
   ]
  },
  {
   "cell_type": "markdown",
   "metadata": {},
   "source": [
    "### Index raising and lowering\n",
    "\n",
    "The metric tensor maps a vector $\\vec{V}$ of type $1 \\choose 0$ into a 1-form $\\tilde{V}$ of type $0 \\choose 1$: $A_\\alpha = \\eta_{\\alpha \\beta} A^\\beta$. \n",
    "\n",
    "The inverse metric maps a 1-form into a vector: $A^\\alpha = \\eta^{\\alpha \\beta} A_\\beta$.\n",
    "\n",
    "More generally, the metric maps a $M \\choose N$ tensor into an $M-1 \\choose N+1$ tensor and the inverse metric maps it to an $M+1 \\choose N-1$ tensor. For example, an arbitrary $2 \\choose 1$ tensor:\n",
    "$$ T^\\alpha\\!_{\\beta \\gamma} = \\eta_{\\beta \\mu} T^{\\alpha \\mu}\\!_\\gamma $$\n",
    "\n",
    "Note that in SR the Minkowski metric is its own inverse, so all these operations do is flip the sign of the time component. GR is less simple."
   ]
  },
  {
   "cell_type": "markdown",
   "metadata": {},
   "source": [
    "### Contraction\n",
    "\n",
    "A $M \\choose N$ tensor can be converted to a $M-1 \\choose N-1$ tensor by summing over an upper/lower pair of indices: $T^\\alpha\\!_{\\mu \\nu \\alpha} = T_{\\mu \\nu}$. The order of indices matters and in general $T^\\alpha\\!_{\\mu \\nu \\alpha} \\ne T^\\alpha\\!_{\\mu \\alpha \\nu}$."
   ]
  },
  {
   "cell_type": "markdown",
   "metadata": {},
   "source": [
    "### Differentiation of tensors\n",
    "\n",
    "Differentiation of a $M \\choose N$ tensor gives a $M \\choose N+1$ tensor with one higher rank. In the simplest case, a function $f$ is a $0 \\choose 0$ tensor and its derivative $\\tilde{d}f$ is a $0 \\choose 1$ tensor.\n",
    "\n",
    "A $1 \\choose 1$ tensor can be written $\\mathbf{T} = T^\\alpha\\!_\\beta\\, \\tilde{\\omega}^\\beta \\otimes \\vec{e}_\\alpha$. Then the gradient of $\\mathbf{T}$ is a $1 \\choose 2$ tensor: $ \\nabla \\mathbf{T} = T^\\alpha\\!_{\\beta, \\gamma}\\, \\tilde{\\omega}^\\beta \\otimes \\tilde{\\omega}^\\gamma \\otimes \\vec{e}_\\alpha $"
   ]
  },
  {
   "cell_type": "markdown",
   "metadata": {},
   "source": [
    "## Tensors in Python"
   ]
  },
  {
   "cell_type": "markdown",
   "metadata": {},
   "source": [
    "### Low-rank tensors as liner algebra\n",
    "\n",
    "By the time you get to implementing things in code, you have probably already chosen a coordinate system. Then tensors with rank 1 or 2 can be represented by vectors and matrices. Then the `@` operator handles matrix multiplication (since Python 3.5) and packages like `numpy.linalg` and `sympy.matrices` will do the rest. \n",
    "\n",
    "Conventionally, 4-vectors are represented by column vectors and one-forms by row vectors. This is largely irrelevant in NumPy, which doesn't distinguish between a 1-D array and its transpose (unlike, for example, Matlab). The difference tends to be more important in SymPy."
   ]
  },
  {
   "cell_type": "code",
   "execution_count": 1,
   "metadata": {},
   "outputs": [],
   "source": [
    "import numpy as np\n",
    "import sympy as sp"
   ]
  },
  {
   "cell_type": "markdown",
   "metadata": {},
   "source": [
    "#### NumPy\n",
    "\n",
    "Set up some numpy arrays to play with:"
   ]
  },
  {
   "cell_type": "code",
   "execution_count": 2,
   "metadata": {
    "scrolled": true
   },
   "outputs": [
    {
     "data": {
      "text/plain": [
       "array([[-1.,  0.,  0.,  0.],\n",
       "       [ 0.,  1.,  0.,  0.],\n",
       "       [ 0.,  0.,  1.,  0.],\n",
       "       [ 0.,  0.,  0.,  1.]])"
      ]
     },
     "execution_count": 2,
     "metadata": {},
     "output_type": "execute_result"
    }
   ],
   "source": [
    "eta = np.eye(4)\n",
    "eta[0,0] *= -1\n",
    "eta"
   ]
  },
  {
   "cell_type": "code",
   "execution_count": 3,
   "metadata": {},
   "outputs": [
    {
     "data": {
      "text/plain": [
       "(array([1, 2, 3, 4]), array([4, 3, 2, 1]))"
      ]
     },
     "execution_count": 3,
     "metadata": {},
     "output_type": "execute_result"
    }
   ],
   "source": [
    "A = np.array([1,2,3,4])\n",
    "B = np.array([4,3,2,1])\n",
    "A, B"
   ]
  },
  {
   "cell_type": "markdown",
   "metadata": {},
   "source": [
    "$A_\\mu = \\eta_{\\mu \\nu} A^\\nu$ :"
   ]
  },
  {
   "cell_type": "code",
   "execution_count": 4,
   "metadata": {},
   "outputs": [
    {
     "data": {
      "text/plain": [
       "array([-1.,  2.,  3.,  4.])"
      ]
     },
     "execution_count": 4,
     "metadata": {},
     "output_type": "execute_result"
    }
   ],
   "source": [
    "A_tilde = eta @ A\n",
    "A_tilde"
   ]
  },
  {
   "cell_type": "markdown",
   "metadata": {},
   "source": [
    "$\\left< A, B \\right> = \\eta_{\\mu \\nu} A^\\mu b^\\nu$ :"
   ]
  },
  {
   "cell_type": "code",
   "execution_count": 5,
   "metadata": {
    "scrolled": true
   },
   "outputs": [
    {
     "data": {
      "text/plain": [
       "12.0"
      ]
     },
     "execution_count": 5,
     "metadata": {},
     "output_type": "execute_result"
    }
   ],
   "source": [
    "eta @ A @ B"
   ]
  },
  {
   "cell_type": "markdown",
   "metadata": {},
   "source": [
    "#### SymPy\n",
    "\n",
    "I'm conflicted on this package: it's very impressive in some respects, but for doing symbolic math I'm not sure it's the best tool for the job (and I recently paid for a Maple license)."
   ]
  },
  {
   "cell_type": "code",
   "execution_count": 6,
   "metadata": {},
   "outputs": [],
   "source": [
    "from sympy.interactive.printing import init_printing\n",
    "init_printing()\n",
    "from sympy.abc import phi, theta"
   ]
  },
  {
   "cell_type": "code",
   "execution_count": 7,
   "metadata": {},
   "outputs": [],
   "source": [
    "coords = (theta, phi)\n",
    "c = sp.Matrix(coords)"
   ]
  },
  {
   "cell_type": "markdown",
   "metadata": {},
   "source": [
    "`c` is a colum vector:"
   ]
  },
  {
   "cell_type": "code",
   "execution_count": 8,
   "metadata": {
    "scrolled": true
   },
   "outputs": [
    {
     "data": {
      "image/png": "[encoded data removed]",
      "text/latex": [
       "$\\displaystyle \\left( \\left[\\begin{matrix}\\theta\\\\\\phi\\end{matrix}\\right], \\  \\left( 2, \\  1\\right)\\right)$"
      ],
      "text/plain": [
       "⎛⎡θ⎤        ⎞\n",
       "⎜⎢ ⎥, (2, 1)⎟\n",
       "⎝⎣φ⎦        ⎠"
      ]
     },
     "execution_count": 8,
     "metadata": {},
     "output_type": "execute_result"
    }
   ],
   "source": [
    "c, c.shape"
   ]
  },
  {
   "cell_type": "markdown",
   "metadata": {},
   "source": [
    "Inner product:"
   ]
  },
  {
   "cell_type": "code",
   "execution_count": 9,
   "metadata": {
    "scrolled": false
   },
   "outputs": [
    {
     "data": {
      "image/png": "[encoded data removed]",
      "text/latex": [
       "$\\displaystyle \\left[\\begin{matrix}\\phi^{2} + \\theta^{2}\\end{matrix}\\right]$"
      ],
      "text/plain": [
       "⎡ 2    2⎤\n",
       "⎣φ  + θ ⎦"
      ]
     },
     "execution_count": 9,
     "metadata": {},
     "output_type": "execute_result"
    }
   ],
   "source": [
    "c.transpose() @ c"
   ]
  },
  {
   "cell_type": "markdown",
   "metadata": {},
   "source": [
    "Outer product:"
   ]
  },
  {
   "cell_type": "code",
   "execution_count": 10,
   "metadata": {
    "scrolled": true
   },
   "outputs": [
    {
     "data": {
      "image/png": "[encoded data removed]",
      "text/latex": [
       "$\\displaystyle \\left[\\begin{matrix}\\theta^{2} & \\phi \\theta\\\\\\phi \\theta & \\phi^{2}\\end{matrix}\\right]$"
      ],
      "text/plain": [
       "⎡ 2      ⎤\n",
       "⎢θ    φ⋅θ⎥\n",
       "⎢        ⎥\n",
       "⎢      2 ⎥\n",
       "⎣φ⋅θ  φ  ⎦"
      ]
     },
     "execution_count": 10,
     "metadata": {},
     "output_type": "execute_result"
    }
   ],
   "source": [
    "c @ c.transpose()"
   ]
  },
  {
   "cell_type": "markdown",
   "metadata": {},
   "source": [
    "Simple example for the surface of a sphere in polar coordinates. See the Curvature notebook for much more of this."
   ]
  },
  {
   "cell_type": "code",
   "execution_count": 11,
   "metadata": {},
   "outputs": [
    {
     "data": {
      "image/png": "[encoded data removed]",
      "text/latex": [
       "$\\displaystyle \\left[\\begin{matrix}1 & 0\\\\0 & \\sin^{2}{\\left(\\theta \\right)}\\end{matrix}\\right]$"
      ],
      "text/plain": [
       "⎡1     0   ⎤\n",
       "⎢          ⎥\n",
       "⎢      2   ⎥\n",
       "⎣0  sin (θ)⎦"
      ]
     },
     "metadata": {},
     "output_type": "display_data"
    },
    {
     "data": {
      "image/png": "[encoded data removed]",
      "text/latex": [
       "$\\displaystyle \\left[\\begin{matrix}1 & 0\\\\0 & \\frac{1}{\\sin^{2}{\\left(\\theta \\right)}}\\end{matrix}\\right]$"
      ],
      "text/plain": [
       "⎡1     0   ⎤\n",
       "⎢          ⎥\n",
       "⎢      1   ⎥\n",
       "⎢0  ───────⎥\n",
       "⎢      2   ⎥\n",
       "⎣   sin (θ)⎦"
      ]
     },
     "metadata": {},
     "output_type": "display_data"
    }
   ],
   "source": [
    "g_ij = sp.Matrix([[1, 0], [0, sp.sin(theta)**2]])\n",
    "inv_gij = g_ij.inv()\n",
    "display(g_ij, inv_gij)"
   ]
  },
  {
   "cell_type": "code",
   "execution_count": 12,
   "metadata": {},
   "outputs": [
    {
     "data": {
      "image/png": "[encoded data removed]",
      "text/latex": [
       "$\\displaystyle \\left[\\begin{matrix}\\theta\\\\\\phi \\sin^{2}{\\left(\\theta \\right)}\\end{matrix}\\right]$"
      ],
      "text/plain": [
       "⎡    θ    ⎤\n",
       "⎢         ⎥\n",
       "⎢     2   ⎥\n",
       "⎣φ⋅sin (θ)⎦"
      ]
     },
     "execution_count": 12,
     "metadata": {},
     "output_type": "execute_result"
    }
   ],
   "source": [
    "g_ij @ c"
   ]
  },
  {
   "cell_type": "markdown",
   "metadata": {},
   "source": [
    "### Tensor functions\n",
    "\n",
    "Python has a number of ways to handle higher-rank tensors as such, without falling back on linear algebra routines. This is a fairly niche area of interest so the documentation isn't always the easiest to understand."
   ]
  },
  {
   "cell_type": "markdown",
   "metadata": {},
   "source": [
    "#### NumPy\n",
    "\n",
    "The main functions are `tensordot()` for multiplications and `einsum()` for Einstein summation. "
   ]
  },
  {
   "cell_type": "markdown",
   "metadata": {},
   "source": [
    "##### tensordot\n",
    "\n",
    "[__tensordot()__](https://docs.scipy.org/doc/numpy-1.14.0/reference/generated/numpy.tensordot.html) provides a variety of ways to multiply two n-dimensional arrays together, controlled by the (optional) third parameter `axes`.\n",
    "\n",
    "`axes=0` gives the tensor product $A \\otimes B$:"
   ]
  },
  {
   "cell_type": "code",
   "execution_count": 13,
   "metadata": {},
   "outputs": [
    {
     "data": {
      "text/plain": [
       "array([1, 2, 3, 4])"
      ]
     },
     "metadata": {},
     "output_type": "display_data"
    },
    {
     "data": {
      "text/plain": [
       "array([4, 3, 2, 1])"
      ]
     },
     "metadata": {},
     "output_type": "display_data"
    },
    {
     "data": {
      "text/plain": [
       "array([[ 4,  3,  2,  1],\n",
       "       [ 8,  6,  4,  2],\n",
       "       [12,  9,  6,  3],\n",
       "       [16, 12,  8,  4]])"
      ]
     },
     "execution_count": 13,
     "metadata": {},
     "output_type": "execute_result"
    }
   ],
   "source": [
    "display(A, B)\n",
    "np.tensordot(A, B, 0)"
   ]
  },
  {
   "cell_type": "markdown",
   "metadata": {},
   "source": [
    "`axes=1` gives the tensor dot product $A \\cdot B$, similar to the previous examples using `@`:"
   ]
  },
  {
   "cell_type": "code",
   "execution_count": 14,
   "metadata": {},
   "outputs": [
    {
     "data": {
      "text/plain": [
       "array([-1.,  2.,  3.,  4.])"
      ]
     },
     "metadata": {},
     "output_type": "display_data"
    },
    {
     "data": {
      "text/plain": [
       "array(28.)"
      ]
     },
     "metadata": {},
     "output_type": "display_data"
    }
   ],
   "source": [
    "eta_contracted = np.tensordot(eta, A, 1)\n",
    "display(eta_contracted)\n",
    "display(np.tensordot(eta_contracted, A, 1))"
   ]
  },
  {
   "cell_type": "markdown",
   "metadata": {},
   "source": [
    "`axes=2` is the default and gives a double contraction $C^{\\mu \\alpha \\beta} D_{\\alpha \\beta \\nu} = T^\\mu\\!_\\nu$. Similarly, higher integers will give an N-fold contraction."
   ]
  },
  {
   "cell_type": "code",
   "execution_count": 15,
   "metadata": {
    "scrolled": true
   },
   "outputs": [
    {
     "data": {
      "text/plain": [
       "array([[[1, 2],\n",
       "        [3, 4]],\n",
       "\n",
       "       [[5, 6],\n",
       "        [7, 8]]])"
      ]
     },
     "metadata": {},
     "output_type": "display_data"
    }
   ],
   "source": [
    "C = np.array(range(1,9))\n",
    "C = C.reshape(2,2,2)\n",
    "display(C)"
   ]
  },
  {
   "cell_type": "code",
   "execution_count": 16,
   "metadata": {},
   "outputs": [
    {
     "data": {
      "text/plain": [
       "array([[ 50,  60],\n",
       "       [114, 140]])"
      ]
     },
     "execution_count": 16,
     "metadata": {},
     "output_type": "execute_result"
    }
   ],
   "source": [
    "np.tensordot(C, C, 2)"
   ]
  },
  {
   "cell_type": "markdown",
   "metadata": {},
   "source": [
    "`axes=int` takes the last N indices of C and the first N indices of D in order. For more control, give a (2,N) array of indices to contract on. So $C^{\\alpha \\mu \\beta} D_{\\alpha \\beta \\nu} = T^\\mu\\!_\\nu$ needs ([0,2],[0,1]):"
   ]
  },
  {
   "cell_type": "code",
   "execution_count": 17,
   "metadata": {},
   "outputs": [
    {
     "data": {
      "text/plain": [
       "array([[ 74,  88],\n",
       "       [106, 128]])"
      ]
     },
     "execution_count": 17,
     "metadata": {},
     "output_type": "execute_result"
    }
   ],
   "source": [
    "np.tensordot(C, C, axes=([0,2],[0,1]))"
   ]
  },
  {
   "cell_type": "markdown",
   "metadata": {},
   "source": [
    "##### einsum\n",
    "\n",
    "[__`einsum()`__](https://docs.scipy.org/doc/numpy-1.14.0/reference/generated/numpy.einsum.html) is a powerful and flexible function that has many uses, including everything tensordot can do. And just reading that, you know it's also going to be confusing. This has also [been addressed on stackoverflow](https://stackoverflow.com/questions/26089893/understanding-numpys-einsum) in helpful detail. See also the [related blog post](http://ajcr.net/Basic-guide-to-einsum/) - really, _do read it_ if you want to use this successfully. As the author says, \"on the downside, it can take a little while to understand the notation and sometimes a few attempts to apply it correctly to a tricky problem.\" Also see [this longer blog](https://obilaniu6266h16.wordpress.com/2016/02/04/einstein-summation-in-numpy/)."
   ]
  },
  {
   "cell_type": "code",
   "execution_count": 18,
   "metadata": {},
   "outputs": [
    {
     "data": {
      "text/plain": [
       "array([[ 74,  88],\n",
       "       [106, 128]])"
      ]
     },
     "execution_count": 18,
     "metadata": {},
     "output_type": "execute_result"
    }
   ],
   "source": [
    "np.einsum('ikj, ijl', C, C)"
   ]
  },
  {
   "cell_type": "markdown",
   "metadata": {},
   "source": []
  },
  {
   "cell_type": "markdown",
   "metadata": {},
   "source": [
    "#### SymPy\n",
    "\n",
    "For symbolic work we have the `tensorproduct()` and `tensorcontraction()` functions. \n",
    "\n",
    "There is also a tensor module, but that seems to be a rather abstract base class and only useful to someone creating a library."
   ]
  },
  {
   "cell_type": "markdown",
   "metadata": {},
   "source": [
    "##### tensorproduct\n",
    "\n",
    "[__`tensorproduct()`__](https://docs.sympy.org/latest/modules/physics/quantum/tensorproduct.html): \"The tensor product is a non-commutative multiplication that is used primarily with operators and states in quantum mechanics.\""
   ]
  },
  {
   "cell_type": "code",
   "execution_count": 19,
   "metadata": {},
   "outputs": [
    {
     "data": {
      "image/png": "[encoded data removed]",
      "text/latex": [
       "$\\displaystyle \\left[\\begin{matrix}\\left[\\left[\\begin{matrix}\\theta^{2} & \\phi \\theta\\end{matrix}\\right]\\right]\\\\\\left[\\left[\\begin{matrix}\\phi \\theta & \\phi^{2}\\end{matrix}\\right]\\right]\\end{matrix}\\right]$"
      ],
      "text/plain": [
       "⎡⎡⎡ 2     ⎤⎤⎤\n",
       "⎢⎣⎣θ   φ⋅θ⎦⎦⎥\n",
       "⎢           ⎥\n",
       "⎢⎡⎡      2⎤⎤⎥\n",
       "⎣⎣⎣φ⋅θ  φ ⎦⎦⎦"
      ]
     },
     "metadata": {},
     "output_type": "display_data"
    },
    {
     "data": {
      "image/png": "[encoded data removed]",
      "text/latex": [
       "$\\displaystyle \\left( 2, \\  1, \\  1, \\  2\\right)$"
      ],
      "text/plain": [
       "(2, 1, 1, 2)"
      ]
     },
     "metadata": {},
     "output_type": "display_data"
    }
   ],
   "source": [
    "T1 = sp.tensorproduct(c, c.transpose())\n",
    "display(T1)\n",
    "display(T1.shape)"
   ]
  },
  {
   "cell_type": "code",
   "execution_count": 20,
   "metadata": {},
   "outputs": [
    {
     "data": {
      "image/png": "[encoded data removed]",
      "text/latex": [
       "$\\displaystyle \\left[\\left[\\begin{matrix}\\left[\\begin{matrix}\\theta^{2}\\\\\\phi \\theta\\end{matrix}\\right] & \\left[\\begin{matrix}\\phi \\theta\\\\\\phi^{2}\\end{matrix}\\right]\\end{matrix}\\right]\\right]$"
      ],
      "text/plain": [
       "⎡⎡⎡ 2 ⎤  ⎡φ⋅θ⎤⎤⎤\n",
       "⎢⎢⎢θ  ⎥  ⎢   ⎥⎥⎥\n",
       "⎢⎢⎢   ⎥  ⎢ 2 ⎥⎥⎥\n",
       "⎣⎣⎣φ⋅θ⎦  ⎣φ  ⎦⎦⎦"
      ]
     },
     "metadata": {},
     "output_type": "display_data"
    },
    {
     "data": {
      "image/png": "[encoded data removed]",
      "text/latex": [
       "$\\displaystyle \\left( 1, \\  2, \\  2, \\  1\\right)$"
      ],
      "text/plain": [
       "(1, 2, 2, 1)"
      ]
     },
     "metadata": {},
     "output_type": "display_data"
    }
   ],
   "source": [
    "T2 = sp.tensorproduct(c.transpose(), c)\n",
    "display(T2)\n",
    "display(T2.shape)"
   ]
  },
  {
   "cell_type": "code",
   "execution_count": 21,
   "metadata": {},
   "outputs": [
    {
     "data": {
      "image/png": "[encoded data removed]",
      "text/latex": [
       "$\\displaystyle \\left[\\begin{matrix}\\left[\\begin{matrix}\\theta^{2}\\\\\\phi \\theta\\end{matrix}\\right]\\\\\\left[\\begin{matrix}\\phi \\theta\\\\\\phi^{2}\\end{matrix}\\right]\\end{matrix}\\right]$"
      ],
      "text/plain": [
       "⎡⎡ 2 ⎤⎤\n",
       "⎢⎢θ  ⎥⎥\n",
       "⎢⎢   ⎥⎥\n",
       "⎢⎣φ⋅θ⎦⎥\n",
       "⎢     ⎥\n",
       "⎢⎡φ⋅θ⎤⎥\n",
       "⎢⎢   ⎥⎥\n",
       "⎢⎢ 2 ⎥⎥\n",
       "⎣⎣φ  ⎦⎦"
      ]
     },
     "metadata": {},
     "output_type": "display_data"
    },
    {
     "data": {
      "image/png": "[encoded data removed]",
      "text/latex": [
       "$\\displaystyle \\left( 2, \\  1, \\  2, \\  1\\right)$"
      ],
      "text/plain": [
       "(2, 1, 2, 1)"
      ]
     },
     "metadata": {},
     "output_type": "display_data"
    }
   ],
   "source": [
    "T3 = sp.tensorproduct(c, c)\n",
    "display(T3)\n",
    "display(T3.shape)"
   ]
  },
  {
   "cell_type": "markdown",
   "metadata": {},
   "source": [
    "##### tensorcontraction\n",
    "\n",
    "__`tensorcontraction()`__ does broadly what the name suggests, though I couldn't find much documentation. The second parameter is a list of indices to contract on."
   ]
  },
  {
   "cell_type": "code",
   "execution_count": 22,
   "metadata": {},
   "outputs": [
    {
     "data": {
      "image/png": "[encoded data removed]",
      "text/latex": [
       "$\\displaystyle \\left( \\left[\\begin{matrix}\\left[\\begin{matrix}x & 2 x\\\\3 x & 4 x\\end{matrix}\\right] & \\left[\\begin{matrix}5 x & 6 x\\\\7 x & 8 x\\end{matrix}\\right]\\end{matrix}\\right], \\  \\left( 2, \\  2, \\  2\\right)\\right)$"
      ],
      "text/plain": [
       "⎛⎡⎡ x   2⋅x⎤  ⎡5⋅x  6⋅x⎤⎤           ⎞\n",
       "⎜⎢⎢        ⎥  ⎢        ⎥⎥, (2, 2, 2)⎟\n",
       "⎝⎣⎣3⋅x  4⋅x⎦  ⎣7⋅x  8⋅x⎦⎦           ⎠"
      ]
     },
     "execution_count": 22,
     "metadata": {},
     "output_type": "execute_result"
    }
   ],
   "source": [
    "from sympy.abc import x\n",
    "C_sym = sp.Array(C*x)\n",
    "C_sym, C_sym.shape"
   ]
  },
  {
   "cell_type": "code",
   "execution_count": 23,
   "metadata": {},
   "outputs": [
    {
     "data": {
      "image/png": "[encoded data removed]",
      "text/latex": [
       "$\\displaystyle \\left[\\begin{matrix}7 x & 11 x\\end{matrix}\\right]$"
      ],
      "text/plain": [
       "[7⋅x  11⋅x]"
      ]
     },
     "execution_count": 23,
     "metadata": {},
     "output_type": "execute_result"
    }
   ],
   "source": [
    "sp.tensorcontraction(C_sym, (0,2))"
   ]
  },
  {
   "cell_type": "code",
   "execution_count": null,
   "metadata": {},
   "outputs": [],
   "source": []
  }
 ],
 "metadata": {
  "kernelspec": {
   "display_name": "Python 3",
   "language": "python",
   "name": "python3"
  },
  "language_info": {
   "codemirror_mode": {
    "name": "ipython",
    "version": 3
   },
   "file_extension": ".py",
   "mimetype": "text/x-python",
   "name": "python",
   "nbconvert_exporter": "python",
   "pygments_lexer": "ipython3",
   "version": "3.6.8"
  },
  "toc": {
   "base_numbering": 1,
   "nav_menu": {
    "height": "265px",
    "width": "276px"
   },
   "number_sections": true,
   "sideBar": true,
   "skip_h1_title": true,
   "title_cell": "Contents",
   "title_sidebar": "Contents",
   "toc_cell": true,
   "toc_position": {
    "height": "calc(100% - 180px)",
    "left": "10px",
    "top": "150px",
    "width": "269px"
   },
   "toc_section_display": true,
   "toc_window_display": true
  }
 },
 "nbformat": 4,
 "nbformat_minor": 2
}
