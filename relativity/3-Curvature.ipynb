{
 "cells": [
  {
   "cell_type": "markdown",
   "metadata": {},
   "source": [
    "# Curvature"
   ]
  },
  {
   "cell_type": "markdown",
   "metadata": {
    "toc": true
   },
   "source": [
    "<h1>Contents<span class=\"tocSkip\"></span></h1>\n",
    "<div class=\"toc\"><ul class=\"toc-item\"><li><span><a href=\"#Preliminary-definitions\" data-toc-modified-id=\"Preliminary-definitions-1\"><span class=\"toc-item-num\">1&nbsp;&nbsp;</span>Preliminary definitions</a></span></li><li><span><a href=\"#Lengths-and-volumes\" data-toc-modified-id=\"Lengths-and-volumes-2\"><span class=\"toc-item-num\">2&nbsp;&nbsp;</span>Lengths and volumes</a></span></li><li><span><a href=\"#Christoffel-symbols-(connection-coefficients)\" data-toc-modified-id=\"Christoffel-symbols-(connection-coefficients)-3\"><span class=\"toc-item-num\">3&nbsp;&nbsp;</span>Christoffel symbols (connection coefficients)</a></span><ul class=\"toc-item\"><li><span><a href=\"#Covariant-derivatives\" data-toc-modified-id=\"Covariant-derivatives-3.1\"><span class=\"toc-item-num\">3.1&nbsp;&nbsp;</span>Covariant derivatives</a></span></li><li><span><a href=\"#Christoffel-symbols-and-the-metric\" data-toc-modified-id=\"Christoffel-symbols-and-the-metric-3.2\"><span class=\"toc-item-num\">3.2&nbsp;&nbsp;</span>Christoffel symbols and the metric</a></span></li><li><span><a href=\"#Example:-the-surface-of-a-unit-sphere-in-polar-coordinates\" data-toc-modified-id=\"Example:-the-surface-of-a-unit-sphere-in-polar-coordinates-3.3\"><span class=\"toc-item-num\">3.3&nbsp;&nbsp;</span>Example: the surface of a unit sphere in polar coordinates</a></span></li></ul></li><li><span><a href=\"#Parallel-transport-of-vectors\" data-toc-modified-id=\"Parallel-transport-of-vectors-4\"><span class=\"toc-item-num\">4&nbsp;&nbsp;</span>Parallel transport of vectors</a></span><ul class=\"toc-item\"><li><span><a href=\"#Geodesics\" data-toc-modified-id=\"Geodesics-4.1\"><span class=\"toc-item-num\">4.1&nbsp;&nbsp;</span>Geodesics</a></span></li></ul></li><li><span><a href=\"#The-Riemann-curvature-tensor\" data-toc-modified-id=\"The-Riemann-curvature-tensor-5\"><span class=\"toc-item-num\">5&nbsp;&nbsp;</span>The Riemann curvature tensor</a></span></li><li><span><a href=\"#The-Ricci-and-Einstein-tensors\" data-toc-modified-id=\"The-Ricci-and-Einstein-tensors-6\"><span class=\"toc-item-num\">6&nbsp;&nbsp;</span>The Ricci and Einstein tensors</a></span><ul class=\"toc-item\"><li><span><a href=\"#The-Ricci-tensor\" data-toc-modified-id=\"The-Ricci-tensor-6.1\"><span class=\"toc-item-num\">6.1&nbsp;&nbsp;</span>The Ricci tensor</a></span></li><li><span><a href=\"#The-Ricci-scalar\" data-toc-modified-id=\"The-Ricci-scalar-6.2\"><span class=\"toc-item-num\">6.2&nbsp;&nbsp;</span>The Ricci scalar</a></span></li><li><span><a href=\"#The-Einstein-tensor\" data-toc-modified-id=\"The-Einstein-tensor-6.3\"><span class=\"toc-item-num\">6.3&nbsp;&nbsp;</span>The Einstein tensor</a></span></li><li><span><a href=\"#Bianchi-identities\" data-toc-modified-id=\"Bianchi-identities-6.4\"><span class=\"toc-item-num\">6.4&nbsp;&nbsp;</span>Bianchi identities</a></span></li></ul></li></ul></div>"
   ]
  },
  {
   "cell_type": "markdown",
   "metadata": {},
   "source": [
    "## Preliminary definitions\n",
    "\n",
    "In simple terms (to be made more precise later):\n",
    "\n",
    "A __geodesic__ is the shortest distance between two points, e.g. a straight line in Euclidean space or a great circle on the surface of a sphere.\n",
    "\n",
    "A __manifold__ is a smoothly curved space which is locally flat. In GR we are interested in manifolds which are (a) differentiable and (b) have a symmetric metric tensor (so $g_{\\mu \\nu} = g_{\\nu \\mu}$). This is a _Riemannian manifold_.\n",
    "\n",
    "A __path__ is a connected series of points. A __curve__ is a parameterized path, with each point associated with a real value."
   ]
  },
  {
   "cell_type": "markdown",
   "metadata": {},
   "source": [
    "## Lengths and volumes\n",
    "\n",
    "An $n$-dimensional Riemannian manifold has a line element given by $dl^2 = g_{ij} dx^i dx^j$. \n",
    "\n",
    "To get the length $L$ of an arbitrary curve parameterized by $\\lambda$, between $\\lambda_0$ and $\\lambda_1$, we use the square root of the absolute value of the line element and integrate:\n",
    "$$ L = \\int_{\\lambda_0}^{\\lambda_1} \\left| g_{\\alpha \\beta} \\frac{dx^\\alpha}{d\\lambda} \\frac{dx^\\beta}{d\\lambda} \\right|^{1/2} d\\lambda $$\n",
    "\n",
    "But $\\frac{dx^\\alpha}{d\\lambda}$ are the components of the tangent vector $\\vec{V}$, so\n",
    "$$ L = \\int_{\\lambda_0}^{\\lambda_1} \\left| \\vec{V} \\cdot \\vec{V} \\right|^{1/2} d\\lambda $$\n",
    "\n",
    "A small 4-dimensional region in a local Lorentz frame is $dx^0 dx^1 dx^2 dx^3 \\equiv d^4x$. In other frames we in principle need to use the Jacobian. In practice we can more conveniently use the determinant $g$ of the metric: $g = det(g_{\\alpha \\beta})$. Then the _element of proper volume_ is $d^4x' = |g|^{1/2} d^4x$."
   ]
  },
  {
   "cell_type": "markdown",
   "metadata": {},
   "source": [
    "## Christoffel symbols (connection coefficients)\n",
    "\n",
    "Differentiation of a vector $\\vec{V} = V^\\alpha \\vec{e}_\\alpha$ gives (chain rule):\n",
    "$$ \\frac{\\partial \\vec{V}}{\\partial x^\\beta} = \\frac{\\partial V^\\alpha}{\\partial x^\\beta} \\vec{e}_\\alpha + V^\\alpha \\frac{\\partial \\vec{e}_\\alpha}{\\partial x^\\beta} $$\n",
    "\n",
    "In flat Minkowski space the basis vectors are constant and the second term disappears, but this is not the case in the curved space of GR.\n",
    "\n",
    "To handle derivatives of the basis vectors we introduce the Christoffel symbols $\\Gamma$ (also known as connection coefficients):\n",
    "\n",
    "$$ \\frac{\\partial e_\\alpha}{\\partial x^\\beta} = \\Gamma^\\gamma\\!_{\\alpha \\beta}\\ e_\\gamma $$\n",
    "\n",
    "Here index $\\alpha$ gives the basis being differentiated, $\\beta$ the coordinate with respect to which it is diffentiated, and $\\gamma$ the component of the resulting derivative vector.\n",
    "\n",
    "Substituting back into the original derivative equation (and after juggling dummy indices a bit):\n",
    "\n",
    "$$ \\frac{\\partial \\vec{V}}{\\partial x^\\beta} = \\left( \\frac{\\partial V^\\alpha}{\\partial x^\\beta} +  V^\\gamma \\Gamma^\\alpha\\!_{\\gamma \\beta} \\right) \\vec{e}_\\alpha = V^\\alpha\\!_{;\\beta}\\ \\vec{e}_\\alpha $$\n",
    "\n",
    "where we use semicolon notation for components of the _covariant derivative_ $\\nabla\\vec{V}$ and comma notation for the partial derivative:\n",
    "\n",
    "$$ V^\\alpha\\!_{;\\beta} \\equiv V^\\alpha\\!_{,\\beta} + V^\\gamma \\Gamma^\\alpha\\!_{\\gamma \\beta} \\qquad V^\\alpha\\!_{,\\beta} \\equiv \\frac{\\partial V^\\alpha}{\\partial x^\\beta} \\qquad ( \\nabla \\vec{V} )^\\alpha\\!_\\beta \\equiv \\nabla_\\beta V^\\alpha \\equiv  V^\\alpha\\!_{;\\beta} $$\n",
    "\n",
    "In 4-dimensional spacetime we expect $4^3 = 64$ Christoffel symbols, but in GR this is reduced by symmetry. In particular, $\\Gamma^\\gamma\\!_{\\alpha \\beta} = \\Gamma^\\gamma\\!_{\\beta \\alpha}$."
   ]
  },
  {
   "cell_type": "markdown",
   "metadata": {},
   "source": [
    "### Covariant derivatives\n",
    "\n",
    "We saw above that the covariant derivative of a vector is $\\nabla_\\beta V^\\alpha = V^\\alpha\\!_{,\\beta} +  V^\\gamma \\Gamma^\\alpha\\!_{\\gamma \\beta}$. \n",
    "\n",
    "Similarly, the covariant derivative of a 1-form is $\\nabla_\\beta V_\\alpha = V_{\\alpha\\,,\\beta} - V_\\gamma \\Gamma^\\gamma\\!_{\\alpha \\beta}$.\n",
    "\n",
    "Higher rank tensors follow a regular pattern:\n",
    "- take the partial derivative of the tensor\n",
    "- for each upper index add a term of the form $V^\\gamma \\Gamma^\\alpha\\!_{\\gamma \\beta}$\n",
    "- for each lower index subtract a term of the form $V_\\gamma \\Gamma^\\gamma\\!_{\\alpha \\beta}$"
   ]
  },
  {
   "cell_type": "markdown",
   "metadata": {},
   "source": [
    "### Christoffel symbols and the metric\n",
    "\n",
    "__Within GR__ it is always true that the covariant derivative of the metric tensor is zero (_\"metric compatibility\"_):\n",
    "$$ \\nabla_\\beta g_{\\mu \\nu} = \\nabla_\\beta g^{\\mu \\nu} = 0 $$\n",
    "\n",
    "Given this, it is possible (and very useful) to express the Christoffel symbols in terms of the inverse metric and partial derivatives of the metric:\n",
    "$$ \\Gamma^\\gamma\\!_{\\beta \\mu} = \\frac{1}{2} g^{\\alpha \\gamma} \\left( g_{\\alpha \\mu\\,,\\beta} + g_{\\alpha \\beta\\,,\\mu} + g_{\\beta \\mu\\,,\\alpha} \\right) $$"
   ]
  },
  {
   "cell_type": "markdown",
   "metadata": {},
   "source": [
    "### Example: the surface of a unit sphere in polar coordinates\n",
    "\n",
    "The radius $r$ is a constant, $1$, so the coordinates are $\\theta$ and $\\phi$. The metric $g_{ij}$ and inverse metric $g^{ij}$ are:\n",
    "\n",
    "$$ [g_{ij}] = \\begin{bmatrix} 1 & 0 \\\\ 0 & \\sin^2 \\theta \\end{bmatrix} \\qquad [g^{ij}] = \\begin{bmatrix} 1 & 0 \\\\ 0 & \\frac{1}{\\sin^2 \\theta} \\end{bmatrix}  $$\n",
    "\n"
   ]
  },
  {
   "cell_type": "code",
   "execution_count": 1,
   "metadata": {},
   "outputs": [],
   "source": [
    "from sympy.interactive.printing import init_printing\n",
    "from sympy.matrices import *\n",
    "from sympy import Array, sin, cos, diff, derive_by_array, simplify\n",
    "from sympy.abc import phi, theta\n",
    "init_printing()"
   ]
  },
  {
   "cell_type": "code",
   "execution_count": 2,
   "metadata": {},
   "outputs": [
    {
     "data": {
      "image/png": "[encoded data removed]",
      "text/latex": [
       "$\\displaystyle \\left[\\begin{matrix}1 & 0\\\\0 & \\sin^{2}{\\left(\\theta \\right)}\\end{matrix}\\right]$"
      ],
      "text/plain": [
       "⎡1     0   ⎤\n",
       "⎢          ⎥\n",
       "⎢      2   ⎥\n",
       "⎣0  sin (θ)⎦"
      ]
     },
     "metadata": {},
     "output_type": "display_data"
    },
    {
     "data": {
      "image/png": "[encoded data removed]",
      "text/latex": [
       "$\\displaystyle \\left[\\begin{matrix}1 & 0\\\\0 & \\frac{1}{\\sin^{2}{\\left(\\theta \\right)}}\\end{matrix}\\right]$"
      ],
      "text/plain": [
       "⎡1     0   ⎤\n",
       "⎢          ⎥\n",
       "⎢      1   ⎥\n",
       "⎢0  ───────⎥\n",
       "⎢      2   ⎥\n",
       "⎣   sin (θ)⎦"
      ]
     },
     "metadata": {},
     "output_type": "display_data"
    }
   ],
   "source": [
    "coords = (theta, phi)\n",
    "g_ij = Matrix([[1, 0], [0, sin(theta)**2]])\n",
    "inv_gij = g_ij.inv()\n",
    "display(g_ij, inv_gij)"
   ]
  },
  {
   "cell_type": "markdown",
   "metadata": {},
   "source": [
    "Given a (2D) matrix, SymPy can calculate all the partial derivatives at once and return them in an 3D array. Then `result[i,j,k]` = $\\displaystyle \\frac{\\partial A_{jk}}{\\partial x^i}$ (note the order of indices).\n",
    "\n",
    "In our example, only $\\displaystyle \\frac{\\partial g_{\\phi \\phi}}{\\partial \\theta}$ is non-zero."
   ]
  },
  {
   "cell_type": "code",
   "execution_count": 3,
   "metadata": {},
   "outputs": [],
   "source": [
    "def getPartialDiffs(metric, coords):\n",
    "    result = derive_by_array(metric, coords)\n",
    "    return result"
   ]
  },
  {
   "cell_type": "code",
   "execution_count": 4,
   "metadata": {},
   "outputs": [
    {
     "data": {
      "image/png": "[encoded data removed]",
      "text/latex": [
       "$\\displaystyle \\left[\\begin{matrix}\\left[\\begin{matrix}0 & 0\\\\0 & 2 \\sin{\\left(\\theta \\right)} \\cos{\\left(\\theta \\right)}\\end{matrix}\\right] & \\left[\\begin{matrix}0 & 0\\\\0 & 0\\end{matrix}\\right]\\end{matrix}\\right]$"
      ],
      "text/plain": [
       "⎡⎡0         0       ⎤  ⎡0  0⎤⎤\n",
       "⎢⎢                  ⎥  ⎢    ⎥⎥\n",
       "⎣⎣0  2⋅sin(θ)⋅cos(θ)⎦  ⎣0  0⎦⎦"
      ]
     },
     "metadata": {},
     "output_type": "display_data"
    },
    {
     "data": {
      "image/png": "[encoded data removed]",
      "text/latex": [
       "$\\displaystyle 2 \\sin{\\left(\\theta \\right)} \\cos{\\left(\\theta \\right)}$"
      ],
      "text/plain": [
       "2⋅sin(θ)⋅cos(θ)"
      ]
     },
     "execution_count": 4,
     "metadata": {},
     "output_type": "execute_result"
    }
   ],
   "source": [
    "diffs = getPartialDiffs(g_ij, coords)\n",
    "display(diffs)\n",
    "diffs[0,1,1]"
   ]
  },
  {
   "cell_type": "markdown",
   "metadata": {},
   "source": [
    "Though we expect few non-zero terms in our example, the following functions calculate $\\Gamma^{up}\\!_{l1\\,l2}$ in as general a way as possible. \n",
    "\n",
    "Unfortunately SymPy doesn't seem to have a way to pre-allocate 3D arrays (`zeros()` only handles 1 or 2 dimensions), so there are lots of ugly list appends as a workaround."
   ]
  },
  {
   "cell_type": "code",
   "execution_count": 9,
   "metadata": {},
   "outputs": [],
   "source": [
    "def calcOneChristoffel(invmetric, diffs, up, l1, l2):\n",
    "    result = 0\n",
    "    for c in range(invmetric.shape[0]): # dummy index to sum over\n",
    "        result += 1/2*invmetric[up, c]*(diffs[l1, c, l2] + diffs[l2, c, l1] - diffs[c, l1, l2])\n",
    "    return result\n",
    "\n",
    "def calcAllChristoffel(metric, coords):\n",
    "    diffs = getPartialDiffs(metric, coords)\n",
    "    invmetric = metric.inv()\n",
    "    ndims = len(coords)\n",
    "    result = []\n",
    "    for up in range(ndims):\n",
    "        result_l1 = []\n",
    "        for l1 in range(ndims):\n",
    "            result_l2 = []\n",
    "            for l2 in range(ndims):\n",
    "                result_l2.append(calcOneChristoffel(invmetric, diffs, up, l1, l2))\n",
    "            result_l1.append(result_l2)\n",
    "        result.append(result_l1)\n",
    "    return Array(result)"
   ]
  },
  {
   "cell_type": "code",
   "execution_count": 10,
   "metadata": {},
   "outputs": [
    {
     "data": {
      "image/png": "[encoded data removed]",
      "text/latex": [
       "$\\displaystyle \\left[\\begin{matrix}\\left[\\begin{matrix}0 & 0\\\\0 & - 0.5 \\sin{\\left(2 \\theta \\right)}\\end{matrix}\\right] & \\left[\\begin{matrix}0 & \\frac{1.0}{\\tan{\\left(\\theta \\right)}}\\\\\\frac{1.0}{\\tan{\\left(\\theta \\right)}} & 0\\end{matrix}\\right]\\end{matrix}\\right]$"
      ],
      "text/plain": [
       "⎡                    ⎡         1.0  ⎤⎤\n",
       "⎢                    ⎢  0     ──────⎥⎥\n",
       "⎢⎡0        0      ⎤  ⎢        tan(θ)⎥⎥\n",
       "⎢⎢                ⎥  ⎢              ⎥⎥\n",
       "⎢⎣0  -0.5⋅sin(2⋅θ)⎦  ⎢ 1.0          ⎥⎥\n",
       "⎢                    ⎢──────    0   ⎥⎥\n",
       "⎣                    ⎣tan(θ)        ⎦⎦"
      ]
     },
     "execution_count": 10,
     "metadata": {},
     "output_type": "execute_result"
    }
   ],
   "source": [
    "Gamma = calcAllChristoffel(g_ij, coords)\n",
    "simplify(Gamma)"
   ]
  },
  {
   "cell_type": "markdown",
   "metadata": {},
   "source": [
    "Next show just the non-zero values. We expect $\\Gamma^\\theta\\!_{\\phi \\phi} = -\\sin \\theta \\cos \\theta = -0.5 \\sin(2 \\theta)$ and $\\Gamma^\\phi\\!_{\\theta \\phi} = \\Gamma^\\phi\\!_{\\phi \\theta} = \\cot \\theta$. See Collier, Problem 6.3."
   ]
  },
  {
   "cell_type": "code",
   "execution_count": 11,
   "metadata": {},
   "outputs": [
    {
     "data": {
      "image/png": "[encoded data removed]",
      "text/latex": [
       "$\\displaystyle \\left( \\theta, \\  \\phi, \\  \\phi\\right)$"
      ],
      "text/plain": [
       "(θ, φ, φ)"
      ]
     },
     "metadata": {},
     "output_type": "display_data"
    },
    {
     "data": {
      "image/png": "[encoded data removed]",
      "text/latex": [
       "$\\displaystyle - 1.0 \\sin{\\left(\\theta \\right)} \\cos{\\left(\\theta \\right)}$"
      ],
      "text/plain": [
       "-1.0⋅sin(θ)⋅cos(θ)"
      ]
     },
     "metadata": {},
     "output_type": "display_data"
    },
    {
     "data": {
      "image/png": "[encoded data removed]",
      "text/latex": [
       "$\\displaystyle \\left( \\phi, \\  \\theta, \\  \\phi\\right)$"
      ],
      "text/plain": [
       "(φ, θ, φ)"
      ]
     },
     "metadata": {},
     "output_type": "display_data"
    },
    {
     "data": {
      "image/png": "[encoded data removed]",
      "text/latex": [
       "$\\displaystyle \\frac{1.0 \\cos{\\left(\\theta \\right)}}{\\sin{\\left(\\theta \\right)}}$"
      ],
      "text/plain": [
       "1.0⋅cos(θ)\n",
       "──────────\n",
       "  sin(θ)  "
      ]
     },
     "metadata": {},
     "output_type": "display_data"
    },
    {
     "data": {
      "image/png": "[encoded data removed]",
      "text/latex": [
       "$\\displaystyle \\left( \\phi, \\  \\phi, \\  \\theta\\right)$"
      ],
      "text/plain": [
       "(φ, φ, θ)"
      ]
     },
     "metadata": {},
     "output_type": "display_data"
    },
    {
     "data": {
      "image/png": "[encoded data removed]",
      "text/latex": [
       "$\\displaystyle \\frac{1.0 \\cos{\\left(\\theta \\right)}}{\\sin{\\left(\\theta \\right)}}$"
      ],
      "text/plain": [
       "1.0⋅cos(θ)\n",
       "──────────\n",
       "  sin(θ)  "
      ]
     },
     "metadata": {},
     "output_type": "display_data"
    }
   ],
   "source": [
    "def showNonzeroChristoffel(Gamma, coords):\n",
    "    ndims = len(coords)\n",
    "    for up in range(ndims):\n",
    "        for l1 in range(ndims):\n",
    "            for l2 in range(ndims):\n",
    "                if Gamma[up, l1, l2] != 0:\n",
    "                    display((coords[up], coords[l1], coords[l2]), Gamma[up, l1, l2])\n",
    "                    \n",
    "showNonzeroChristoffel(Gamma, coords)"
   ]
  },
  {
   "attachments": {
    "Parallel_Transport.svg.png": {
     "image/png": "[encoded data removed]"
    }
   },
   "cell_type": "markdown",
   "metadata": {},
   "source": [
    "## Parallel transport of vectors\n",
    "\n",
    "This is intuitive in flat Euclidean space: a vector moved around such that at each point it it parallel to the vector at the previous point will always keeping pointing in the same direction. In a curved space, such as on the surface of a sphere, the results can be different.\n",
    "\n",
    "Consider a vector parallel-transported around the path A-N-B-A. On returning to A it is clearly ___not___ parallel to how it started.\n",
    "\n",
    "![Parallel_Transport.svg.png](attachment:Parallel_Transport.svg.png) _(Image attribution: Fred the Oyster [CC BY-SA 4.0 (https://creativecommons.org/licenses/by-sa/4.0)])_\n",
    "\n"
   ]
  },
  {
   "cell_type": "markdown",
   "metadata": {},
   "source": [
    "Consider a smooth curve parameterized by $\\lambda$. The tangent vector is \n",
    "$$ U^\\beta = \\frac{dx^\\beta}{d\\lambda} = \\left( \\frac{dx^0}{d\\lambda}, \\frac{dx^1}{d\\lambda}, \\frac{dx^2}{d\\lambda}, \\frac{dx^3}{d\\lambda} \\right) $$\n",
    "\n",
    "We assume in GR that space is locally flat and a small enough region at a point $\\mathcal{P}$ will act as a _locally intertial coordinate frame_. So at $\\mathcal{P}$ on the curve, the components of a non-tangent vector $\\vec{V}$ must be constant: $\\frac{d\\vec{V}}{d\\lambda} = 0$. Also at $\\mathcal{P}$, the Christoffel symbol $\\Gamma^\\alpha\\!_{\\beta \\gamma} = 0$ and the covariant derivative is equal to the partial derivative.\n",
    "\n",
    "Notation varies for how textbooks describe this, but in one version:\n",
    "$$ \\frac{dV^\\alpha}{d\\lambda} = U^\\beta V^\\alpha\\!_{,\\beta} = U^\\beta V^\\alpha\\!_{;\\beta} = 0 $$\n",
    "\n",
    "Alternatively,\n",
    "$$ \\frac{d\\vec{V}}{d\\lambda} = \\left( \\frac{dV^\\alpha}{d\\lambda} + V^\\gamma \\Gamma^\\alpha\\!_{\\gamma \\beta} \\frac{dx^\\beta}{d\\lambda} \\right) \\vec{e}_\\alpha = \\frac{DV^\\alpha}{d\\lambda} \\vec{e}_\\alpha $$\n",
    "where the upper case D refers to the covariant derivative along the curve, sometimes known as the _absolute_ or _intrinsic_ derivative. For parallel transport, $\\frac{DV^\\alpha}{d\\lambda} = 0$."
   ]
  },
  {
   "cell_type": "markdown",
   "metadata": {},
   "source": [
    "### Geodesics\n",
    "\n",
    "These are lines that in curved space are \"as straight as possible\" in the sense that the tangent vector $U^\\alpha = \\frac{dx^\\alpha}{d\\lambda}$ is parallel-transported along the curve. This (eventually) leads to:\n",
    "$$ \\frac{DU^\\alpha}{d\\lambda} = \\frac{d^2x^\\alpha}{d\\lambda^2} + \\Gamma^\\alpha\\!_{\\gamma \\beta} \\frac{dx^\\beta}{d\\lambda} \\frac{dx^\\gamma}{d\\lambda} = 0 $$"
   ]
  },
  {
   "cell_type": "markdown",
   "metadata": {},
   "source": [
    "## The Riemann curvature tensor\n",
    "\n",
    "This rank-4 tensor is a measure of how a vector transforms a it is parallel-transported around an infinitessimal loop on the manifold. The derivation is quite long (read a book!), but the result is\n",
    "$$ R^\\alpha\\!_{\\beta \\mu \\nu} = \\Gamma^\\alpha\\!_{\\beta \\nu,\\mu} - \\Gamma^\\alpha\\!_{\\beta \\mu,\\nu} + \\Gamma^\\alpha\\!_{\\sigma \\mu} \\Gamma^\\sigma\\!_{\\beta \\nu} - \\Gamma^\\alpha\\!_{\\sigma \\nu} \\Gamma^\\sigma\\!_{\\beta \\mu} $$\n",
    "So the first two terms are partial derivatives of the Christoffel terms and the last two are products summed over a dummy variable. In $n$ dimensions this means $n^4$ terms but this is reduced by symmetries to 1 in 2D space, 6 in 3D and 20 in 4D. \n",
    "\n",
    "The metric can be used to lower the upstairs index: $R_{\\alpha \\beta \\mu \\nu} = g_{\\alpha \\lambda} R^\\lambda\\!_{\\beta \\mu \\nu}$.\n",
    "\n",
    "Both $R^\\alpha\\!_{\\beta \\mu \\nu}$ and $R_{\\alpha \\beta \\mu \\nu}$ are antisymmetric on the second pair of indices and $R_{\\alpha \\beta \\mu \\nu}$ is also antisymmetric on the first pair and symmetric on exchange of the two pairs:\n",
    "$$ R_{\\alpha \\beta \\mu \\nu} = -R_{\\beta \\alpha \\mu \\nu} = -R_{\\alpha \\beta \\nu \\mu} = R_{\\mu \\nu \\alpha \\beta} $$\n",
    "Also:\n",
    "$$ R_{\\alpha \\beta \\mu \\nu} + R_{\\alpha \\nu \\beta \\mu} +R_{\\alpha \\mu \\nu \\beta} = 0 $$"
   ]
  },
  {
   "cell_type": "code",
   "execution_count": 12,
   "metadata": {},
   "outputs": [],
   "source": [
    "def calcRiemann(Gamma, coords, up, l1, l2, l3):\n",
    "    R = diff(Gamma[up, l1, l3], coords[l2]) - diff(Gamma[up, l1, l2], coords[l3])\n",
    "    for c in range(len(coords)):\n",
    "        R += (Gamma[up, c, l2] * Gamma[c, l1, l3] - Gamma[up, c, l3] * Gamma[c, l1, l2])\n",
    "    return simplify(R)"
   ]
  },
  {
   "cell_type": "markdown",
   "metadata": {},
   "source": [
    "Calculation for the surface of a sphere, using the Christoffel symbols we calculated above:"
   ]
  },
  {
   "cell_type": "code",
   "execution_count": 13,
   "metadata": {},
   "outputs": [
    {
     "data": {
      "image/png": "[encoded data removed]",
      "text/latex": [
       "$\\displaystyle \\left( \\theta, \\  \\phi, \\  \\theta, \\  \\phi\\right)$"
      ],
      "text/plain": [
       "(θ, φ, θ, φ)"
      ]
     },
     "metadata": {},
     "output_type": "display_data"
    },
    {
     "data": {
      "image/png": "[encoded data removed]",
      "text/latex": [
       "$\\displaystyle 1.0 \\sin^{2}{\\left(\\theta \\right)}$"
      ],
      "text/plain": [
       "       2   \n",
       "1.0⋅sin (θ)"
      ]
     },
     "metadata": {},
     "output_type": "display_data"
    },
    {
     "data": {
      "image/png": "[encoded data removed]",
      "text/latex": [
       "$\\displaystyle \\left( \\theta, \\  \\phi, \\  \\phi, \\  \\theta\\right)$"
      ],
      "text/plain": [
       "(θ, φ, φ, θ)"
      ]
     },
     "metadata": {},
     "output_type": "display_data"
    },
    {
     "data": {
      "image/png": "[encoded data removed]",
      "text/latex": [
       "$\\displaystyle - 1.0 \\sin^{2}{\\left(\\theta \\right)}$"
      ],
      "text/plain": [
       "        2   \n",
       "-1.0⋅sin (θ)"
      ]
     },
     "metadata": {},
     "output_type": "display_data"
    },
    {
     "data": {
      "image/png": "[encoded data removed]",
      "text/latex": [
       "$\\displaystyle \\left( \\phi, \\  \\theta, \\  \\theta, \\  \\phi\\right)$"
      ],
      "text/plain": [
       "(φ, θ, θ, φ)"
      ]
     },
     "metadata": {},
     "output_type": "display_data"
    },
    {
     "data": {
      "image/png": "[encoded data removed]",
      "text/latex": [
       "$\\displaystyle -1.0$"
      ],
      "text/plain": [
       "-1.00000000000000"
      ]
     },
     "metadata": {},
     "output_type": "display_data"
    },
    {
     "data": {
      "image/png": "[encoded data removed]",
      "text/latex": [
       "$\\displaystyle \\left( \\phi, \\  \\theta, \\  \\phi, \\  \\theta\\right)$"
      ],
      "text/plain": [
       "(φ, θ, φ, θ)"
      ]
     },
     "metadata": {},
     "output_type": "display_data"
    },
    {
     "data": {
      "image/png": "[encoded data removed]",
      "text/latex": [
       "$\\displaystyle 1.0$"
      ],
      "text/plain": [
       "1.00000000000000"
      ]
     },
     "metadata": {},
     "output_type": "display_data"
    }
   ],
   "source": [
    "ndims = len(coords)\n",
    "for up in range(ndims):\n",
    "    for l1 in range(ndims):\n",
    "        for l2 in range(ndims):\n",
    "            for l3 in range(ndims):\n",
    "                R = calcRiemann(Gamma, coords, up, l1, l2, l3)\n",
    "                if R != 0:\n",
    "                    display((coords[up], coords[l1], coords[l2], coords[l3]), R)"
   ]
  },
  {
   "cell_type": "markdown",
   "metadata": {},
   "source": [
    "As expected, we get $R^\\theta\\!_{\\phi \\theta \\phi} = -R^\\theta\\!_{\\phi \\phi \\theta} = \\sin^2 \\theta$ (see Collier, Problem 6.9 and http://einsteinrelativelyeasy.com/index.php/general-relativity/70-the-riemann-curvature-tensor-for-the-surface-of-a-sphere).\n",
    "\n",
    "Getting $R^\\phi\\!_{\\theta \\phi \\theta} = -R^\\phi\\!_{\\theta \\theta \\phi} = 1$ was not expected from what I had read. Repeating this manually, I find $R^\\phi\\!_{\\theta \\phi \\theta} = -\\partial_\\theta \\Gamma^\\phi\\!_{\\theta \\phi} - \\Gamma^\\phi\\!_{\\theta \\phi} \\Gamma^\\phi\\!_{\\phi \\theta} = -\\partial_\\theta \\cot \\theta - \\cot^2 \\theta = 1$.\n",
    "\n",
    "We know from the Riemann symmetries that $R_{\\phi \\theta \\phi \\theta} = R_{\\theta \\phi \\theta \\phi}$ and that $R_{\\phi \\theta \\phi \\theta} = g_{\\phi \\alpha} R^\\alpha\\!_{\\theta \\phi \\theta} = g_{\\phi \\theta} R^\\theta\\!_{\\theta \\phi \\theta} + g_{\\phi \\phi} R^\\phi\\!_{\\theta \\phi \\theta} = 0 + \\sin^2(\\theta)\\ R^\\phi\\!_{\\theta \\phi \\theta}$. Similarly, $R_{\\theta \\phi \\theta \\phi} = g_{\\theta \\theta} R^\\theta\\!_{\\phi \\theta \\phi} = \\sin^2(\\theta)$.\n",
    "\n",
    "So $R^\\phi\\!_{\\theta \\phi \\theta} = 1$ is correct, and symmetry-connected to the $\\sin^2 \\theta$ terms via the metric."
   ]
  },
  {
   "cell_type": "markdown",
   "metadata": {},
   "source": [
    "## The Ricci and Einstein tensors\n",
    "\n",
    "The rank-4 Riemann tensor is clearly quite complicated, but in GR we usually work with lower-rank contractions."
   ]
  },
  {
   "cell_type": "markdown",
   "metadata": {},
   "source": [
    "### The Ricci tensor \n",
    "\n",
    "Contracting the first and last index of the Riemann tensor gives $R^\\alpha\\!_{\\mu \\nu \\alpha} = R_{\\mu \\nu}$, where $R_{\\mu \\nu}$ is the Ricci tensor. Because of the symetry of the Riemann tensor, various other contractions are possible to get $\\pm R_{\\mu \\nu}$.\n",
    "\n",
    "Equivalently, we can use the inverse metric with the index-lowered form of the Riemann tensor: $R_{\\mu \\nu} = g^{\\alpha \\beta} R^\\alpha\\!_{\\alpha \\mu \\nu \\beta}$"
   ]
  },
  {
   "cell_type": "code",
   "execution_count": 14,
   "metadata": {},
   "outputs": [],
   "source": [
    "def calcRicciTensor(Gamma, coords):\n",
    "    ndims = len(coords)\n",
    "    R = zeros(ndims)\n",
    "    for i in range(ndims):\n",
    "        for j in range(ndims):\n",
    "            for c in range(len(coords)):\n",
    "                R[i,j] += calcRiemann(Gamma, coords, c, i, j, c)\n",
    "    return simplify(R)"
   ]
  },
  {
   "cell_type": "markdown",
   "metadata": {},
   "source": [
    "The surface of a sphere example again:"
   ]
  },
  {
   "cell_type": "code",
   "execution_count": 15,
   "metadata": {},
   "outputs": [
    {
     "data": {
      "image/png": "[encoded data removed]",
      "text/latex": [
       "$\\displaystyle \\left[\\begin{matrix}-1.0 & 0\\\\0 & - 1.0 \\sin^{2}{\\left(\\theta \\right)}\\end{matrix}\\right]$"
      ],
      "text/plain": [
       "⎡-1.0       0      ⎤\n",
       "⎢                  ⎥\n",
       "⎢              2   ⎥\n",
       "⎣ 0    -1.0⋅sin (θ)⎦"
      ]
     },
     "execution_count": 15,
     "metadata": {},
     "output_type": "execute_result"
    }
   ],
   "source": [
    "R_ij = calcRicciTensor(Gamma, coords)\n",
    "R_ij"
   ]
  },
  {
   "cell_type": "markdown",
   "metadata": {},
   "source": [
    "### The Ricci scalar\n",
    "\n",
    "Contracting the Ricci tensor gives the Ricci scalar $R = g^{\\mu \\nu} R_{\\mu \\nu}$\n",
    "\n",
    "In practice, we just sum the elementwise products of these matrices:"
   ]
  },
  {
   "cell_type": "code",
   "execution_count": 16,
   "metadata": {},
   "outputs": [],
   "source": [
    "def calcRicciScalar(R_ij, invmetric):\n",
    "    return sum(invmetric * R_ij)"
   ]
  },
  {
   "cell_type": "markdown",
   "metadata": {},
   "source": [
    "The surface of a sphere example yet again:"
   ]
  },
  {
   "cell_type": "code",
   "execution_count": 17,
   "metadata": {},
   "outputs": [
    {
     "data": {
      "image/png": "[encoded data removed]",
      "text/latex": [
       "$\\displaystyle -2.0$"
      ],
      "text/plain": [
       "-2.00000000000000"
      ]
     },
     "execution_count": 17,
     "metadata": {},
     "output_type": "execute_result"
    }
   ],
   "source": [
    "R = calcRicciScalar(R_ij, inv_gij)\n",
    "R"
   ]
  },
  {
   "cell_type": "markdown",
   "metadata": {},
   "source": [
    "### The Einstein tensor\n",
    "\n",
    "This symmetric tensor is defined from both the Ricci tensor and the Ricci scalar: \n",
    "$$ G^{\\alpha \\beta} = G^{\\beta \\alpha} = R^{\\alpha \\beta} - \\frac{1}{2} R g^{\\alpha \\beta} \\qquad G_{\\alpha \\beta} = G_{\\beta \\alpha} = R_{\\alpha \\beta} - \\frac{1}{2} R g_{\\alpha \\beta} $$\n",
    "\n",
    "This is the left hand side of the Einstein filed equations, so extremely important."
   ]
  },
  {
   "cell_type": "code",
   "execution_count": 18,
   "metadata": {},
   "outputs": [],
   "source": [
    "def calcEinstein(R_ij, R, g_ij):\n",
    "    return R_ij - R/2*g_ij"
   ]
  },
  {
   "cell_type": "markdown",
   "metadata": {},
   "source": [
    "The result is particularly boring on the surface of a sphere:"
   ]
  },
  {
   "cell_type": "code",
   "execution_count": 19,
   "metadata": {},
   "outputs": [
    {
     "data": {
      "image/png": "[encoded data removed]",
      "text/latex": [
       "$\\displaystyle \\left[\\begin{matrix}0 & 0\\\\0 & 0\\end{matrix}\\right]$"
      ],
      "text/plain": [
       "⎡0  0⎤\n",
       "⎢    ⎥\n",
       "⎣0  0⎦"
      ]
     },
     "execution_count": 19,
     "metadata": {},
     "output_type": "execute_result"
    }
   ],
   "source": [
    "calcEinstein(R_ij, R, g_ij)"
   ]
  },
  {
   "cell_type": "markdown",
   "metadata": {},
   "source": [
    "### Bianchi identities\n",
    "\n",
    "In full form, these are a relationship between covariant derivatives:\n",
    "$$ R_{\\alpha \\beta \\mu \\nu ;\\lambda} + R_{\\alpha \\beta \\lambda \\mu ;\\nu} + R_{\\alpha \\beta \\nu \\lambda ;\\mu} == 0 $$ \n",
    "\n",
    "Applying the Ricci contraction then using the symmetries eventually simplifies this to\n",
    "$$ (2R^\\mu\\!_\\lambda - \\delta^\\mu\\!_\\lambda R)_{;\\mu} = 0 $$ \n",
    "\n",
    "The implication for the Einstein tensor is\n",
    "$$ G^{\\alpha \\beta}\\!_{;\\beta} = 0 $$\n",
    "\n",
    "This means that the Einstein tensor has zero divergence."
   ]
  },
  {
   "cell_type": "code",
   "execution_count": null,
   "metadata": {},
   "outputs": [],
   "source": []
  }
 ],
 "metadata": {
  "kernelspec": {
   "display_name": "Python 3",
   "language": "python",
   "name": "python3"
  },
  "language_info": {
   "codemirror_mode": {
    "name": "ipython",
    "version": 3
   },
   "file_extension": ".py",
   "mimetype": "text/x-python",
   "name": "python",
   "nbconvert_exporter": "python",
   "pygments_lexer": "ipython3",
   "version": "3.6.8"
  },
  "toc": {
   "base_numbering": 1,
   "nav_menu": {},
   "number_sections": true,
   "sideBar": true,
   "skip_h1_title": true,
   "title_cell": "Contents",
   "title_sidebar": "Contents",
   "toc_cell": true,
   "toc_position": {
    "height": "calc(100% - 180px)",
    "left": "10px",
    "top": "150px",
    "width": "317px"
   },
   "toc_section_display": true,
   "toc_window_display": true
  }
 },
 "nbformat": 4,
 "nbformat_minor": 2
}
