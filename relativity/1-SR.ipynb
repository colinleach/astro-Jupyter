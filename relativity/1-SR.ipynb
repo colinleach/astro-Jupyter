{
 "cells": [
  {
   "cell_type": "markdown",
   "metadata": {},
   "source": [
    "# Special Relativity\n",
    "\n",
    "_Colin Leach, May 2019_"
   ]
  },
  {
   "cell_type": "markdown",
   "metadata": {
    "toc": true
   },
   "source": [
    "<h1>Contents<span class=\"tocSkip\"></span></h1>\n",
    "<div class=\"toc\"><ul class=\"toc-item\"><li><span><a href=\"#Units-and-conventions\" data-toc-modified-id=\"Units-and-conventions-1\"><span class=\"toc-item-num\">1&nbsp;&nbsp;</span>Units and conventions</a></span></li><li><span><a href=\"#Invariant-interval\" data-toc-modified-id=\"Invariant-interval-2\"><span class=\"toc-item-num\">2&nbsp;&nbsp;</span>Invariant interval</a></span><ul class=\"toc-item\"><li><span><a href=\"#Minkowski-metric\" data-toc-modified-id=\"Minkowski-metric-2.1\"><span class=\"toc-item-num\">2.1&nbsp;&nbsp;</span>Minkowski metric</a></span></li></ul></li><li><span><a href=\"#Spacetime-diagram\" data-toc-modified-id=\"Spacetime-diagram-3\"><span class=\"toc-item-num\">3&nbsp;&nbsp;</span>Spacetime diagram</a></span></li><li><span><a href=\"#Relative-motion\" data-toc-modified-id=\"Relative-motion-4\"><span class=\"toc-item-num\">4&nbsp;&nbsp;</span>Relative motion</a></span><ul class=\"toc-item\"><li><span><a href=\"#Invariant-hyperbolae\" data-toc-modified-id=\"Invariant-hyperbolae-4.1\"><span class=\"toc-item-num\">4.1&nbsp;&nbsp;</span>Invariant hyperbolae</a></span></li><li><span><a href=\"#Simultaneity-and-tangency\" data-toc-modified-id=\"Simultaneity-and-tangency-4.2\"><span class=\"toc-item-num\">4.2&nbsp;&nbsp;</span>Simultaneity and tangency</a></span></li></ul></li><li><span><a href=\"#The-Lorentz-transformation\" data-toc-modified-id=\"The-Lorentz-transformation-5\"><span class=\"toc-item-num\">5&nbsp;&nbsp;</span>The Lorentz transformation</a></span><ul class=\"toc-item\"><li><span><a href=\"#Time-dilation-and-proper-time\" data-toc-modified-id=\"Time-dilation-and-proper-time-5.1\"><span class=\"toc-item-num\">5.1&nbsp;&nbsp;</span>Time dilation and proper time</a></span></li><li><span><a href=\"#Lorentz-contraction\" data-toc-modified-id=\"Lorentz-contraction-5.2\"><span class=\"toc-item-num\">5.2&nbsp;&nbsp;</span>Lorentz contraction</a></span></li><li><span><a href=\"#Velocity-composition\" data-toc-modified-id=\"Velocity-composition-5.3\"><span class=\"toc-item-num\">5.3&nbsp;&nbsp;</span>Velocity composition</a></span></li><li><span><a href=\"#Velocity-parameter\" data-toc-modified-id=\"Velocity-parameter-5.4\"><span class=\"toc-item-num\">5.4&nbsp;&nbsp;</span>Velocity parameter</a></span></li></ul></li><li><span><a href=\"#Vectors-and-mechanics-in-SR\" data-toc-modified-id=\"Vectors-and-mechanics-in-SR-6\"><span class=\"toc-item-num\">6&nbsp;&nbsp;</span>Vectors and mechanics in SR</a></span><ul class=\"toc-item\"><li><span><a href=\"#Basis-vectors\" data-toc-modified-id=\"Basis-vectors-6.1\"><span class=\"toc-item-num\">6.1&nbsp;&nbsp;</span>Basis vectors</a></span></li><li><span><a href=\"#Four-velocity\" data-toc-modified-id=\"Four-velocity-6.2\"><span class=\"toc-item-num\">6.2&nbsp;&nbsp;</span>Four velocity</a></span></li><li><span><a href=\"#Four-momentum\" data-toc-modified-id=\"Four-momentum-6.3\"><span class=\"toc-item-num\">6.3&nbsp;&nbsp;</span>Four momentum</a></span></li><li><span><a href=\"#Energy-in-SR\" data-toc-modified-id=\"Energy-in-SR-6.4\"><span class=\"toc-item-num\">6.4&nbsp;&nbsp;</span>Energy in SR</a></span></li></ul></li><li><span><a href=\"#Relativistic-beaming-(headlight-effect)\" data-toc-modified-id=\"Relativistic-beaming-(headlight-effect)-7\"><span class=\"toc-item-num\">7&nbsp;&nbsp;</span>Relativistic beaming (headlight effect)</a></span></li></ul></div>"
   ]
  },
  {
   "cell_type": "code",
   "execution_count": 2,
   "metadata": {},
   "outputs": [],
   "source": [
    "%matplotlib inline\n",
    "import numpy as np\n",
    "import matplotlib.pyplot as plt\n",
    "plt.rcParams.update({'font.size': 16})\n",
    "\n",
    "from ipywidgets import interact, Layout \n",
    "import ipywidgets as w"
   ]
  },
  {
   "cell_type": "markdown",
   "metadata": {},
   "source": [
    "## Units and conventions\n",
    "\n",
    "SR is of most relevance to ___unaccelerated___ bodies moving at a significant fraction of the speed of light $c$. It can be useful to define some dimensionless factors:\n",
    "$$ \\beta = \\frac{v}{c} \\qquad \\gamma = \\frac{1}{\\sqrt{1-\\frac{v^2}{c^2}}} \\, \\ge 1 $$\n",
    "For $v \\ll c$ Taylor expansion gives the approximation\n",
    "$$  \\gamma \\approx\\, 1 + \\frac{v^2}{2 c^2} $$\n",
    "\n",
    "In relativity, SI units aren't very useful and most physicists prefer _natural units_ in which $c = 1$ and is omitted from equations. Then\n",
    "$$ \\beta = v \\qquad \\gamma = \\frac{1}{\\sqrt{1-v^2}}\\ \\stackrel{v \\ll c}{\\approx}\\ 1 + \\frac{v^2}{2}$$\n",
    "Also, the distance travelled by light in time $t$ is $ct = t$ and the time component of spacetime is measured in meters. Dimensional analysis, but not as we know it."
   ]
  },
  {
   "cell_type": "markdown",
   "metadata": {},
   "source": [
    "## Invariant interval\n",
    "\n",
    "In Euclidean 3-space, the distance between two points is given by $(\\Delta s)^2 = (\\Delta x)^2 + (\\Delta y)^2 + (\\Delta z)^2$.\n",
    "\n",
    "The Minkowski (flat) spacetime of special relativity has an equivalent definition but with a sign change:\n",
    "$$ (\\Delta s)^2 = -(\\Delta t)^2 + (\\Delta x)^2 + (\\Delta y)^2 + (\\Delta z)^2 $$\n",
    "\n",
    "Note that the _overall_ sign is not consistently agreed and many authors instead use a $+ - - -$ definition instead of our $- + + +$; beware!\n",
    "\n",
    "This interval is extremely important in SR, mainly because it is frame invariant and the same for all observers."
   ]
  },
  {
   "cell_type": "markdown",
   "metadata": {},
   "source": [
    "### Minkowski metric\n",
    "\n",
    "In Euclidean geometry, a distance element is defined by $dl^2 = dx^2 + dy^2 + dz^2$. In index notation, using the Einstein summation convention, this can be written $dl^2 = \\sum_{i=1}^3 dx^i dx^i = g_{ab} dx^a dx^b$ where the metric $g_{ab}$ is just the identity matrix:\n",
    "$$ g_{ab}\\ =\\ \\begin{bmatrix} \n",
    "1 & 0 & 0 \\\\\n",
    "0 & 1 & 0 \\\\\n",
    "0 & 0 & 1 \\end{bmatrix} $$\n",
    "\n",
    "In SR the interval is defined by $ds^2 = -dt^2 + dx^2 + dy^2 + dz^2$ and in index notation we can write \n",
    "\n",
    "$$ds^2 = \\eta_{\\mu \\nu} dx^\\mu dx^\\nu$$\n",
    "\n",
    "Here $\\eta_{\\mu \\nu}$ is the Minkowski metric with $\\mu, \\nu \\in \\{0,1,2,3\\}$:\n",
    "$$ \\eta_{\\mu \\nu}\\ =\\ \\begin{bmatrix} \n",
    "\\eta_{00} & \\eta_{01} & \\eta_{02} & \\eta_{03} \\\\\n",
    "\\eta_{10} & \\eta_{11} & \\eta_{12} & \\eta_{13} \\\\\n",
    "\\eta_{20} & \\eta_{21} & \\eta_{22} & \\eta_{23} \\\\\n",
    "\\eta_{30} & \\eta_{31} & \\eta_{32} & \\eta_{33}  \\end{bmatrix} =\\ \\begin{bmatrix} \n",
    "-1 & 0 & 0 & 0 \\\\\n",
    "0 & 1 & 0 & 0 \\\\\n",
    "0 & 0 & 1 & 0 \\\\\n",
    "0 & 0 & 0 & 1 \\end{bmatrix} $$\n",
    "\n",
    "Alternatively we can define the same interval in spherical coordinates:\n",
    "\n",
    "$$ds^2 = -dt^2 + dr^2 + r^2 d\\theta^2 + r^2 \\sin^2\\theta\\ d\\phi^2 $$\n",
    "\n",
    "Now the metric is\n",
    "$$ \\begin{bmatrix} \n",
    "-1 & 0 & 0 & 0 \\\\\n",
    "0 & 1 & 0 & 0 \\\\\n",
    "0 & 0 & r^2 & 0 \\\\\n",
    "0 & 0 & 0 & r^2 \\sin^2\\theta \\end{bmatrix} $$\n",
    "with coordinates {$t, r, \\theta, \\phi$}"
   ]
  },
  {
   "cell_type": "markdown",
   "metadata": {},
   "source": [
    "## Spacetime diagram\n",
    "\n",
    "For simplicity we plot $x$ horizontally and $t$ (actually $ct$) vertically, ignoring $y$ and $z$. An \"event\" is some point on this diagram. A \"world line\" represents the position of a particle at different times.\n",
    "\n",
    "A particle at rest in this frame will have a world line which is vertical (parallel to the $t$ axis with $x$ constant) and the world line of a particle moving with velocity $v$ will slope (angle to the $t$ axis is $\\arctan(v)$). For an accelerating particle the world line will curve.\n",
    "\n",
    "Most importantly, a massless particle (photon) at the speed of light travels at a $45^\\circ$ angle on _every_ spacetime diagram: this is frame invariant.\n",
    "\n",
    "It is interesting to plot how the interval from the origin varies around the diagram:"
   ]
  },
  {
   "cell_type": "code",
   "execution_count": 3,
   "metadata": {},
   "outputs": [
    {
     "data": {
      "image/png": "[encoded data removed]",
      "text/plain": [
       "<Figure size 576x576 with 2 Axes>"
      ]
     },
     "metadata": {
      "needs_background": "light"
     },
     "output_type": "display_data"
    }
   ],
   "source": [
    "from matplotlib.ticker import MaxNLocator\n",
    "\n",
    "# make these smaller to increase the resolution\n",
    "dx, dt = 0.05, 0.05\n",
    "\n",
    "# generate 2 2d grids for the x & y bounds\n",
    "t, x = np.mgrid[slice(-2, 2 + dt, dt),\n",
    "                slice(-2, 2 + dx, dx)]\n",
    "s_sq = -t**2 + x**2\n",
    "\n",
    "# x and t are bounds, so z should be the value *inside* those bounds.\n",
    "# Therefore, remove the last value from the z array.\n",
    "s_sq = s_sq[:-1, :-1]\n",
    "levels = MaxNLocator(nbins=15).tick_values(s_sq.min(), s_sq.max())\n",
    "\n",
    "\n",
    "cmap = plt.get_cmap('PiYG')\n",
    "fig = plt.figure(figsize=(8, 8))\n",
    "ax1 = fig.add_subplot(1, 1, 1)\n",
    "\n",
    "cf = ax1.contourf(x[:-1, :-1] + dx/2.,\n",
    "                  t[:-1, :-1] + dt/2., s_sq, levels=levels,\n",
    "                  cmap=cmap)\n",
    "fig.colorbar(cf, ax=ax1)\n",
    "plt.plot((-2,2), (-2,2), 'k-')\n",
    "plt.plot((-2,2), (2,-2), 'k-')\n",
    "plt.axis('equal')\n",
    "plt.xlabel('x')\n",
    "plt.ylabel('t')\n",
    "ax1.set_title('Contours of $(\\Delta s)^2$');"
   ]
  },
  {
   "cell_type": "markdown",
   "metadata": {},
   "source": [
    "The black diagonal lines are \"light-like\" or \"null-separated\" and $(\\Delta s)^2 = 0$, always.\n",
    "\n",
    "The reddish regions have $(\\Delta s)^2 < 0$ and are \"timelike separated\". The upper portion is the future of an event at the origin and the lower portion is the past.\n",
    "\n",
    "The green regions have $(\\Delta s)^2 > 0$ and are \"spacelike separated\". An event at the origin can only reach them by travelling faster than the speed of light (impossible), so they are sometimes called the \"absolute elsewhere\" of this event."
   ]
  },
  {
   "attachments": {
    "spacetime1.png": {
     "image/png": "[encoded data removed]"
    }
   },
   "cell_type": "markdown",
   "metadata": {},
   "source": [
    "## Relative motion\n",
    "\n",
    "Suppose an observer $\\mathcal{O}$ uses the coordinates $t$, $x$ and another observer $\\mathcal{O'}$ using coordinates $t'$, $x'$ is moving at velocity $v$ in the $x$ direction relative to $\\mathcal{O}$. How can we represent the coordinates of $\\mathcal{O'}$ on the spacetime diagram of $\\mathcal{O}$?\n",
    "\n",
    "Assume that the observers are at the same position $x = x' = 0$ when $t = t' = 0$, so their coordinate systems share a common origin. Geometrically, we can see that the $t'$ axis forms an angle $\\arctan(v)$ with the $t$ axis. Light must have a $45^\\circ$ world line in any coordinates, so by symmetry the $x'$ axis forms an angle $\\arctan(v)$ with the $x$ axis. The result is something like this, with the unprimed axes in black, the primed axes in blue, and light dashed yellow (and $v = 0.5$):\n",
    "![spacetime1.png](attachment:spacetime1.png)"
   ]
  },
  {
   "cell_type": "markdown",
   "metadata": {},
   "source": [
    "### Invariant hyperbolae\n",
    "\n",
    "The primed axes have no tickmarks on the diagram above. To calibrate them, consider a curve with the equation $ -t^2 + x^2 = a^2 $\n",
    "\n",
    "This is a hyperbola in the spacetime diagram of $\\mathcal{O}$ passing through all events whose interval from the origin is $a^2$. Because the interval is frame invariant, the same events have interval $a^2$ from the origin in $\\mathcal{O'}$ and lie on the curve $-(t')^2 + (x')^2 = a^2$\n",
    "\n",
    "We can now extend the above plot by adding some hyperbolae for various values of $a^2$. The tickmarks on the (blue) primes axes are not drawn explicitly, but are at the intersections with hyperbolae of integer $a$:"
   ]
  },
  {
   "cell_type": "code",
   "execution_count": 4,
   "metadata": {},
   "outputs": [],
   "source": [
    "import warnings\n",
    "\n",
    "def plotSpacetime(v):\n",
    "    axmin= -2\n",
    "    axmax = 3\n",
    "    x = np.linspace(axmin, axmax, 100)\n",
    "    \n",
    "    fig = plt.figure(figsize=(8, 8))\n",
    "    ax = fig.add_subplot(1, 1, 1)\n",
    "\n",
    "    #spine placement data centered\n",
    "    ax.spines['left'].set_position(('data', 0.0))\n",
    "    ax.spines['bottom'].set_position(('data', 0.0))\n",
    "    ax.spines['right'].set_color('none')\n",
    "    ax.spines['top'].set_color('none')\n",
    "    \n",
    "    # the x', t' axes\n",
    "    plt.plot(x, x/v, 'b-', label='primed axes')\n",
    "    plt.plot(x, x*v, 'b-')\n",
    "    \n",
    "    # light cone\n",
    "    plt.plot(x, x, 'y--', label='light')\n",
    "    plt.plot(x, -x, 'y--')\n",
    "    \n",
    "    # invariant hyperbolae: t\n",
    "    plt.plot(x, np.sqrt(4 + x**2), color='gray', ls=':', label='invariant hyperbolae')\n",
    "    plt.plot(x, np.sqrt(1 + x**2), color='gray', ls=':')\n",
    "    plt.plot(x, -np.sqrt(4 + x**2), color='gray', ls=':')\n",
    "    plt.plot(x, -np.sqrt(1 + x**2), color='gray', ls=':')\n",
    "    \n",
    "    # invariant hyperbolae: x\n",
    "    # suppress some invalid-value warnings from sqrt\n",
    "    with warnings.catch_warnings():\n",
    "        warnings.simplefilter(\"ignore\")\n",
    "        plt.plot(x, np.sqrt(-4 + x**2), color='gray', ls=':')\n",
    "        plt.plot(x, np.sqrt(-1 + x**2), color='gray', ls=':')\n",
    "        plt.plot(x, -np.sqrt(-4 + x**2), color='gray', ls=':')\n",
    "        plt.plot(x, -np.sqrt(-1 + x**2), color='gray', ls=':')\n",
    "    \n",
    "    plt.xlim(axmin, axmax)\n",
    "    plt.ylim(axmin, axmax)\n",
    "#     plt.axis('equal')\n",
    "    plt.xlabel('x')\n",
    "    plt.ylabel('t')\n",
    "    plt.legend(loc='lower right', framealpha=0.9, shadow=True, fontsize=14)\n",
    "    plt.title(f'Relative velocity {v}', y=1.05, fontsize=20);\n",
    "#     plt.tight_layout();"
   ]
  },
  {
   "cell_type": "code",
   "execution_count": 5,
   "metadata": {},
   "outputs": [
    {
     "data": {
      "application/vnd.jupyter.widget-view+json": {
       "model_id": "05dfc5129b5e4b3597d489f968d7d44e",
       "version_major": 2,
       "version_minor": 0
      },
      "text/plain": [
       "interactive(children=(FloatSlider(value=0.5, continuous_update=False, description='Relative velocity', layout=…"
      ]
     },
     "metadata": {},
     "output_type": "display_data"
    }
   ],
   "source": [
    "style = {'description_width': 'initial'} # to avoid the labels getting truncated\n",
    "interact(plotSpacetime, \n",
    "             v = w.FloatSlider(description=\"Relative velocity\", style=style,\n",
    "                                layout=Layout(width='80%'), continuous_update=False,\n",
    "                                min=0.05, max=0.95, step=0.05, value=0.5));"
   ]
  },
  {
   "cell_type": "markdown",
   "metadata": {},
   "source": [
    "The code cheats by limiting the velocity range to avoid divide-by-zero errors. In the limits:\n",
    "\n",
    "- for $v=0$ there is no relative motion and the coordinates are identical: the observers share a rest frame\n",
    "- for $v=c=1$ no hyperbolae ever cross and time dilation is infinite. This was used to argue that [neutrino oscillation implies a non-zero mass](https://en.wikipedia.org/wiki/Neutrino_oscillation)."
   ]
  },
  {
   "cell_type": "markdown",
   "metadata": {},
   "source": [
    "### Simultaneity and tangency\n",
    "\n",
    "The locus of points that are simultaneous in $\\mathcal{O}$ is simply a horizontal line $t$ = const, tangent to an invariant hyperbola. In $\\mathcal{O'}$ the line of simultaneity is tangent to the same hyperbola and parallel to the $x'$ axis, i.e. with slope $v$ in $\\mathcal{O}$ coordinates. The point of tangency is where the hyperbola crosses the $t'$ axis.\n",
    "\n",
    "This is visualized in the next bit of code."
   ]
  },
  {
   "cell_type": "code",
   "execution_count": 6,
   "metadata": {},
   "outputs": [],
   "source": [
    "def tangentIntercept(v, a):\n",
    "    \"return b in line t = vx + b tangent to x^2 - t^2 = a^2\"\n",
    "    \n",
    "    # tangent point is (x1,t1)\n",
    "    x1 = a*v/np.sqrt(1 - v**2)\n",
    "    t1 = np.sqrt(x1**2 + a**2)\n",
    "    b = t1 - v*x1\n",
    "    return b"
   ]
  },
  {
   "cell_type": "code",
   "execution_count": 7,
   "metadata": {},
   "outputs": [],
   "source": [
    "def plotTangent(v):\n",
    "    axmin= -2\n",
    "    axmax = 3\n",
    "    x = np.linspace(axmin, axmax, 100)\n",
    "    \n",
    "    a = 2\n",
    "    \n",
    "    fig = plt.figure(figsize=(8, 8))\n",
    "    ax = fig.add_subplot(1, 1, 1)\n",
    "\n",
    "    #spine placement data centered\n",
    "    ax.spines['left'].set_position(('data', 0.0))\n",
    "    ax.spines['bottom'].set_position(('data', 0.0))\n",
    "    ax.spines['right'].set_color('none')\n",
    "    ax.spines['top'].set_color('none')\n",
    "    \n",
    "    # the x', t' axes\n",
    "    plt.plot(x, x/v, 'b-', label='primed axes')\n",
    "    plt.plot(x, x*v, 'b-')\n",
    "    \n",
    "    # invariant hyperbola\n",
    "    plt.plot(x, np.sqrt(a**2 + x**2), color='gray', ls=':', label='invariant hyperbolae')\n",
    "    \n",
    "    # tangent lines\n",
    "    plt.plot((axmin,axmax), (a, a), 'r--', label='unprimed line of simultaneity')\n",
    "    b = tangentIntercept(v, a)\n",
    "    plt.plot(x, v*x+b, 'r-', label='primed line of simultaneity')\n",
    "    \n",
    "    plt.xlim(axmin, axmax)\n",
    "    plt.ylim(axmin, axmax)\n",
    "#     plt.axis('equal')\n",
    "    plt.xlabel('x')\n",
    "    plt.ylabel('t')\n",
    "    plt.legend(loc='lower right', framealpha=0.9, shadow=True, fontsize=14)\n",
    "    plt.title(f'Relative velocity {v}', y=1.05, fontsize=20);"
   ]
  },
  {
   "cell_type": "code",
   "execution_count": 8,
   "metadata": {},
   "outputs": [
    {
     "data": {
      "application/vnd.jupyter.widget-view+json": {
       "model_id": "e6dadbee7b234cf6a2e8d37aa22bdef9",
       "version_major": 2,
       "version_minor": 0
      },
      "text/plain": [
       "interactive(children=(FloatSlider(value=0.5, continuous_update=False, description='Relative velocity', layout=…"
      ]
     },
     "metadata": {},
     "output_type": "display_data"
    }
   ],
   "source": [
    "interact(plotTangent, \n",
    "             v = w.FloatSlider(description=\"Relative velocity\", style=style,\n",
    "                                layout=Layout(width='80%'), continuous_update=False,\n",
    "                                min=0.05, max=0.95, step=0.05, value=0.5));"
   ]
  },
  {
   "cell_type": "markdown",
   "metadata": {},
   "source": [
    "## The Lorentz transformation\n",
    "\n",
    "The previous section treated relative motion geometrically, but we will want to deal with it algebraically: the Lorentz transformation.\n",
    "\n",
    "For an inertial frame $\\mathcal{O'}$ moving at $\\dot{x} = v$ relative to the rest frame $\\mathcal{O}$ (a \"boost\" along the $x$-axis):\n",
    "\n",
    "$$ x' = \\gamma (x-v t), \\quad t' = \\gamma (t - vx) , \\quad y'=y,\\quad z'=z $$\n",
    "\n",
    "For the inverse transform, flip the sign of $v$:\n",
    "$$ x = \\gamma (x'+v t), \\quad t = \\gamma (t' + vx) , \\quad y=y',\\quad z=z' $$\n",
    "\n",
    "In matrix form ($\\mathbf{x}' = \\mathbf{\\Lambda x}$):\n",
    "$$ \\begin{bmatrix} t' \\\\ x' \\\\ y' \\\\ z' \\end{bmatrix} = \n",
    "\\begin{bmatrix} \n",
    "\\gamma & -v \\gamma & 0 & 0 \\\\\n",
    "-v \\gamma & \\gamma & 0 & 0 \\\\\n",
    "0 & 0 & 1 & 0 \\\\\n",
    "0 & 0 & 0 & 1 \\\\\n",
    "\\end{bmatrix} \n",
    "\\ \\begin{bmatrix} t \\\\ x \\\\ y \\\\ z \\end{bmatrix} $$\n",
    "\n",
    "In index notation: $ x'^\\mu = \\Lambda^\\mu\\!_\\nu x^\\nu $\n",
    "\n",
    "As noted previously, the Lorentz factor $\\gamma = \\frac{1}{\\sqrt{1-v^2}} \\ge 1$. These can be large for highly relativistic particles: around $10^4$ for protons in the LHC beam, up to $10^{11}$ (though rarely!) in cosmic rays.\n",
    "\n",
    "If the dimensions look odd, remember that $x$ and $t$ (actually $ct$) both have units of length and $v$ (actually $v/c$) is dimensionless. This is physics, not engineering."
   ]
  },
  {
   "cell_type": "code",
   "execution_count": 9,
   "metadata": {},
   "outputs": [],
   "source": [
    "def v2gamma(v):\n",
    "    return 1/np.sqrt(1 - v**2)\n",
    "\n",
    "def gamma2v(gamma):\n",
    "    return np.sqrt(1 - 1/gamma**2)\n",
    "\n",
    "def lorentzLambda(v=None, gamma=None):\n",
    "    # needs either v or gamma\n",
    "    if v is not None:\n",
    "        gamma = v2gamma(v)\n",
    "    elif gamma is not None:\n",
    "        v = gamma2v(gamma)\n",
    "    else:\n",
    "        raise ValueError('Missing parameter: must specify either v or gamma')\n",
    "        \n",
    "    L = np.eye(4)\n",
    "    L[0,0] = L[1,1] = gamma\n",
    "    L[0,1] = L[1,0] = -v*gamma\n",
    "    return L"
   ]
  },
  {
   "cell_type": "code",
   "execution_count": 10,
   "metadata": {},
   "outputs": [
    {
     "data": {
      "text/plain": [
       "array([ 1.        ,  1.15470054,  2.29415734,  7.08881205, 22.36627204,\n",
       "       70.71244595])"
      ]
     },
     "execution_count": 10,
     "metadata": {},
     "output_type": "execute_result"
    }
   ],
   "source": [
    "v = np.array([0, 0.5, 0.9, 0.99, 0.999, 0.9999])\n",
    "v2gamma(v)"
   ]
  },
  {
   "cell_type": "markdown",
   "metadata": {},
   "source": [
    "The relationship between velocity and the Lorentz factor $\\gamma$ is ___highly___ non-linear. Note that the graph below is a semi-log plot:"
   ]
  },
  {
   "cell_type": "code",
   "execution_count": 11,
   "metadata": {
    "scrolled": true
   },
   "outputs": [
    {
     "data": {
      "image/png": "[encoded data removed]",
      "text/plain": [
       "<Figure size 432x288 with 1 Axes>"
      ]
     },
     "metadata": {
      "needs_background": "light"
     },
     "output_type": "display_data"
    }
   ],
   "source": [
    "gamma = np.array([10**(x/10) for x in range(2,80)])\n",
    "# display(gamma)\n",
    "v = gamma2v(gamma)\n",
    "# display(v)\n",
    "\n",
    "plt.plot(v, gamma)\n",
    "plt.xlabel('v')\n",
    "plt.ylabel('gamma')\n",
    "plt.yscale('log');"
   ]
  },
  {
   "cell_type": "markdown",
   "metadata": {},
   "source": [
    "Other notebooks in this series will deal with the tensor nature of these transformations. For now we can just treat everything as NumPy arrays and use the matrix multiplication operator @ (in Python 3.5 and later)."
   ]
  },
  {
   "cell_type": "code",
   "execution_count": 12,
   "metadata": {},
   "outputs": [
    {
     "data": {
      "text/plain": [
       "array([ 2.88675135, -0.57735027,  0.        ,  0.        ])"
      ]
     },
     "execution_count": 12,
     "metadata": {},
     "output_type": "execute_result"
    }
   ],
   "source": [
    "# get the transformation matrix\n",
    "L = lorentzLambda(v=0.5) \n",
    "\n",
    "# an arbitrary event in spacetime, unprimed coordinates\n",
    "p = np.array([3,1,0,0])\n",
    "\n",
    "# the same event in primed coordinates\n",
    "p_prime = L @ p\n",
    "p_prime"
   ]
  },
  {
   "cell_type": "markdown",
   "metadata": {},
   "source": [
    "### Time dilation and proper time\n",
    "\n",
    "Consider the time interval between two events on an object moving relative to us. We measure that in _coordinate time_, $\\Delta t = t_2 - t_1$ in our coordinate system.\n",
    "\n",
    "A clock moving with the object (i.e. in its rest frame) will measure the _proper time_ $\\Delta \\tau$, where $\\Delta \\tau^2 = - \\Delta s^2$. The proper time is the square root of the _negative_ of the interval (with the usual proviso that some authors use the opposite sign for $\\Delta s^2$; everyone agrees on $\\Delta \\tau^2$).\n",
    "\n",
    "These are related by $$\\Delta \\tau = \\frac{\\Delta t}{\\gamma} \\le \\Delta t$$\n",
    "\n",
    "We see the object's on-board clock as running slow, and symmetrically they see ours as running slow. This has real and obvious consequences for the lifetime of relativistic particles such as muons.\n",
    "\n",
    "Note that as $v \\rightarrow 1$ (i.e. $c$), $\\gamma \\rightarrow \\infty$ and $\\Delta \\tau \\rightarrow 0$."
   ]
  },
  {
   "cell_type": "markdown",
   "metadata": {},
   "source": [
    "### Lorentz contraction\n",
    "\n",
    "If an object is moving relative to us, we see it shortened by a factor $\\gamma$ in the direction of travel: $\\Delta x = \\frac{\\Delta x'}{\\gamma}$.\n",
    "\n",
    "This is symmetrical: an observer on that object will also see us foreshortened."
   ]
  },
  {
   "cell_type": "markdown",
   "metadata": {},
   "source": [
    "### Velocity composition\n",
    "\n",
    "Continue the idea of an inertial frame $\\mathcal{O'}$ moving at $\\dot{x} = v$ relative to the rest frame $\\mathcal{O}$. If a particle has velocity $u$ with respect to $\\mathcal{O'}$, the velocity with respect to $\\mathcal{O}$ is the relativistic version of Newtonian $w = u+v$:\n",
    "$$ w = \\frac{u+v}{1+uv} $$\n",
    "Importantly, $w \\le c$ always, and if $u=v=c=1$ then $w=c=1$."
   ]
  },
  {
   "cell_type": "markdown",
   "metadata": {},
   "source": [
    "### Velocity parameter\n",
    "\n",
    "Velocity addition may be simpler if we define velocity parameters $U$ and $V$, defined by $u = \\tanh(U)$, $v = \\tanh(V)$. Then $w = \\tanh(U + V)$: the velocity parameters add linearly. Note that $-1 \\le u \\le 1$, as required, for $-\\infty \\le U \\le \\infty$.\n",
    "\n",
    "We can also use these parameters in the Lorentz transformation:\n",
    "\n",
    "$$ \\mathbf{\\Lambda}\\ =\\ \\begin{bmatrix} \n",
    "\\gamma & -v \\gamma & 0 & 0 \\\\\n",
    "-v \\gamma & \\gamma & 0 & 0 \\\\\n",
    "0 & 0 & 1 & 0 \\\\\n",
    "0 & 0 & 0 & 1 \\\\\n",
    "\\end{bmatrix}\\ =\\ \\begin{bmatrix} \n",
    "\\cosh(V) & -\\sinh(V) & 0 & 0 \\\\\n",
    "-\\sinh(V) & \\cosh(V) & 0 & 0 \\\\\n",
    "0 & 0 & 1 & 0 \\\\\n",
    "0 & 0 & 0 & 1 \\\\\n",
    "\\end{bmatrix} $$\n"
   ]
  },
  {
   "cell_type": "markdown",
   "metadata": {},
   "source": [
    "## Vectors and mechanics in SR\n",
    "\n",
    "The concept of a vector as a geometrical object with _magnitude_ and _direction_ applies both in Euclidean space and Minkowski spacetime. Representing the vector as components in some coordinate system can be useful for doing calculations but is less fundamental: on switching to a different coordinate system, the components transform (e.g. Lorentz transformation) but we still have the ___same___ vector.\n",
    "\n",
    "For example, a displacement vector $\\Delta \\vec{x}$ pointing from one event to another has components in frame $\\mathcal{O}$:\n",
    "$$ \\Delta \\vec{x}\\ \\xrightarrow[\\mathcal{O}]{}\\ (\\Delta t, \\Delta x, \\Delta y, \\Delta z) $$\n",
    "\n",
    "_[TODO - how to get the $\\mathcal{O}$ closer to the arrow with $\\LaTeX$??]_"
   ]
  },
  {
   "cell_type": "markdown",
   "metadata": {},
   "source": [
    "### Basis vectors\n",
    "\n",
    "In any coordinate frame $\\mathcal{O}$ there are four special vectors, defined in terms of their coordinates:\n",
    "$$  \\vec{e}_0\\ \\xrightarrow[\\mathcal{O}]{}\\ (1,0,0,0), \\quad \\vec{e}_1\\ \\xrightarrow[\\mathcal{O}]{}\\ (0,1,0,0), \\quad \\vec{e}_2\\ \\xrightarrow[\\mathcal{O}]{}\\ (0,0,1,0), \\quad \\vec{e}_3\\ \\xrightarrow[\\mathcal{O}]{}\\ (0,0,0,1) \\quad  $$\n",
    "\n",
    "In terms of the Kronecker delta: $(\\vec{e}_\\mu)^\\nu = \\delta_\\mu^\\nu$\n",
    "\n",
    "Any vector can be expressed in terms of the basis vectors: if $\\vec{A}\\ \\xrightarrow[\\mathcal{O}]{}\\ (A^0, A^1, A^2, A^3)$ then $\\vec{A} = A^\\mu\\ \\vec{e}_\\mu$.\n",
    "\n",
    "In another frame $\\mathcal{\\bar{O}}$ there will be different basis vectors and $\\vec{A}$ will have different components. The components and the basis vectors transform rather differently:\n",
    "$$ A^\\bar{\\beta} = \\Lambda_\\alpha^\\bar{\\beta}\\ A^\\alpha \\qquad \\vec{e}_\\alpha = \\Lambda_\\alpha^\\bar{\\beta}\\ \\vec{e}_\\bar{\\beta} $$\n",
    "\n",
    "The inverse transform switches the barred and unbarred indices:\n",
    "$$ \\vec{e}_\\bar{\\beta} = \\Lambda_\\bar{\\beta}^\\nu\\ \\vec{e}_\\nu \\quad \\text{where} \\ \\Lambda_\\bar{\\beta}^\\nu \\ \\text{is the matrix inverse of} \\ \\Lambda_\\alpha^\\bar{\\beta} \\quad \\Rightarrow \\quad \\Lambda_\\bar{\\beta}^\\nu\\ \\Lambda_\\alpha^\\bar{\\beta}\\ =\\ \\delta_\\alpha^\\nu\\ \\text{(identity matrix)} $$"
   ]
  },
  {
   "cell_type": "markdown",
   "metadata": {},
   "source": [
    "### Four velocity\n",
    "\n",
    "Newtonian 3-velocity is frame-dependent in SR, but a tangent vector to the world line is frame invariant. This is defined by the rate of change of 4-position with respect to proper time: \n",
    "$$ U^{\\mu} = \\frac{dX^{\\mu}}{d \\tau} = \\left(\\frac{dt}{d \\tau}, \\frac{dx}{d \\tau}, \\frac{dy}{d \\tau}, \\frac{dz}{d \\tau} \\right) $$\n",
    "\n",
    "The 4-velocity of a uniformly moving particle is the vector $\\vec{e}_0$ in its inertial rest frame. Even for an accelerated particle, we can define a _momentarily comoving reference frame_ (MCRF) with 4-velocity as the $\\vec{e}_0$ basis vector in that frame.\n",
    "\n",
    "The $U^0$ term is $\\frac{dt}{d\\tau} = \\gamma$, the Lorentz factor."
   ]
  },
  {
   "cell_type": "markdown",
   "metadata": {},
   "source": [
    "### Four momentum\n",
    "\n",
    "Just as $p = m v$ in Newtonian mechanics, we can define a frame-invariant 4-momentum as $\\vec{p} = m\\vec{U}$, where $m$m is the rest mass and $\\vec{U}$ is the 4-velocity. In some frame $\\mathcal{O}$ we find\n",
    "$$ \\vec{p}\\ \\xrightarrow[\\mathcal{O}]{}\\ (E, p_x, p_y, p_z) $$\n",
    "where $E$ is the energy in that frame and $p_i = m \\gamma v_i$."
   ]
  },
  {
   "cell_type": "markdown",
   "metadata": {},
   "source": [
    "### Energy in SR\n",
    "\n",
    "Relativistic kinetic energy is given by $KE_{rel} = (\\gamma - 1)mc^2$ where $m$ is the rest mass. Total relativistic energy is $E = \\gamma mc^2 = KE_{rel} + mc^2$. \n",
    "\n",
    "At low speeds, $\\gamma \\approx 1$ and $E = E_0 = mc^2$.\n",
    "\n",
    "Energy is often expressed in terms of the (frame-dependent) momentum: $E^2 = p^2 c^2 + m^2 c^4$. Again, this reduces to $E=mc^2$ in the rest frame where $p=0$."
   ]
  },
  {
   "cell_type": "markdown",
   "metadata": {},
   "source": [
    "## Relativistic beaming (headlight effect)\n",
    "\n",
    "Important in observational astronomy: if an emission is coming from something moving at relativistic speeds along our line of sight (e.g. synchrotron emission), radiation intensity is concentrated along the direction of travel. This things coming towards us apear much brighter, things moving away much dimmer.\n",
    "\n",
    "Specifically, photons which are emitted laterally ($90^\\circ$) to the direction of travel) in the rest frame of the emitter will appear to be at angle $\\theta = \\arcsin(1/\\gamma)$ in our frame: the light in the forward hemisphere appears to be concentrated into a narrow cone."
   ]
  },
  {
   "cell_type": "code",
   "execution_count": null,
   "metadata": {},
   "outputs": [],
   "source": []
  },
  {
   "cell_type": "code",
   "execution_count": null,
   "metadata": {},
   "outputs": [],
   "source": []
  }
 ],
 "metadata": {
  "kernelspec": {
   "display_name": "Python 3",
   "language": "python",
   "name": "python3"
  },
  "language_info": {
   "codemirror_mode": {
    "name": "ipython",
    "version": 3
   },
   "file_extension": ".py",
   "mimetype": "text/x-python",
   "name": "python",
   "nbconvert_exporter": "python",
   "pygments_lexer": "ipython3",
   "version": "3.6.8"
  },
  "toc": {
   "base_numbering": 1,
   "nav_menu": {
    "height": "265px",
    "width": "276px"
   },
   "number_sections": true,
   "sideBar": true,
   "skip_h1_title": true,
   "title_cell": "Contents",
   "title_sidebar": "Contents",
   "toc_cell": true,
   "toc_position": {
    "height": "calc(100% - 180px)",
    "left": "10px",
    "top": "150px",
    "width": "269px"
   },
   "toc_section_display": true,
   "toc_window_display": true
  }
 },
 "nbformat": 4,
 "nbformat_minor": 2
}
