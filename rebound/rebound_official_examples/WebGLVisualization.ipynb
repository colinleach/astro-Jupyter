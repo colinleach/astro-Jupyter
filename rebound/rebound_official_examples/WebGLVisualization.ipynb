{
 "cells": [
  {
   "cell_type": "markdown",
   "metadata": {},
   "source": [
    "# WebGL Visualization Widget"
   ]
  },
  {
   "cell_type": "markdown",
   "metadata": {
    "toc": true
   },
   "source": [
    "<h1>Contents<span class=\"tocSkip\"></span></h1>\n",
    "<div class=\"toc\"><ul class=\"toc-item\"></ul></div>"
   ]
  },
  {
   "cell_type": "markdown",
   "metadata": {},
   "source": [
    "REBOUND comes with a ipython widget that can be used in Jupyter notebooks. It is similar to the OpenGL visualization in the C version of REBOUND, but it currently misses a few features such as rendering spheres and support for periodic boundary conditions.\n",
    "\n",
    "Using the widget makes setting up a simulation very interactive. One can spot many mistakes in the setup process of a simulation by visually inspecting the  particles. \n",
    "\n",
    "The widget is using the ipywidgets package which needs to be installed and enabled. More information on this can be found in the ipywidgets documentation at https://ipywidgets.readthedocs.io/en/latest/user_install.html. You also need a browser and a graphics card that supports WebGL.\n",
    "\n",
    "Let us start this demo by setting up an empty simulation and calling the `getWidget()` function on the simulation object. This will create a new widget, attach it to the simulation and return it to the user. "
   ]
  },
  {
   "cell_type": "code",
   "execution_count": 3,
   "metadata": {},
   "outputs": [
    {
     "data": {
      "text/html": [
       "\n",
       "<script id=\"orbit_shader-vs\" type=\"x-shader/x-vertex\">\n",
       "    uniform vec3 focus;\n",
       "    uniform vec3 aef;\n",
       "    uniform vec3 omegaOmegainc;\n",
       "    attribute float lintwopi;\n",
       "    varying float lin;\n",
       "    uniform mat4 mvp;\n",
       "    const float M_PI = 3.14159265359;\n",
       "    void main() {\n",
       "       float a = aef.x;\n",
       "       float e = aef.y;\n",
       "       float f = aef.z+lintwopi;\n",
       "       lin = lintwopi/(M_PI*2.);\n",
       "       if (e>1.){\n",
       "           float theta_max = acos(-1./e);\n",
       "           f = 0.0001-theta_max+1.9998*lin*theta_max;\n",
       "           lin = sqrt(min(0.5,lin));\n",
       "       }\n",
       "       float omega = omegaOmegainc.x;\n",
       "       float Omega = omegaOmegainc.y;\n",
       "       float inc = omegaOmegainc.z;\n",
       "       float r = a*(1.-e*e)/(1. + e*cos(f));\n",
       "       float cO = cos(Omega);\n",
       "       float sO = sin(Omega);\n",
       "       float co = cos(omega);\n",
       "       float so = sin(omega);\n",
       "       float cf = cos(f);\n",
       "       float sf = sin(f);\n",
       "       float ci = cos(inc);\n",
       "       float si = sin(inc);\n",
       "       vec3 pos = vec3(r*(cO*(co*cf-so*sf) - sO*(so*cf+co*sf)*ci),r*(sO*(co*cf-so*sf) + cO*(so*cf+co*sf)*ci),+ r*(so*cf+co*sf)*si);\n",
       "       gl_Position = mvp*(vec4(focus+pos, 1.0));\n",
       "    }\n",
       "</script>\n",
       "<script id=\"orbit_shader-fs\" type=\"x-shader/x-fragment\">\n",
       "    precision mediump float;\n",
       "    varying float lin;\n",
       "    void main() {\n",
       "      float fog = max(max(0.,-1.+2.*gl_FragCoord.z),max(0.,1.-2.*gl_FragCoord.z));\n",
       "      gl_FragColor = vec4(1.,1.,1.,sqrt(lin)*(1.-fog));\n",
       "    }\n",
       "</script>\n",
       "<script id=\"point_shader-vs\" type=\"x-shader/x-vertex\">\n",
       "    attribute vec3 vp;\n",
       "    uniform mat4 mvp;\n",
       "    //uniform vec4 vc;\n",
       "    //varying vec4 color;\n",
       "    void main() {\n",
       "      gl_PointSize = 15.0;\n",
       "      gl_Position = mvp*vec4(vp, 1.0);\n",
       "      //color = vc;\n",
       "    }\n",
       "</script>\n",
       "<script id=\"point_shader-fs\" type=\"x-shader/x-fragment\">\n",
       "    precision mediump float;\n",
       "    //varying vec4 color;\n",
       "    void main() {\n",
       "      vec2 rel = gl_PointCoord.st;\n",
       "      rel.s -=0.5;\n",
       "      rel.t -=0.5;\n",
       "      if (length(rel)>0.25){\n",
       "         gl_FragColor = vec4(0.,0.,0.,0.); \n",
       "      }else{\n",
       "         vec4 cmod = vec4(1.,1.,1.,1.);\n",
       "         float fog = max(max(0.,-1.+2.*gl_FragCoord.z),max(0.,1.-2.*gl_FragCoord.z));\n",
       "         cmod.a*= (1.-fog)*min(1.,1.-4.*(length(rel)/0.25-0.75));\n",
       "         gl_FragColor = cmod;\n",
       "      }\n",
       "    }\n",
       "</script>\n",
       "\n",
       "<script>\n",
       "function compileShader(glr, shaderSource, shaderType) {\n",
       "  // Create the shader object\n",
       "  var shader = glr.createShader(shaderType);\n",
       " \n",
       "  // Set the shader source code.\n",
       "  glr.shaderSource(shader, shaderSource);\n",
       " \n",
       "  // Compile the shader\n",
       "  glr.compileShader(shader);\n",
       " \n",
       "  // Check if it compiled\n",
       "  var success = glr.getShaderParameter(shader, glr.COMPILE_STATUS);\n",
       "  if (!success) {\n",
       "    // Something went wrong during compilation; get the error\n",
       "    throw \"could not compile shader:\" + glr.getShaderInfoLog(shader);\n",
       "  }\n",
       " \n",
       "  return shader;\n",
       "}\n",
       "function createShaderFromScript(glr, scriptId, opt_shaderType) {\n",
       "  // look up the script tag by id.\n",
       "  var shaderScript = document.getElementById(scriptId);\n",
       "  if (!shaderScript) {\n",
       "    throw(\"*** Error: unknown script element\" + scriptId);\n",
       "  }\n",
       " \n",
       "  // extract the contents of the script tag.\n",
       "  var shaderSource = shaderScript.text;\n",
       " \n",
       "  // If we didn't pass in a type, use the 'type' from\n",
       "  // the script tag.\n",
       "  if (!opt_shaderType) {\n",
       "    if (shaderScript.type == \"x-shader/x-vertex\") {\n",
       "      opt_shaderType = glr.VERTEX_SHADER;\n",
       "    } else if (shaderScript.type == \"x-shader/x-fragment\") {\n",
       "      opt_shaderType = glr.FRAGMENT_SHADER;\n",
       "    } else if (!opt_shaderType) {\n",
       "      throw(\"*** Error: shader type not set\");\n",
       "    }\n",
       "  }\n",
       " \n",
       "  return compileShader(glr, shaderSource, opt_shaderType);\n",
       "};\n",
       "function createProgramFromScripts( glr, vertexShaderId, fragmentShaderId) {\n",
       "  var vertexShader = createShaderFromScript(glr, vertexShaderId, glr.VERTEX_SHADER);\n",
       "  var fragmentShader = createShaderFromScript(glr, fragmentShaderId, glr.FRAGMENT_SHADER);\n",
       "  var program = glr.createProgram();\n",
       " \n",
       "  // attach the shaders.\n",
       "  glr.attachShader(program, vertexShader);\n",
       "  glr.attachShader(program, fragmentShader);\n",
       " \n",
       "  // link the program.\n",
       "  glr.linkProgram(program);\n",
       " \n",
       "  // Check if it linked.\n",
       "  var success = glr.getProgramParameter(program, glr.LINK_STATUS);\n",
       "  if (!success) {\n",
       "      // something went wrong with the link\n",
       "      throw (\"program filed to link:\" + glr.getProgramInfoLog (program));\n",
       "  }\n",
       " \n",
       "  return program;\n",
       "}\n",
       "function quat2mat(A,mat){\n",
       "    var xx = A.x*A.x; var xy = A.x*A.y; var xz = A.x*A.z;\n",
       "    var xw = A.x*A.w; var yy = A.y*A.y; var yz = A.y*A.z;\n",
       "    var yw = A.y*A.w; var zz = A.z*A.z; var zw = A.z*A.w;\n",
       "    mat[0] = 1.-2.*(yy+zz);\n",
       "    mat[1] =    2.*(xy-zw);\n",
       "    mat[2] =    2.*(xz+yw);\n",
       "    mat[4] =    2.*(xy+zw);\n",
       "    mat[5] = 1.-2.*(xx+zz);\n",
       "    mat[6] =    2.*(yz-xw);\n",
       "    mat[8] =    2.*(xz-yw);\n",
       "    mat[9] =    2.*(yz+xw);\n",
       "    mat[10]= 1.-2.*(xx+yy);\n",
       "    mat[3] = mat[7] = mat[11] = mat[12] = mat[13] = mat[14] = 0.; mat[15]= 1.;\n",
       "}\n",
       "function multvec(A, B, vecr){\n",
       "    var mat = [0.,0.,0.,0.,0.,0.,0.,0.,0.,0.,0.,0.,0.,0.,0.,0.];\n",
       "    quat2mat(A,mat);\n",
       "    vecr[0] = mat[0]*B[0] + mat[1]*B[1] + mat[2]*B[2];\n",
       "    vecr[1] = mat[4]*B[0] + mat[5]*B[1] + mat[6]*B[2];\n",
       "    vecr[2] = mat[8]*B[0] + mat[9]*B[1] + mat[10]*B[2];\n",
       "}\n",
       "function mattransp(mat){\n",
       "    var matt = [\n",
       "        mat[0], mat[4], mat[8], mat[12],\n",
       "        mat[1], mat[5], mat[9], mat[13],\n",
       "        mat[2], mat[6], mat[10], mat[14],\n",
       "        mat[3], mat[7], mat[11], mat[15]];\n",
       "    return matt;\n",
       "}\n",
       "function conjugate(quat){\n",
       "    var cquat = {x:-quat.x, y:-quat.y, z:-quat.z, w:quat.w};\n",
       "    return cquat;\n",
       "}\n",
       "function mult(A, B){\n",
       "    var mquat = {   x: A.w*B.x + A.x*B.w + A.y*B.z - A.z*B.y,\n",
       "                    y: A.w*B.y - A.x*B.z + A.y*B.w + A.z*B.x,\n",
       "                    z: A.w*B.z + A.x*B.y - A.y*B.x + A.z*B.w,\n",
       "                    w: A.w*B.w - A.x*B.x - A.y*B.y - A.z*B.z};\n",
       "    return mquat;\n",
       "}\n",
       "\n",
       "function normalize(quat){\n",
       "    var L = Math.sqrt(quat.x*quat.x + quat.y*quat.y + quat.z*quat.z + quat.w*quat.w);\n",
       "    var nquat = {x:quat.x/L, y:quat.y/L, z:quat.z/L, w:quat.w/L};\n",
       "    return nquat;\n",
       "}\n",
       "function matortho(mat, l, r, b, t, n, f){\n",
       "    mat[0] = 2./(r-l); mat[1] = 0.; mat[2] = 0.; mat[3] = -(r+l)/(r-l);\n",
       "    mat[4] = 0.; mat[5] = 2./(t-b); mat[6] = 0.; mat[7] = -(t+b)/(t-b);\n",
       "    mat[8] = 0.; mat[9] = 0.; mat[10] = -2./(f-n); mat[11] = -(f+n)/(f-n);\n",
       "    mat[12] = 0.; mat[13] = 0.; mat[14] = 0.; mat[15] = 1.;\n",
       "}\n",
       "function matmult(A,B,C){\n",
       "    for(i=0;i<4;i++){\n",
       "    for(j=0;j<4;j++){\n",
       "        C[i+4*j] = 0.;\n",
       "    for(k=0;k<4;k++){\n",
       "        C[i+4*j] += A[k+4*j]*B[i+4*k];\n",
       "    }}}\n",
       "}\n",
       "function startGL(reboundView) {\n",
       "    var canvas = document.getElementById(\"reboundcanvas-\"+reboundView.cid);\n",
       "    if (!canvas){\n",
       "        reboundView.startCount = reboundView.startCount+1;\n",
       "        if (reboundView.startCount>1000){\n",
       "            console.log(\"Cannot find element.\");\n",
       "        }else{\n",
       "            setTimeout(function(){ startGL(reboundView); }, 10);\n",
       "        }\n",
       "        return;\n",
       "    }\n",
       "    var rect = canvas.getBoundingClientRect()\n",
       "    reboundView.ratio = rect.width/rect.height;\n",
       "    reboundView.view = normalize({x:reboundView.orientation[0], y:reboundView.orientation[1], z:reboundView.orientation[2], w:reboundView.orientation[3]});\n",
       "\n",
       "    canvas.addEventListener('mousedown', function() {\n",
       "        reboundView.mouseDown=1;\n",
       "        }, false);\n",
       "    canvas.addEventListener('mouseup', function() {\n",
       "        reboundView.mouseDown=0;\n",
       "        }, false);\n",
       "    canvas.addEventListener('mouseleave', function() {\n",
       "        reboundView.mouseDown=0;\n",
       "        }, false);\n",
       "\n",
       "    canvas.addEventListener('mousemove', function(evt) {\n",
       "        var rect = canvas.getBoundingClientRect()\n",
       "        if (reboundView.mouseDown==1){\n",
       "            reboundView.mouseDown = 2;\n",
       "            reboundView.mouse_x = evt.clientX-rect.left;\n",
       "            reboundView.mouse_y = evt.clientY-rect.top;\n",
       "            return;\n",
       "        }else if (reboundView.mouseDown==2){\n",
       "            var width = rect.width;\n",
       "            var height = rect.height;\n",
       "            var dx = 3.*(evt.clientX-rect.left-reboundView.mouse_x)/width;\n",
       "            var dy = 3.*(evt.clientY-rect.top-reboundView.mouse_y)/height;\n",
       "            reboundView.mouse_x = evt.clientX-rect.left;\n",
       "            reboundView.mouse_y = evt.clientY-rect.top;\n",
       "            if (evt.shiftKey){\n",
       "                reboundView.scale *= (1.+dx+dy);\n",
       "            }else{\n",
       "                var inv = conjugate(reboundView.view);\n",
       "                var up = [0.,1.,0.];\n",
       "                var right = [1.,0.,0.];\n",
       "                var inv_up = [0.,0.,0.];\n",
       "                var inv_right = [0.,0.,0.];\n",
       "                multvec(inv, right, inv_right);\n",
       "                multvec(inv, up, inv_up);\n",
       "                \n",
       "                var sin_dy = Math.sin(dy);\n",
       "                var rot_dy = {x:inv_right[0]*sin_dy, y:inv_right[1]*sin_dy, z:inv_right[2]*sin_dy, w:Math.cos(dy)};\n",
       "                reboundView.view = mult(reboundView.view, normalize(rot_dy));\n",
       "                \n",
       "                var sin_dx = Math.sin(dx);\n",
       "                var rot_dx = {x:inv_up[0]*sin_dx, y:inv_up[1]*sin_dx, z:inv_up[2]*sin_dx, w:Math.cos(dx)};\n",
       "                reboundView.view = normalize(mult(reboundView.view, normalize(rot_dx)));\n",
       "            }\n",
       "\n",
       "            drawGL(reboundView);\n",
       "        }\n",
       "\n",
       "\n",
       "        }, false);\n",
       "\n",
       "    reboundView.gl = canvas.getContext(\"webgl\")||canvas.getContext(\"experimental-webgl\");\n",
       "    if (!reboundView.gl) {\n",
       "      alert(\"Unable to initialize WebGL. Your browser may not support it.\");\n",
       "      return;\n",
       "    }\n",
       "    var gl = reboundView.gl\n",
       "    gl.enable(gl.BLEND);\n",
       "    gl.blendFunc(gl.SRC_ALPHA, gl.ONE_MINUS_SRC_ALPHA);\n",
       "    \n",
       "    reboundView.orbit_shader_program = createProgramFromScripts(gl,\"orbit_shader-vs\",\"orbit_shader-fs\");\n",
       "    reboundView.point_shader_program = createProgramFromScripts(gl,\"point_shader-vs\",\"point_shader-fs\");\n",
       "   \n",
       "    var lintwopi = new Float32Array(500);\n",
       "    for(i=0;i<500;i++){\n",
       "        lintwopi[i] = 2.*Math.PI/500.*i;\n",
       "    }\n",
       "    reboundView.orbit_lintwopi_buffer = gl.createBuffer();\n",
       "    gl.bindBuffer(gl.ARRAY_BUFFER, reboundView.orbit_lintwopi_buffer);\n",
       "    gl.bufferData(gl.ARRAY_BUFFER, 4*500, gl.STATIC_DRAW);\n",
       "    gl.bufferSubData(gl.ARRAY_BUFFER, 0, lintwopi)\n",
       "    reboundView.orbit_shader_mvp_location = gl.getUniformLocation(reboundView.orbit_shader_program,\"mvp\");\n",
       "    reboundView.orbit_shader_focus_location = gl.getUniformLocation(reboundView.orbit_shader_program,\"focus\");\n",
       "    reboundView.orbit_shader_aef_location = gl.getUniformLocation(reboundView.orbit_shader_program,\"aef\");\n",
       "    reboundView.orbit_shader_omegaOmegainc_location = gl.getUniformLocation(reboundView.orbit_shader_program,\"omegaOmegainc\");\n",
       "    \n",
       "    reboundView.particle_data_buffer = gl.createBuffer();\n",
       "    gl.useProgram(reboundView.point_shader_program);\n",
       "    reboundView.point_shader_mvp_location = gl.getUniformLocation(reboundView.point_shader_program,\"mvp\");\n",
       "    \n",
       "    updateRenderData(reboundView);\n",
       "    gl.clearColor(0.0, 0.0, 0.0, 1.0);\n",
       "    gl.clear(gl.COLOR_BUFFER_BIT);\n",
       "    drawGL(reboundView);\n",
       "}\n",
       "function updateRenderData(reboundView){\n",
       "    var overlay = document.getElementById(\"reboundoverlay-\"+reboundView.cid);\n",
       "    overlay.innerHTML = reboundView.model.get(\"overlay\");\n",
       "    var previousN = reboundView.N;\n",
       "    reboundView.N = reboundView.model.get(\"N\");\n",
       "    reboundView.t = reboundView.model.get(\"t\");\n",
       "    reboundView.particle_data = reboundView.model.get('particle_data');\n",
       "    if (reboundView.orbits){\n",
       "        reboundView.orbit_data = reboundView.model.get('orbit_data');\n",
       "    }\n",
       "    var gl = reboundView.gl\n",
       "    if (reboundView.N>0){\n",
       "        gl.bindBuffer(gl.ARRAY_BUFFER, reboundView.particle_data_buffer);\n",
       "        gl.bufferData(gl.ARRAY_BUFFER, reboundView.N*7*4, gl.DYNAMIC_DRAW);\n",
       "        gl.bufferSubData(gl.ARRAY_BUFFER, 0, reboundView.particle_data)\n",
       "    }\n",
       "}\n",
       "function drawGL(reboundView) {\n",
       "    if (!reboundView.gl){\n",
       "        return;\n",
       "    }\n",
       "    // Cleanup\n",
       "    var gl = reboundView.gl\n",
       "    gl.clearColor(0.0, 0.0, 0.0, 1.0);\n",
       "    gl.clear(gl.COLOR_BUFFER_BIT);\n",
       "    \n",
       "    // Draw\n",
       "    gl.useProgram(reboundView.point_shader_program);\n",
       "    gl.bindBuffer(gl.ARRAY_BUFFER, reboundView.particle_data_buffer);\n",
       "    var pvp = gl.getAttribLocation(reboundView.point_shader_program,\"vp\");\n",
       "    gl.enableVertexAttribArray(pvp);\n",
       "    gl.vertexAttribPointer(pvp, 3, gl.FLOAT, 0, 4*7,0); // 4 = size of float\n",
       "    var projection = [0.,0.,0.,0.,0.,0.,0.,0.,0.,0.,0.,0.,0.,0.,0.,0.];\n",
       "    if (reboundView.ratio>=1.){\n",
       "        matortho(projection, \n",
       "                -1.6*reboundView.scale, 1.6*reboundView.scale,\n",
       "                -1.6/reboundView.ratio*reboundView.scale, 1.6/reboundView.ratio*reboundView.scale,\n",
       "                -2.5*reboundView.scale, 2.5*reboundView.scale);\n",
       "    }else{\n",
       "        matortho(projection, \n",
       "                -1.6*reboundView.ratio*reboundView.scale, 1.6*reboundView.ratio*reboundView.scale,\n",
       "                -1.6*reboundView.scale, 1.6*reboundView.scale,\n",
       "                -2.5*reboundView.scale, 2.5*reboundView.scale);\n",
       "    }\n",
       "    var view = [0.,0.,0.,0.,0.,0.,0.,0.,0.,0.,0.,0.,0.,0.,0.,0.];\n",
       "    quat2mat(reboundView.view,view);\n",
       "    var mvp = [0.,0.,0.,0.,0.,0.,0.,0.,0.,0.,0.,0.,0.,0.,0.,0.];\n",
       "    matmult(projection,view,mvp);\n",
       "    gl.uniformMatrix4fv(reboundView.point_shader_mvp_location,false,mattransp(mvp));\n",
       "    gl.drawArrays(gl.POINTS,0,reboundView.N);\n",
       "   \n",
       "    if (reboundView.orbits){\n",
       "        gl.useProgram(reboundView.orbit_shader_program);\n",
       "        gl.bindBuffer(gl.ARRAY_BUFFER, reboundView.orbit_lintwopi_buffer);\n",
       "        var ltp = gl.getAttribLocation(reboundView.orbit_shader_program,\"lintwopi\");\n",
       "        gl.enableVertexAttribArray(ltp);\n",
       "        gl.vertexAttribPointer(ltp, 1, gl.FLOAT, 0, 0,0); // 4 = size of float\n",
       "        gl.uniformMatrix4fv(reboundView.orbit_shader_mvp_location,false,mattransp(mvp));\n",
       "\n",
       "        // Need to do this one by one\n",
       "        // because WebGL is not supporting\n",
       "        // instancing:\n",
       "        for(i=0;i<reboundView.N-1;i++){\n",
       "            var focus = new Float32Array(reboundView.orbit_data.buffer,4*9*i,3);\n",
       "            gl.uniform3fv(reboundView.orbit_shader_focus_location,focus);\n",
       "            var aef = new Float32Array(reboundView.orbit_data.buffer,4*(9*i+3),3);\n",
       "            gl.uniform3fv(reboundView.orbit_shader_aef_location,aef);\n",
       "            var omegaOmegainc = new Float32Array(reboundView.orbit_data.buffer,4*(9*i+6),3);\n",
       "            gl.uniform3fv(reboundView.orbit_shader_omegaOmegainc_location,omegaOmegainc);\n",
       "\n",
       "            gl.drawArrays(gl.LINE_STRIP,0,500);\n",
       "        }\n",
       "    }\n",
       "}\n",
       "require.undef('rebound');\n",
       "    define('rebound', [\"@jupyter-widgets/base\"], function(widgets) {\n",
       "    var ReboundView = widgets.DOMWidgetView.extend({\n",
       "        render: function() {\n",
       "            this.el.innerHTML = '<span style=\"display: inline-block; position: relative;\" width=\"'+this.model.get(\"width\")+'\" height=\"'+this.model.get(\"height\")+'\"><canvas style=\"border: none;\" id=\"reboundcanvas-'+this.cid+'\" width=\"'+this.model.get(\"width\")+'\" height=\"'+this.model.get(\"height\")+'\"></canvas><span style=\"position: absolute; color: #FFF; pointer-events:none;  bottom:5px; right:0px; padding-right:5px; font-family: monospace;\" id=\"reboundoverlay-'+this.cid+'\">REBOUND</span></span>';\n",
       "            this.model.on('change:t', this.trigger_refresh, this);\n",
       "            this.model.on('change:count', this.trigger_refresh, this);\n",
       "            this.model.on('change:screenshotcount', this.take_screenshot, this);\n",
       "            this.startCount = 0;\n",
       "            this.gl = null;\n",
       "            // Only copy those once\n",
       "            this.scale = this.model.get(\"scale\");\n",
       "            this.width = this.model.get(\"width\");\n",
       "            this.height = this.model.get(\"height\");\n",
       "            this.orbits = this.model.get(\"orbits\");\n",
       "            this.orientation = this.model.get(\"orientation\");\n",
       "            startGL(this);\n",
       "        },\n",
       "        take_screenshot: function() {\n",
       "            drawGL(this);\n",
       "            var canvas = document.getElementById(\"reboundcanvas-\"+this.cid);\n",
       "            var img = canvas.toDataURL(\"image/png\");\n",
       "            this.model.set(\"screenshot\",img, {updated_view: this});\n",
       "            this.touch();\n",
       "        },\n",
       "        trigger_refresh: function() {\n",
       "            updateRenderData(this);\n",
       "            drawGL(this);\n",
       "        },\n",
       "    });\n",
       "    return {\n",
       "        ReboundView: ReboundView\n",
       "    };\n",
       "});\n",
       "      \n",
       "</script>\n"
      ],
      "text/plain": [
       "<IPython.core.display.HTML object>"
      ]
     },
     "metadata": {},
     "output_type": "display_data"
    },
    {
     "data": {
      "application/vnd.jupyter.widget-view+json": {
       "model_id": "aa34a241d22a4a56b9bc63559734a2f1",
       "version_major": 2,
       "version_minor": 0
      },
      "text/plain": [
       "Widget(count=2, height=200.0, orbits=True, orientation=(0.0, 0.0, 0.0, 1.0), overlay='REBOUND (ias15), N=0, t=…"
      ]
     },
     "metadata": {},
     "output_type": "display_data"
    }
   ],
   "source": [
    "import rebound\n",
    "sim = rebound.Simulation()\n",
    "sim.getWidget()"
   ]
  },
  {
   "cell_type": "markdown",
   "metadata": {},
   "source": [
    "Next up, lets add some particles to the simulation. The widget updates automatically when a particle gets added or removed. "
   ]
  },
  {
   "cell_type": "code",
   "execution_count": 4,
   "metadata": {},
   "outputs": [],
   "source": [
    "sim.add(m=1) # add a star"
   ]
  },
  {
   "cell_type": "code",
   "execution_count": 5,
   "metadata": {},
   "outputs": [],
   "source": [
    "for i in range(10):\n",
    "    sim.add(m=1e-3,a=0.4+0.1*i,inc=0.03*i,omega=5.*i) # Jupiter mass planets on close orbits\n",
    "sim.move_to_com() # Move to the centre of mass frame"
   ]
  },
  {
   "cell_type": "markdown",
   "metadata": {},
   "source": [
    "Drag the widget with your mouse or touchpad to look at the simulation from different angles. Keep the shift key pressed while you drag to zoom in or out.\n",
    "\n",
    "Next, we will try to integrate the orbits forward in time. Because the planets are very massive and on close to each other, the system will go unstable very quickly. By default REBOUND is using the IAS15 integrator which can resolve close encounter. During each close encounter the instantaneous orbits of the planets show in the widget will change rapidly.  "
   ]
  },
  {
   "cell_type": "code",
   "execution_count": 6,
   "metadata": {},
   "outputs": [],
   "source": [
    "sim.integrate(500)"
   ]
  },
  {
   "cell_type": "markdown",
   "metadata": {},
   "source": [
    "The widget can be configured with various options. For more details on those options, have a look at the documentation. \n",
    "\n",
    "One thing we can do is change the size of the widget and turn off the plotting of instantaneous orbits. The latter is useful if one is integrating a hierarchical system, for example a binary star or moons around planets. "
   ]
  },
  {
   "cell_type": "code",
   "execution_count": 12,
   "metadata": {},
   "outputs": [
    {
     "data": {
      "application/vnd.jupyter.widget-view+json": {
       "model_id": "50307a1455024a5a8588cdd457ca57da",
       "version_major": 2,
       "version_minor": 0
      },
      "text/plain": [
       "Widget(N=11, count=2, height=200.0, orientation=(0.0, 0.0, 0.0, 1.0), overlay='REBOUND (ias15), N=11, t=500', …"
      ]
     },
     "metadata": {},
     "output_type": "display_data"
    }
   ],
   "source": [
    "sim.getWidget(size=(400,200),orbits=False)"
   ]
  },
  {
   "cell_type": "markdown",
   "metadata": {},
   "source": [
    "One can also preset the scale and the orientation of the view, which can be useful for constructing multple widgets at the same time that allows us to view the system from different angles."
   ]
  },
  {
   "cell_type": "code",
   "execution_count": 13,
   "metadata": {},
   "outputs": [
    {
     "data": {
      "application/vnd.jupyter.widget-view+json": {
       "model_id": "ccd73f75147541cc81f725ec9a2b3071",
       "version_major": 2,
       "version_minor": 0
      },
      "text/plain": [
       "VBox(children=(Widget(N=11, count=2, height=50.0, orbit_data=b'\\xa3>0\\xbbkx\\xe5\\xba\\xd8\\xa6\\x8d9\\xbd\\xdcg?\\xbb…"
      ]
     },
     "metadata": {},
     "output_type": "display_data"
    }
   ],
   "source": [
    "widget_1 = sim.getWidget(orientation=(0,0,0,1),scale=2)\n",
    "widget_2 = sim.getWidget(orientation=(0,1,0,1),scale=2,size=(50,200))\n",
    "widget_3 = sim.getWidget(orientation=(1,0,0,1),scale=2,size=(200,50))\n",
    "from ipywidgets import HBox, VBox\n",
    "VBox((widget_3,HBox((widget_1, widget_2))))"
   ]
  },
  {
   "cell_type": "markdown",
   "metadata": {},
   "source": [
    "In case you're wondering, the orientation parameter above expects the x, y, z, and w components of a quaternion. If we now integrate the system a little further, all widgets will be updated at the same time, giving you an instantaneous idea of the three dimensional evolution of the system."
   ]
  },
  {
   "cell_type": "code",
   "execution_count": 2,
   "metadata": {},
   "outputs": [
    {
     "ename": "NameError",
     "evalue": "name 'sim' is not defined",
     "output_type": "error",
     "traceback": [
      "\u001b[0;31m---------------------------------------------------------------------------\u001b[0m",
      "\u001b[0;31mNameError\u001b[0m                                 Traceback (most recent call last)",
      "\u001b[0;32m<ipython-input-2-b650a060137b>\u001b[0m in \u001b[0;36m<module>\u001b[0;34m\u001b[0m\n\u001b[0;32m----> 1\u001b[0;31m \u001b[0msim\u001b[0m\u001b[0;34m.\u001b[0m\u001b[0mt\u001b[0m\u001b[0;34m=\u001b[0m\u001b[0;36m0\u001b[0m\u001b[0;34m\u001b[0m\u001b[0;34m\u001b[0m\u001b[0m\n\u001b[0m\u001b[1;32m      2\u001b[0m \u001b[0msim\u001b[0m\u001b[0;34m.\u001b[0m\u001b[0mintegrate\u001b[0m\u001b[0;34m(\u001b[0m\u001b[0;36m800\u001b[0m\u001b[0;34m)\u001b[0m\u001b[0;34m\u001b[0m\u001b[0;34m\u001b[0m\u001b[0m\n",
      "\u001b[0;31mNameError\u001b[0m: name 'sim' is not defined"
     ]
    }
   ],
   "source": [
    "sim.t=0\n",
    "sim.integrate(800)"
   ]
  },
  {
   "cell_type": "markdown",
   "metadata": {},
   "source": [
    "This widget is a relatively new addition to REBOUND. If you notice any bugs or have requests for new features, please open an issue on github. "
   ]
  },
  {
   "cell_type": "code",
   "execution_count": 16,
   "metadata": {},
   "outputs": [],
   "source": [
    "?sim.integrate"
   ]
  },
  {
   "cell_type": "code",
   "execution_count": 17,
   "metadata": {},
   "outputs": [],
   "source": [
    "from time import sleep"
   ]
  },
  {
   "cell_type": "code",
   "execution_count": 1,
   "metadata": {},
   "outputs": [
    {
     "ename": "NameError",
     "evalue": "name 'sim' is not defined",
     "output_type": "error",
     "traceback": [
      "\u001b[0;31m---------------------------------------------------------------------------\u001b[0m",
      "\u001b[0;31mNameError\u001b[0m                                 Traceback (most recent call last)",
      "\u001b[0;32m<ipython-input-1-1fd091fb39f2>\u001b[0m in \u001b[0;36m<module>\u001b[0;34m\u001b[0m\n\u001b[1;32m      2\u001b[0m     \u001b[0msleep\u001b[0m\u001b[0;34m(\u001b[0m\u001b[0;36m0.005\u001b[0m\u001b[0;34m)\u001b[0m\u001b[0;34m\u001b[0m\u001b[0;34m\u001b[0m\u001b[0m\n\u001b[1;32m      3\u001b[0m \u001b[0;34m\u001b[0m\u001b[0m\n\u001b[0;32m----> 4\u001b[0;31m \u001b[0msim\u001b[0m\u001b[0;34m.\u001b[0m\u001b[0mheartbeat\u001b[0m\u001b[0;34m=\u001b[0m\u001b[0mheartbeat\u001b[0m\u001b[0;34m\u001b[0m\u001b[0;34m\u001b[0m\u001b[0m\n\u001b[0m",
      "\u001b[0;31mNameError\u001b[0m: name 'sim' is not defined"
     ]
    }
   ],
   "source": [
    "def heartbeat(sim):\n",
    "    sleep(0.005)\n",
    "    \n",
    "sim.heartbeat=heartbeat"
   ]
  },
  {
   "cell_type": "code",
   "execution_count": 19,
   "metadata": {},
   "outputs": [],
   "source": [
    "sim.integrate(100)"
   ]
  },
  {
   "cell_type": "code",
   "execution_count": null,
   "metadata": {},
   "outputs": [],
   "source": []
  }
 ],
 "metadata": {
  "kernelspec": {
   "display_name": "Python 3",
   "language": "python",
   "name": "python3"
  },
  "language_info": {
   "codemirror_mode": {
    "name": "ipython",
    "version": 3
   },
   "file_extension": ".py",
   "mimetype": "text/x-python",
   "name": "python",
   "nbconvert_exporter": "python",
   "pygments_lexer": "ipython3",
   "version": "3.6.8"
  },
  "toc": {
   "base_numbering": 1,
   "nav_menu": {},
   "number_sections": true,
   "sideBar": true,
   "skip_h1_title": true,
   "title_cell": "Contents",
   "title_sidebar": "Contents",
   "toc_cell": true,
   "toc_position": {},
   "toc_section_display": true,
   "toc_window_display": false
  },
  "widgets": {
   "state": {
    "630ed3176c354c16b25878fe7a327561": {
     "views": [
      {
       "cell_index": 1
      }
     ]
    },
    "799f98f7d8b5440694a435eab7312680": {
     "views": [
      {
       "cell_index": 8
      }
     ]
    },
    "c1b50365dc8d455b8f22eb80576a3b55": {
     "views": [
      {
       "cell_index": 10
      }
     ]
    }
   },
   "version": "1.2.0"
  }
 },
 "nbformat": 4,
 "nbformat_minor": 1
}
