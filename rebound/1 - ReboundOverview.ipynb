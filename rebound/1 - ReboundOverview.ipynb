{
 "cells": [
  {
   "cell_type": "markdown",
   "metadata": {},
   "source": [
    "# Overview of REBOUND"
   ]
  },
  {
   "cell_type": "markdown",
   "metadata": {
    "toc": true
   },
   "source": [
    "<h1>Contents<span class=\"tocSkip\"></span></h1>\n",
    "<div class=\"toc\"><ul class=\"toc-item\"><li><span><a href=\"#What?\" data-toc-modified-id=\"What?-1\"><span class=\"toc-item-num\">1&nbsp;&nbsp;</span>What?</a></span></li><li><span><a href=\"#Installation\" data-toc-modified-id=\"Installation-2\"><span class=\"toc-item-num\">2&nbsp;&nbsp;</span>Installation</a></span></li><li><span><a href=\"#Getting-started\" data-toc-modified-id=\"Getting-started-3\"><span class=\"toc-item-num\">3&nbsp;&nbsp;</span>Getting started</a></span><ul class=\"toc-item\"><li><span><a href=\"#Adding-bodies\" data-toc-modified-id=\"Adding-bodies-3.1\"><span class=\"toc-item-num\">3.1&nbsp;&nbsp;</span>Adding bodies</a></span></li><li><span><a href=\"#Horizons-data\" data-toc-modified-id=\"Horizons-data-3.2\"><span class=\"toc-item-num\">3.2&nbsp;&nbsp;</span>Horizons data</a></span></li><li><span><a href=\"#Units\" data-toc-modified-id=\"Units-3.3\"><span class=\"toc-item-num\">3.3&nbsp;&nbsp;</span>Units</a></span></li><li><span><a href=\"#Integrators\" data-toc-modified-id=\"Integrators-3.4\"><span class=\"toc-item-num\">3.4&nbsp;&nbsp;</span>Integrators</a></span></li></ul></li><li><span><a href=\"#Running-a-simulation\" data-toc-modified-id=\"Running-a-simulation-4\"><span class=\"toc-item-num\">4&nbsp;&nbsp;</span>Running a simulation</a></span></li><li><span><a href=\"#Getting-the-results\" data-toc-modified-id=\"Getting-the-results-5\"><span class=\"toc-item-num\">5&nbsp;&nbsp;</span>Getting the results</a></span><ul class=\"toc-item\"><li><span><a href=\"#Heartbeat-logging\" data-toc-modified-id=\"Heartbeat-logging-5.1\"><span class=\"toc-item-num\">5.1&nbsp;&nbsp;</span>Heartbeat logging</a></span></li><li><span><a href=\"#Getting-particle-data-from-the-simulation\" data-toc-modified-id=\"Getting-particle-data-from-the-simulation-5.2\"><span class=\"toc-item-num\">5.2&nbsp;&nbsp;</span>Getting particle data from the simulation</a></span></li><li><span><a href=\"#Capturing-a-timecourse\" data-toc-modified-id=\"Capturing-a-timecourse-5.3\"><span class=\"toc-item-num\">5.3&nbsp;&nbsp;</span>Capturing a timecourse</a></span></li><li><span><a href=\"#Simulation-archive\" data-toc-modified-id=\"Simulation-archive-5.4\"><span class=\"toc-item-num\">5.4&nbsp;&nbsp;</span>Simulation archive</a></span></li><li><span><a href=\"#Plotting\" data-toc-modified-id=\"Plotting-5.5\"><span class=\"toc-item-num\">5.5&nbsp;&nbsp;</span>Plotting</a></span></li><li><span><a href=\"#Animations-with-WebGL\" data-toc-modified-id=\"Animations-with-WebGL-5.6\"><span class=\"toc-item-num\">5.6&nbsp;&nbsp;</span>Animations with WebGL</a></span></li></ul></li><li><span><a href=\"#Collisions-and-close-approaches\" data-toc-modified-id=\"Collisions-and-close-approaches-6\"><span class=\"toc-item-num\">6&nbsp;&nbsp;</span>Collisions and close approaches</a></span></li></ul></div>"
   ]
  },
  {
   "cell_type": "markdown",
   "metadata": {},
   "source": [
    "## What?\n",
    "\n",
    "REBOUND is an N-body code for (optionally collisional) dynamics. It includes a choice of integrators, can be parallelized with OpenMP or MPI, and can use OpenGL or WebGL to display animated results.\n",
    "\n",
    "The design philisophy seems to be hiding a lot of complexity behind a relatively simple interface with idiot-proof defaults. First impressions are that it's pretty successful at this.\n",
    "\n",
    "Documentation: https://rebound.readthedocs.io/en/latest/index.html\n",
    "\n",
    "Github: https://github.com/hannorein/rebound. This is well worth cloning to get the large set of example files. My notebooks borrow extensively from these.\n",
    "\n",
    "Papers: There are five papers describing the functionality of REBOUND. \n",
    "- [Rein & Liu 2012](http://adsabs.harvard.edu/abs/2012A%26A...537A.128R) describe the code structure and the main feature including the gravity and collision routines for many particle systems.  \n",
    "- [Rein & Spiegel 2015](http://adsabs.harvard.edu/abs/2015MNRAS.446.1424R) describe the versatile high order integrator IAS15 which is now part of REBOUND. \n",
    "- [Rein & Tamayo 2015](http://adsabs.harvard.edu/abs/2015MNRAS.452..376R) describe WHFast, the fast and unbiased implementation of a symplectic Wisdom-Holman integrator for long term gravitational simulations. \n",
    "- [Rein & Tamayo 2016](http://arxiv.org/abs/1603.03424) develop the framework for second order variational equations. \n",
    "- [Rein & Tamayo 2017](http://adsabs.harvard.edu/abs/2017MNRAS.467.2377R) describes the Simulation Archive for exact reproducibility of N-body simulations. "
   ]
  },
  {
   "cell_type": "markdown",
   "metadata": {},
   "source": [
    "## Installation\n",
    "\n",
    "Start with a warning: <font color=red>___REBOUND does not work on Windows and likely never will___</font>.\n",
    "\n",
    "On Linux or OS X the Python module can be installed from conda-forge or pip. It also works with C, if that's your taste."
   ]
  },
  {
   "cell_type": "code",
   "execution_count": 1,
   "metadata": {},
   "outputs": [
    {
     "data": {
      "text/plain": [
       "'3.8.2'"
      ]
     },
     "execution_count": 1,
     "metadata": {},
     "output_type": "execute_result"
    }
   ],
   "source": [
    "import rebound\n",
    "\n",
    "rebound.__version__"
   ]
  },
  {
   "cell_type": "markdown",
   "metadata": {},
   "source": [
    "## Getting started\n",
    "\n",
    "The broad priciple is to create a rebound.Simulation object and call methods on it."
   ]
  },
  {
   "cell_type": "markdown",
   "metadata": {},
   "source": [
    "### Adding bodies\n",
    "\n",
    "There are various ways to add bodies (particles) to the sim, but for Solar System work it is simplest (though maybe not quickest) to use the [NASA Horizons server](https://ssd.jpl.nasa.gov/?horizons):"
   ]
  },
  {
   "cell_type": "code",
   "execution_count": 2,
   "metadata": {},
   "outputs": [
    {
     "name": "stdout",
     "output_type": "stream",
     "text": [
      "Searching NASA Horizons for 'Sun'... Found: Sun (10).\n",
      "Searching NASA Horizons for 'Jupiter'... Found: Jupiter Barycenter (5).\n",
      "Searching NASA Horizons for 'Saturn'... Found: Saturn Barycenter (6).\n",
      "Searching NASA Horizons for 'Churyumov-Gerasimenko'... Found: 67P/Churyumov-Gerasimenko.\n",
      "---------------------------------\n",
      "REBOUND version:     \t3.8.2\n",
      "REBOUND built on:    \tMay 18 2019 03:15:47\n",
      "Number of particles: \t4\n",
      "Selected integrator: \tias15\n",
      "Simulation time:     \t0.0000000000000000e+00\n",
      "Current timestep:    \t0.001000\n",
      "---------------------------------\n",
      "<rebound.Particle object, m=1.0 x=-0.002244745380898305 y=0.0076171192157178285 z=-1.883203645024814e-05 vx=-0.0004889253176977438 vy=2.3228748718022667e-06 vz=1.2723760152710309e-05>\n",
      "<rebound.Particle object, m=0.0009547919152112404 x=-0.8443891294056753 y=-5.2173712312087535 z=0.04052632534397419 vx=0.42772696287045353 vy=-0.04915712942091377 vz=-0.009364196545886204>\n",
      "<rebound.Particle object, m=0.0002858856727222417 x=2.882890826453801 y=-9.619298714670595 z=0.05249598129901399 vx=0.29274894314233524 vy=0.09211030804677557 vz=-0.013256039050688753>\n",
      "<rebound.Particle object, m=0.0 x=-1.5999995868250008 y=-5.148290629061449 z=-0.21333644677264466 vx=0.27809161580229963 vy=0.03127613422509581 vz=-0.0107418327958463>\n",
      "---------------------------------\n"
     ]
    },
    {
     "name": "stderr",
     "output_type": "stream",
     "text": [
      "/home/colin/anaconda3/envs/ml/lib/python3.6/site-packages/rebound/horizons.py:137: RuntimeWarning: Warning: Mass cannot be retrieved from NASA HORIZONS. Set to 0.\n",
      "  warnings.warn(\"Warning: Mass cannot be retrieved from NASA HORIZONS. Set to 0.\", RuntimeWarning)\n"
     ]
    }
   ],
   "source": [
    "sim = rebound.Simulation()\n",
    "sim.add(\"Sun\")\n",
    "sim.add(\"Jupiter\")\n",
    "sim.add(\"Saturn\")\n",
    "sim.add(\"Churyumov-Gerasimenko\") # a comet\n",
    "\n",
    "sim.status()"
   ]
  },
  {
   "cell_type": "markdown",
   "metadata": {},
   "source": [
    "That's just $x,y,z$ and $v_x, v_y, v_z$. We want orbital parameters:"
   ]
  },
  {
   "cell_type": "code",
   "execution_count": 3,
   "metadata": {},
   "outputs": [
    {
     "name": "stdout",
     "output_type": "stream",
     "text": [
      "<rebound.Orbit instance, a=5.203137306313255 e=0.048763899158847664 inc=0.022752832883286795 Omega=1.7543476877370654 omega=-1.5087268492441286 f=4.3068840661194745>\n",
      "<rebound.Orbit instance, a=9.542637675372823 e=0.05445011670234409 inc=0.043414648917335937 Omega=1.9827337242557626 omega=-0.36145508630335726 f=3.3823934594471514>\n",
      "<rebound.Orbit instance, a=3.419882927036348 e=0.663075840638447 inc=0.07113896994794407 Omega=0.680918175791959 omega=0.3546818794740541 f=-2.906157913274963>\n"
     ]
    }
   ],
   "source": [
    "for orbit in sim.calculate_orbits():\n",
    "    print(orbit)"
   ]
  },
  {
   "cell_type": "markdown",
   "metadata": {},
   "source": [
    "Plotting the three orbits shows the comet (small and highly elliptical orbit) has a close encounter with Jupiter. See https://rebound.readthedocs.io/en/latest/ipython/Churyumov-Gerasimenko.html for more on this example, or run [Churyumov-Gerasimenko.ipynb](rebound_official_examples/Churyumov-Gerasimenko.ipynb)"
   ]
  },
  {
   "cell_type": "code",
   "execution_count": 4,
   "metadata": {},
   "outputs": [
    {
     "data": {
      "image/png": "[encoded data removed]",
      "text/plain": [
       "<Figure size 360x360 with 1 Axes>"
      ]
     },
     "metadata": {
      "needs_background": "light"
     },
     "output_type": "display_data"
    }
   ],
   "source": [
    "%matplotlib inline\n",
    "fig = rebound.OrbitPlot(sim, trails=True, unitlabel=\"[AU]\")"
   ]
  },
  {
   "cell_type": "markdown",
   "metadata": {},
   "source": [
    "### Horizons data"
   ]
  },
  {
   "cell_type": "markdown",
   "metadata": {},
   "source": [
    "### Units\n",
    "\n",
    "REBOUND has its own internal concept of units so it may be hard to integrate with astropy.units. It was originally created for Solar System studies, so by default it uses a system where $G=1$, length is in units of 1 AU, mass in units of $M_{sun}$ and time in the more exotic units of $yr/2\\pi$.\n",
    "\n",
    "If you want to use SI or cgs, give it a list of time, mass and length units (in any order, but _before_ adding bodies):"
   ]
  },
  {
   "cell_type": "code",
   "execution_count": 5,
   "metadata": {
    "scrolled": true
   },
   "outputs": [
    {
     "name": "stdout",
     "output_type": "stream",
     "text": [
      "default G = 1.00000\n",
      "SI G = 6.67408e-11\n",
      "cgs G = 6.67408e-08\n"
     ]
    }
   ],
   "source": [
    "print(f'default G = {sim.G:.5f}')\n",
    "\n",
    "sim2 = rebound.Simulation()\n",
    "sim2.units = ('s', 'm', 'kg')\n",
    "print(f'SI G = {sim2.G}')\n",
    "\n",
    "sim2.units = ('cm', 'g', 's')\n",
    "print(f'cgs G = {sim2.G}')"
   ]
  },
  {
   "cell_type": "markdown",
   "metadata": {},
   "source": [
    "### Integrators"
   ]
  },
  {
   "cell_type": "markdown",
   "metadata": {},
   "source": [
    "## Running a simulation\n",
    "\n",
    "With a simulation created and particles added, we can move it forward by calling `sim.integrate(stop_time)`. Note that `stop_time` is an absolute time within the simulation, not an interval from the current value (`sim.t`). It had better be in the future or we have an infinite loop!\n",
    "\n",
    "REBOUND will pick a timestep (`sim.dt`) if we don't set it manually. Good practice is to try a few different timesteps and compare the results; the default is certainly not guaranteed to be optimal.\n",
    "\n",
    "The bodies were added with the Sun at the origin. To prevent the simulation from drifting over time it is generally useful to move to a center-of-mass frame with `sim.move_to_com()`."
   ]
  },
  {
   "cell_type": "code",
   "execution_count": 24,
   "metadata": {},
   "outputs": [
    {
     "name": "stdout",
     "output_type": "stream",
     "text": [
      "start time: 500.0\n",
      "---------------------------------\n",
      "REBOUND version:     \t3.8.2\n",
      "REBOUND built on:    \tMay 18 2019 03:15:47\n",
      "Number of particles: \t4\n",
      "Selected integrator: \tias15\n",
      "Simulation time:     \t0.0000000000000000e+00\n",
      "Current timestep:    \t0.090874\n",
      "---------------------------------\n",
      "<rebound.Particle object, m=1.0 x=0.005570563030455403 y=0.005592989225853608 z=-0.00020920592284360767 vx=-0.00036544248447219213 vy=0.00032434471298376703 vz=6.676461309628066e-06>\n",
      "<rebound.Particle object, m=0.0009547919152112404 x=-3.4545221165125626 y=-4.143300910306891 z=0.09458683433133382 vx=0.3312581978887918 vy=-0.26074272392354236 vz=-0.006298297706076929>\n",
      "<rebound.Particle object, m=0.0002858856727222417 x=-7.947978718396295 y=-5.726061746352981 z=0.4158836537924036 vx=0.1719562747318603 vy=-0.26370565377950494 vz=-0.0023187506178960035>\n",
      "<rebound.Particle object, m=0.0 x=-0.36629374814202836 y=1.5102480020748679 z=0.021755495312988274 vx=-1.0029225818741765 vy=0.0800747939216406 vz=-0.03289874694592958>\n",
      "---------------------------------\n"
     ]
    }
   ],
   "source": [
    "print(f'start time: {sim.t}')\n",
    "sim.t = 0.\n",
    "sim.move_to_com()\n",
    "sim.status()"
   ]
  },
  {
   "cell_type": "code",
   "execution_count": 25,
   "metadata": {},
   "outputs": [
    {
     "name": "stdout",
     "output_type": "stream",
     "text": [
      "---------------------------------\n",
      "REBOUND version:     \t3.8.2\n",
      "REBOUND built on:    \tMay 18 2019 03:15:47\n",
      "Number of particles: \t4\n",
      "Selected integrator: \tias15\n",
      "Simulation time:     \t1.0000000000000000e+01\n",
      "Current timestep:    \t0.452746\n",
      "---------------------------------\n",
      "<rebound.Particle object, m=1.0 x=0.0011260007432010747 y=0.007250736312009059 z=-0.00011490884958285917 vx=-0.0004807893220580496 vy=-1.0111523599964073e-05 vz=1.129540120072618e-05>\n",
      "<rebound.Particle object, m=0.0009547919152112404 x=0.5707725416498872 y=-5.192517147582539 z=0.009126699204722291 vx=0.4303410047437765 vy=0.06798386020131046 vz=-0.009896001461502829>\n",
      "<rebound.Particle object, m=0.0002858856727222417 x=-5.844888047315421 y=-8.020559050992727 z=0.3714588071463142 vx=0.2445145616399097 vy=-0.19168122684601763 vz=-0.006459851572061593>\n",
      "<rebound.Particle object, m=0.0 x=-4.337246156794088 y=-2.130661550524296 z=-0.20002744680673742 vx=-0.04857843278934349 vy=-0.3645780474588965 vz=-0.010099496671238958>\n",
      "---------------------------------\n"
     ]
    }
   ],
   "source": [
    "sim.integrate(10)\n",
    "sim.status()"
   ]
  },
  {
   "cell_type": "markdown",
   "metadata": {},
   "source": [
    "## Getting the results\n",
    "\n"
   ]
  },
  {
   "cell_type": "markdown",
   "metadata": {},
   "source": [
    "### Heartbeat logging\n",
    "\n",
    "It is possible to define a hearbeat function that is called at each timestep. This can be used to print intermediate values or write them to disk.\n",
    "\n",
    "Because of the way this function interfaces to the underying C code, it receives a pointer to the sim object and not the object itself. Use `sim.contents` to access data rather than `sim`."
   ]
  },
  {
   "cell_type": "code",
   "execution_count": 26,
   "metadata": {},
   "outputs": [
    {
     "name": "stdout",
     "output_type": "stream",
     "text": [
      "0.0\n",
      "0.4527460989319672\n",
      "0.9653946736654517\n",
      "1.5051512746924516\n",
      "2.0\n"
     ]
    }
   ],
   "source": [
    "def heartbeat(sim):\n",
    "    print(sim.contents.t)\n",
    "    \n",
    "sim.heartbeat = heartbeat\n",
    "sim.t = 0\n",
    "sim.integrate(2)"
   ]
  },
  {
   "cell_type": "markdown",
   "metadata": {},
   "source": [
    "It's not clear how best to remove a heartbeat, but setting it to a do-nothing function is one option"
   ]
  },
  {
   "cell_type": "code",
   "execution_count": 32,
   "metadata": {},
   "outputs": [],
   "source": [
    "def noheartbeat(sim):\n",
    "    pass\n",
    "\n",
    "sim.heartbeat = noheartbeat"
   ]
  },
  {
   "cell_type": "markdown",
   "metadata": {},
   "source": [
    "### Getting particle data from the simulation\n",
    "\n",
    "The simulation holds current particle data in an iterable `particles` object. A reasonably complete list of properties for each particle is shown below, though not all are valid in all circumstances.\n",
    "\n",
    "- `x, y, z`     : Particle positions\n",
    "- `vx, vy, vz`  : Particle velocities\n",
    "- `ax, ay, az`  : Particle accelerations\n",
    "- `m`           : Particle mass\n",
    "- `r`           : Particle radius\n",
    "- `lastcollision` : Last time the particle had a physical collision (if checking for collisions)\n",
    "- `a, e, inc, Omega, omega, f`\t: (Kepler Elements) Semi-major axis, eccentricity, inclination, longitude of the ascending node, argument of periapsis, and true anomaly respectively. The Keplerian Elements are in Jacobi coordinates (with `mu = G*Minc`, where `Minc` is the total mass from index 0 to the particle's index, inclusive)."
   ]
  },
  {
   "cell_type": "code",
   "execution_count": 23,
   "metadata": {
    "scrolled": true
   },
   "outputs": [
    {
     "name": "stdout",
     "output_type": "stream",
     "text": [
      "4\n"
     ]
    },
    {
     "data": {
      "text/plain": [
       "<rebound.Particle object, m=0.0009547919152112404 x=-3.4545221165125626 y=-4.143300910306891 z=0.09458683433133382 vx=0.3312581978887918 vy=-0.26074272392354236 vz=-0.006298297706076929>"
      ]
     },
     "metadata": {},
     "output_type": "display_data"
    },
    {
     "data": {
      "text/plain": [
       "(5.204237482454723, 0.04764772197752536)"
      ]
     },
     "execution_count": 23,
     "metadata": {},
     "output_type": "execute_result"
    }
   ],
   "source": [
    "print(len(sim.particles))\n",
    "display(sim.particles[1])\n",
    "sim.particles[1].a, sim.particles[1].e # don't try this on sim.particles[0], the Sun"
   ]
  },
  {
   "cell_type": "markdown",
   "metadata": {},
   "source": [
    "### Capturing a timecourse\n",
    "\n",
    "Rather than heartbeat logging, a common strategy is to run the sim to a series of predefined endpoints, capturing the status in numpy arrays before restarting the integration."
   ]
  },
  {
   "cell_type": "code",
   "execution_count": 33,
   "metadata": {
    "scrolled": false
   },
   "outputs": [],
   "source": [
    "import numpy as np\n",
    "Noutputs = 100\n",
    "year = 2.*np.pi # One year in units where G=1\n",
    "times = np.linspace(0., -70.*year, Noutputs)\n",
    "x = np.zeros((2, Noutputs))\n",
    "y = np.zeros((2, Noutputs))\n",
    "sim.t = 0\n",
    "ps = sim.particles       # ps is now an array of pointers and will change as the simulation runs\n",
    "\n",
    "for i,time in enumerate(times):\n",
    "    sim.integrate(time)\n",
    "    x[0][i] = ps[1].x   # This stores the data which allows us to plot it later\n",
    "    y[0][i] = ps[1].y\n",
    "    x[1][i] = ps[3].x\n",
    "    y[1][i] = ps[3].y"
   ]
  },
  {
   "cell_type": "markdown",
   "metadata": {},
   "source": [
    "### Simulation archive\n",
    "\n",
    "A relatively recent feature in REBOUND, the simulation archive makes it easy to take a full snapshot of the sim at regular intervals, saved in a disk file. These can be used for later analysis or (because they are bitwise identical to the sim object) as a starting point for further integration.\n",
    "\n",
    "For examples see [SimulationArchive](../rebound/rebound_official_examples/SimulationArchive.ipynb) and [SimulationArchiveRestart](../rebound/rebound_official_examples/SimulationArchiveRestart.ipynb)"
   ]
  },
  {
   "cell_type": "markdown",
   "metadata": {},
   "source": [
    "### Plotting\n",
    "\n",
    "For maximum flexibility, capture the appropriate intermediate values during the integration then use Matplotlib to display them as you wish.\n",
    "\n",
    "REBOUND has a convenience function called OrbitPlot() to show the current orbits in Matplotlib. This takes a variety of optional parameters: run `?rebound.OrbitPlot` for details. Basic usage was already illustrated in the 'getting started' section, a few more options are shown below."
   ]
  },
  {
   "cell_type": "code",
   "execution_count": 8,
   "metadata": {},
   "outputs": [
    {
     "data": {
      "image/png": "[encoded data removed]",
      "text/plain": [
       "<Figure size 360x360 with 1 Axes>"
      ]
     },
     "metadata": {
      "needs_background": "light"
     },
     "output_type": "display_data"
    }
   ],
   "source": [
    "%matplotlib inline\n",
    "fig = rebound.OrbitPlot(sim, trails=True, unitlabel=\"[AU]\", fancy=True)"
   ]
  },
  {
   "cell_type": "code",
   "execution_count": 9,
   "metadata": {},
   "outputs": [
    {
     "data": {
      "image/png": "[encoded data removed]",
      "text/plain": [
       "<Figure size 576x576 with 3 Axes>"
      ]
     },
     "metadata": {
      "needs_background": "light"
     },
     "output_type": "display_data"
    }
   ],
   "source": [
    "fig = rebound.OrbitPlot(sim, trails=True, unitlabel=\"[AU]\", slices=True, periastron=True, color=True)"
   ]
  },
  {
   "cell_type": "markdown",
   "metadata": {},
   "source": [
    "### Animations with WebGL\n",
    "\n",
    "REBOUND can do real-time 3D visualizations in a widget. See [WebGLVisualization.ipynb](../rebouund/rebound_official_examples/WebGLVisualization.ipynb) for more on this.\n",
    "\n",
    "This is a relatively new addition to REBOUND and still has some limitations and rough edges (honestly, any WebGL widget in Jupyter can be a bit unpredictable, not just these).\n",
    "\n",
    "One problem is that there is no obvious way to control the update rate and things tend to go too fast to see properly. If your interest is in the animation more than the final results, it may be worth putting a pause in the heartbeat function."
   ]
  },
  {
   "cell_type": "code",
   "execution_count": 10,
   "metadata": {},
   "outputs": [
    {
     "data": {
      "text/html": [
       "\n",
       "<script id=\"orbit_shader-vs\" type=\"x-shader/x-vertex\">\n",
       "    uniform vec3 focus;\n",
       "    uniform vec3 aef;\n",
       "    uniform vec3 omegaOmegainc;\n",
       "    attribute float lintwopi;\n",
       "    varying float lin;\n",
       "    uniform mat4 mvp;\n",
       "    const float M_PI = 3.14159265359;\n",
       "    void main() {\n",
       "       float a = aef.x;\n",
       "       float e = aef.y;\n",
       "       float f = aef.z+lintwopi;\n",
       "       lin = lintwopi/(M_PI*2.);\n",
       "       if (e>1.){\n",
       "           float theta_max = acos(-1./e);\n",
       "           f = 0.0001-theta_max+1.9998*lin*theta_max;\n",
       "           lin = sqrt(min(0.5,lin));\n",
       "       }\n",
       "       float omega = omegaOmegainc.x;\n",
       "       float Omega = omegaOmegainc.y;\n",
       "       float inc = omegaOmegainc.z;\n",
       "       float r = a*(1.-e*e)/(1. + e*cos(f));\n",
       "       float cO = cos(Omega);\n",
       "       float sO = sin(Omega);\n",
       "       float co = cos(omega);\n",
       "       float so = sin(omega);\n",
       "       float cf = cos(f);\n",
       "       float sf = sin(f);\n",
       "       float ci = cos(inc);\n",
       "       float si = sin(inc);\n",
       "       vec3 pos = vec3(r*(cO*(co*cf-so*sf) - sO*(so*cf+co*sf)*ci),r*(sO*(co*cf-so*sf) + cO*(so*cf+co*sf)*ci),+ r*(so*cf+co*sf)*si);\n",
       "       gl_Position = mvp*(vec4(focus+pos, 1.0));\n",
       "    }\n",
       "</script>\n",
       "<script id=\"orbit_shader-fs\" type=\"x-shader/x-fragment\">\n",
       "    precision mediump float;\n",
       "    varying float lin;\n",
       "    void main() {\n",
       "      float fog = max(max(0.,-1.+2.*gl_FragCoord.z),max(0.,1.-2.*gl_FragCoord.z));\n",
       "      gl_FragColor = vec4(1.,1.,1.,sqrt(lin)*(1.-fog));\n",
       "    }\n",
       "</script>\n",
       "<script id=\"point_shader-vs\" type=\"x-shader/x-vertex\">\n",
       "    attribute vec3 vp;\n",
       "    uniform mat4 mvp;\n",
       "    //uniform vec4 vc;\n",
       "    //varying vec4 color;\n",
       "    void main() {\n",
       "      gl_PointSize = 15.0;\n",
       "      gl_Position = mvp*vec4(vp, 1.0);\n",
       "      //color = vc;\n",
       "    }\n",
       "</script>\n",
       "<script id=\"point_shader-fs\" type=\"x-shader/x-fragment\">\n",
       "    precision mediump float;\n",
       "    //varying vec4 color;\n",
       "    void main() {\n",
       "      vec2 rel = gl_PointCoord.st;\n",
       "      rel.s -=0.5;\n",
       "      rel.t -=0.5;\n",
       "      if (length(rel)>0.25){\n",
       "         gl_FragColor = vec4(0.,0.,0.,0.); \n",
       "      }else{\n",
       "         vec4 cmod = vec4(1.,1.,1.,1.);\n",
       "         float fog = max(max(0.,-1.+2.*gl_FragCoord.z),max(0.,1.-2.*gl_FragCoord.z));\n",
       "         cmod.a*= (1.-fog)*min(1.,1.-4.*(length(rel)/0.25-0.75));\n",
       "         gl_FragColor = cmod;\n",
       "      }\n",
       "    }\n",
       "</script>\n",
       "\n",
       "<script>\n",
       "function compileShader(glr, shaderSource, shaderType) {\n",
       "  // Create the shader object\n",
       "  var shader = glr.createShader(shaderType);\n",
       " \n",
       "  // Set the shader source code.\n",
       "  glr.shaderSource(shader, shaderSource);\n",
       " \n",
       "  // Compile the shader\n",
       "  glr.compileShader(shader);\n",
       " \n",
       "  // Check if it compiled\n",
       "  var success = glr.getShaderParameter(shader, glr.COMPILE_STATUS);\n",
       "  if (!success) {\n",
       "    // Something went wrong during compilation; get the error\n",
       "    throw \"could not compile shader:\" + glr.getShaderInfoLog(shader);\n",
       "  }\n",
       " \n",
       "  return shader;\n",
       "}\n",
       "function createShaderFromScript(glr, scriptId, opt_shaderType) {\n",
       "  // look up the script tag by id.\n",
       "  var shaderScript = document.getElementById(scriptId);\n",
       "  if (!shaderScript) {\n",
       "    throw(\"*** Error: unknown script element\" + scriptId);\n",
       "  }\n",
       " \n",
       "  // extract the contents of the script tag.\n",
       "  var shaderSource = shaderScript.text;\n",
       " \n",
       "  // If we didn't pass in a type, use the 'type' from\n",
       "  // the script tag.\n",
       "  if (!opt_shaderType) {\n",
       "    if (shaderScript.type == \"x-shader/x-vertex\") {\n",
       "      opt_shaderType = glr.VERTEX_SHADER;\n",
       "    } else if (shaderScript.type == \"x-shader/x-fragment\") {\n",
       "      opt_shaderType = glr.FRAGMENT_SHADER;\n",
       "    } else if (!opt_shaderType) {\n",
       "      throw(\"*** Error: shader type not set\");\n",
       "    }\n",
       "  }\n",
       " \n",
       "  return compileShader(glr, shaderSource, opt_shaderType);\n",
       "};\n",
       "function createProgramFromScripts( glr, vertexShaderId, fragmentShaderId) {\n",
       "  var vertexShader = createShaderFromScript(glr, vertexShaderId, glr.VERTEX_SHADER);\n",
       "  var fragmentShader = createShaderFromScript(glr, fragmentShaderId, glr.FRAGMENT_SHADER);\n",
       "  var program = glr.createProgram();\n",
       " \n",
       "  // attach the shaders.\n",
       "  glr.attachShader(program, vertexShader);\n",
       "  glr.attachShader(program, fragmentShader);\n",
       " \n",
       "  // link the program.\n",
       "  glr.linkProgram(program);\n",
       " \n",
       "  // Check if it linked.\n",
       "  var success = glr.getProgramParameter(program, glr.LINK_STATUS);\n",
       "  if (!success) {\n",
       "      // something went wrong with the link\n",
       "      throw (\"program filed to link:\" + glr.getProgramInfoLog (program));\n",
       "  }\n",
       " \n",
       "  return program;\n",
       "}\n",
       "function quat2mat(A,mat){\n",
       "    var xx = A.x*A.x; var xy = A.x*A.y; var xz = A.x*A.z;\n",
       "    var xw = A.x*A.w; var yy = A.y*A.y; var yz = A.y*A.z;\n",
       "    var yw = A.y*A.w; var zz = A.z*A.z; var zw = A.z*A.w;\n",
       "    mat[0] = 1.-2.*(yy+zz);\n",
       "    mat[1] =    2.*(xy-zw);\n",
       "    mat[2] =    2.*(xz+yw);\n",
       "    mat[4] =    2.*(xy+zw);\n",
       "    mat[5] = 1.-2.*(xx+zz);\n",
       "    mat[6] =    2.*(yz-xw);\n",
       "    mat[8] =    2.*(xz-yw);\n",
       "    mat[9] =    2.*(yz+xw);\n",
       "    mat[10]= 1.-2.*(xx+yy);\n",
       "    mat[3] = mat[7] = mat[11] = mat[12] = mat[13] = mat[14] = 0.; mat[15]= 1.;\n",
       "}\n",
       "function multvec(A, B, vecr){\n",
       "    var mat = [0.,0.,0.,0.,0.,0.,0.,0.,0.,0.,0.,0.,0.,0.,0.,0.];\n",
       "    quat2mat(A,mat);\n",
       "    vecr[0] = mat[0]*B[0] + mat[1]*B[1] + mat[2]*B[2];\n",
       "    vecr[1] = mat[4]*B[0] + mat[5]*B[1] + mat[6]*B[2];\n",
       "    vecr[2] = mat[8]*B[0] + mat[9]*B[1] + mat[10]*B[2];\n",
       "}\n",
       "function mattransp(mat){\n",
       "    var matt = [\n",
       "        mat[0], mat[4], mat[8], mat[12],\n",
       "        mat[1], mat[5], mat[9], mat[13],\n",
       "        mat[2], mat[6], mat[10], mat[14],\n",
       "        mat[3], mat[7], mat[11], mat[15]];\n",
       "    return matt;\n",
       "}\n",
       "function conjugate(quat){\n",
       "    var cquat = {x:-quat.x, y:-quat.y, z:-quat.z, w:quat.w};\n",
       "    return cquat;\n",
       "}\n",
       "function mult(A, B){\n",
       "    var mquat = {   x: A.w*B.x + A.x*B.w + A.y*B.z - A.z*B.y,\n",
       "                    y: A.w*B.y - A.x*B.z + A.y*B.w + A.z*B.x,\n",
       "                    z: A.w*B.z + A.x*B.y - A.y*B.x + A.z*B.w,\n",
       "                    w: A.w*B.w - A.x*B.x - A.y*B.y - A.z*B.z};\n",
       "    return mquat;\n",
       "}\n",
       "\n",
       "function normalize(quat){\n",
       "    var L = Math.sqrt(quat.x*quat.x + quat.y*quat.y + quat.z*quat.z + quat.w*quat.w);\n",
       "    var nquat = {x:quat.x/L, y:quat.y/L, z:quat.z/L, w:quat.w/L};\n",
       "    return nquat;\n",
       "}\n",
       "function matortho(mat, l, r, b, t, n, f){\n",
       "    mat[0] = 2./(r-l); mat[1] = 0.; mat[2] = 0.; mat[3] = -(r+l)/(r-l);\n",
       "    mat[4] = 0.; mat[5] = 2./(t-b); mat[6] = 0.; mat[7] = -(t+b)/(t-b);\n",
       "    mat[8] = 0.; mat[9] = 0.; mat[10] = -2./(f-n); mat[11] = -(f+n)/(f-n);\n",
       "    mat[12] = 0.; mat[13] = 0.; mat[14] = 0.; mat[15] = 1.;\n",
       "}\n",
       "function matmult(A,B,C){\n",
       "    for(i=0;i<4;i++){\n",
       "    for(j=0;j<4;j++){\n",
       "        C[i+4*j] = 0.;\n",
       "    for(k=0;k<4;k++){\n",
       "        C[i+4*j] += A[k+4*j]*B[i+4*k];\n",
       "    }}}\n",
       "}\n",
       "function startGL(reboundView) {\n",
       "    var canvas = document.getElementById(\"reboundcanvas-\"+reboundView.cid);\n",
       "    if (!canvas){\n",
       "        reboundView.startCount = reboundView.startCount+1;\n",
       "        if (reboundView.startCount>1000){\n",
       "            console.log(\"Cannot find element.\");\n",
       "        }else{\n",
       "            setTimeout(function(){ startGL(reboundView); }, 10);\n",
       "        }\n",
       "        return;\n",
       "    }\n",
       "    var rect = canvas.getBoundingClientRect()\n",
       "    reboundView.ratio = rect.width/rect.height;\n",
       "    reboundView.view = normalize({x:reboundView.orientation[0], y:reboundView.orientation[1], z:reboundView.orientation[2], w:reboundView.orientation[3]});\n",
       "\n",
       "    canvas.addEventListener('mousedown', function() {\n",
       "        reboundView.mouseDown=1;\n",
       "        }, false);\n",
       "    canvas.addEventListener('mouseup', function() {\n",
       "        reboundView.mouseDown=0;\n",
       "        }, false);\n",
       "    canvas.addEventListener('mouseleave', function() {\n",
       "        reboundView.mouseDown=0;\n",
       "        }, false);\n",
       "\n",
       "    canvas.addEventListener('mousemove', function(evt) {\n",
       "        var rect = canvas.getBoundingClientRect()\n",
       "        if (reboundView.mouseDown==1){\n",
       "            reboundView.mouseDown = 2;\n",
       "            reboundView.mouse_x = evt.clientX-rect.left;\n",
       "            reboundView.mouse_y = evt.clientY-rect.top;\n",
       "            return;\n",
       "        }else if (reboundView.mouseDown==2){\n",
       "            var width = rect.width;\n",
       "            var height = rect.height;\n",
       "            var dx = 3.*(evt.clientX-rect.left-reboundView.mouse_x)/width;\n",
       "            var dy = 3.*(evt.clientY-rect.top-reboundView.mouse_y)/height;\n",
       "            reboundView.mouse_x = evt.clientX-rect.left;\n",
       "            reboundView.mouse_y = evt.clientY-rect.top;\n",
       "            if (evt.shiftKey){\n",
       "                reboundView.scale *= (1.+dx+dy);\n",
       "            }else{\n",
       "                var inv = conjugate(reboundView.view);\n",
       "                var up = [0.,1.,0.];\n",
       "                var right = [1.,0.,0.];\n",
       "                var inv_up = [0.,0.,0.];\n",
       "                var inv_right = [0.,0.,0.];\n",
       "                multvec(inv, right, inv_right);\n",
       "                multvec(inv, up, inv_up);\n",
       "                \n",
       "                var sin_dy = Math.sin(dy);\n",
       "                var rot_dy = {x:inv_right[0]*sin_dy, y:inv_right[1]*sin_dy, z:inv_right[2]*sin_dy, w:Math.cos(dy)};\n",
       "                reboundView.view = mult(reboundView.view, normalize(rot_dy));\n",
       "                \n",
       "                var sin_dx = Math.sin(dx);\n",
       "                var rot_dx = {x:inv_up[0]*sin_dx, y:inv_up[1]*sin_dx, z:inv_up[2]*sin_dx, w:Math.cos(dx)};\n",
       "                reboundView.view = normalize(mult(reboundView.view, normalize(rot_dx)));\n",
       "            }\n",
       "\n",
       "            drawGL(reboundView);\n",
       "        }\n",
       "\n",
       "\n",
       "        }, false);\n",
       "\n",
       "    reboundView.gl = canvas.getContext(\"webgl\")||canvas.getContext(\"experimental-webgl\");\n",
       "    if (!reboundView.gl) {\n",
       "      alert(\"Unable to initialize WebGL. Your browser may not support it.\");\n",
       "      return;\n",
       "    }\n",
       "    var gl = reboundView.gl\n",
       "    gl.enable(gl.BLEND);\n",
       "    gl.blendFunc(gl.SRC_ALPHA, gl.ONE_MINUS_SRC_ALPHA);\n",
       "    \n",
       "    reboundView.orbit_shader_program = createProgramFromScripts(gl,\"orbit_shader-vs\",\"orbit_shader-fs\");\n",
       "    reboundView.point_shader_program = createProgramFromScripts(gl,\"point_shader-vs\",\"point_shader-fs\");\n",
       "   \n",
       "    var lintwopi = new Float32Array(500);\n",
       "    for(i=0;i<500;i++){\n",
       "        lintwopi[i] = 2.*Math.PI/500.*i;\n",
       "    }\n",
       "    reboundView.orbit_lintwopi_buffer = gl.createBuffer();\n",
       "    gl.bindBuffer(gl.ARRAY_BUFFER, reboundView.orbit_lintwopi_buffer);\n",
       "    gl.bufferData(gl.ARRAY_BUFFER, 4*500, gl.STATIC_DRAW);\n",
       "    gl.bufferSubData(gl.ARRAY_BUFFER, 0, lintwopi)\n",
       "    reboundView.orbit_shader_mvp_location = gl.getUniformLocation(reboundView.orbit_shader_program,\"mvp\");\n",
       "    reboundView.orbit_shader_focus_location = gl.getUniformLocation(reboundView.orbit_shader_program,\"focus\");\n",
       "    reboundView.orbit_shader_aef_location = gl.getUniformLocation(reboundView.orbit_shader_program,\"aef\");\n",
       "    reboundView.orbit_shader_omegaOmegainc_location = gl.getUniformLocation(reboundView.orbit_shader_program,\"omegaOmegainc\");\n",
       "    \n",
       "    reboundView.particle_data_buffer = gl.createBuffer();\n",
       "    gl.useProgram(reboundView.point_shader_program);\n",
       "    reboundView.point_shader_mvp_location = gl.getUniformLocation(reboundView.point_shader_program,\"mvp\");\n",
       "    \n",
       "    updateRenderData(reboundView);\n",
       "    gl.clearColor(0.0, 0.0, 0.0, 1.0);\n",
       "    gl.clear(gl.COLOR_BUFFER_BIT);\n",
       "    drawGL(reboundView);\n",
       "}\n",
       "function updateRenderData(reboundView){\n",
       "    var overlay = document.getElementById(\"reboundoverlay-\"+reboundView.cid);\n",
       "    overlay.innerHTML = reboundView.model.get(\"overlay\");\n",
       "    var previousN = reboundView.N;\n",
       "    reboundView.N = reboundView.model.get(\"N\");\n",
       "    reboundView.t = reboundView.model.get(\"t\");\n",
       "    reboundView.particle_data = reboundView.model.get('particle_data');\n",
       "    if (reboundView.orbits){\n",
       "        reboundView.orbit_data = reboundView.model.get('orbit_data');\n",
       "    }\n",
       "    var gl = reboundView.gl\n",
       "    if (reboundView.N>0){\n",
       "        gl.bindBuffer(gl.ARRAY_BUFFER, reboundView.particle_data_buffer);\n",
       "        gl.bufferData(gl.ARRAY_BUFFER, reboundView.N*7*4, gl.DYNAMIC_DRAW);\n",
       "        gl.bufferSubData(gl.ARRAY_BUFFER, 0, reboundView.particle_data)\n",
       "    }\n",
       "}\n",
       "function drawGL(reboundView) {\n",
       "    if (!reboundView.gl){\n",
       "        return;\n",
       "    }\n",
       "    // Cleanup\n",
       "    var gl = reboundView.gl\n",
       "    gl.clearColor(0.0, 0.0, 0.0, 1.0);\n",
       "    gl.clear(gl.COLOR_BUFFER_BIT);\n",
       "    \n",
       "    // Draw\n",
       "    gl.useProgram(reboundView.point_shader_program);\n",
       "    gl.bindBuffer(gl.ARRAY_BUFFER, reboundView.particle_data_buffer);\n",
       "    var pvp = gl.getAttribLocation(reboundView.point_shader_program,\"vp\");\n",
       "    gl.enableVertexAttribArray(pvp);\n",
       "    gl.vertexAttribPointer(pvp, 3, gl.FLOAT, 0, 4*7,0); // 4 = size of float\n",
       "    var projection = [0.,0.,0.,0.,0.,0.,0.,0.,0.,0.,0.,0.,0.,0.,0.,0.];\n",
       "    if (reboundView.ratio>=1.){\n",
       "        matortho(projection, \n",
       "                -1.6*reboundView.scale, 1.6*reboundView.scale,\n",
       "                -1.6/reboundView.ratio*reboundView.scale, 1.6/reboundView.ratio*reboundView.scale,\n",
       "                -2.5*reboundView.scale, 2.5*reboundView.scale);\n",
       "    }else{\n",
       "        matortho(projection, \n",
       "                -1.6*reboundView.ratio*reboundView.scale, 1.6*reboundView.ratio*reboundView.scale,\n",
       "                -1.6*reboundView.scale, 1.6*reboundView.scale,\n",
       "                -2.5*reboundView.scale, 2.5*reboundView.scale);\n",
       "    }\n",
       "    var view = [0.,0.,0.,0.,0.,0.,0.,0.,0.,0.,0.,0.,0.,0.,0.,0.];\n",
       "    quat2mat(reboundView.view,view);\n",
       "    var mvp = [0.,0.,0.,0.,0.,0.,0.,0.,0.,0.,0.,0.,0.,0.,0.,0.];\n",
       "    matmult(projection,view,mvp);\n",
       "    gl.uniformMatrix4fv(reboundView.point_shader_mvp_location,false,mattransp(mvp));\n",
       "    gl.drawArrays(gl.POINTS,0,reboundView.N);\n",
       "   \n",
       "    if (reboundView.orbits){\n",
       "        gl.useProgram(reboundView.orbit_shader_program);\n",
       "        gl.bindBuffer(gl.ARRAY_BUFFER, reboundView.orbit_lintwopi_buffer);\n",
       "        var ltp = gl.getAttribLocation(reboundView.orbit_shader_program,\"lintwopi\");\n",
       "        gl.enableVertexAttribArray(ltp);\n",
       "        gl.vertexAttribPointer(ltp, 1, gl.FLOAT, 0, 0,0); // 4 = size of float\n",
       "        gl.uniformMatrix4fv(reboundView.orbit_shader_mvp_location,false,mattransp(mvp));\n",
       "\n",
       "        // Need to do this one by one\n",
       "        // because WebGL is not supporting\n",
       "        // instancing:\n",
       "        for(i=0;i<reboundView.N-1;i++){\n",
       "            var focus = new Float32Array(reboundView.orbit_data.buffer,4*9*i,3);\n",
       "            gl.uniform3fv(reboundView.orbit_shader_focus_location,focus);\n",
       "            var aef = new Float32Array(reboundView.orbit_data.buffer,4*(9*i+3),3);\n",
       "            gl.uniform3fv(reboundView.orbit_shader_aef_location,aef);\n",
       "            var omegaOmegainc = new Float32Array(reboundView.orbit_data.buffer,4*(9*i+6),3);\n",
       "            gl.uniform3fv(reboundView.orbit_shader_omegaOmegainc_location,omegaOmegainc);\n",
       "\n",
       "            gl.drawArrays(gl.LINE_STRIP,0,500);\n",
       "        }\n",
       "    }\n",
       "}\n",
       "require.undef('rebound');\n",
       "    define('rebound', [\"@jupyter-widgets/base\"], function(widgets) {\n",
       "    var ReboundView = widgets.DOMWidgetView.extend({\n",
       "        render: function() {\n",
       "            this.el.innerHTML = '<span style=\"display: inline-block; position: relative;\" width=\"'+this.model.get(\"width\")+'\" height=\"'+this.model.get(\"height\")+'\"><canvas style=\"border: none;\" id=\"reboundcanvas-'+this.cid+'\" width=\"'+this.model.get(\"width\")+'\" height=\"'+this.model.get(\"height\")+'\"></canvas><span style=\"position: absolute; color: #FFF; pointer-events:none;  bottom:5px; right:0px; padding-right:5px; font-family: monospace;\" id=\"reboundoverlay-'+this.cid+'\">REBOUND</span></span>';\n",
       "            this.model.on('change:t', this.trigger_refresh, this);\n",
       "            this.model.on('change:count', this.trigger_refresh, this);\n",
       "            this.model.on('change:screenshotcount', this.take_screenshot, this);\n",
       "            this.startCount = 0;\n",
       "            this.gl = null;\n",
       "            // Only copy those once\n",
       "            this.scale = this.model.get(\"scale\");\n",
       "            this.width = this.model.get(\"width\");\n",
       "            this.height = this.model.get(\"height\");\n",
       "            this.orbits = this.model.get(\"orbits\");\n",
       "            this.orientation = this.model.get(\"orientation\");\n",
       "            startGL(this);\n",
       "        },\n",
       "        take_screenshot: function() {\n",
       "            drawGL(this);\n",
       "            var canvas = document.getElementById(\"reboundcanvas-\"+this.cid);\n",
       "            var img = canvas.toDataURL(\"image/png\");\n",
       "            this.model.set(\"screenshot\",img, {updated_view: this});\n",
       "            this.touch();\n",
       "        },\n",
       "        trigger_refresh: function() {\n",
       "            updateRenderData(this);\n",
       "            drawGL(this);\n",
       "        },\n",
       "    });\n",
       "    return {\n",
       "        ReboundView: ReboundView\n",
       "    };\n",
       "});\n",
       "      \n",
       "</script>\n"
      ],
      "text/plain": [
       "<IPython.core.display.HTML object>"
      ]
     },
     "metadata": {},
     "output_type": "display_data"
    },
    {
     "data": {
      "application/vnd.jupyter.widget-view+json": {
       "model_id": "7f53bffe0aaf4a53b5afa44a817edcbf",
       "version_major": 2,
       "version_minor": 0
      },
      "text/plain": [
       "Widget(N=4, count=2, height=500.0, orbit_data=b'/W\\xcd\\xbb\\x86\\x8f\\x85;R\\x14\\x089!\\x81\\xa6@[\\x8aF=\\x93\\x9a-\\xb…"
      ]
     },
     "metadata": {},
     "output_type": "display_data"
    }
   ],
   "source": [
    "from time import sleep\n",
    "\n",
    "def slowheartbeat(sim):\n",
    "    sleep(0.005)\n",
    "\n",
    "sim.heartbeat = slowheartbeat\n",
    "sim.getWidget(size=(500,500))"
   ]
  },
  {
   "cell_type": "code",
   "execution_count": 11,
   "metadata": {},
   "outputs": [],
   "source": [
    "sim.t = 0\n",
    "sim.refreshWidgets()\n",
    "sim.integrate(500)"
   ]
  },
  {
   "cell_type": "markdown",
   "metadata": {},
   "source": [
    "Still not very smooth! \n",
    "\n",
    "The view can be tilted by dragging with the mouse and zooked with shift-drag. Not very intersiting in this example as the orbits are nearly coplanar."
   ]
  },
  {
   "cell_type": "markdown",
   "metadata": {},
   "source": [
    "## Collisions and close approaches\n",
    "\n",
    "REBOUND can be set to automatically detect and respond when particles get \"too\" close (however you choose to define that). See [CloseEncounters.ipynb](../rebound/rebound_official_examples/CloseEncounters.ipynb) for details.\n",
    "\n",
    "In short, there are two main ways to do this:\n",
    "- Set `sim.exit_min_distance` to a non-zero value. Rebound checks all pairs after each timestep, and stops and throws an exception if appropriate.\n",
    "- Set radii on each particle at the start (e.g. the Hill radius), plus the `sim.collision` and `sim.collision_resolve` callback functions to define how collisions are detected and responded to."
   ]
  },
  {
   "cell_type": "code",
   "execution_count": null,
   "metadata": {},
   "outputs": [],
   "source": []
  },
  {
   "cell_type": "code",
   "execution_count": null,
   "metadata": {},
   "outputs": [],
   "source": []
  },
  {
   "cell_type": "code",
   "execution_count": null,
   "metadata": {},
   "outputs": [],
   "source": []
  },
  {
   "cell_type": "code",
   "execution_count": null,
   "metadata": {},
   "outputs": [],
   "source": []
  }
 ],
 "metadata": {
  "kernelspec": {
   "display_name": "Python 3",
   "language": "python",
   "name": "python3"
  },
  "language_info": {
   "codemirror_mode": {
    "name": "ipython",
    "version": 3
   },
   "file_extension": ".py",
   "mimetype": "text/x-python",
   "name": "python",
   "nbconvert_exporter": "python",
   "pygments_lexer": "ipython3",
   "version": "3.6.8"
  },
  "toc": {
   "base_numbering": 1,
   "nav_menu": {},
   "number_sections": true,
   "sideBar": true,
   "skip_h1_title": true,
   "title_cell": "Contents",
   "title_sidebar": "Contents",
   "toc_cell": true,
   "toc_position": {},
   "toc_section_display": true,
   "toc_window_display": true
  }
 },
 "nbformat": 4,
 "nbformat_minor": 2
}
