{
 "cells": [
  {
   "cell_type": "markdown",
   "metadata": {},
   "source": [
    "# Radial Velocity Curves"
   ]
  },
  {
   "cell_type": "markdown",
   "metadata": {
    "toc": true
   },
   "source": [
    "<h1>Contents<span class=\"tocSkip\"></span></h1>\n",
    "<div class=\"toc\"><ul class=\"toc-item\"><li><span><a href=\"#The-2-body-problem\" data-toc-modified-id=\"The-2-body-problem-1\"><span class=\"toc-item-num\">1&nbsp;&nbsp;</span>The 2-body problem</a></span><ul class=\"toc-item\"><li><span><a href=\"#Coordinates\" data-toc-modified-id=\"Coordinates-1.1\"><span class=\"toc-item-num\">1.1&nbsp;&nbsp;</span>Coordinates</a></span></li><li><span><a href=\"#Stepping\" data-toc-modified-id=\"Stepping-1.2\"><span class=\"toc-item-num\">1.2&nbsp;&nbsp;</span>Stepping</a></span></li></ul></li><li><span><a href=\"#Defining-the-simulation\" data-toc-modified-id=\"Defining-the-simulation-2\"><span class=\"toc-item-num\">2&nbsp;&nbsp;</span>Defining the simulation</a></span></li><li><span><a href=\"#Interactive-plotting\" data-toc-modified-id=\"Interactive-plotting-3\"><span class=\"toc-item-num\">3&nbsp;&nbsp;</span>Interactive plotting</a></span></li></ul></div>"
   ]
  },
  {
   "cell_type": "code",
   "execution_count": 7,
   "metadata": {},
   "outputs": [],
   "source": [
    "%matplotlib inline\n",
    "\n",
    "import time\n",
    "\n",
    "import numpy as np\n",
    "import matplotlib.pyplot as plt\n",
    "plt.rcParams['font.size'] = 16\n",
    "\n",
    "from ipywidgets import interact, Layout\n",
    "import ipywidgets as w\n",
    "\n",
    "from astropy import units as u\n",
    "from astropy.constants import G"
   ]
  },
  {
   "cell_type": "markdown",
   "metadata": {},
   "source": [
    "## The 2-body problem\n",
    "\n",
    "For a single-planet system, the star and planet are in elliptical orbits sharing a common focus at the center of mass. At any time, the line joining the two bodies must pass through this common focus.\n",
    "\n",
    "Our calculations will assume that a system of two bodies in mutual orbit can be treated as mathematically equivalent to an object with reduced mass $\\mu$ in orbit around a _stationary_ mass $M$ corresponding to the combined center of mass of the bodies. This gives us a 1-body problem which is relatively easy to model. Once we have the radius $r$ and angle $\\theta$ for a point in the CoM reference frame, it is simple arithmetic to get the postions of each body.\n",
    "\n",
    "From Kepler's Third Law, the semi-major axis of the binary system is \n",
    "$$a = \\sqrt[3]{\\frac{P^2 G (m_1+m_2)}{4 \\pi^2}}$$\n",
    "\n",
    "The reduced mass is: $$\\mu = \\frac{m_1 m_2}{m_1 + m_2}$$\n",
    "\n",
    "The individual bodies have semi-major axes about the center of mass: $$a_1 = \\frac{\\mu}{m_1} a \\qquad a_2 = \\frac{\\mu}{m_2} a$$\n",
    "For convenience, we define $M = m_1+m_2$."
   ]
  },
  {
   "cell_type": "markdown",
   "metadata": {},
   "source": [
    "### Coordinates\n",
    "We are ignoring inclination of the orbital plane, as this merely scales the velocities without changing anything interesting in the simulation. This reduces it to a 2-D problem with the orbit in a plane that includes our line of sight.\n",
    "\n",
    "We need to take two angles into account: the planet's position on the orbit, $\\theta$, and the angle between pericenter and our line of sight, $\\varpi$ (called varpi in the code and plots).\n",
    "\n",
    "The sim always starts at pericenter, taken as $\\theta=0$"
   ]
  },
  {
   "cell_type": "markdown",
   "metadata": {},
   "source": [
    "### Stepping\n",
    "In the simulation, we need to calculate the angular step $d\\theta$ for each time step $dt$. This is Kepler II, a manifestation of angular momentum conservation.\n",
    "\n",
    "The angular momentum is\n",
    "$$ L = \\mu \\sqrt{G M a (1-e^2)} $$\n",
    "and \n",
    "$$ \\frac{dA}{dt} = \\frac{1}{2} r^2 \\frac{d \\theta}{dt} = \\frac{1}{2} \\frac{L}{\\mu} \\quad \\Rightarrow \\quad d \\theta = \\frac{dA}{dt} \\frac{2}{r^2} dt $$\n",
    "\n",
    "By Kepler II, $\\frac{dA}{dt}$ is constant and $d \\theta \\sim r^{-2}$: varying around the orbit for non-zero eccentricities."
   ]
  },
  {
   "cell_type": "markdown",
   "metadata": {},
   "source": [
    "## Defining the simulation"
   ]
  },
  {
   "cell_type": "code",
   "execution_count": 14,
   "metadata": {},
   "outputs": [],
   "source": [
    "def runSim(m_p, P, e, varpi, m_star):\n",
    "    \"Main orbit loop. Parameters should have appropriate units.\"\n",
    "\n",
    "    # initialize parameters\n",
    "    M = m_star + m_p\n",
    "    a = ((P**2 * G * M)/(4*np.pi**2))**(1/3)\n",
    "    mu = (m_star * m_p)/M\n",
    "\n",
    "    N = 500 # steps around the orbit\n",
    "    t = 0 * u.s\n",
    "    dt = P/N # time step\n",
    "    theta = 0 * u.rad\n",
    "    \n",
    "    # calculate angular momentum about center of mass\n",
    "    L_ang = mu * np.sqrt(G * M * a * (1 - e**2))\n",
    "    \n",
    "    # dA/dt, for calculating dtheta at each time step\n",
    "    dAdt = L_ang / (2 * mu)\n",
    "    \n",
    "    # initialize output arrays,    \n",
    "    t_P = np.zeros(N) # t/P, fraction of the orbit [dimensionless]\n",
    "    v_r_star = np.zeros(N) * u.m/u.s # radial velocity, star\n",
    "    \n",
    "    # run the time-step loop\n",
    "    for step in range(N):\n",
    "        # Calculate orbit parameters in the CoM reference frame,\n",
    "        # then translate to individual body positions\n",
    "        \n",
    "        # position\n",
    "        r =  a*(1 - e**2)/(1 + e*np.cos(theta))\n",
    "        \n",
    "        # velocity\n",
    "        v = np.sqrt(G * M * (2/r - 1/a))\n",
    "        \n",
    "        # radial velocity for mu (along our line of sight)\n",
    "        vr  = -v * np.sin(theta + varpi)\n",
    "        # radial velocity for star\n",
    "        v1r = mu/m_star * vr\n",
    "        \n",
    "        # store the results\n",
    "        t_P[step] = t/P\n",
    "        v_r_star[step] = v1r\n",
    "        \n",
    "        # prepare for next step\n",
    "        dtheta = 2 * dAdt/r**2 * dt * u.rad\n",
    "        theta += dtheta\n",
    "        t += dt\n",
    "\n",
    "    return t_P, v_r_star"
   ]
  },
  {
   "cell_type": "markdown",
   "metadata": {},
   "source": [
    "The sim only runs for a single orbit, but the results are duplicated for plotting 2 orbits. Scientifically meaningless but visually helpful."
   ]
  },
  {
   "cell_type": "code",
   "execution_count": 15,
   "metadata": {},
   "outputs": [],
   "source": [
    "def plotRV(m_p, m_p_unit, P, P_unit, e, varpi, m_star):\n",
    "    # add units\n",
    "    if m_p_unit=='M_earth':\n",
    "        m_p *= u.M_earth\n",
    "    else:\n",
    "        m_p *= u.M_jup\n",
    "    m_star *= u.M_sun\n",
    "    if P_unit=='day':\n",
    "        P *= u.day\n",
    "    else:\n",
    "        P *= u.year\n",
    "    varpi *= u.deg\n",
    "    \n",
    "    # run the simulation\n",
    "    t_P, v_r_star = runSim(m_p, P, e, varpi, m_star)\n",
    "\n",
    "    # plotting\n",
    "    x = np.hstack( (t_P, 1+t_P) )\n",
    "    y = np.hstack( (v_r_star, v_r_star) )\n",
    "\n",
    "    plt.figure(figsize=(15, 5))\n",
    "    plt.plot(x, y)\n",
    "    plt.xlabel('t/P')\n",
    "    plt.ylabel('RV (m/s)')\n",
    "    plt.title(f\"Planet: {m_p}, star: {m_star}, P: {P}, e: {e}, varpi: {varpi}\");"
   ]
  },
  {
   "cell_type": "markdown",
   "metadata": {},
   "source": [
    "## Interactive plotting\n",
    "\n",
    "Ugly layout at this stage - it would be good to have units dropdowns alongside the associated slider, but that's not very easy with widgets. On the TODO list..."
   ]
  },
  {
   "cell_type": "code",
   "execution_count": 13,
   "metadata": {
    "scrolled": false
   },
   "outputs": [
    {
     "data": {
      "application/vnd.jupyter.widget-view+json": {
       "model_id": "0ac675bf4f59436c8f726bed81c1f7bd",
       "version_major": 2,
       "version_minor": 0
      },
      "text/plain": [
       "interactive(children=(FloatSlider(value=1.0, continuous_update=False, description='planet mass', layout=Layout…"
      ]
     },
     "metadata": {},
     "output_type": "display_data"
    }
   ],
   "source": [
    "style = {'description_width': 'initial'} # to avoid the labels getting truncated\n",
    "interact(plotRV, \n",
    "    m_star = w.FloatSlider(description=\"star mass ($M_{\\odot}$)\", style=style,\n",
    "                            layout=Layout(width='80%'),\n",
    "                            continuous_update=False, \n",
    "                            min=0.1, max=10.0, value=1),\n",
    "    m_p = w.FloatSlider(description=\"planet mass\", style=style,\n",
    "                            layout=Layout(width='80%'),\n",
    "                            continuous_update=False, \n",
    "                            min=0.1, max=10.0, value=1),\n",
    "    m_p_unit = w.RadioButtons(description=\"Planet unit\",\n",
    "                            options=['M_Earth', 'M_Jup']),\n",
    "    P = w.FloatSlider(description=\"Orbit period\", style=style,\n",
    "                            layout=Layout(width='80%'),\n",
    "                            continuous_update=False, \n",
    "                            min=1.0, max=50.0, step=0.1, value=20),\n",
    "    P_unit = w.RadioButtons(description=\"Period unit\",\n",
    "                            options=['day', 'year']),\n",
    "    e = w.FloatSlider(description=\"eccentricity\", style=style,\n",
    "                            layout=Layout(width='80%'),\n",
    "                            continuous_update=False, \n",
    "                            min=0.0, max=0.9, step=0.01, value=0),\n",
    "    varpi = w.FloatSlider(description=\"varpi (deg)\", style=style,\n",
    "                            layout=Layout(width='80%'),\n",
    "                            continuous_update=False,\n",
    "                            min=-90.0, max=90.0, value=0) );"
   ]
  },
  {
   "cell_type": "code",
   "execution_count": null,
   "metadata": {},
   "outputs": [],
   "source": []
  }
 ],
 "metadata": {
  "kernelspec": {
   "display_name": "Python 3",
   "language": "python",
   "name": "python3"
  },
  "language_info": {
   "codemirror_mode": {
    "name": "ipython",
    "version": 3
   },
   "file_extension": ".py",
   "mimetype": "text/x-python",
   "name": "python",
   "nbconvert_exporter": "python",
   "pygments_lexer": "ipython3",
   "version": "3.6.9"
  },
  "toc": {
   "base_numbering": 1,
   "nav_menu": {},
   "number_sections": true,
   "sideBar": true,
   "skip_h1_title": true,
   "title_cell": "Contents",
   "title_sidebar": "Contents",
   "toc_cell": true,
   "toc_position": {},
   "toc_section_display": true,
   "toc_window_display": false
  }
 },
 "nbformat": 4,
 "nbformat_minor": 2
}
