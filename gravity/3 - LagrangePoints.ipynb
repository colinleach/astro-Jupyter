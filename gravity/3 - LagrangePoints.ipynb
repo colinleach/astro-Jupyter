{
 "cells": [
  {
   "cell_type": "markdown",
   "metadata": {},
   "source": [
    "# Lagrange Points\n",
    "\n",
    "*Colin Leach, Oct 2018*"
   ]
  },
  {
   "cell_type": "markdown",
   "metadata": {},
   "source": [
    "## Contents\n",
    "\n",
    "- [Introduction](#intro)\n",
    "- [Interactive 2D plot](#2d)\n",
    "- [3D plot](#3d)\n",
    "- [Roche lobes](#roche)\n",
    "- [References](#refs)"
   ]
  },
  {
   "cell_type": "markdown",
   "metadata": {},
   "source": [
    "<a id='intro'></a>"
   ]
  },
  {
   "cell_type": "markdown",
   "metadata": {},
   "source": [
    "## Introduction\n",
    "\n",
    "The Lagrange points are an example of the restricted 3-body problem. When two massive bodies $m_1$ and $m_2$ are in *circular* orbits around their center of mass, calculations in the rotating reference frame identify stationary points in the gravitational field where (much less massive) test particles have zero acceleration. These are the 5 Lagrange points.\n",
    "\n",
    "### Rotating reference frame\n",
    "\n",
    "We need to transform the $x,y$ coordinates of the orbital plane to a center of mass (CoM) frame $x', y'$, rotating such that $m_1$ and $m_2$ remain on the $x'$ axis. Because we are restricting the analysis to circular orbits, the angular frequency $\\omega$ is constant. We also define an angular frequency vector $\\Omega = \\omega \\mathbf{\\hat{z}}$ that points along the rotation axis.\n",
    "\n",
    "The velocity of a point with position vector $\\mathbf{r}$ transorms as \n",
    "$$ \\mathbf{v}_{fixed} = \\mathbf{v}_{rot} + \\Omega \\times \\mathbf{r} $$\n",
    "Taking the time derivative of this gives\n",
    "$$ \\mathbf{\\dot{v}}_{fixed} = \\mathbf{\\dot{v}}_{rot}\\ +\\ \\Omega \\times \\mathbf{v}_{rot}\\ +\\ \\dot{\\Omega} \\times \\mathbf{r}\\ +\\ \\Omega \\times \\mathbf{\\dot{r}}_{rot}\\ +\\ \\Omega \\times (\\Omega \\times \\mathbf{r}) $$\n",
    "But $\\mathbf{\\dot{v}} = \\mathbf{a}$ and $\\mathbf{\\dot{r}} = \\mathbf{v}$, so this simplifies to\n",
    "$$ \\mathbf{a}_{fixed} = \\mathbf{a}_{rot}\\ +\\ \\Omega \\times (\\Omega \\times \\mathbf{r})\\ +\\ 2\\Omega \\times \\mathbf{v}_{rot}\\ +\\  \\dot{\\Omega} \\times \\mathbf{r} $$"
   ]
  },
  {
   "cell_type": "markdown",
   "metadata": {},
   "source": [
    "### Application to the gravitational 3-body problem\n",
    "\n",
    "Because $\\dot{\\Omega} = 0$ and $\\Omega$ is perpendicular to to orbital plane including $\\mathbf{r}$, we can simplify further. Also, we define $\\mathbf{F}_{true} = m\\ \\mathbf{a}_{fixed}$ and $\\mathbf{F}_{eff} = m\\ \\mathbf{a}_{rot}$\n",
    "$$ \\mathbf{F}_{true} = \\mathbf{F}_{eff}\\ -\\ \\underbrace{\\omega^2 \\mathbf{r}}_{centrifugal}\\ +\\ \\underbrace{2\\Omega \\times \\mathbf{v}_{rot}}_{Coriolis}  $$\n",
    "Finally, assume that the Coriolis term is usually small enough to ignore in systems like this. Then our effective force is \n",
    "$$ \\mathbf{F}_{eff} = \\mathbf{F}_{true}\\ +\\ \\omega^2 \\mathbf{r} $$\n",
    "\n",
    "The effective potential is \n",
    "$$ \\Phi_{eff} = \\frac{U_{eff}}{m} = -\\frac{1}{m} \\int \\mathbf{F}_{eff} \\cdot d \\mathbf{r} = -\\frac{1}{m} \\int \\mathbf{F}_{true} \\cdot d \\mathbf{r} - \\int \\omega^2 \\mathbf{r} \\cdot d \\mathbf{r} = \\Phi_{true} - \\frac{1}{2} \\omega^2 r^2 $$\n",
    "\n",
    "If the position vectors to $m_1$ and $m_2$ are $\\mathbf{r}_1$ and $\\mathbf{r}_2$, this becomes\n",
    "$$ \\Phi_{eff} = -\\frac{G m_1}{|\\mathbf{r} - \\mathbf{r}_1|} -\\frac{G m_2}{|\\mathbf{r} - \\mathbf{r}_2|} - \\frac{1}{2} \\omega^2 r^2 $$\n",
    "\n",
    "The rest of this notebook calculates contours for $\\Phi_{eff}$. In particular, the **Lagrange points** are the 5 points where $\\nabla \\Phi_{eff} = 0$."
   ]
  },
  {
   "cell_type": "markdown",
   "metadata": {},
   "source": [
    "<a id='2d'></a>"
   ]
  },
  {
   "cell_type": "markdown",
   "metadata": {},
   "source": [
    "## Interactive 2D plot"
   ]
  },
  {
   "cell_type": "code",
   "execution_count": 1,
   "metadata": {},
   "outputs": [],
   "source": [
    "# matplotlib notebook supports 3D rotation, unlike matplotlib inline\n",
    "# but it causes other problems\n",
    "# %matplotlib notebook\n",
    "\n",
    "%matplotlib inline\n",
    "\n",
    "import time\n",
    "\n",
    "import numpy as np\n",
    "import matplotlib.pyplot as plt\n",
    "import matplotlib.cm as cm\n",
    "from mpl_toolkits.mplot3d import Axes3D\n",
    "\n",
    "# from IPython.display import Image, HTML, display, clear_output\n",
    "# from matplotlib.offsetbox import AnchoredText\n",
    "\n",
    "from ipywidgets import interact, interactive, fixed, interact_manual, Layout, Output\n",
    "import ipywidgets as w\n",
    "\n",
    "from scipy.optimize import brentq"
   ]
  },
  {
   "cell_type": "markdown",
   "metadata": {},
   "source": [
    "Start by setting up a calculation of the coordinates of L1-L5. Note that the calculation is essentially dimensionless: $m_1$ and $m_2$ are 1 arbitrary unit apart (so $a = 1$), and only the relative masses are specified. The parameter `mu` is the fraction of the total mass in $m_2$, so:\n",
    "$$ \\mu = \\mu_2 = \\frac{m_2}{m_1+m_2} \\quad \\text{and} \\quad \\mu_1 = 1 - \\mu_2 $$\n",
    "This is not the same as the reduced mass, usually called $\\mu$ in other contexts."
   ]
  },
  {
   "cell_type": "markdown",
   "metadata": {},
   "source": [
    "L4 and L5 are easy, as they form equilateral triangles with $m_1$ and $m_2$. L1-L3 all lie along a line through $m_1$ and $m_2$, so in our coordinates $y=0$. Finding the $x$-coordinate is much more complicated and best done digitally: `scipy.optimize.brentq` seems to work well."
   ]
  },
  {
   "cell_type": "code",
   "execution_count": 2,
   "metadata": {},
   "outputs": [],
   "source": [
    "def location(mu):\n",
    "    mu1 = 1 - mu\n",
    "    mu2 = mu\n",
    "    \n",
    "    # r1 and r2 will be close to r10 and r20 respectively.\n",
    "    # Some solvers need this guidance (e.g. Mathematica's FindRoot)\n",
    "    # We use brentq here, which only needs an interval spanning a sign change\n",
    "#     alpha = (mu/(3*(1-mu)))**(1/3)\n",
    "#     beta = -(7/12)*(mu2/mu1) + (7/12)*(mu2/mu1)**2\n",
    "#     r10 = 1 + beta\n",
    "#     r20 = alpha - (1/3)*alpha**2 - (1/9)*alpha**3\n",
    "    \n",
    "    points = {}\n",
    "    \n",
    "    # L1\n",
    "    def lageq1(r2):\n",
    "        return mu1*(1 - r2 - 1/(1-r2)**2) - mu2*(r2 - 1/r2**2)\n",
    "    r2 = brentq(lageq1, 0.001, 0.999)\n",
    "    x = mu1 - r2\n",
    "    points['L1'] = (x, 0)\n",
    "    \n",
    "    # L2\n",
    "    def lageq2(r2):\n",
    "        return mu1*(1 + r2 - 1/(1+r2)**2) + mu2*(r2 - 1/r2**2)\n",
    "    r2 = brentq(lageq2, 0.001, 0.999)\n",
    "    x = mu1 + r2\n",
    "    points['L2'] = (x, 0)\n",
    "    \n",
    "    # L3\n",
    "    def lageq3(r1):\n",
    "        return mu1*(r1 - 1/r1**2) + mu2*(1 + r1 - 1/(1+r1)**2)\n",
    "    r1 = brentq(lageq3, 0.001, 0.999)\n",
    "    x = -mu2 - r1\n",
    "    points['L3'] = (x, 0)\n",
    "    \n",
    "    # L4\n",
    "    x = 0.5 - mu2\n",
    "    y = np.sqrt(3)/2\n",
    "    points['L4'] = (x, y)\n",
    "    \n",
    "    # L5\n",
    "    x = 0.5 - mu2\n",
    "    y = -np.sqrt(3)/2\n",
    "    points['L5'] = (x, y)\n",
    "    \n",
    "    return points # as (x,y) tuples"
   ]
  },
  {
   "cell_type": "markdown",
   "metadata": {},
   "source": [
    "The Mathematica code published by Murray and Dermott uses $\\mu = 0.2$ in all its calculations. Let's check that our Python function gives the same coordinate values (it does)."
   ]
  },
  {
   "cell_type": "code",
   "execution_count": 3,
   "metadata": {},
   "outputs": [
    {
     "name": "stdout",
     "output_type": "stream",
     "text": [
      "{'L1': (0.4380759585384487, 0), 'L2': (1.2710486907395575, 0), 'L3': (-1.0828394642022834, 0), 'L4': (0.3, 0.8660254037844386), 'L5': (0.3, -0.8660254037844386)}\n"
     ]
    }
   ],
   "source": [
    "mu = 0.2\n",
    "pts = location(mu)\n",
    "print(pts)"
   ]
  },
  {
   "cell_type": "markdown",
   "metadata": {},
   "source": [
    "Now define a function `czv` that returns the value of the Jacobi constant of the zero velocity curve at the point $(x,y)$. Murray and Dermott explain this in (sometimes bewildering) detail, but essentially we are talking about levels in the gravitational field $\\Phi$."
   ]
  },
  {
   "cell_type": "code",
   "execution_count": 4,
   "metadata": {},
   "outputs": [],
   "source": [
    "def czv(pt, mu):\n",
    "    x, y = pt\n",
    "    return 2*((x**2+y**2)/2 + mu/np.sqrt((-1+mu+x)**2 + y**2) + (1-mu)/np.sqrt((mu+x)**2 + y**2))"
   ]
  },
  {
   "cell_type": "markdown",
   "metadata": {},
   "source": [
    "Define a plotting routine that takes `mu` as a parameter. This needs to be in a function so it can be hooked to interactive widgets.\n",
    "\n",
    "The ColorMap isn't ideal, but at least it doesn't try to plot lines in white on a white background (as several alternatives do)."
   ]
  },
  {
   "cell_type": "code",
   "execution_count": 5,
   "metadata": {},
   "outputs": [],
   "source": [
    "def fix_mu(mu):\n",
    "    # mu close to 0 or 0.5 will break the calculation, so add a small shift\n",
    "    # mu > 0.5 merely flips the plot horizontally and isn't interesting\n",
    "    if mu < 0.01:\n",
    "        mu = 0.01\n",
    "    elif mu > 0.49:\n",
    "        mu = 0.49\n",
    "    return mu\n",
    "\n",
    "def plotContours(mu):\n",
    "    mu = fix_mu(mu)\n",
    "            \n",
    "    #calculate the coordinates of L1-L5\n",
    "    pts = location(mu)\n",
    "    \n",
    "    # calculate levels for plotting\n",
    "    c1 = czv(pts['L1'], mu)\n",
    "    c2 = czv(pts['L2'], mu)\n",
    "    c3 = czv(pts['L3'], mu)\n",
    "    levels = [c1,c2,c3]\n",
    "    levels.sort() # contour plot needs these in ascending order\n",
    "    \n",
    "    # set up a meshgrid for the plot\n",
    "    delta = 0.005\n",
    "    x = np.arange(-2.0, 2.0, delta)\n",
    "    y = np.arange(-2.0, 2.0, delta)\n",
    "    X, Y = np.meshgrid(x, y)\n",
    "    Z = czv((X, Y), mu)\n",
    "    \n",
    "    # create the contour plot\n",
    "    fig, ax = plt.subplots(figsize=(8,8))\n",
    "    plt.axis('equal')\n",
    "#     CS = ax.contour(X, Y, Z, levels, cmap=cm.brg)\n",
    "    CS = ax.contour(X, Y, Z, levels, cmap=cm.copper)\n",
    "    \n",
    "    # add bodies (yellow-ish)\n",
    "    ax.plot(-mu, 0,'yo',markersize=20)\n",
    "    ax.text(-mu,0.1,'m1')\n",
    "    ax.plot(1-mu, 0,'yo',markersize=20)\n",
    "    ax.text(1-mu,0.1,'m2')\n",
    "    \n",
    "    # add L1-L5 (black)\n",
    "    for pt in pts:\n",
    "        x,y = pts[pt]\n",
    "        ax.plot(x,y,'ko',markersize=10)\n",
    "        ax.text(x+0.08,y,pt)\n",
    "        \n",
    "    ax.set_title('Lagrange points and zero-value contours, $\\mu$ = %.2f'%(mu,), fontsize=16);"
   ]
  },
  {
   "cell_type": "markdown",
   "metadata": {},
   "source": [
    "Use a slider widget to set `mu` and create the plot. "
   ]
  },
  {
   "cell_type": "code",
   "execution_count": 13,
   "metadata": {},
   "outputs": [
    {
     "data": {
      "application/vnd.jupyter.widget-view+json": {
       "model_id": "b1ce098578cd428497079df21076c3bd",
       "version_major": 2,
       "version_minor": 0
      },
      "text/plain": [
       "interactive(children=(FloatSlider(value=0.2, continuous_update=False, description='$\\\\mu$', max=0.5, step=0.01…"
      ]
     },
     "metadata": {},
     "output_type": "display_data"
    }
   ],
   "source": [
    "interact(plotContours, mu=w.FloatSlider(description=\"$\\mu$\",\n",
    "                                            min=0.0, max=0.5, step=0.01, \n",
    "                                            continuous_update=False,\n",
    "                                            value=0.2));"
   ]
  },
  {
   "cell_type": "markdown",
   "metadata": {},
   "source": [
    "*TODO - add a potential plot along the x-axis*"
   ]
  },
  {
   "cell_type": "markdown",
   "metadata": {},
   "source": [
    "<a id='3d'></a>\n",
    "## 3-D Plot\n",
    "\n",
    "Getting a good surface plot is still very much a work in progress."
   ]
  },
  {
   "cell_type": "code",
   "execution_count": 14,
   "metadata": {},
   "outputs": [],
   "source": [
    "def plotSurface(mu):\n",
    "    mu = fix_mu(mu)\n",
    "            \n",
    "    #calculate the coordinates of L1-L5\n",
    "    pts = location(mu)\n",
    "    \n",
    "    # calculate levels for plotting\n",
    "    c1 = czv(pts['L1'], mu)\n",
    "    c2 = czv(pts['L2'], mu)\n",
    "    c3 = czv(pts['L3'], mu)\n",
    "#     levels = [c1,c2,c3]\n",
    "#     levels.sort() # contour plot needs these in ascending order\n",
    "    \n",
    "    # set up a meshgrid for the plot\n",
    "    delta = 0.005\n",
    "    x = np.arange(-2.0, 2.0, delta)\n",
    "    y = np.arange(-2.0, 2.0, delta)\n",
    "    X, Y = np.meshgrid(x, y)\n",
    "    Z = -czv((X, Y), mu)\n",
    "    Z[Z<-3.85] = -3.85\n",
    "    \n",
    "    # create the contour plot\n",
    "    fig = plt.figure(figsize=(5,5))\n",
    "    ax = Axes3D(fig)\n",
    "#     plt.axis('equal')\n",
    "#     CS = ax.contour(X, Y, Z, levels, cmap=cm.brg)\n",
    "    CS = ax.plot_surface(X, Y, Z, cmap=cm.Greys)\n",
    "    ax.set_zlim(-3.85,-2.5)\n",
    "    ax.vmin = -3.8\n",
    "    ax.vmax = -2.0\n",
    "    \n",
    "    print(np.min(Z), np.max(Z))"
   ]
  },
  {
   "cell_type": "code",
   "execution_count": 15,
   "metadata": {},
   "outputs": [
    {
     "name": "stdout",
     "output_type": "stream",
     "text": [
      "-3.85 -2.840002366469412\n"
     ]
    },
    {
     "data": {
      "image/png": "[encoded data removed]",
      "text/plain": [
       "<Figure size 360x360 with 1 Axes>"
      ]
     },
     "metadata": {},
     "output_type": "display_data"
    }
   ],
   "source": [
    "plotSurface(0.2);"
   ]
  },
  {
   "cell_type": "markdown",
   "metadata": {},
   "source": [
    "<a id='roche'></a>"
   ]
  },
  {
   "cell_type": "markdown",
   "metadata": {},
   "source": [
    "## Roche Lobes"
   ]
  },
  {
   "cell_type": "markdown",
   "metadata": {},
   "source": [
    "The contour passing through the L1 Lagrange point has a particular significance for close binary star systems and forms the **Roche lobes** which meet at L1.\n",
    "\n",
    "As a star (typically the more masive, shorter lived one) runs out of core hydrogen and moves to the red giant branch, it can expand enough to overflow its Roche lobe and transfer mass through L1 to the companion star."
   ]
  },
  {
   "cell_type": "markdown",
   "metadata": {},
   "source": [
    "An accurate calculation of the contour is, as we saw above, non-trivial. There have been various attempts to find a simpler approximation, including this one by Eggleton ([ApJ 268: 368-9, 1983](http://adsabs.harvard.edu/abs/1983ApJ...268..368E))\n",
    "$$ R_L \\approx \\frac{0.5 q^{-2/3}}{0.6 q^{-2/3} + \\ln (1 + q^{-1/3})}\\ a $$\n",
    "where $q$ is the mass ratio."
   ]
  },
  {
   "cell_type": "code",
   "execution_count": 9,
   "metadata": {},
   "outputs": [],
   "source": [
    "def approxRL(q, a):\n",
    "    return 0.5*q**(-2/3) / (0.6*q**(-2/3) + np.log(1 + q**(-1/3))) * a"
   ]
  },
  {
   "cell_type": "markdown",
   "metadata": {},
   "source": [
    "We can create an interactive plot that combines the L1 contour with the Eggleton approximation. Note that the parameter is now $q$ rather than $\\mu$, with the transformations\n",
    "$$ q = \\frac{m_2}{m_1} = \\frac{\\mu}{1-\\mu} \\qquad \\mu = \\frac{q}{1-q} $$\n",
    "\n",
    "Note that there is another, outer contour at the same level (most visible at very low values of $q$). This isn't relevant to a discussion of Roche lobes, but it can't easily be suppressed from the contour plot."
   ]
  },
  {
   "cell_type": "code",
   "execution_count": 12,
   "metadata": {},
   "outputs": [
    {
     "data": {
      "application/vnd.jupyter.widget-view+json": {
       "model_id": "dcd0f92d7c204556a28669ad2b694747",
       "version_major": 2,
       "version_minor": 0
      },
      "text/plain": [
       "interactive(children=(FloatSlider(value=0.3, continuous_update=False, description='q', max=1.0, min=0.01, step…"
      ]
     },
     "metadata": {},
     "output_type": "display_data"
    }
   ],
   "source": [
    "def plotRoche(q):\n",
    "    mu = fix_mu(q/(1+q))\n",
    "            \n",
    "    #calculate the coordinates of L1-L5\n",
    "    pts = location(mu)\n",
    "    \n",
    "    # calculate levels for plotting\n",
    "    c1 = czv(pts['L1'], mu)\n",
    "    \n",
    "    # set up a meshgrid for the plot\n",
    "    delta = 0.005\n",
    "    x = np.arange(-1.2, 1.2, delta)\n",
    "    y = np.arange(-1, 1, delta)\n",
    "    X, Y = np.meshgrid(x, y)\n",
    "    Z = czv((X, Y), mu)\n",
    "    \n",
    "    # create the contour plot\n",
    "    fig, ax = plt.subplots(figsize=(8,8))\n",
    "    plt.axis('equal')\n",
    "    CS = ax.contour(X, Y, Z, (c1,))\n",
    "    \n",
    "    # add bodies (yellow-ish)\n",
    "    ax.plot(-mu, 0,'yo',markersize=20)\n",
    "    ax.text(-mu,0.1,'m1')\n",
    "    ax.plot(1-mu, 0,'yo',markersize=20)\n",
    "    ax.text(1-mu,0.1,'m2')\n",
    "    \n",
    "    # add Roche lobe approximation\n",
    "    r_RL = approxRL(q, 1)\n",
    "    circle = plt.Circle((-mu, 0), r_RL, color='r', alpha=0.4)\n",
    "    ax.add_artist(circle)\n",
    "    \n",
    "    x,y = pts['L1']\n",
    "    ax.plot(x,y,'ko',markersize=10)\n",
    "    ax.text(x+0.08,y,'L1')\n",
    "    ax.set_title('Roche Lobes, q = %.2f'%(q,), fontsize=16);\n",
    "        \n",
    "interact(plotRoche, q=w.FloatSlider(description=\"q\",\n",
    "                                            min=0.01, max=1.0, step=0.01, \n",
    "                                            continuous_update=False,\n",
    "                                            value=0.3));   "
   ]
  },
  {
   "cell_type": "markdown",
   "metadata": {},
   "source": [
    "Pretty good, providing the mass ratio isn't too extreme."
   ]
  },
  {
   "cell_type": "markdown",
   "metadata": {},
   "source": [
    "<a id='refs'></a>"
   ]
  },
  {
   "cell_type": "markdown",
   "metadata": {},
   "source": [
    "## References\n",
    "\n",
    "- Murray and Dermott, \"Solar System Dynamics\", chapter 3. In particular, the calculations are based on Mathematica code the authors provided at http://ssdbook.maths.qmul.ac.uk/addinfo/notebook.html (figures 3.7 and 3.8).\n",
    "- Keeton, \"Principles of Astrophysics\", Section 6.1 and Appendix A.3"
   ]
  }
 ],
 "metadata": {
  "kernelspec": {
   "display_name": "Python 3",
   "language": "python",
   "name": "python3"
  },
  "language_info": {
   "codemirror_mode": {
    "name": "ipython",
    "version": 3
   },
   "file_extension": ".py",
   "mimetype": "text/x-python",
   "name": "python",
   "nbconvert_exporter": "python",
   "pygments_lexer": "ipython3",
   "version": "3.6.6"
  }
 },
 "nbformat": 4,
 "nbformat_minor": 2
}
