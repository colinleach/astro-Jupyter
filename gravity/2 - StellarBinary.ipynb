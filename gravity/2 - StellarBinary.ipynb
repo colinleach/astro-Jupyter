{
 "cells": [
  {
   "cell_type": "markdown",
   "metadata": {},
   "source": [
    "<a id='Top'></a>\n",
    "#  The 2-Body Problem and Binary Stars"
   ]
  },
  {
   "cell_type": "markdown",
   "metadata": {},
   "source": [
    "*Colin Leach, October 2018*"
   ]
  },
  {
   "cell_type": "markdown",
   "metadata": {},
   "source": [
    "## Contents\n",
    "\n",
    "- [The Gravitational 2-Body Problem](#2body)\n",
    "- [Interactive plot of the 2-body problem](#2bodyint)\n",
    "- [Binary Stars](#binary)\n",
    "- [Binary simulation](#sim)\n",
    "- [Run simulation](#runsim)\n",
    "- [Plot simulation](#plotsim)\n",
    "- [Eclipse?](#eclipse)\n",
    "- [References](#refs)"
   ]
  },
  {
   "cell_type": "markdown",
   "metadata": {},
   "source": [
    "<a id='2body'></a>\n",
    "## The Gravitational 2-Body Problem"
   ]
  },
  {
   "cell_type": "markdown",
   "metadata": {},
   "source": [
    "The 1-body problem assumes a *fixed* central mass with a much lighter body in a Keplerian orbit around it. What if both bodies are free to move? In particular, what if they are of comparable mass, so that the joint center of mass (CoM) is in free space between the bodies?\n",
    "\n",
    "Fortunately, by working in the CoM frame (i.e. the CoM is stationary at the origin) we can state some fairly simple principles about the resulting mutual orbit:\n",
    "\n",
    "- The bodies are in elliptical orbits sharing a common focus at the CoM\n",
    "- At any time, the line joining the two bodies must pass through this common focus\n",
    "- The 2-body problem is *mathematically* (not physically) equivalent to a 1-body problem with a *reduced mass* $\\mu$ in a Keplerian orbit around a stationary *total mass* $M$ at the CoM.\n",
    "\n"
   ]
  },
  {
   "cell_type": "markdown",
   "metadata": {},
   "source": [
    "For bodies with masses $m_1$ and $m_2$, the total mass is: $$M = m_1 + m_2$$\n",
    "\n",
    "The reduced mass is: $$\\mu = \\frac{m_1 m_2}{M}$$\n",
    "\n",
    "From Kepler's Third Law, the semi-major axis of the binary system is \n",
    "$$a = \\sqrt[3]{\\frac{P^2 G M}{4 \\pi^2}}$$\n",
    "\n",
    "The individual stars have semi-major axes about the center of mass: \n",
    "$$a_1 = \\frac{\\mu}{m_1} a \\qquad a_2 = \\frac{\\mu}{m_2} a \\quad \\Rightarrow \\quad a_1 + a_2 = a$$\n",
    "\n",
    "The 1-body problem has the usual solution: $$r = \\frac{a(1-e^2)}{1 + e \\cos \\phi}$$\n",
    "The individual position vectors are (note opposite signs):\n",
    "$$\\mathbf{r}_1 = -\\frac{\\mu}{m_1} \\mathbf{r} \\qquad \\mathbf{r}_2 = \\frac{\\mu}{m_2} \\mathbf{r}$$\n",
    "\n",
    "The individual orbits are thus scaled-down versions of the 1-body orbit, with the same eccentricity $e$ and phase angle $\\phi$."
   ]
  },
  {
   "cell_type": "markdown",
   "metadata": {},
   "source": [
    "<a id='2bodyint'></a>\n",
    "## Interactive plot of the 2-body problem"
   ]
  },
  {
   "cell_type": "markdown",
   "metadata": {},
   "source": [
    "I find this hard to visualize just from reading about it, so let's set up some interactive graphics. First the usual definitions:"
   ]
  },
  {
   "cell_type": "code",
   "execution_count": 21,
   "metadata": {},
   "outputs": [],
   "source": [
    "%matplotlib inline\n",
    "\n",
    "import time\n",
    "\n",
    "import numpy as np\n",
    "import matplotlib.pyplot as plt\n",
    "\n",
    "from IPython.display import Image, HTML, display, clear_output\n",
    "from matplotlib.offsetbox import AnchoredText\n",
    "\n",
    "from ipywidgets import interact, interactive, fixed, interact_manual, Layout, Output\n",
    "import ipywidgets as w\n",
    "\n",
    "from astropy import units as u\n",
    "from astropy.constants import G, sigma_sb, L_sun"
   ]
  },
  {
   "cell_type": "markdown",
   "metadata": {},
   "source": [
    "Next define a plotting function:"
   ]
  },
  {
   "cell_type": "code",
   "execution_count": 43,
   "metadata": {},
   "outputs": [],
   "source": [
    "def plot2body(mratio, e, phi=0):\n",
    "    \"\"\"\n",
    "    Here we use arbitrary units, assuming P = 1, a = 1\n",
    "    m_2 = 1, m_1 = mratio >= 1\n",
    "    phi in degrees\n",
    "    \"\"\"\n",
    "    \n",
    "    m_2 = 1\n",
    "    m_1 = mratio\n",
    "    M = 1 + mratio\n",
    "    mu = mratio/M\n",
    "    a_1 = mu/m_1\n",
    "    a_2 = mu/m_2\n",
    "    \n",
    "    # get some evenly-spaced phase angles\n",
    "    phis = np.linspace(0, 2*np.pi, 100)\n",
    "    # 1-body orbit, polar coords\n",
    "    rs = (1-e**2)/(1 + e*np.cos(phis))\n",
    "    # individual orbits\n",
    "    r1s = -mu/m_1*rs\n",
    "    r2s = mu/m_2*rs\n",
    "    \n",
    "    # now convert to cartesian coords\n",
    "    xs = rs*np.cos(phis)\n",
    "    ys = rs*np.sin(phis)\n",
    "    x1s = r1s*np.cos(phis)\n",
    "    y1s = r1s*np.sin(phis)\n",
    "    x2s = r2s*np.cos(phis)\n",
    "    y2s = r2s*np.sin(phis)\n",
    "    \n",
    "    # current positions\n",
    "    phi_rad = phi*np.pi/180 # deg to rad conversion\n",
    "    r = (1-e**2)/(1 + e*np.cos(phi_rad))\n",
    "    r1 = -mu/m_1*r\n",
    "    r2 = mu/m_2*r\n",
    "    r_curr = np.array([r, r1, r2])\n",
    "    x_curr = r_curr*np.cos(phi_rad)\n",
    "    y_curr = r_curr*np.sin(phi_rad)\n",
    "    \n",
    "    # the plot\n",
    "    figwidth = 10\n",
    "    fig2body = plt.figure(figsize=(figwidth, figwidth))\n",
    "    plt.plot(xs, ys, 'b-', label='1-body')\n",
    "    plt.plot(x1s, y1s, 'r-', label='$m_1$')\n",
    "    plt.plot(x2s, y2s, 'g-', label='$m_2$')\n",
    "    plt.axis('equal')\n",
    "    plt.plot(0,0,'y+',markersize=20)\n",
    "    plt.plot(x_curr, y_curr, 'ko')\n",
    "    plt.xlabel('x', fontsize=18)\n",
    "    plt.ylabel('y', fontsize=18)\n",
    "    plt.legend(fontsize=16)\n",
    "    plt.title('Orbits with e = {:.2f}, mass ratio {:.1f}, phi {}'\n",
    "              .format(e, mratio, phi), fontsize=20)\n",
    "    plt.show()"
   ]
  },
  {
   "cell_type": "markdown",
   "metadata": {},
   "source": [
    "Set up the slider controls for interaction with the plot. Continuous update probably needs to be turned off, so the plot will redraw once you release the slider (mouse button up)."
   ]
  },
  {
   "cell_type": "code",
   "execution_count": 44,
   "metadata": {},
   "outputs": [
    {
     "data": {
      "application/vnd.jupyter.widget-view+json": {
       "model_id": "09fd513f0b5a4e62bb126f489a52f29c",
       "version_major": 2,
       "version_minor": 0
      },
      "text/plain": [
       "interactive(children=(FloatSlider(value=3.0, continuous_update=False, description='mass ratio (>1)', layout=La…"
      ]
     },
     "metadata": {},
     "output_type": "display_data"
    }
   ],
   "source": [
    "style = {'description_width': 'initial'} # to avoid the labels getting truncated\n",
    "interact(plot2body, \n",
    "            mratio = w.FloatSlider(description=\"mass ratio (>1)\", style=style,\n",
    "                                        layout=Layout(width='80%'),\n",
    "                                        continuous_update=False, # otherwise flicker is horrible\n",
    "                                        min=1.0, max=10, \n",
    "                                        value=3.0), \n",
    "            e = w.FloatSlider(description=\"Eccentricity\", style=style,\n",
    "                                        layout=Layout(width='80%'),\n",
    "                                        continuous_update=False, \n",
    "                                        min=0.0, max=0.99, step=0.01,\n",
    "                                        value=0.3),            \n",
    "            phi = w.IntSlider(description=\"current angle (deg)\", style=style,\n",
    "                                        layout=Layout(width='80%'),\n",
    "                                        continuous_update=False,\n",
    "                                        min=0, max=359, \n",
    "                                        value=30));\n"
   ]
  },
  {
   "cell_type": "markdown",
   "metadata": {},
   "source": [
    "Notice the limiting cases:\n",
    "- if $m_1 \\gg m_2$, $m_2$ approaches $\\mu$ and $m_1$ hardly moves: we have a 1-body approximation\n",
    "- if $e = 0$, all orbits are concentric circles"
   ]
  },
  {
   "cell_type": "markdown",
   "metadata": {},
   "source": [
    "<a id='binary'></a>\n",
    "## Binary Stars"
   ]
  },
  {
   "cell_type": "markdown",
   "metadata": {},
   "source": [
    "After considering the 2-body problem in the abstract, now let's focus on a common astronomical example. The aim is a simple binary star simulation, giving position, velocity and light curve information.\n",
    "\n",
    "This part of the code borrows from the method of Carroll and Ostlie, Appendix K. I have simplified it somewhat, particularly by omitting proper motions of the CoM, but added more interactivity and visuals."
   ]
  },
  {
   "cell_type": "markdown",
   "metadata": {},
   "source": [
    "Obviously, this is far from being research-grade software. Simplifying assumptions include:\n",
    "- the two stars are spherically symmetrical, no tidal distortions or centrifugal effects\n",
    "- they do not collide\n",
    "- surface fluxes are uniform and depend only on stellar radius\n",
    "\n",
    "Features used by the simulation include:\n",
    "- elliptical orbits\n",
    "- arbitrary inclination\n",
    "- arbitrary periastron angle\n",
    "- a simple model of limb darkening"
   ]
  },
  {
   "cell_type": "markdown",
   "metadata": {},
   "source": [
    "In addition to the 2-body motions, we will also want to simulate light curves. We know the temperatures $T_e$ for each star, so the luminosities come from the Stefan-Boltzmann equation:\n",
    "$$ L = 4 \\pi R^2 \\sigma T_e^4 $$"
   ]
  },
  {
   "cell_type": "markdown",
   "metadata": {},
   "source": [
    "All the input parameters and results will be stored in a single dictionary called `stars`. Putting this in the top scope is maybe a bit questionable, but it saves a lot of parameter passing."
   ]
  },
  {
   "cell_type": "code",
   "execution_count": 24,
   "metadata": {},
   "outputs": [],
   "source": [
    "stars = {}"
   ]
  },
  {
   "cell_type": "markdown",
   "metadata": {},
   "source": [
    "It is useful to create some reasonable initial values for the simulation to work with. These can be changed later, and we will set up interactive controls for this.\n",
    "\n",
    "Starting parameters include two angles, both in degrees. Inclination `i` ranges from $0^{\\circ}$ for a face-on view to $90^{\\circ}$ for an edge-on view. Edge-on is good, it gives us eclipses and a lot more useful information.\n",
    "\n",
    "Periastron is the point of closest approach to the center of mass. Orientation of periastron $\\phi$ is the angle between periastron for star 1 and the positive $x$ axis."
   ]
  },
  {
   "cell_type": "code",
   "execution_count": 25,
   "metadata": {},
   "outputs": [],
   "source": [
    "def setDefaults():\n",
    "    # star #1\n",
    "    m1_Msun = 1\n",
    "    R1_Rsun = 1\n",
    "    T1 = 5777  # that's our sun\n",
    "\n",
    "    # star #2\n",
    "    m2_Msun = 2.9\n",
    "    R2_Rsun = 2.2\n",
    "    T2 = 9800 # an A0 star\n",
    "\n",
    "    # orbit\n",
    "    P_day = 1500 # period (days)\n",
    "    e = 0.5      # eccentricity\n",
    "    i = 90       # inclination to the line of sight (deg)\n",
    "    phi = 60     # orientation of periastron (deg)\n",
    "\n",
    "    setInput(m1_Msun, R1_Rsun, T1, m2_Msun, R2_Rsun, T2, P_day, e, i, phi)"
   ]
  },
  {
   "cell_type": "code",
   "execution_count": 26,
   "metadata": {},
   "outputs": [],
   "source": [
    "def setStars():\n",
    "\n",
    "    M = (stars['m1'] + stars['m2'])\n",
    "    a = ((stars['P']**2 * G * M)/(4*np.pi**2))**(1/3)\n",
    "    mu = (stars['m1'] * stars['m2'])/M\n",
    "    a1 = (mu/stars['m1'])*a\n",
    "    a2 = (mu/stars['m2'])*a\n",
    "\n",
    "    if a < stars['R1'] + stars['R2']:\n",
    "        print(\"Error: your two stars are in contact!\")\n",
    "        print()\n",
    "        stars['Error'] = \"Your two stars are in contact\"\n",
    "        return False\n",
    "    else:\n",
    "        stars['M'] = M\n",
    "        stars['mu'] = mu\n",
    "        stars['a'] = a\n",
    "        stars['a1'] = a1\n",
    "        stars['a2'] = a2\n",
    "        \n",
    "        # Calculate luminosities from the Stefan-Boltzmann equation\n",
    "        stars['L1'] = 4*np.pi * stars['R1']**2 * sigma_sb * stars['T1']**4\n",
    "        stars['L2'] = 4*np.pi * stars['R2']**2 * sigma_sb * stars['T2']**4\n",
    "        stars['L'] = stars['L1'] + stars['L2']\n"
   ]
  },
  {
   "cell_type": "markdown",
   "metadata": {},
   "source": [
    "Two coordinates systems are relevant. The stars orbit in the $(x,y)$ plane. This is tilted at an inclination angle $i$ to the $(y',z')$ plane, the plane of the sky. The observer is on the positive $x'$ axis.\n",
    "<img src=\"../files/twostars_axes.svg\" style=\"width: 400px;\" />"
   ]
  },
  {
   "cell_type": "markdown",
   "metadata": {},
   "source": [
    "The coordinate transformations are:\n",
    "$$ \\begin{align}\n",
    "   x' &= z \\cos i + x \\sin i \\\\\n",
    "   y' &= y \\\\\n",
    "   z' &= z \\sin i - x \\cos i \n",
    "   \\end{align}$$"
   ]
  },
  {
   "cell_type": "markdown",
   "metadata": {},
   "source": [
    "Some functions used in calculating flux are defined in a separate file:"
   ]
  },
  {
   "cell_type": "code",
   "execution_count": 27,
   "metadata": {},
   "outputs": [],
   "source": [
    "from StellarBinary_suppl import transformation\n",
    "from StellarBinary_suppl import limbDarkening, F, fluxIntegral, eclipse"
   ]
  },
  {
   "cell_type": "markdown",
   "metadata": {},
   "source": [
    "Next, define how to identify eclipses and calculate dips in the light curve.\n",
    "\n",
    "This is probably the most confusing part of the code (as I discovered during debugging). It is also where we get the benefit of assuming both stars are perfectly spherical, as this makes the geometry of the problem much more symmetrical than in the real-world case and saves significant computation.\n",
    "<img src=\"../files/eclipse1.svg\" style=\"width: 700px;\" />\n",
    "The left diagram shows the basic geometry, with the larger, redder star in front of and overlapping the smaller yellow star. There is a line of symmetry passing through both centers (background $bc$ and foreground $fc$). This line makes an angle $\\theta'_0$ with the $y'$ axis.\n",
    "\n",
    "The algorithm goes something like this:\n",
    "- For the current position in the Keplerian orbit $(x,y)$, get the corresponding plane-of-sky coordinates $(x',y',z')$\n",
    "- Decide which star is in front of which. The centers are $fc$ and $bc$ respecively.\n",
    "- If the distance between star centers in these coordinates is less than the sum of radii, we have an eclipse\n",
    "- Find the line of symmetry passing through both star centers. This is at angle\n",
    "$$ \\theta'_0 = \\tan^{-1} \\left( \\frac{z'_{fc} - z'_{bc}}{y'_{fc} - y'_{bc}} \\right) $$\n",
    "- Find the maximum radius $r$ on the background star where there is overlap. As drawn, this is simply $R_b$, but for a small foreground star its disk could be entirely within the background disk.\n",
    "- Integrate over arcs of radius $r'$ and thickness $dr'$, working inwards towards $bc$. \n",
    "- Within each arc, integrate over asub-arc of width $d\\theta'$ at angle $\\theta'$, working anticlockwise from the symmetry line at $\\theta'_0$. Stop when there is no more overlap or $\\theta'$ has covered a full semicircle.\n",
    "- For each area $dA = r' dr' d\\theta'$ calculate the flux drop $dS = 2 \\times F(dA)$, relative to non-overlapping disks. The factor of 2 covers the other side of the symmetry line, which we avoided calculating explicitly.\n",
    "- Return $dS$ for theses star positions, along with the primed coordinates for both star centers.\n"
   ]
  },
  {
   "cell_type": "markdown",
   "metadata": {},
   "source": [
    "<a id='sim'></a>\n",
    "## The simulation!\n",
    "\n",
    "Define the actual simulation run. The mathematical bit is fairly concise code but there are a lot of lines just handling storage of the results.\n",
    "\n",
    "Calculating motions in the orbital plane is similar to the KeplerOrbit notebook, except that here we make no assumptions about the relative masses of the two objects. Instead we calculate the orbit of a reduced mass $\\mu$ in the center of mass reference frame, then translate from this to the positions of each star. \n",
    "\n",
    "The angular momentum is\n",
    "$$ L_{ang} = \\mu \\sqrt{G M a (1-e^2)} $$\n",
    "and \n",
    "$$ \\frac{dA}{dt} = \\frac{1}{2} r^2 \\frac{d \\theta}{dt} = \\frac{1}{2} \\frac{L}{\\mu} \\quad \\Rightarrow \\quad d \\theta = \\frac{dA}{dt} \\frac{1}{r^2} dt $$\n"
   ]
  },
  {
   "cell_type": "code",
   "execution_count": 28,
   "metadata": {},
   "outputs": [],
   "source": [
    "from StellarBinary_suppl import runSim, saveData"
   ]
  },
  {
   "cell_type": "markdown",
   "metadata": {},
   "source": [
    "Writing data to disk is not often useful, but saveData() is a function that can be called if necessary."
   ]
  },
  {
   "cell_type": "markdown",
   "metadata": {},
   "source": [
    "For no adequate scientic reason (just playing), let's estimate what color the stars would appear to us:"
   ]
  },
  {
   "cell_type": "code",
   "execution_count": 29,
   "metadata": {},
   "outputs": [],
   "source": [
    "from StellarBinary_suppl import lookup_temp"
   ]
  },
  {
   "cell_type": "markdown",
   "metadata": {},
   "source": [
    "Define a graphing function that will be called later. This will output a $2 \\times 3$ grid of different plots, so there is a lot of rather boring housekeeping code."
   ]
  },
  {
   "cell_type": "code",
   "execution_count": 30,
   "metadata": {},
   "outputs": [],
   "source": [
    "from StellarBinary_suppl import plotOrbit"
   ]
  },
  {
   "cell_type": "markdown",
   "metadata": {},
   "source": [
    "For each star we want mass `m` (units of $M_{\\odot}$), radius `R` ($R_{\\odot}$), temperature `T` ($K$).\n",
    "\n",
    "For the orbit we want period `P` (days), eccentricity `e`, orbital inclination `i` (deg) and orientation of periastron `phi` (deg). The inclination needs to be fairly near $90^{\\circ}$ if you want eclipses."
   ]
  },
  {
   "cell_type": "code",
   "execution_count": 31,
   "metadata": {},
   "outputs": [],
   "source": [
    "def setInput(m1_Msun, R1_Rsun, T1, m2_Msun, R2_Rsun, T2, P_day, e, i, phi):\n",
    "\n",
    "    # star #1\n",
    "    m1_Msun = m1_Msun * u.M_sun\n",
    "    R1_Rsun = R1_Rsun * u.R_sun\n",
    "    T1 = T1 * u.K # that's our sun\n",
    "\n",
    "    # star #2\n",
    "    m2_Msun = m2_Msun * u.M_sun\n",
    "    R2_Rsun = R2_Rsun * u.R_sun\n",
    "    T2 = T2 * u.K # an A0 star\n",
    "\n",
    "    # orbit\n",
    "    P_day = P_day * u.day\n",
    "    i = i * u.deg\n",
    "    phi = phi * u.deg\n",
    "\n",
    "    # empty the data dictionary for a fresh start\n",
    "    stars.clear()\n",
    "    \n",
    "    # create variables in SI units for calculations and put everything in a single dictionary\n",
    "    stars['m1'] = m1_Msun.to(u.kg)\n",
    "    stars['R1'] = R1_Rsun.to(u.m)\n",
    "    stars['T1'] = T1\n",
    "    stars['m2'] = m2_Msun.to(u.kg)\n",
    "    stars['R2'] = R2_Rsun.to(u.m)\n",
    "    stars['T2'] = T2\n",
    "    stars['P'] = P_day.to(u.s)\n",
    "    stars['e'] = e\n",
    "    stars['i'] = i\n",
    "    stars['phi'] = phi\n",
    "    \n",
    "    setStars()"
   ]
  },
  {
   "cell_type": "markdown",
   "metadata": {},
   "source": [
    "<a id='runsim'></a>\n",
    "## Go...\n",
    "\n",
    "With all the functions defined, now we can start running things."
   ]
  },
  {
   "cell_type": "code",
   "execution_count": 32,
   "metadata": {},
   "outputs": [],
   "source": [
    "setDefaults()"
   ]
  },
  {
   "cell_type": "markdown",
   "metadata": {},
   "source": [
    "There are a lot of inputs to this simulation and setting them interactively could get complicated. \n",
    "\n",
    "Let's start by creating some useful widgets and storing them for later."
   ]
  },
  {
   "cell_type": "code",
   "execution_count": 33,
   "metadata": {},
   "outputs": [],
   "source": [
    "from StellarBinary_suppl import widgetDict\n",
    "\n",
    "wd = widgetDict(stars)"
   ]
  },
  {
   "cell_type": "markdown",
   "metadata": {},
   "source": [
    "The `update()` function will be called whenever the interactive controls change. It updates the `stars` dictionary with latest starting values, but does not re-run the simulation or plot (by default)."
   ]
  },
  {
   "cell_type": "code",
   "execution_count": 34,
   "metadata": {},
   "outputs": [],
   "source": [
    "def update(m1_Msun, R1_Rsun, T1, m2_Msun, R2_Rsun, T2, P_day, e, i, phi):\n",
    "    setInput(m1_Msun, R1_Rsun, T1, m2_Msun, R2_Rsun, T2, P_day, e, i, phi)\n",
    "    \n",
    "    display(\"a1: {:.2f}, L1: {:2g}, a2: {:.2f}, L2: {:2g}, mu: {:f}\".\n",
    "        format(stars['a1'].to(u.AU), stars['L1'], stars['a2'].to(u.AU), stars['L2'], stars['mu'].to(u.M_sun)))\n",
    "#     return \"a1: {:.2f}, L1: {:2g}, a2: {:.2f}, L2: {:2g}, mu: {:f}\".format(\n",
    "#         stars['a1'].to(u.AU), stars['L1'], stars['a2'].to(u.AU), stars['L2'], stars['mu'].to(u.M_sun))\n",
    "    \n",
    "#     removing the previous line of display would be good, but clear_output() also removed the control widgets\n",
    "#         clear_output(wait=True)\n",
    "#     I don't have a better approach right now\n",
    "    \n",
    "#     plotOrbit can take a few seconds per update\n",
    "#     uncomment this line if you are patient or have a very fast machine\n",
    "#     plotOrbit()\n",
    "\n",
    "#     Otherwise, run plotOrbit() manually from the last cell in this notebook"
   ]
  },
  {
   "cell_type": "markdown",
   "metadata": {},
   "source": [
    "As of mid-2018, Matplotlib `ipywidgets.interact()` does not support layouts other than a single vertical set of controls. This has been discussed by the developers, e.g. [issue 1731](https://github.com/jupyter-widgets/ipywidgets/issues/1731), and may be fixed in a future release. Meanwhile this `interact_hookup()` hack is adapted from [issue 910](https://github.com/jupyter-widgets/ipywidgets/issues/910).\n",
    "\n",
    "Displaying an update of calculated values (distances and luminosities) is still ugly. Any suggestions for fixes?"
   ]
  },
  {
   "cell_type": "markdown",
   "metadata": {},
   "source": [
    "This is the default `interact()` setup. Maybe something to go back to if the more complex hack breaks?"
   ]
  },
  {
   "cell_type": "code",
   "execution_count": 35,
   "metadata": {},
   "outputs": [],
   "source": [
    "# # style = {'description_width': 'initial'} # to avoid the labels getting truncated\n",
    "# interact(update, m1_Msun = wd['m1_Msun'], R1_Rsun = wd['R1_Rsun'], T1 = wd['T1'], \n",
    "#                 m2_Msun = wd['m2_Msun'], R2_Rsun = wd['R2_Rsun'], T2 = wd['T2'],\n",
    "#                 P_day = wd['P_day'], e = wd['e'], i = wd['i'], phi = wd['phi'],\n",
    "#                 vcmxp = wd['vcmxp'], vcmyp = wd['vcmyp'], vcmzp = wd['vcmzp'],\n",
    "#                 );"
   ]
  },
  {
   "cell_type": "markdown",
   "metadata": {},
   "source": [
    "The control layout hack..."
   ]
  },
  {
   "cell_type": "code",
   "execution_count": 36,
   "metadata": {},
   "outputs": [],
   "source": [
    "def interact_hookup(f, controls):\n",
    "    def observer(change):\n",
    "        kwargs = {k:v.value for k,v in controls.items()}\n",
    "        f(**kwargs)\n",
    "    for k,w in controls.items():\n",
    "        w.observe(observer, 'value')"
   ]
  },
  {
   "cell_type": "code",
   "execution_count": 37,
   "metadata": {},
   "outputs": [
    {
     "data": {
      "application/vnd.jupyter.widget-view+json": {
       "model_id": "4791fd00160d4238835edd481ee627b7",
       "version_major": 2,
       "version_minor": 0
      },
      "text/plain": [
       "VBox(children=(VBox(children=(HBox(children=(FloatText(value=1.0, description='star 1 mass ($M_{\\\\odot}$)', la…"
      ]
     },
     "metadata": {},
     "output_type": "display_data"
    },
    {
     "data": {
      "text/plain": [
       "'a1: 0.22 AU, L1: 3.84127e+26 W, a2: 0.08 AU, L2: 1.53962e+28 W, mu: 0.743590 solMass'"
      ]
     },
     "metadata": {},
     "output_type": "display_data"
    },
    {
     "data": {
      "text/plain": [
       "'a1: 0.22 AU, L1: 3.84127e+26 W, a2: 0.08 AU, L2: 1.53962e+28 W, mu: 0.743590 solMass'"
      ]
     },
     "metadata": {},
     "output_type": "display_data"
    },
    {
     "data": {
      "text/plain": [
       "'a1: 0.24 AU, L1: 3.84127e+26 W, a2: 0.04 AU, L2: 1.53962e+28 W, mu: 0.426471 solMass'"
      ]
     },
     "metadata": {},
     "output_type": "display_data"
    },
    {
     "data": {
      "text/plain": [
       "'a1: 0.14 AU, L1: 3.84127e+26 W, a2: 0.07 AU, L2: 1.53962e+28 W, mu: 0.333333 solMass'"
      ]
     },
     "metadata": {},
     "output_type": "display_data"
    },
    {
     "data": {
      "text/plain": [
       "'a1: 0.14 AU, L1: 3.84127e+26 W, a2: 0.07 AU, L2: 1.53962e+28 W, mu: 0.333333 solMass'"
      ]
     },
     "metadata": {},
     "output_type": "display_data"
    },
    {
     "data": {
      "text/plain": [
       "'a1: 0.14 AU, L1: 3.84127e+26 W, a2: 0.07 AU, L2: 1.53962e+28 W, mu: 0.333333 solMass'"
      ]
     },
     "metadata": {},
     "output_type": "display_data"
    },
    {
     "data": {
      "text/plain": [
       "'a1: 0.14 AU, L1: 3.84127e+26 W, a2: 0.07 AU, L2: 1.53962e+28 W, mu: 0.333333 solMass'"
      ]
     },
     "metadata": {},
     "output_type": "display_data"
    },
    {
     "data": {
      "text/plain": [
       "'a1: 0.30 AU, L1: 3.84127e+26 W, a2: -0.15 AU, L2: 1.53962e+28 W, mu: -1.000000 solMass'"
      ]
     },
     "metadata": {},
     "output_type": "display_data"
    },
    {
     "name": "stderr",
     "output_type": "stream",
     "text": [
      "/home/colin/anaconda3/lib/python3.6/site-packages/astropy/units/quantity.py:639: RuntimeWarning: invalid value encountered in power\n",
      "  result = super().__array_ufunc__(function, method, *arrays, **kwargs)\n"
     ]
    },
    {
     "data": {
      "text/plain": [
       "'a1: nan AU, L1: 3.84127e+26 W, a2: nan AU, L2: 1.53962e+28 W, mu: 3.000000 solMass'"
      ]
     },
     "metadata": {},
     "output_type": "display_data"
    },
    {
     "data": {
      "text/plain": [
       "'a1: 0.17 AU, L1: 3.84127e+26 W, a2: 0.03 AU, L2: 1.53962e+28 W, mu: 0.166667 solMass'"
      ]
     },
     "metadata": {},
     "output_type": "display_data"
    },
    {
     "data": {
      "text/plain": [
       "'a1: 0.17 AU, L1: 8.64285e+26 W, a2: 0.03 AU, L2: 1.53962e+28 W, mu: 0.166667 solMass'"
      ]
     },
     "metadata": {},
     "output_type": "display_data"
    },
    {
     "data": {
      "text/plain": [
       "'a1: 0.17 AU, L1: 3.84127e+26 W, a2: 0.03 AU, L2: 1.53962e+28 W, mu: 0.166667 solMass'"
      ]
     },
     "metadata": {},
     "output_type": "display_data"
    },
    {
     "data": {
      "text/plain": [
       "'a1: 0.20 AU, L1: 3.84127e+26 W, a2: 0.03 AU, L2: 1.53962e+28 W, mu: 0.176471 solMass'"
      ]
     },
     "metadata": {},
     "output_type": "display_data"
    }
   ],
   "source": [
    "UI = w.VBox([\n",
    "        w.VBox([\n",
    "                w.HBox([wd['m1_Msun'], wd['R1_Rsun'], wd['T1'],], padding='100pt', margin='100pt', width='100%'),\n",
    "                w.HBox([wd['m2_Msun'], wd['R2_Rsun'], wd['T2'],], width='100%'),\n",
    "                w.HBox([wd['P_day'], wd['e'],], width='100%'),\n",
    "                wd['i'], \n",
    "                wd['phi'],\n",
    "            ]),\n",
    "    ])\n",
    "\n",
    "interact_hookup(update, wd)\n",
    "display(UI)"
   ]
  },
  {
   "cell_type": "markdown",
   "metadata": {},
   "source": [
    "<a id='plotsim'></a>\n",
    "## Now run the simulation and plot it\n",
    "\n",
    "Doing this automatically from the interactive controls is a bit tedious, even on a reasonably fast machine. Just run the cell below and it will use current values for the various parameters.\n",
    "\n",
    "Note that the \"plane of sky\" plot can look odd. It includes proper motions, so the stars may not return to their starting positions. Also, keep an eye on the axis scaling: the $x$ and $y$ axes may or may not be equal, to avoid everything disappearing into a horizontal line for an edge-on orbit.\n",
    "\n",
    "Both orbit plots show the (almost) first position of the stars, $t=0$, with some indication of their relative sizes and colors. \n",
    "\n",
    "The blue cross is the center of mass at $t=0$. If it's not visible, it's probably covered by the larger star.\n",
    "\n",
    "_UI glitch:_ sometimes the orbit plots will collapse into a scrollable box, which is confusing. Clicking on the blank area to the left of the plots (below \"In []\") should fix this."
   ]
  },
  {
   "cell_type": "code",
   "execution_count": 49,
   "metadata": {
    "scrolled": false
   },
   "outputs": [
    {
     "name": "stdout",
     "output_type": "stream",
     "text": [
      "sim took 5.247 s\n"
     ]
    },
    {
     "data": {
      "image/png": "[encoded data removed]",
      "text/plain": [
       "<Figure size 1080x720 with 6 Axes>"
      ]
     },
     "metadata": {},
     "output_type": "display_data"
    }
   ],
   "source": [
    "plotOrbit(stars)"
   ]
  },
  {
   "cell_type": "markdown",
   "metadata": {},
   "source": [
    "<a id='eclipse'></a>\n",
    "## Find the eclipse (if any)\n",
    "\n",
    "You can see from the above light curve if there are dips, but the code needs to do this more precisely.\n",
    "\n",
    "The `argrelextrema()` function seems to be a convenient way to find local maxima. For real data you would want to apply smoothing first, but our simulated data is already artificially clean.\n",
    "\n",
    "Note that this function always returns a tuple with $N$ entries, for an $N$-dimensional data set. We have a 1-D array so take the first (and only) element from the tuple."
   ]
  },
  {
   "cell_type": "code",
   "execution_count": 39,
   "metadata": {},
   "outputs": [
    {
     "name": "stdout",
     "output_type": "stream",
     "text": [
      "There are 2 eclipses during the orbit\n",
      "\n",
      "  t/P    elapsed time        dS      Star in front\n",
      " 0.170     0.6982 yr     6.0e+24 W          2\n",
      " 0.945      3.881 yr     5.5e+23 W          1\n"
     ]
    }
   ],
   "source": [
    "from scipy.signal import argrelextrema\n",
    "\n",
    "def star_in_front(n):\n",
    "    \" compare coords along line of sight and return # of front star\"\n",
    "    if stars['xp_diff'][b] > 0:\n",
    "        return 1\n",
    "    else:\n",
    "        return 2    \n",
    "\n",
    "blips = argrelextrema(stars['dS'], np.greater)[0]\n",
    "\n",
    "blipcount = len(blips)\n",
    "print(\"There are {} eclipses during the orbit\\n\".format(blipcount))\n",
    "if blipcount > 0:\n",
    "    print(\"{0:>5} {1:>15} {2:>9} {3:>18}\".format(\"t/P\",\"elapsed time\",\"dS\",\"Star in front\"))\n",
    "    for b in blips:\n",
    "        print(\"{0:#6.3g} {1:#10.4g} {2:#11.2g} {3:10n}\".\n",
    "              format(stars['t_P'][b], (stars['t_P'][b]*stars['P']).to(u.year), stars['dS'][b], star_in_front(b)))\n",
    "else:\n",
    "    print(\"If you want to play with eclipse data, try running a simulation with i close to 90 deg\")"
   ]
  },
  {
   "cell_type": "markdown",
   "metadata": {},
   "source": [
    "What would each eclipse look like from our line of sight, if we had an impossibly perfect telescope? We have enough data to draw this (very crudely) with SVG."
   ]
  },
  {
   "cell_type": "code",
   "execution_count": 40,
   "metadata": {},
   "outputs": [
    {
     "data": {
      "image/svg+xml": [
       "<svg height=\"298.0\" version=\"1.1\" width=\"692.4158562520498\" xmlns=\"http://www.w3.org/2000/svg\"><g style=\"fill-opacity:1.0; stroke:black; stroke-width:1;\"><text font-size=\"24\" x=\"130\" y=\"25\">Star 2 in front</text><circle cx=\"161.79249935769562\" cy=\"200\" r=\"39.599999999999994\" style=\"fill:#ffefe6;\" /><circle cx=\"213.17500022148425\" cy=\"199.99999999999787\" r=\"88.0\" style=\"fill:#cedcff;\" /><text font-size=\"24\" x=\"512.8\" y=\"25\">Star 1 in front</text><circle cx=\"594.4158562520498\" cy=\"200\" r=\"88.0\" style=\"fill:#cedcff;\" /><circle cx=\"549.1140168690554\" cy=\"199.99999999999872\" r=\"39.599999999999994\" style=\"fill:#ffefe6;\" /></g></svg>"
      ],
      "text/plain": [
       "<svgscene.SVGScene at 0x7fcb69ecd0f0>"
      ]
     },
     "metadata": {},
     "output_type": "display_data"
    }
   ],
   "source": [
    "from svgscene import SVGScene # expect a .py file in same directory\n",
    "\n",
    "if blipcount > 0:\n",
    "    scene = SVGScene()\n",
    "    \n",
    "    # TODO - making everything automatically fit nicely needs more effort!\n",
    "    #        meanwhile, each sim may need these values tweaked\n",
    "    x = 200\n",
    "    y = 200\n",
    "    scale_factor = 40\n",
    "    \n",
    "    for b in blips:\n",
    "        front = star_in_front(b)\n",
    "        if front == 1:\n",
    "            R_f = stars['R1'].to(u.R_sun).value * scale_factor\n",
    "            color_f = lookup_temp(stars['T1'].value)\n",
    "            yp_f = stars['y1p'][b].to(u.R_sun).value * scale_factor\n",
    "            zp_f = stars['z1p'][b].to(u.R_sun).value * scale_factor\n",
    "            R_b = stars['R2'].to(u.R_sun).value * scale_factor\n",
    "            color_b = lookup_temp(stars['T2'].value)\n",
    "            yp_b = stars['y2p'][b].to(u.R_sun).value * scale_factor\n",
    "            zp_b = stars['z2p'][b].to(u.R_sun).value * scale_factor\n",
    "        else:\n",
    "            R_f = stars['R2'].to(u.R_sun).value * scale_factor\n",
    "            color_f = lookup_temp(stars['T2'].value)\n",
    "            yp_f = stars['y2p'][b].to(u.R_sun).value * scale_factor\n",
    "            zp_f = stars['z2p'][b].to(u.R_sun).value * scale_factor\n",
    "            R_b = stars['R1'].to(u.R_sun).value * scale_factor\n",
    "            color_b = lookup_temp(stars['T1'].value)\n",
    "            yp_b = stars['y1p'][b].to(u.R_sun).value * scale_factor\n",
    "            zp_b = stars['z1p'][b].to(u.R_sun).value * scale_factor\n",
    "            \n",
    "        scene.text((x-70, 25), \"Star {} in front\".format(front))\n",
    "        scene.circle((x+yp_b, y), R_b, color_b)\n",
    "        scene.circle((x+yp_f, y+zp_f-zp_b), R_f, color_f)\n",
    "        \n",
    "        # move right for showing the next eclipse\n",
    "        x = x + 3*(R_f + R_b)  \n",
    "            \n",
    "    display(scene)"
   ]
  },
  {
   "cell_type": "markdown",
   "metadata": {},
   "source": [
    "<a id='refs'></a>\n",
    "# References\n",
    "\n",
    "```\"An Introduction to Modern Astrophysics\", Appendix K\n",
    "Bradley W. Carroll and Dale A. Ostlie\n",
    "Second Edition, Addison Wesley, Copyright 2007.```"
   ]
  }
 ],
 "metadata": {
  "kernelspec": {
   "display_name": "Python 3",
   "language": "python",
   "name": "python3"
  },
  "language_info": {
   "codemirror_mode": {
    "name": "ipython",
    "version": 3
   },
   "file_extension": ".py",
   "mimetype": "text/x-python",
   "name": "python",
   "nbconvert_exporter": "python",
   "pygments_lexer": "ipython3",
   "version": "3.6.6"
  }
 },
 "nbformat": 4,
 "nbformat_minor": 2
}
