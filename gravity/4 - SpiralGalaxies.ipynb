{
 "cells": [
  {
   "cell_type": "markdown",
   "metadata": {},
   "source": [
    "# Spiral Galaxies\n",
    "\n",
    "*Colin Leach, Nov 2018*"
   ]
  },
  {
   "cell_type": "markdown",
   "metadata": {},
   "source": [
    "## Contents\n",
    "\n",
    "- [Rotation curves](#rotcurves)\n",
    "- [Out-of-plane and radial motion](#othermotions)\n",
    "    - [Visualizing epicycles](#visepi)\n",
    "- [Making spirals](#spirals)\n",
    "    - [The winding problem](#winding)\n",
    "    - [Ovals within ovals](#ovals)"
   ]
  },
  {
   "cell_type": "markdown",
   "metadata": {},
   "source": [
    "<a id='rotcurve'></a>"
   ]
  },
  {
   "cell_type": "markdown",
   "metadata": {},
   "source": [
    "## Rotation curves\n",
    "\n",
    "***TODO***"
   ]
  },
  {
   "cell_type": "code",
   "execution_count": null,
   "metadata": {},
   "outputs": [],
   "source": []
  },
  {
   "cell_type": "code",
   "execution_count": 13,
   "metadata": {},
   "outputs": [],
   "source": [
    "%matplotlib inline\n",
    "\n",
    "import time\n",
    "\n",
    "import numpy as np\n",
    "import matplotlib.pyplot as plt\n",
    "import matplotlib.cm as cm\n",
    "\n",
    "# from IPython.display import Image, HTML, display, clear_output\n",
    "# from matplotlib.offsetbox import AnchoredText\n",
    "\n",
    "from ipywidgets import interact, interactive, fixed, interact_manual, Layout, Output\n",
    "import ipywidgets as w\n",
    "\n",
    "# make graph labels more readable\n",
    "plt.rcParams.update({'font.size': 16})"
   ]
  },
  {
   "cell_type": "markdown",
   "metadata": {},
   "source": [
    "<a id='othermotions'></a>"
   ]
  },
  {
   "cell_type": "markdown",
   "metadata": {},
   "source": [
    "## Out-of-plane and radial motion\n",
    "\n",
    "Though stars follow an approximately circular, in-plane path around the galaxy following the minimum in the effective gravitational potential $\\Phi_{eff}$, there are a variety of small-amplitude deviations. These are complicated in detail but can be approximated as simple harmonic motion.\n",
    "\n",
    "For vertical motions, the oscillation follows $\\ddot{z} \\approx -\\nu^2 z$, with a minimum at the midplane and frequency $\\nu$.\n",
    "\n",
    "For radial motions, the minimum is at $R_0$ where $\\frac{d\\Phi_{eff}}{dR}=0$. Defining $\\rho(t) \\equiv (R(t)-R_0)$, the oscillation is $\\ddot{\\rho} = -\\kappa^2 \\rho$. Here $\\kappa$ is the frequency of oscillation, but because of some mathematical similarities to planetary motions in the Ptolemeic system it is often know as *epicycle frequency*.\n",
    "\n",
    "The frequencies are defined by the 2nd derivative of $\\Phi_{eff}$, evaluated at the minimum:\n",
    "\n",
    "$$ \\nu^2 = \\frac{\\partial^2\\Phi_{eff}}{\\partial z^2} \\bigg|_{midplane} \\qquad \\kappa^2 = \\frac{\\partial^2\\Phi_{eff}}{\\partial R^2} \\bigg|_{R_0} $$\n",
    "\n",
    "In both cases, the frequencies can be arbitrary and will in general give open orbits. Having an oscillation period which is in a simple integer relationship to the galactic orbit period is a special case: now the star will return to its original position, in a closed orbit."
   ]
  },
  {
   "cell_type": "markdown",
   "metadata": {},
   "source": [
    "<a id='visepi'></a>"
   ]
  },
  {
   "cell_type": "markdown",
   "metadata": {},
   "source": [
    "### Visualizing epicycles\n",
    "\n",
    "What would radial oscillations look like if viewed from above the galactic plane? Probably too small to notice, but we can exaggerate that."
   ]
  },
  {
   "cell_type": "code",
   "execution_count": 28,
   "metadata": {},
   "outputs": [
    {
     "data": {
      "application/vnd.jupyter.widget-view+json": {
       "model_id": "197fc633d23b4cd0a07c0adc0f62d5d2",
       "version_major": 2,
       "version_minor": 0
      },
      "text/plain": [
       "interactive(children=(FloatSlider(value=3.0, continuous_update=False, description='Oscillations per orbit', la…"
      ]
     },
     "metadata": {},
     "output_type": "display_data"
    }
   ],
   "source": [
    "def plot_epicycles(ratio, amplitude):\n",
    "    \"ratio: number of radial oscillations per galactic orbit\"\n",
    "    \n",
    "    nPoints = 100\n",
    "    thetas = np.linspace(0, 4*np.pi, 200)\n",
    "    rs = 1 + amplitude * np.sin(ratio*thetas)\n",
    "    xs = rs*np.cos(thetas)\n",
    "    ys = rs*np.sin(thetas)\n",
    "    \n",
    "    plt.figure(figsize=(9, 9))\n",
    "    plt.plot(xs, ys)\n",
    "    plt.title('Epicycles with {} oscillations per orbit, amplitude {} $R_0$'.format(ratio, amplitude))   \n",
    "\n",
    "style = {'description_width': 'initial'} # to avoid the labels getting truncated\n",
    "interact(plot_epicycles, \n",
    "             ratio = w.FloatSlider(description=\"Oscillations per orbit\", style=style,\n",
    "                                            layout=Layout(width='80%'),\n",
    "                                            continuous_update=False,\n",
    "                                            min=1.0, max=8.0, \n",
    "                                            value=3),\n",
    "             amplitude = w.FloatSlider(description=\"Amplitude, units of $R_0$\", style=style,\n",
    "                                            layout=Layout(width='80%'),\n",
    "                                            continuous_update=False, \n",
    "                                            min=0.01, max=0.3, step=0.01,\n",
    "                                            value=0.1));"
   ]
  },
  {
   "cell_type": "markdown",
   "metadata": {},
   "source": [
    "<a id='spirals'></a>"
   ]
  },
  {
   "cell_type": "markdown",
   "metadata": {},
   "source": [
    "## Making spirals\n",
    "\n",
    "The spirals are visually spectacular and the location of a lot of star formation, but how do they form and how do they persist for billions of years?\n",
    "\n",
    "We know that for stars within the disk, $\\dot{\\phi(R)} \\ne constant$, so what is the effect of differential rotation?"
   ]
  },
  {
   "cell_type": "markdown",
   "metadata": {},
   "source": [
    "<a id='winding'></a>"
   ]
  },
  {
   "cell_type": "markdown",
   "metadata": {},
   "source": [
    "### The winding problem\n",
    "\n",
    "Imagine we start with a straight line of stars across the galactic diameter, and let it evolve through time as the stars at their individual velocities. "
   ]
  },
  {
   "cell_type": "markdown",
   "metadata": {},
   "source": [
    "To implement this, we need an efficient way to rotate points through arbitrary angles in Cartesian coordinates. Some simple linear algebra will do the trick.\n",
    "\n",
    "The rotation matrix rotates a point in 2-D space anticlockwise about the origin by angle $\\theta$:\n",
    "$$ \\begin{pmatrix} \\cos \\theta & -\\sin \\theta \\\\ \\sin \\theta & \\cos \\theta \\end{pmatrix} \n",
    "\\begin{pmatrix} x_0 \\\\ y_0 \\end{pmatrix} = \\begin{pmatrix} x_1 \\\\ y_1 \\end{pmatrix} $$\n",
    "Note that $| \\mathbf{x_0} | = | \\mathbf{x_1} |$, so the radius is unchanged."
   ]
  },
  {
   "cell_type": "code",
   "execution_count": 6,
   "metadata": {},
   "outputs": [],
   "source": [
    "def rotation(theta):\n",
    "    # theta: angle in degrees\n",
    "    # returns: 2x2 rotation matix as numpy array\n",
    "    theta_rad = theta*np.pi/180\n",
    "    return np.array([[np.cos(theta_rad), -np.sin(theta_rad)],[np.sin(theta_rad), np.cos(theta_rad)]])"
   ]
  },
  {
   "cell_type": "markdown",
   "metadata": {},
   "source": [
    "This can multiply $2 \\times N$ arrays directly, providing the angle is the same throughout (see the Ovals demo below). However, the winding problem is all about differential rotation so the code gets a bit clumsier.\n",
    "\n",
    "As a simple model, assume that we ignore the core of the galaxy (the inner 10% of the radius), and outside that the linear velocity $v$ is constant. Then the angular velocity $\\omega(r) = v/r$. The plot routine takes an angle (in degrees) for rotation of the outer edge.\n",
    "\n",
    "Reminder for the old Python 2 programmers: since version 3.5 Python has the @ operator for matrix multiplication. It is no longer necessary to call `numpy.matmul()` explicitly."
   ]
  },
  {
   "cell_type": "code",
   "execution_count": 7,
   "metadata": {},
   "outputs": [],
   "source": [
    "def plotWinding(phi_step):\n",
    "    nPoints = 1000\n",
    "    startx = np.linspace(0.1, 1, nPoints)\n",
    "    starty = np.zeros(nPoints)\n",
    "    startline = np.stack([startx, starty])\n",
    "\n",
    "    phis = phi_step*np.ones(nPoints)/startx\n",
    "    rots = rotation(phis)\n",
    "    newline = np.zeros((2,nPoints))\n",
    "    for i in range(nPoints):\n",
    "        newline[:,i] = rots[:,:,i] @ startline[:,i]\n",
    "\n",
    "    fig = plt.figure(figsize=(8,8))\n",
    "    plt.axis('equal')\n",
    "    plt.plot(newline[0,:], newline[1,:], 'b-')\n",
    "    plt.plot(-newline[0,:], -newline[1,:], 'r-')"
   ]
  },
  {
   "cell_type": "code",
   "execution_count": 8,
   "metadata": {
    "scrolled": false
   },
   "outputs": [
    {
     "data": {
      "application/vnd.jupyter.widget-view+json": {
       "model_id": "501df657d1834f30b0d1c81f2639e6b2",
       "version_major": 2,
       "version_minor": 0
      },
      "text/plain": [
       "interactive(children=(IntSlider(value=0, continuous_update=False, description='Degrees rotation', layout=Layou…"
      ]
     },
     "metadata": {},
     "output_type": "display_data"
    }
   ],
   "source": [
    "style = {'description_width': 'initial'} # to avoid the labels getting truncated\n",
    "interact(plotWinding, \n",
    "             phi_step = w.IntSlider(description=\"Degrees rotation\", style=style,\n",
    "                                            layout=Layout(width='80%'),\n",
    "                                            continuous_update=False, \n",
    "                                            min=0, max=150,\n",
    "                                            value=0) );"
   ]
  },
  {
   "cell_type": "markdown",
   "metadata": {},
   "source": [
    "Clearly, in this model the spirals rapidly wind up tighter and tighter, on a timescale much shorter than the lifetime of a spiral galaxy. This doesn't match observations, so we need a different model."
   ]
  },
  {
   "cell_type": "markdown",
   "metadata": {},
   "source": [
    "<a id='ovals'></a>"
   ]
  },
  {
   "cell_type": "markdown",
   "metadata": {},
   "source": [
    "### Ovals within ovals\n",
    "\n",
    "We should probably think of the spiral arms as patterns rather than structures. "
   ]
  },
  {
   "cell_type": "code",
   "execution_count": 9,
   "metadata": {},
   "outputs": [],
   "source": [
    "def cartesianCircle(r = 1):\n",
    "    phis = np.linspace(0, 2*np.pi, 100)\n",
    "    x = r*np.cos(phis)\n",
    "    y = r*np.sin(phis)\n",
    "    return x, y\n",
    "\n",
    "def squashCircle(circ, b):\n",
    "    # scale down y-axis by factor b, leaving x-axis unchanged\n",
    "    M = np.array([[1,0],[0,b]])\n",
    "    return M @ circ\n",
    "\n",
    "def scale(c):\n",
    "    # scale by axes by a factor c\n",
    "    return np.array([[c,0],[0,c]])"
   ]
  },
  {
   "cell_type": "markdown",
   "metadata": {},
   "source": [
    "Define a plot of `nOvals` ellipses, each a factor `dr` larger than the one inside and rotated `dtheta` degrees anticlockwise. "
   ]
  },
  {
   "cell_type": "code",
   "execution_count": 10,
   "metadata": {},
   "outputs": [],
   "source": [
    "def plotOvals(nOvals=25, dtheta=5, dr=0.05, axratio=0.7):\n",
    "    circ = cartesianCircle()\n",
    "    ell = squashCircle(circ, axratio)\n",
    "    fig = plt.figure(figsize=(8,8))\n",
    "    plt.axis('equal')\n",
    "    plt.plot(ell[0,:], ell[1,:], '-', color='tab:gray')\n",
    "    for n in range(1,nOvals):\n",
    "        newell = rotation(dtheta*n) @ scale(1+dr*n) @ ell\n",
    "        plt.plot(newell[0,:], newell[1,:], '-', color='tab:gray')\n"
   ]
  },
  {
   "cell_type": "code",
   "execution_count": 11,
   "metadata": {},
   "outputs": [
    {
     "data": {
      "application/vnd.jupyter.widget-view+json": {
       "model_id": "64959d7a055b45d1a241b348942e00bd",
       "version_major": 2,
       "version_minor": 0
      },
      "text/plain": [
       "interactive(children=(IntSlider(value=25, continuous_update=False, description='Ovals to plot', layout=Layout(…"
      ]
     },
     "metadata": {},
     "output_type": "display_data"
    }
   ],
   "source": [
    "style = {'description_width': 'initial'} # to avoid the labels getting truncated\n",
    "interact(plotOvals, \n",
    "             nOvals = w.IntSlider(description=\"Ovals to plot\", style=style,\n",
    "                                            layout=Layout(width='80%'),\n",
    "                                            continuous_update=False,\n",
    "                                            min=5, max=100, \n",
    "                                            value=25), \n",
    "             dtheta = w.FloatSlider(description=\"Rotation step (deg)\", style=style,\n",
    "                                            layout=Layout(width='80%'),\n",
    "                                            continuous_update=False,\n",
    "                                            min=0.1, max=20, \n",
    "                                            value=5.0),\n",
    "             dr = w.FloatSlider(description=\"Scale step\", style=style,\n",
    "                                            layout=Layout(width='80%'),\n",
    "                                            continuous_update=False, \n",
    "                                            min=0, max=0.5, step=0.01,\n",
    "                                            value=0.05),\n",
    "             axratio = w.FloatSlider(description=\"Axis ratio\", style=style,\n",
    "                                            layout=Layout(width='80%'),\n",
    "                                            continuous_update=False, \n",
    "                                            min=0.5, max=0.9, step=0.01,\n",
    "                                            value=0.8)\n",
    "        );\n"
   ]
  },
  {
   "cell_type": "markdown",
   "metadata": {},
   "source": [
    "So we can make quite conspicuous spiral arms appear without explicitly drawing them. "
   ]
  },
  {
   "cell_type": "code",
   "execution_count": null,
   "metadata": {},
   "outputs": [],
   "source": []
  }
 ],
 "metadata": {
  "kernelspec": {
   "display_name": "Python 3",
   "language": "python",
   "name": "python3"
  },
  "language_info": {
   "codemirror_mode": {
    "name": "ipython",
    "version": 3
   },
   "file_extension": ".py",
   "mimetype": "text/x-python",
   "name": "python",
   "nbconvert_exporter": "python",
   "pygments_lexer": "ipython3",
   "version": "3.6.6"
  }
 },
 "nbformat": 4,
 "nbformat_minor": 2
}
