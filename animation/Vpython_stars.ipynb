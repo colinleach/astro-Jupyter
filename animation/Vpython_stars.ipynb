{
 "cells": [
  {
   "cell_type": "markdown",
   "metadata": {},
   "source": [
    "# Stars interacting gravitationally in VPython\n",
    "\n",
    "This is essentially the demo code written by Bruce Sherwood (https://github.com/BruceSherwood/vpython-jupyter/blob/master/Demos/Stars.ipynb). \n",
    "\n",
    "The original was a block of Python pasted into a single Jupyter cell. This variant just breaks things up more, moving code out to functions and minimizing the length of the (most important) cells that create a scene and run the simulation.\n",
    "\n",
    "Note that vpython is the only import here. Attempts to combine this sort of animation with my own Numpy code (as with Bokeh in Animations.ipynb) have so far proved frustrating. Maybe the next attempt will crack it..."
   ]
  },
  {
   "cell_type": "code",
   "execution_count": 1,
   "metadata": {},
   "outputs": [
    {
     "data": {
      "application/javascript": [
       "require.undef(\"nbextensions/vpython_libraries/glow.min\");"
      ],
      "text/plain": [
       "<IPython.core.display.Javascript object>"
      ]
     },
     "metadata": {},
     "output_type": "display_data"
    },
    {
     "data": {
      "application/javascript": [
       "require.undef(\"nbextensions/vpython_libraries/glowcomm\");"
      ],
      "text/plain": [
       "<IPython.core.display.Javascript object>"
      ]
     },
     "metadata": {},
     "output_type": "display_data"
    },
    {
     "data": {
      "application/javascript": [
       "require.undef(\"nbextensions/vpython_libraries/jquery-ui.custom.min\");"
      ],
      "text/plain": [
       "<IPython.core.display.Javascript object>"
      ]
     },
     "metadata": {},
     "output_type": "display_data"
    },
    {
     "data": {
      "application/javascript": [
       "require([\"nbextensions/vpython_libraries/glow.min\"], function(){console.log(\"GLOW LOADED\");})"
      ],
      "text/plain": [
       "<IPython.core.display.Javascript object>"
      ]
     },
     "metadata": {},
     "output_type": "display_data"
    },
    {
     "data": {
      "application/javascript": [
       "require([\"nbextensions/vpython_libraries/glowcomm\"], function(){console.log(\"GLOWCOMM LOADED\");})"
      ],
      "text/plain": [
       "<IPython.core.display.Javascript object>"
      ]
     },
     "metadata": {},
     "output_type": "display_data"
    },
    {
     "data": {
      "application/javascript": [
       "require([\"nbextensions/vpython_libraries/jquery-ui.custom.min\"], function(){console.log(\"JQUERY LOADED\");})"
      ],
      "text/plain": [
       "<IPython.core.display.Javascript object>"
      ]
     },
     "metadata": {},
     "output_type": "display_data"
    },
    {
     "data": {
      "text/html": [
       "<div id=\"glowscript\" class=\"glowscript\"></div>"
      ],
      "text/plain": [
       "<IPython.core.display.HTML object>"
      ]
     },
     "metadata": {},
     "output_type": "display_data"
    },
    {
     "data": {
      "application/javascript": [
       "window.__context = { glowscript_container: $(\"#glowscript\").removeAttr(\"id\")}"
      ],
      "text/plain": [
       "<IPython.core.display.Javascript object>"
      ]
     },
     "metadata": {},
     "output_type": "display_data"
    }
   ],
   "source": [
    "from vpython import *"
   ]
  },
  {
   "cell_type": "markdown",
   "metadata": {},
   "source": [
    "Some global variables:"
   ]
  },
  {
   "cell_type": "code",
   "execution_count": 2,
   "metadata": {},
   "outputs": [],
   "source": [
    "Nstars = 20  # change this to have more or fewer stars\n",
    "Stars = []\n",
    "L = 4e10\n",
    "G = 6.7e-11 # Universal gravitational constant\n",
    "\n",
    "# Typical values\n",
    "Msun = 2E30\n",
    "Rsun = 2E9\n",
    "vsun = 0.8*sqrt(G*Msun/Rsun)"
   ]
  },
  {
   "cell_type": "markdown",
   "metadata": {},
   "source": [
    "Set basic properties for the scene:"
   ]
  },
  {
   "cell_type": "code",
   "execution_count": 3,
   "metadata": {},
   "outputs": [],
   "source": [
    "def makeScene(scene):\n",
    "    scene.width = scene.height = 600\n",
    "\n",
    "    # Display text below the 3D graphics:\n",
    "    scene.title = \"Stars interacting gravitationally\"\n",
    "\n",
    "    scene.caption = \"\"\"Right button drag or Ctrl-drag to rotate \"camera\" to view scene.\n",
    "    To zoom, drag with middle button or Alt/Option depressed, or use scroll wheel.\n",
    "      On a two-button mouse, middle is left + right.\n",
    "    Touch screen: pinch/extend to zoom, swipe or two-finger rotate.\"\"\"\n",
    "\n",
    "    scene.range = 2*L\n",
    "    scene.forward = vec(-1,-1,-1)\n",
    "\n",
    "    makeAxes()\n",
    "\n",
    "def makeAxes():\n",
    "    xaxis = curve(color=color.gray(0.5), radius=3e8)\n",
    "    xaxis.append(vec(0,0,0))\n",
    "    xaxis.append(vec(L,0,0))\n",
    "    yaxis = curve(color=color.gray(0.5), radius=3e8)\n",
    "    yaxis.append(vec(0,0,0))\n",
    "    yaxis.append(vec(0,L,0))\n",
    "    zaxis = curve(color=color.gray(0.5), radius=3e8)\n",
    "    zaxis.append(vec(0,0,0))\n",
    "    zaxis.append(vec(0,0,L))"
   ]
  },
  {
   "cell_type": "markdown",
   "metadata": {},
   "source": [
    "Add some moving spheres. Note that these are complex objects which store all their own properties: mass, momentum, etc, as well as graphical features like size and color."
   ]
  },
  {
   "cell_type": "code",
   "execution_count": 4,
   "metadata": {},
   "outputs": [],
   "source": [
    "def makeStars():\n",
    "    star_colors = [color.red, color.green, color.blue,\n",
    "                  color.yellow, color.cyan, color.magenta]\n",
    "\n",
    "    psum = vec(0,0,0)\n",
    "    for i in range(Nstars):\n",
    "        star = sphere(pos=L*vec.random(), make_trail=True, retain=150, trail_radius=3e8)\n",
    "        R = Rsun/2+Rsun*random()\n",
    "        star.radius = R\n",
    "        star.mass = Msun*(R/Rsun)**3\n",
    "        star.momentum = vec.random()*vsun*star.mass\n",
    "        star.color = star.trail_color = star_colors[i % 6]\n",
    "        Stars.append( star )\n",
    "        psum = psum + star.momentum\n",
    "\n",
    "    #make total initial momentum equal zero\n",
    "    for i in range(Nstars):\n",
    "        Stars[i].momentum = Stars[i].momentum - psum/Nstars"
   ]
  },
  {
   "cell_type": "markdown",
   "metadata": {},
   "source": [
    "A very simple inegrator:"
   ]
  },
  {
   "cell_type": "code",
   "execution_count": 5,
   "metadata": {},
   "outputs": [],
   "source": [
    "def computeForces():\n",
    "    global hitlist, Stars\n",
    "    hitlist = []\n",
    "    N = len(Stars)\n",
    "    for i in range(N):\n",
    "        si = Stars[i]\n",
    "        if si is None: continue\n",
    "        F = vec(0,0,0)\n",
    "        pos1 = si.pos\n",
    "        m1 = si.mass\n",
    "        radius = si.radius\n",
    "        for j in range(N):\n",
    "            if i == j: continue\n",
    "            sj = Stars[j]\n",
    "            if sj is None: continue\n",
    "            r = sj.pos - pos1\n",
    "            rmag2 = mag2(r)\n",
    "            if rmag2 <= (radius+sj.radius)**2: hitlist.append([i,j])\n",
    "            F = F + (G*m1*sj.mass/(rmag2**1.5))*r\n",
    "        si.momentum = si.momentum + F*dt\n",
    "    return hitlist"
   ]
  },
  {
   "cell_type": "markdown",
   "metadata": {},
   "source": [
    "Collisions are totally inelastic. One star increases in mass/momentum, the other is removed."
   ]
  },
  {
   "cell_type": "code",
   "execution_count": 6,
   "metadata": {},
   "outputs": [],
   "source": [
    "def processHits(hitlist):\n",
    "        # If any collisions took place, merge those stars\n",
    "        hit = len(hitlist)-1\n",
    "        while hit > 0:\n",
    "            s1 = Stars[hitlist[hit][0]]\n",
    "            s2 = Stars[hitlist[hit][1]]\n",
    "            if (s1 is None) or (s2 is None): continue\n",
    "\n",
    "            mass = s1.mass + s2.mass\n",
    "            momentum = s1.momentum + s2.momentum\n",
    "            pos = (s1.mass*s1.pos + s2.mass*s2.pos) / mass\n",
    "            s1.color = s1.trail_color = (s1.mass*s1.color + s2.mass*s2.color) / mass\n",
    "            R = Rsun*(mass / Msun)**(1/3)\n",
    "\n",
    "            s1.clear_trail()\n",
    "            s2.clear_trail()\n",
    "            s2.visible = False\n",
    "\n",
    "            s1.mass = mass\n",
    "            s1.momentum = momentum\n",
    "            s1.pos = pos\n",
    "            s1.radius = R\n",
    "            Stars[hitlist[hit][1]] = None\n",
    "            hit -= 1"
   ]
  },
  {
   "cell_type": "markdown",
   "metadata": {},
   "source": [
    "The next cell creates everything and displays the static initial scene. If the graphic fails to show (which is not unusual), try Kernel > Restart & Clear Output"
   ]
  },
  {
   "cell_type": "code",
   "execution_count": 7,
   "metadata": {},
   "outputs": [
    {
     "data": {
      "text/html": [
       "<div id=\"glowscript\" class=\"glowscript\"></div>"
      ],
      "text/plain": [
       "<IPython.core.display.HTML object>"
      ]
     },
     "metadata": {},
     "output_type": "display_data"
    },
    {
     "data": {
      "application/javascript": [
       "window.__context = { glowscript_container: $(\"#glowscript\").removeAttr(\"id\")}"
      ],
      "text/plain": [
       "<IPython.core.display.Javascript object>"
      ]
     },
     "metadata": {},
     "output_type": "display_data"
    }
   ],
   "source": [
    "scene = canvas() # This is needed in Jupyter notebook and lab to make programs easily rerunnable\n",
    "makeScene(scene)\n",
    "makeStars()"
   ]
  },
  {
   "cell_type": "markdown",
   "metadata": {},
   "source": [
    "Now run the animation. A kernel interrupt will stop the graphic, but stopping all computation may need a restart."
   ]
  },
  {
   "cell_type": "code",
   "execution_count": 8,
   "metadata": {},
   "outputs": [],
   "source": [
    "dt = 1000\n",
    "hitlist = []\n",
    "try:\n",
    "    while True:\n",
    "        rate(100)\n",
    "        hitlist = computeForces()\n",
    "\n",
    "        # Having updated all momenta, now update all positions\n",
    "        for star in Stars:\n",
    "            if star is None: continue\n",
    "            star.pos = star.pos + star.momentum*(dt/star.mass)\n",
    "            \n",
    "        # deal with collisions (treated as inelastic mergers)\n",
    "        processHits(hitlist)\n",
    "        \n",
    "except KeyboardInterrupt:\n",
    "    pass # just stop with no traceback        "
   ]
  },
  {
   "cell_type": "code",
   "execution_count": null,
   "metadata": {},
   "outputs": [],
   "source": []
  }
 ],
 "metadata": {
  "kernelspec": {
   "display_name": "VPython",
   "language": "python",
   "name": "vpython"
  },
  "language_info": {
   "codemirror_mode": {
    "name": "ipython",
    "version": 3
   },
   "file_extension": ".py",
   "mimetype": "text/x-python",
   "name": "python",
   "nbconvert_exporter": "python",
   "pygments_lexer": "ipython3",
   "version": "3.6.8"
  }
 },
 "nbformat": 4,
 "nbformat_minor": 2
}
