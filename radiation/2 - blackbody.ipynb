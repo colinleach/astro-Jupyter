{
 "cells": [
  {
   "cell_type": "markdown",
   "metadata": {},
   "source": [
    "# Black-Body Radiation"
   ]
  },
  {
   "cell_type": "markdown",
   "metadata": {},
   "source": [
    "*Colin Leach, May 2018*"
   ]
  },
  {
   "cell_type": "markdown",
   "metadata": {},
   "source": [
    "## Contents\n",
    "\n",
    "- [Planck curves](#Planck)\n",
    "- [Wien's Displacement Law](#Wien)\n",
    "- [Energy Flux Density](#Flux)\n",
    "- [What do these colors look like?](#Colors)"
   ]
  },
  {
   "cell_type": "markdown",
   "metadata": {},
   "source": [
    "<a id='Planck'></a>\n",
    "## Planck curves\n",
    "\n",
    "These give energy distribution by freq or wavelength:\n",
    "$$ B_{\\lambda} = \\frac{2hc^2}{\\lambda^5} \\cdot \\frac{1}{e^{hc / \\lambda kT} - 1} \\qquad \\text{or} \\qquad B_{\\nu} = \\frac{2h \\nu^2}{c^2} \\cdot \\frac{1}{e^{hc / \\lambda kT} - 1} $$"
   ]
  },
  {
   "cell_type": "code",
   "execution_count": 1,
   "metadata": {},
   "outputs": [],
   "source": [
    "%matplotlib inline \n",
    "\n",
    "import numpy as np\n",
    "import matplotlib.pyplot as plt\n",
    "\n",
    "# from IPython.display import Image, HTML\n",
    "# from matplotlib import animation\n",
    "from ipywidgets import interact, interactive, fixed, interact_manual, Layout\n",
    "import ipywidgets as w\n",
    "\n",
    "from astropy import units as u\n",
    "from astropy.constants import h, c, k_B, b_wien, sigma_sb"
   ]
  },
  {
   "cell_type": "code",
   "execution_count": 1,
   "metadata": {},
   "outputs": [],
   "source": [
    "def B_lambda(lambd, T):\n",
    "    lambd = lambd.to(u.m)\n",
    "    return 2*h*c**2/(lambd**5*(np.exp(h*c/(lambd*k_B*T.to(u.K))) - 1))"
   ]
  },
  {
   "cell_type": "markdown",
   "metadata": {},
   "source": [
    "The `B_lambda` function works in SI units and returns values in $J \\cdot s^{-1} \\cdot m^{-3}$. The plot below uses $kW \\cdot sr^{-1} \\cdot m^{-2} \\cdot nm^{-1}$, emphasising that $B_{\\lambda}$ is power per unit area per unit wavelength."
   ]
  },
  {
   "cell_type": "code",
   "execution_count": 4,
   "metadata": {
    "scrolled": false
   },
   "outputs": [
    {
     "data": {
      "application/vnd.jupyter.widget-view+json": {
       "model_id": "00faada0f26144d39dc845ff83ecc66b",
       "version_major": 2,
       "version_minor": 0
      },
      "text/plain": [
       "interactive(children=(IntRangeSlider(value=(100, 2000), continuous_update=False, description='Wavelength range…"
      ]
     },
     "metadata": {},
     "output_type": "display_data"
    }
   ],
   "source": [
    "def plotBB(lambdaRange, temps):\n",
    "    fig = plt.figure(figsize=(12,8))\n",
    "    lambd = np.linspace(lambdaRange[0], lambdaRange[1], 100)*u.nm\n",
    "    temps = [int(t) for t in temps.split(',')]*u.K\n",
    "    for T in temps:\n",
    "        # calculate B and massage the units\n",
    "        B_list = (B_lambda(lambd, T).to(u.kW/(u.m**2*u.nm)))/u.sr\n",
    "        plt.plot(lambd, B_list, label='T={0:4.0f}'.format(T))\n",
    "    plt.xlabel('wavelength $\\lambda$ (nm)')\n",
    "    plt.ylabel('B ($kW \\cdot sr^{-1} \\cdot m^{-2} \\cdot nm^{-1}$)')\n",
    "    plt.ylim(bottom=0)\n",
    "    plt.legend()\n",
    "    plt.title('Blackbody Radiation')\n",
    "\n",
    "style = {'description_width': 'initial'}\n",
    "interact(plotBB, \n",
    "             lambdaRange = w.IntRangeSlider(description=\"Wavelength range (nm)\", style=style,\n",
    "                                            layout=Layout(width='80%'),\n",
    "                                            continuous_update=False, # otherwise flicker is horrible\n",
    "                                            min=10, max=10000, step=10, \n",
    "                                            value=[100, 2000]), \n",
    "             temps = w.Text(description=\"Temps (K), comma-separated values\", style=style,\n",
    "                            continuous_update=False,\n",
    "                            layout=Layout(width='80%'),\n",
    "                            value=\"3000,4000,5000\"));\n"
   ]
  },
  {
   "cell_type": "markdown",
   "metadata": {},
   "source": [
    "<a id='Wien'></a>\n",
    "## Wien's displacement law\n",
    "\n",
    "This is a very simple relationship between peak wavelength and temperature:\n",
    "$$ \\lambda_{max} = \\frac{b_{wien}}{T} \\qquad \\text{where} \\qquad b_{wien} = 2.9 \\cdot 10^{-3}\\ [m.K] = 2.9 \\cdot 10^7\\ [A.K]$$"
   ]
  },
  {
   "cell_type": "code",
   "execution_count": 5,
   "metadata": {},
   "outputs": [
    {
     "data": {
      "application/vnd.jupyter.widget-view+json": {
       "model_id": "9295024f5f7e4bd4a612a8ec2791072c",
       "version_major": 2,
       "version_minor": 0
      },
      "text/plain": [
       "interactive(children=(IntSlider(value=3000, description='T (K)', max=100000, min=10, step=10), Output()), _dom…"
      ]
     },
     "metadata": {},
     "output_type": "display_data"
    }
   ],
   "source": [
    "lambda_max = lambda T: (b_wien/(T*u.K)).to(u.nm)\n",
    "interact(lambda_max, T=w.IntSlider(description=\"T (K)\",\n",
    "                                            min=10, max=100000, step=10, \n",
    "                                            value=3000));"
   ]
  },
  {
   "cell_type": "markdown",
   "metadata": {},
   "source": [
    "<a id='Flux'></a>\n",
    "## Energy flux density\n",
    "\n",
    "This is luminance across the entire spectrum ($M$ is power/unit area, $\\sigma$ is the Stefan-Boltzmann constant):\n",
    "$$M = \\sigma T^4  \\qquad \\text{where} \\qquad \\sigma = 5.67 \\cdot 10^{-5}\\ [erg.s^{-1}.cm^{-2}.K^{-4}] = 5.67 \\cdot 10^{-8}\\ [W.m^{-2}.K^{-4}]$$\n"
   ]
  },
  {
   "cell_type": "code",
   "execution_count": 6,
   "metadata": {},
   "outputs": [
    {
     "data": {
      "application/vnd.jupyter.widget-view+json": {
       "model_id": "2e5f4c9eff2441c0bd7d465cd3a29c98",
       "version_major": 2,
       "version_minor": 0
      },
      "text/plain": [
       "interactive(children=(IntSlider(value=3000, continuous_update=False, description='T (K)', max=100000, min=10, …"
      ]
     },
     "metadata": {},
     "output_type": "display_data"
    }
   ],
   "source": [
    "M_sb = lambda T: sigma_sb*(T*u.K)**4\n",
    "interact(M_sb, T=w.IntSlider(description=\"T (K)\",\n",
    "                             continuous_update=False, # to avoid confusing MathJax\n",
    "                             min=10, max=100000, step=10, \n",
    "                             value=3000));"
   ]
  },
  {
   "cell_type": "markdown",
   "metadata": {},
   "source": [
    "---------------\n",
    "<a id='Colors'></a>\n",
    "\n",
    "## What do these colors look like?\n",
    "\n",
    "Give the vagaries of human vision and computer monitors, the next section will be approximate and subjective (at best).\n",
    "\n",
    "How do we get a Python RGB value from a temperature? Hitting Google will give several published lists that can be used as lookup tables, plus an algorithm to calculate it on the fly.\n",
    "\n",
    "The short answer is that a \"black\" body will look white at a temperature around 6500-6600 K. Above that it looks increasingly blue. Below that it gos through a yellow-orange-red spectrum. Obviously this is not new information: people (expecially blacksmiths) had been looking closely at color changes in heated iron bars for many centuries before Planck."
   ]
  },
  {
   "cell_type": "markdown",
   "metadata": {},
   "source": [
    "This function uses one of the possible lookup tables, stored in a csv file:"
   ]
  },
  {
   "cell_type": "code",
   "execution_count": 7,
   "metadata": {},
   "outputs": [],
   "source": [
    "# Read in the file once and store it in a top-level dictionary for repeated use\n",
    "import csv\n",
    "reader = csv.reader(open('../files/rgb_temp.csv', 'r'))\n",
    "tempdict = {}\n",
    "for row in reader:\n",
    "   k, v = row\n",
    "   tempdict[k] = v\n",
    "\n",
    "def lookup_temp(T):\n",
    "    \"\"\"\n",
    "        Input is a temperature in K\n",
    "        Must be a value, e.g. float, not an astropy Quantity\n",
    "        \n",
    "        For the data and discussion, see:\n",
    "        http://www.vendian.org/mncharity/dir3/blackbody/\n",
    "    \"\"\"\n",
    "    \n",
    "    # lookup table only has data for 1k <= T <= 40k\n",
    "    if T < 1000:\n",
    "        T = 1000\n",
    "    elif T > 40000:\n",
    "        T = 40000\n",
    "    tempkey = str(int(T/100)*100)\n",
    "    return tempdict[tempkey];"
   ]
  },
  {
   "cell_type": "markdown",
   "metadata": {},
   "source": [
    "This function implements Tanner Helland's algorithm:"
   ]
  },
  {
   "cell_type": "code",
   "execution_count": 8,
   "metadata": {},
   "outputs": [],
   "source": [
    "def th_color(T):\n",
    "    \"\"\"\n",
    "        Input is a temperature in K\n",
    "        Must be a value, e.g. float, not an astropy Quantity\n",
    "        \n",
    "        For the algorithm and caveats, see:\n",
    "        http://www.tannerhelland.com/4435/convert-temperature-rgb-algorithm-code/\n",
    "    \"\"\"\n",
    "    \n",
    "    T = T/100\n",
    "    \n",
    "    # red\n",
    "    if T <= 66:\n",
    "        red = 255\n",
    "    else:\n",
    "        red = T - 60\n",
    "        red = 329.698727446 * (red**(-0.1332047592))\n",
    "        if red < 0: red = 0\n",
    "        if red > 255: red = 255\n",
    "    \n",
    "    # green\n",
    "    if T <= 66:\n",
    "        green = T\n",
    "        green = 99.4708025861 * np.log(green) - 161.1195681661\n",
    "        if green < 0: green = 0\n",
    "        if green > 255: green = 255\n",
    "    else:\n",
    "        green = T - 60\n",
    "        green = 288.1221695283 * (green**(-0.0755148492))\n",
    "        if green < 0: green = 0\n",
    "        if green > 255: green = 255\n",
    "    \n",
    "    # blue\n",
    "    if T >= 66:\n",
    "        blue = 255\n",
    "    else:\n",
    "        blue = T - 10\n",
    "        if blue <= 0: \n",
    "            blue = 0\n",
    "        else:\n",
    "            blue = 138.5177312231 * np.log(blue) - 305.0447927307\n",
    "            if blue > 255: blue = 255\n",
    "            if blue <= 0: blue = 0\n",
    "                \n",
    "    color = \"#%02x%02x%02x\" % (int(red), int(green), int(blue))\n",
    "    return color;"
   ]
  },
  {
   "cell_type": "markdown",
   "metadata": {},
   "source": [
    "It would be useful to display geometric shapes in the notebook, each showing an RGB color. That can be done with `IPython.display.SVG` and some utility code. I put that in a separate file:"
   ]
  },
  {
   "cell_type": "code",
   "execution_count": 9,
   "metadata": {},
   "outputs": [],
   "source": [
    "# from IPython.display import SVG\n",
    "# import xml.etree.ElementTree as ET\n",
    "from svgscene import SVGScene"
   ]
  },
  {
   "cell_type": "markdown",
   "metadata": {},
   "source": [
    "Now we need a display function for the temperatures:"
   ]
  },
  {
   "cell_type": "code",
   "execution_count": 10,
   "metadata": {},
   "outputs": [],
   "source": [
    "def show_color_temp(T):\n",
    "    RGB1 = th_color(T)\n",
    "    RGB2 = lookup_temp(T)\n",
    "    scene = SVGScene()\n",
    "    scene.circle((100,200), 100, RGB1)\n",
    "    scene.text((10,50), \"Calc: \" + RGB1)\n",
    "    scene.circle((500,200), 100, RGB2)\n",
    "    scene.text((400,50), \"Lookup: \" + RGB2)\n",
    "    return(scene)"
   ]
  },
  {
   "cell_type": "markdown",
   "metadata": {},
   "source": [
    "One way to interact with it, comparing the two methods:"
   ]
  },
  {
   "cell_type": "code",
   "execution_count": 11,
   "metadata": {},
   "outputs": [
    {
     "data": {
      "application/vnd.jupyter.widget-view+json": {
       "model_id": "2b2c306ba71e4f87b2270d9b92a87412",
       "version_major": 2,
       "version_minor": 0
      },
      "text/plain": [
       "interactive(children=(IntSlider(value=3000, description='T (K)', max=40000, min=1000, step=10), Output()), _do…"
      ]
     },
     "metadata": {},
     "output_type": "display_data"
    }
   ],
   "source": [
    "interact(show_color_temp, T=w.IntSlider(description=\"T (K)\",\n",
    "                                            min=1000, max=40000, step=10, \n",
    "                                            value=3000));"
   ]
  },
  {
   "cell_type": "markdown",
   "metadata": {},
   "source": [
    "The two methods don't give identical results, but agreement is pretty decent in the circumstances."
   ]
  },
  {
   "cell_type": "markdown",
   "metadata": {},
   "source": [
    "Alternatively, we can color the markers on a plot:"
   ]
  },
  {
   "cell_type": "code",
   "execution_count": 12,
   "metadata": {},
   "outputs": [
    {
     "data": {
      "image/png": "[encoded data removed]",
      "text/plain": [
       "<Figure size 864x576 with 1 Axes>"
      ]
     },
     "metadata": {
      "needs_background": "light"
     },
     "output_type": "display_data"
    }
   ],
   "source": [
    "import csv\n",
    "reader = csv.reader(open('../files/rgb_temp.csv', 'r'))\n",
    "temps = []\n",
    "rgbs = []\n",
    "for row in reader:\n",
    "   T, rgb = row\n",
    "   temps.append(int(T))\n",
    "   rgbs.append(rgb)\n",
    "\n",
    "# calculate energy flux density for plotting\n",
    "efds = [M_sb(T).value for T in temps]\n",
    "\n",
    "# graph flux density vs temp\n",
    "fig2 = plt.figure(figsize=(12,8))\n",
    "plt.plot(temps[::10], efds[::10])\n",
    "plt.xlabel('$T_e$ (K)', fontsize=18)\n",
    "# plt.xscale('log')\n",
    "plt.ylabel('Energy flux density', fontsize=18)\n",
    "plt.yscale('log')\n",
    "plt.tick_params(labelsize=14, which='both', length=5, width=2)\n",
    "plt.title('Blackbody Radiation Colors', fontsize=20);\n",
    "\n",
    "# add a few markers\n",
    "x = temps[::10]\n",
    "y = efds[::10]\n",
    "ct = rgbs[::10]\n",
    "for i in range(len(x)):\n",
    "    plt.plot(x[i], y[i], 'o', color=ct[i], markersize=20)"
   ]
  },
  {
   "cell_type": "code",
   "execution_count": null,
   "metadata": {},
   "outputs": [],
   "source": []
  }
 ],
 "metadata": {
  "kernelspec": {
   "display_name": "Python 3",
   "language": "python",
   "name": "python3"
  },
  "language_info": {
   "codemirror_mode": {
    "name": "ipython",
    "version": 3
   },
   "file_extension": ".py",
   "mimetype": "text/x-python",
   "name": "python",
   "nbconvert_exporter": "python",
   "pygments_lexer": "ipython3",
   "version": "3.6.8"
  }
 },
 "nbformat": 4,
 "nbformat_minor": 2
}
