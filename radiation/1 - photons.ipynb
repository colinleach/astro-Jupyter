{
 "cells": [
  {
   "cell_type": "markdown",
   "metadata": {},
   "source": [
    "# The Electromagnetic Spectrum\n",
    "\n",
    "People having been staring at the night sky for millenia, and (we now know) interpreting an incoming stream of photons roughly in the 380 to 760 nm range. Modern astronomers have bigger and better instruments, so the usable frequency / wavelength / energy range covers more like 20 orders of magnitude. \n",
    "\n",
    "This is a relatively simple notebook to help visualize where things fit on the spectrum."
   ]
  },
  {
   "cell_type": "code",
   "execution_count": 7,
   "metadata": {},
   "outputs": [],
   "source": [
    "%matplotlib inline\n",
    "import numpy as np\n",
    "import matplotlib.pyplot as plt\n",
    "\n",
    "from ipywidgets import interact, Layout, Output\n",
    "import ipywidgets as w\n",
    "\n",
    "from astropy import units as u\n",
    "from astropy.constants import c, h\n",
    "\n",
    "from wavelength_rgb import wavelength_RGB # local file\n",
    "\n",
    "plt.rcParams.update({'font.size': 16})"
   ]
  },
  {
   "cell_type": "markdown",
   "metadata": {},
   "source": [
    "We can characterize a photon by wavelength $\\lambda$ (m), frequency $\\nu$ (Hz) or energy (eV). In practice, conventions about which is most useful differ for work in the various regions of the spectrum, and it is useful to be able to interconvert.\n",
    "\n",
    "Calculations are based on the formulae $\\lambda \\nu = c$ and $E = h \\nu$, where $c$ is the speed of light and $h$ is the Planck constant.\n",
    "\n",
    "Define a function to take a value in one unit and calculate the other two:"
   ]
  },
  {
   "cell_type": "code",
   "execution_count": 2,
   "metadata": {},
   "outputs": [],
   "source": [
    "def calcPhotonVals(value, unit):\n",
    "    returnValues = {}\n",
    "    if unit == 'Hz':\n",
    "        returnValues['freq'] = value * u.Hz\n",
    "        returnValues['wlen'] = (c / returnValues['freq']).to(u.m)\n",
    "        returnValues['energy'] = (h * returnValues['freq']).to(u.eV)\n",
    "    elif unit == 'm':\n",
    "        returnValues['wlen'] = value * u.m\n",
    "        returnValues['freq'] = (c / returnValues['wlen']).to(u.Hz)\n",
    "        returnValues['energy'] = (h * returnValues['freq']).to(u.eV)\n",
    "    elif unit == 'eV':\n",
    "        returnValues['energy'] = value * u.eV\n",
    "        returnValues['freq'] = (returnValues['energy'] / h).to(u.Hz)\n",
    "        returnValues['wlen'] = (c / returnValues['freq']).to(u.m)\n",
    "    else:\n",
    "        raise Exception(\"unit {} is not in ['Hz', 'm', 'eV']\".format(unit))\n",
    "        \n",
    "    return returnValues"
   ]
  },
  {
   "cell_type": "markdown",
   "metadata": {},
   "source": [
    "Labelling the various parts of the spectrum is imprecise and there are no hard boundaries, but let's define approximate ranges:"
   ]
  },
  {
   "cell_type": "code",
   "execution_count": 17,
   "metadata": {},
   "outputs": [],
   "source": [
    "def makeSpectrumDict():\n",
    "    \"\"\" Data dictionary entries are tuples of wavelength in m\n",
    "        (lower, upper, position), where position is just a hint for\n",
    "        where to print the label along the graph's x-axis\n",
    "        \n",
    "        return: data dictionary and a list of boundary wavelengths\n",
    "    \"\"\"\n",
    "    dd = {'gamma': (0, 1e-11, 1e-12),\n",
    "        'X-ray': (1e-11, 1e-8, 1e-10),\n",
    "        'UV': (1e-8, 3.8e-7, 1e-7),\n",
    "        'vis': (3.8e-7, 7.6e-7, 3.3e-7),\n",
    "        'NIR': (7.6e-7, 2.5e-6, 9e-7),\n",
    "        'MIR': (2.5e-6, 1e-5, 3e-6),\n",
    "        'FIR': (1e-5, 1e-3, 3e-5),\n",
    "        'microwave': (1e-3, 0.1, 2e-3),\n",
    "        'radio': (0.1, 1e8, 1) } # top end arbitrary\n",
    "    boundaries = [v[0] for v in dd.values()]\n",
    "    return (dd, boundaries)"
   ]
  },
  {
   "cell_type": "markdown",
   "metadata": {},
   "source": [
    "Next define the plot routine. The x-axis is important (log scale), the y-axis is just dummy values to define vertical positions."
   ]
  },
  {
   "cell_type": "code",
   "execution_count": 30,
   "metadata": {
    "scrolled": false
   },
   "outputs": [],
   "source": [
    "def plotPhotonData(value, unit):\n",
    "    valDict = calcPhotonVals(value, unit)\n",
    "    spectrumDict, boundaries = makeSpectrumDict()\n",
    "    \n",
    "    # set up the full gamma-to-radio range\n",
    "    fig = plt.figure(figsize=(18,5))\n",
    "    ax = plt.axes()\n",
    "    plt.plot((1e-12,1e3), (0.1, 0.1))\n",
    "    for boundary in boundaries:\n",
    "        plt.plot(boundary, 0.1, 'o', color='lightgray', markersize = 10)\n",
    "    for name, limits in spectrumDict.items():\n",
    "        plt.text(limits[2], 0.15, name)\n",
    "    \n",
    "    # show the current input value graphically\n",
    "    curr_wlen = valDict['wlen'].value\n",
    "    \n",
    "    # for visible, try to represent the actual color (all others black)\n",
    "    # wavelength_RGB() needs wavelength in nm, returns 0-255 integers\n",
    "    wlen_color = [c/255.0 for c in wavelength_RGB(curr_wlen*1e9)] \n",
    "    \n",
    "    # an arrow would be good, but I didn't get that working correctly yet\n",
    "    plt.plot((curr_wlen, curr_wlen), (0.3, 0.45), color=wlen_color)\n",
    "        \n",
    "    # matplotlib housekeeping\n",
    "    plt.xscale(\"log\", nonposx='clip')\n",
    "    plt.xticks([10**n for n in (-12, -9, -6, -3, 0, 3)])\n",
    "    plt.xlabel('wavelength $\\lambda$ (m)')\n",
    "    plt.ylim(bottom=0, top=1)\n",
    "    ax.yaxis.set_visible(False)\n",
    "    plt.title('Electromagnetic Spectrum')\n",
    "    \n",
    "    # add results for current input as text\n",
    "    plt.text(1e-11, 0.8, 'Wavelength: {:.3e}'.format(valDict['wlen']))\n",
    "    plt.text(1e-11, 0.7, 'Frequency: {:.3e}'.format(valDict['freq']))\n",
    "    plt.text(1e-11, 0.6, 'Energy: {:.3e}'.format(valDict['energy']))"
   ]
  },
  {
   "cell_type": "markdown",
   "metadata": {},
   "source": [
    "Now define some simple interactive widgets. The Value box just needs to be something Python can interpret as a floating-point number. Given the range of useful numbers, either scientific notation (`1.2e-3`) or an expression (`1.2*10**(-3)`)  may be useful. ___No___ units in here!\n",
    "\n",
    "TODO: Handling related units (nm, MeV) would be a useful future enhancement."
   ]
  },
  {
   "cell_type": "code",
   "execution_count": 31,
   "metadata": {
    "scrolled": false
   },
   "outputs": [
    {
     "data": {
      "application/vnd.jupyter.widget-view+json": {
       "model_id": "d7084af82fbe4c84ae22fb991ff5568d",
       "version_major": 2,
       "version_minor": 0
      },
      "text/plain": [
       "interactive(children=(FloatText(value=4.7e-07, description='Value:'), RadioButtons(description='units:', index…"
      ]
     },
     "metadata": {},
     "output_type": "display_data"
    }
   ],
   "source": [
    "interact(plotPhotonData, value = w.FloatText(description=\"Value:\",\n",
    "                                        value=4.7e-7,\n",
    "                                        disabled=False),\n",
    "                         unit = w.RadioButtons(description='units:',\n",
    "                                        options=['Hz', 'm', 'eV'],\n",
    "                                        value='m',\n",
    "                                        disabled=False\n",
    "                                        ));"
   ]
  },
  {
   "cell_type": "markdown",
   "metadata": {},
   "source": [
    "In the visible range (an extremely narrow part of the above plot!), how do the various wavelengths look to our eyes? That soulds like a simple question but it really isn't!  There is no single, accurate answer (after a lot of scientific study, not least by computer graphics card manufacturers such as Nvidia).  \n",
    "\n",
    "One rough, approximate answer is implemented in `wavelength_RGB()`, in the external file `wavelength_rgb.py` (it's mostly a lot of long and boring if..elif..else statements)."
   ]
  },
  {
   "cell_type": "code",
   "execution_count": 6,
   "metadata": {},
   "outputs": [
    {
     "data": {
      "image/png": "[encoded data removed]",
      "text/plain": [
       "<Figure size 2160x144 with 1 Axes>"
      ]
     },
     "metadata": {
      "needs_background": "light"
     },
     "output_type": "display_data"
    }
   ],
   "source": [
    "from PIL import Image\n",
    "from matplotlib.pyplot import imshow\n",
    "\n",
    "lmin = 380 # nm\n",
    "lmax = 780\n",
    "lambdas = np.arange(lmin,lmax,0.5)\n",
    "colors = [wavelength_RGB(l) for l in lambdas]\n",
    "h = 80 # pixel height for plot\n",
    "\n",
    "# Create a new black image\n",
    "img = Image.new( 'RGB', (len(colors),h), \"black\") \n",
    "pixels = img.load() \n",
    "\n",
    "# set the colors\n",
    "for i in range(len(colors)):   \n",
    "    pixels[i,0] = colors[i]\n",
    "    for j in range(1,h):\n",
    "        pixels[i,j] = pixels[i,0]\n",
    "\n",
    "fig, ax = plt.subplots(figsize=(30, 2))\n",
    "ims = ax.imshow(np.asarray(img), extent = [lmin,lmax,0,h]);\n",
    "ims.axes.get_yaxis().set_visible(False);"
   ]
  },
  {
   "cell_type": "code",
   "execution_count": null,
   "metadata": {},
   "outputs": [],
   "source": []
  }
 ],
 "metadata": {
  "kernelspec": {
   "display_name": "Python 3",
   "language": "python",
   "name": "python3"
  },
  "language_info": {
   "codemirror_mode": {
    "name": "ipython",
    "version": 3
   },
   "file_extension": ".py",
   "mimetype": "text/x-python",
   "name": "python",
   "nbconvert_exporter": "python",
   "pygments_lexer": "ipython3",
   "version": "3.6.8"
  }
 },
 "nbformat": 4,
 "nbformat_minor": 2
}
